{
 "cells": [
  {
   "cell_type": "markdown",
   "id": "2ffb5ceb",
   "metadata": {},
   "source": [
    "# Chapter 4: Data Analysis"
   ]
  },
  {
   "cell_type": "markdown",
   "id": "0c85d1d0",
   "metadata": {},
   "source": [
    "In this chapter we discuss basic issues in analysing the extracted AFL data, and provide\n",
    "some initial exploratory data analyses, including the fitting of various probability distributions\n",
    "to the data."
   ]
  },
  {
   "cell_type": "markdown",
   "id": "4a3787db",
   "metadata": {},
   "source": [
    "## Training and testing data"
   ]
  },
  {
   "cell_type": "markdown",
   "id": "b626ad69",
   "metadata": {},
   "source": [
    "As previously discussed in\n",
    "[Chapter 1](1_introduction.ipynb#Model-validation \"Introduction: Model validation\"),\n",
    "for the purposes of data analysis and modelling we should partition the data into *training* and \n",
    "*testing* sets. Only the training data should be subject to exploratory data analysis, and the testing data should be kept only for model validation. Actually, to be completely fair, there should also be an additional *validation* data-set. Multiple models should be validated against this data-set, and only the selected, best model should be tested on the testing data.\n",
    "\n",
    "However, in a 'live' system, the *retrospective* analysis of model building would be coupled with *prospective* prediction of future matches, so these yet-to-be-collected matches would act as ongoing testing data. Monitoring of predictive performance and data distributions over time would then also\n",
    "allow testing for other issues such as \n",
    "[*concept drift*](https://en.wikipedia.org/wiki/Concept_drift \"Wikipedia\"),\n",
    "where the model no longer accurately reflects the data."
   ]
  },
  {
   "cell_type": "markdown",
   "id": "c81dd0b9",
   "metadata": {},
   "source": [
    "Recall from [Chapter 3](3_feature_extraction.ipynb \"Chapter 3: Feature Extraction\")\n",
    "that historical features were extracted for every collected AFL match. Consequently, we are permitted to treat each match, coupled with its corresponding features, as being \n",
    "[independent](1_introduction.ipynb#Causality-and-independence-of-observations\n",
    "\"Introduction: Causality and independence of observations\").\n",
    "For simplicity, we arbitrarily take all matches from 1990 to 2020 as the training data, and matches from 2021 onwards as testing/validation data. \n",
    "\n",
    "A better scheme might have been to randomly partition the matches per season, or even completely at random per match. However, this would make it harder to test for temporal representativeness (a form of concept drift discussed in a\n",
    "[later](#Temporal-representativeness \"Section: Temporal representativeness\") section).\n",
    "In addition, we would typically apply a partitioning rule such as 90/10 or 80/20, to control\n",
    "the proportion of training data to testing data. "
   ]
  },
  {
   "cell_type": "markdown",
   "id": "cd51a33a",
   "metadata": {},
   "source": [
    "### Load the data"
   ]
  },
  {
   "cell_type": "code",
   "execution_count": 1,
   "id": "b48a8960",
   "metadata": {},
   "outputs": [],
   "source": [
    "import sys\n",
    "import os\n",
    "\n",
    "sys.path.append(os.path.join(\"..\", \"python\"))"
   ]
  },
  {
   "cell_type": "code",
   "execution_count": 2,
   "id": "dc6507bd",
   "metadata": {},
   "outputs": [],
   "source": [
    "import pandas as pd\n",
    "import numpy as np"
   ]
  },
  {
   "cell_type": "code",
   "execution_count": 3,
   "id": "1fe4cb44",
   "metadata": {},
   "outputs": [],
   "source": [
    "import matplotlib.pyplot as plt"
   ]
  },
  {
   "cell_type": "code",
   "execution_count": 4,
   "id": "764abfe7",
   "metadata": {},
   "outputs": [],
   "source": [
    "df_matches = pd.read_csv(os.path.join(\"..\", \"data\", \"matches.csv\"))"
   ]
  },
  {
   "cell_type": "code",
   "execution_count": 5,
   "id": "16ac47ca",
   "metadata": {},
   "outputs": [
    {
     "data": {
      "text/html": [
       "<div>\n",
       "<style scoped>\n",
       "    .dataframe tbody tr th:only-of-type {\n",
       "        vertical-align: middle;\n",
       "    }\n",
       "\n",
       "    .dataframe tbody tr th {\n",
       "        vertical-align: top;\n",
       "    }\n",
       "\n",
       "    .dataframe thead th {\n",
       "        text-align: right;\n",
       "    }\n",
       "</style>\n",
       "<table border=\"1\" class=\"dataframe\">\n",
       "  <thead>\n",
       "    <tr style=\"text-align: right;\">\n",
       "      <th></th>\n",
       "      <th>season</th>\n",
       "      <th>round</th>\n",
       "      <th>datetime</th>\n",
       "      <th>venue</th>\n",
       "      <th>for_team</th>\n",
       "      <th>for_is_home</th>\n",
       "      <th>for_goals1</th>\n",
       "      <th>for_behinds1</th>\n",
       "      <th>for_goals2</th>\n",
       "      <th>for_behinds2</th>\n",
       "      <th>...</th>\n",
       "      <th>against_goals3</th>\n",
       "      <th>against_behinds3</th>\n",
       "      <th>against_goals4</th>\n",
       "      <th>against_behinds4</th>\n",
       "      <th>against_total_score</th>\n",
       "      <th>against_match_points</th>\n",
       "      <th>against_is_win</th>\n",
       "      <th>against_is_draw</th>\n",
       "      <th>against_is_loss</th>\n",
       "      <th>edge_type</th>\n",
       "    </tr>\n",
       "  </thead>\n",
       "  <tbody>\n",
       "    <tr>\n",
       "      <th>0</th>\n",
       "      <td>1990</td>\n",
       "      <td>R1</td>\n",
       "      <td>Sat 31-Mar-1990 2:10 PM</td>\n",
       "      <td>Princes Park</td>\n",
       "      <td>Carlton</td>\n",
       "      <td>True</td>\n",
       "      <td>6</td>\n",
       "      <td>5</td>\n",
       "      <td>4</td>\n",
       "      <td>4</td>\n",
       "      <td>...</td>\n",
       "      <td>6</td>\n",
       "      <td>3</td>\n",
       "      <td>6</td>\n",
       "      <td>5</td>\n",
       "      <td>104</td>\n",
       "      <td>4</td>\n",
       "      <td>True</td>\n",
       "      <td>False</td>\n",
       "      <td>False</td>\n",
       "      <td>lost-to</td>\n",
       "    </tr>\n",
       "    <tr>\n",
       "      <th>1</th>\n",
       "      <td>1990</td>\n",
       "      <td>R1</td>\n",
       "      <td>Sat 31-Mar-1990 2:10 PM</td>\n",
       "      <td>M.C.G.</td>\n",
       "      <td>Melbourne</td>\n",
       "      <td>False</td>\n",
       "      <td>6</td>\n",
       "      <td>2</td>\n",
       "      <td>4</td>\n",
       "      <td>1</td>\n",
       "      <td>...</td>\n",
       "      <td>4</td>\n",
       "      <td>4</td>\n",
       "      <td>3</td>\n",
       "      <td>4</td>\n",
       "      <td>89</td>\n",
       "      <td>0</td>\n",
       "      <td>False</td>\n",
       "      <td>False</td>\n",
       "      <td>True</td>\n",
       "      <td>defeated</td>\n",
       "    </tr>\n",
       "    <tr>\n",
       "      <th>2</th>\n",
       "      <td>1990</td>\n",
       "      <td>R1</td>\n",
       "      <td>Sat 31-Mar-1990 2:10 PM</td>\n",
       "      <td>Waverley Park</td>\n",
       "      <td>Geelong</td>\n",
       "      <td>True</td>\n",
       "      <td>5</td>\n",
       "      <td>3</td>\n",
       "      <td>2</td>\n",
       "      <td>3</td>\n",
       "      <td>...</td>\n",
       "      <td>9</td>\n",
       "      <td>7</td>\n",
       "      <td>10</td>\n",
       "      <td>6</td>\n",
       "      <td>192</td>\n",
       "      <td>4</td>\n",
       "      <td>True</td>\n",
       "      <td>False</td>\n",
       "      <td>False</td>\n",
       "      <td>lost-to</td>\n",
       "    </tr>\n",
       "    <tr>\n",
       "      <th>3</th>\n",
       "      <td>1990</td>\n",
       "      <td>R1</td>\n",
       "      <td>Sat 31-Mar-1990 2:10 PM</td>\n",
       "      <td>Windy Hill</td>\n",
       "      <td>Essendon</td>\n",
       "      <td>True</td>\n",
       "      <td>7</td>\n",
       "      <td>4</td>\n",
       "      <td>6</td>\n",
       "      <td>7</td>\n",
       "      <td>...</td>\n",
       "      <td>1</td>\n",
       "      <td>3</td>\n",
       "      <td>2</td>\n",
       "      <td>4</td>\n",
       "      <td>60</td>\n",
       "      <td>0</td>\n",
       "      <td>False</td>\n",
       "      <td>False</td>\n",
       "      <td>True</td>\n",
       "      <td>defeated</td>\n",
       "    </tr>\n",
       "    <tr>\n",
       "      <th>4</th>\n",
       "      <td>1990</td>\n",
       "      <td>R1</td>\n",
       "      <td>Sat 31-Mar-1990 7:40 PM</td>\n",
       "      <td>Carrara</td>\n",
       "      <td>Brisbane Bears</td>\n",
       "      <td>True</td>\n",
       "      <td>4</td>\n",
       "      <td>3</td>\n",
       "      <td>3</td>\n",
       "      <td>2</td>\n",
       "      <td>...</td>\n",
       "      <td>1</td>\n",
       "      <td>3</td>\n",
       "      <td>3</td>\n",
       "      <td>2</td>\n",
       "      <td>74</td>\n",
       "      <td>0</td>\n",
       "      <td>False</td>\n",
       "      <td>False</td>\n",
       "      <td>True</td>\n",
       "      <td>defeated</td>\n",
       "    </tr>\n",
       "    <tr>\n",
       "      <th>...</th>\n",
       "      <td>...</td>\n",
       "      <td>...</td>\n",
       "      <td>...</td>\n",
       "      <td>...</td>\n",
       "      <td>...</td>\n",
       "      <td>...</td>\n",
       "      <td>...</td>\n",
       "      <td>...</td>\n",
       "      <td>...</td>\n",
       "      <td>...</td>\n",
       "      <td>...</td>\n",
       "      <td>...</td>\n",
       "      <td>...</td>\n",
       "      <td>...</td>\n",
       "      <td>...</td>\n",
       "      <td>...</td>\n",
       "      <td>...</td>\n",
       "      <td>...</td>\n",
       "      <td>...</td>\n",
       "      <td>...</td>\n",
       "      <td>...</td>\n",
       "    </tr>\n",
       "    <tr>\n",
       "      <th>6489</th>\n",
       "      <td>2024</td>\n",
       "      <td>R7</td>\n",
       "      <td>Sat 20-Apr-2024 4:35 PM</td>\n",
       "      <td>Docklands</td>\n",
       "      <td>Carlton</td>\n",
       "      <td>True</td>\n",
       "      <td>5</td>\n",
       "      <td>1</td>\n",
       "      <td>2</td>\n",
       "      <td>6</td>\n",
       "      <td>...</td>\n",
       "      <td>3</td>\n",
       "      <td>3</td>\n",
       "      <td>3</td>\n",
       "      <td>1</td>\n",
       "      <td>98</td>\n",
       "      <td>0</td>\n",
       "      <td>False</td>\n",
       "      <td>False</td>\n",
       "      <td>True</td>\n",
       "      <td>defeated</td>\n",
       "    </tr>\n",
       "    <tr>\n",
       "      <th>6490</th>\n",
       "      <td>2024</td>\n",
       "      <td>R7</td>\n",
       "      <td>Sat 20-Apr-2024 6:10 PM</td>\n",
       "      <td>Perth Stadium</td>\n",
       "      <td>Fremantle</td>\n",
       "      <td>False</td>\n",
       "      <td>0</td>\n",
       "      <td>3</td>\n",
       "      <td>3</td>\n",
       "      <td>0</td>\n",
       "      <td>...</td>\n",
       "      <td>5</td>\n",
       "      <td>5</td>\n",
       "      <td>2</td>\n",
       "      <td>0</td>\n",
       "      <td>105</td>\n",
       "      <td>4</td>\n",
       "      <td>True</td>\n",
       "      <td>False</td>\n",
       "      <td>False</td>\n",
       "      <td>lost-to</td>\n",
       "    </tr>\n",
       "    <tr>\n",
       "      <th>6491</th>\n",
       "      <td>2024</td>\n",
       "      <td>R7</td>\n",
       "      <td>Sat 20-Apr-2024 7:30 PM</td>\n",
       "      <td>Gabba</td>\n",
       "      <td>Brisbane Lions</td>\n",
       "      <td>True</td>\n",
       "      <td>2</td>\n",
       "      <td>5</td>\n",
       "      <td>1</td>\n",
       "      <td>3</td>\n",
       "      <td>...</td>\n",
       "      <td>2</td>\n",
       "      <td>2</td>\n",
       "      <td>3</td>\n",
       "      <td>3</td>\n",
       "      <td>63</td>\n",
       "      <td>4</td>\n",
       "      <td>True</td>\n",
       "      <td>False</td>\n",
       "      <td>False</td>\n",
       "      <td>lost-to</td>\n",
       "    </tr>\n",
       "    <tr>\n",
       "      <th>6492</th>\n",
       "      <td>2024</td>\n",
       "      <td>R7</td>\n",
       "      <td>Sun 21-Apr-2024 1:05 PM</td>\n",
       "      <td>S.C.G.</td>\n",
       "      <td>Gold Coast</td>\n",
       "      <td>False</td>\n",
       "      <td>1</td>\n",
       "      <td>2</td>\n",
       "      <td>2</td>\n",
       "      <td>3</td>\n",
       "      <td>...</td>\n",
       "      <td>7</td>\n",
       "      <td>4</td>\n",
       "      <td>5</td>\n",
       "      <td>0</td>\n",
       "      <td>110</td>\n",
       "      <td>4</td>\n",
       "      <td>True</td>\n",
       "      <td>False</td>\n",
       "      <td>False</td>\n",
       "      <td>lost-to</td>\n",
       "    </tr>\n",
       "    <tr>\n",
       "      <th>6493</th>\n",
       "      <td>2024</td>\n",
       "      <td>R7</td>\n",
       "      <td>Sun 21-Apr-2024 4:05 PM</td>\n",
       "      <td>Docklands</td>\n",
       "      <td>Hawthorn</td>\n",
       "      <td>False</td>\n",
       "      <td>3</td>\n",
       "      <td>3</td>\n",
       "      <td>8</td>\n",
       "      <td>3</td>\n",
       "      <td>...</td>\n",
       "      <td>3</td>\n",
       "      <td>1</td>\n",
       "      <td>2</td>\n",
       "      <td>2</td>\n",
       "      <td>68</td>\n",
       "      <td>0</td>\n",
       "      <td>False</td>\n",
       "      <td>False</td>\n",
       "      <td>True</td>\n",
       "      <td>defeated</td>\n",
       "    </tr>\n",
       "  </tbody>\n",
       "</table>\n",
       "<p>6494 rows × 35 columns</p>\n",
       "</div>"
      ],
      "text/plain": [
       "      season round                 datetime          venue        for_team  \\\n",
       "0       1990    R1  Sat 31-Mar-1990 2:10 PM   Princes Park         Carlton   \n",
       "1       1990    R1  Sat 31-Mar-1990 2:10 PM         M.C.G.       Melbourne   \n",
       "2       1990    R1  Sat 31-Mar-1990 2:10 PM  Waverley Park         Geelong   \n",
       "3       1990    R1  Sat 31-Mar-1990 2:10 PM     Windy Hill        Essendon   \n",
       "4       1990    R1  Sat 31-Mar-1990 7:40 PM        Carrara  Brisbane Bears   \n",
       "...      ...   ...                      ...            ...             ...   \n",
       "6489    2024    R7  Sat 20-Apr-2024 4:35 PM      Docklands         Carlton   \n",
       "6490    2024    R7  Sat 20-Apr-2024 6:10 PM  Perth Stadium       Fremantle   \n",
       "6491    2024    R7  Sat 20-Apr-2024 7:30 PM          Gabba  Brisbane Lions   \n",
       "6492    2024    R7  Sun 21-Apr-2024 1:05 PM         S.C.G.      Gold Coast   \n",
       "6493    2024    R7  Sun 21-Apr-2024 4:05 PM      Docklands        Hawthorn   \n",
       "\n",
       "      for_is_home  for_goals1  for_behinds1  for_goals2  for_behinds2  ...  \\\n",
       "0            True           6             5           4             4  ...   \n",
       "1           False           6             2           4             1  ...   \n",
       "2            True           5             3           2             3  ...   \n",
       "3            True           7             4           6             7  ...   \n",
       "4            True           4             3           3             2  ...   \n",
       "...           ...         ...           ...         ...           ...  ...   \n",
       "6489         True           5             1           2             6  ...   \n",
       "6490        False           0             3           3             0  ...   \n",
       "6491         True           2             5           1             3  ...   \n",
       "6492        False           1             2           2             3  ...   \n",
       "6493        False           3             3           8             3  ...   \n",
       "\n",
       "      against_goals3  against_behinds3  against_goals4  against_behinds4  \\\n",
       "0                  6                 3               6                 5   \n",
       "1                  4                 4               3                 4   \n",
       "2                  9                 7              10                 6   \n",
       "3                  1                 3               2                 4   \n",
       "4                  1                 3               3                 2   \n",
       "...              ...               ...             ...               ...   \n",
       "6489               3                 3               3                 1   \n",
       "6490               5                 5               2                 0   \n",
       "6491               2                 2               3                 3   \n",
       "6492               7                 4               5                 0   \n",
       "6493               3                 1               2                 2   \n",
       "\n",
       "      against_total_score  against_match_points  against_is_win  \\\n",
       "0                     104                     4            True   \n",
       "1                      89                     0           False   \n",
       "2                     192                     4            True   \n",
       "3                      60                     0           False   \n",
       "4                      74                     0           False   \n",
       "...                   ...                   ...             ...   \n",
       "6489                   98                     0           False   \n",
       "6490                  105                     4            True   \n",
       "6491                   63                     4            True   \n",
       "6492                  110                     4            True   \n",
       "6493                   68                     0           False   \n",
       "\n",
       "      against_is_draw  against_is_loss edge_type  \n",
       "0               False            False   lost-to  \n",
       "1               False             True  defeated  \n",
       "2               False            False   lost-to  \n",
       "3               False             True  defeated  \n",
       "4               False             True  defeated  \n",
       "...               ...              ...       ...  \n",
       "6489            False             True  defeated  \n",
       "6490            False            False   lost-to  \n",
       "6491            False            False   lost-to  \n",
       "6492            False            False   lost-to  \n",
       "6493            False             True  defeated  \n",
       "\n",
       "[6494 rows x 35 columns]"
      ]
     },
     "execution_count": 5,
     "metadata": {},
     "output_type": "execute_result"
    }
   ],
   "source": [
    "df_matches"
   ]
  },
  {
   "cell_type": "code",
   "execution_count": 6,
   "id": "9838bfe3",
   "metadata": {},
   "outputs": [
    {
     "name": "stdout",
     "output_type": "stream",
     "text": [
      "Index(['season', 'round', 'datetime', 'venue', 'for_team', 'for_is_home',\n",
      "       'for_goals1', 'for_behinds1', 'for_goals2', 'for_behinds2',\n",
      "       'for_goals3', 'for_behinds3', 'for_goals4', 'for_behinds4',\n",
      "       'for_total_score', 'for_match_points', 'for_is_win', 'for_is_draw',\n",
      "       'for_is_loss', 'against_team', 'against_is_home', 'against_goals1',\n",
      "       'against_behinds1', 'against_goals2', 'against_behinds2',\n",
      "       'against_goals3', 'against_behinds3', 'against_goals4',\n",
      "       'against_behinds4', 'against_total_score', 'against_match_points',\n",
      "       'against_is_win', 'against_is_draw', 'against_is_loss', 'edge_type'],\n",
      "      dtype='object')\n"
     ]
    }
   ],
   "source": [
    "print(df_matches.columns)"
   ]
  },
  {
   "cell_type": "markdown",
   "id": "833042da",
   "metadata": {},
   "source": [
    "### Partition the data"
   ]
  },
  {
   "cell_type": "code",
   "execution_count": 7,
   "id": "7c485c2b",
   "metadata": {},
   "outputs": [],
   "source": [
    "all_seasons = df_matches.season.unique()"
   ]
  },
  {
   "cell_type": "code",
   "execution_count": 8,
   "id": "e8496233",
   "metadata": {},
   "outputs": [],
   "source": [
    "split_season = 2020\n",
    "trn_seasons = all_seasons[all_seasons <= split_season]\n",
    "tst_seasons = all_seasons[all_seasons > split_season]"
   ]
  },
  {
   "cell_type": "code",
   "execution_count": 9,
   "id": "15cd766a",
   "metadata": {},
   "outputs": [],
   "source": [
    "df_training = df_matches[df_matches.season.isin(trn_seasons)].copy()"
   ]
  },
  {
   "cell_type": "code",
   "execution_count": 10,
   "id": "cdcab98f",
   "metadata": {},
   "outputs": [
    {
     "data": {
      "text/html": [
       "<div>\n",
       "<style scoped>\n",
       "    .dataframe tbody tr th:only-of-type {\n",
       "        vertical-align: middle;\n",
       "    }\n",
       "\n",
       "    .dataframe tbody tr th {\n",
       "        vertical-align: top;\n",
       "    }\n",
       "\n",
       "    .dataframe thead th {\n",
       "        text-align: right;\n",
       "    }\n",
       "</style>\n",
       "<table border=\"1\" class=\"dataframe\">\n",
       "  <thead>\n",
       "    <tr style=\"text-align: right;\">\n",
       "      <th></th>\n",
       "      <th>season</th>\n",
       "      <th>round</th>\n",
       "      <th>datetime</th>\n",
       "      <th>venue</th>\n",
       "      <th>for_team</th>\n",
       "      <th>for_is_home</th>\n",
       "      <th>for_goals1</th>\n",
       "      <th>for_behinds1</th>\n",
       "      <th>for_goals2</th>\n",
       "      <th>for_behinds2</th>\n",
       "      <th>...</th>\n",
       "      <th>against_goals3</th>\n",
       "      <th>against_behinds3</th>\n",
       "      <th>against_goals4</th>\n",
       "      <th>against_behinds4</th>\n",
       "      <th>against_total_score</th>\n",
       "      <th>against_match_points</th>\n",
       "      <th>against_is_win</th>\n",
       "      <th>against_is_draw</th>\n",
       "      <th>against_is_loss</th>\n",
       "      <th>edge_type</th>\n",
       "    </tr>\n",
       "  </thead>\n",
       "  <tbody>\n",
       "    <tr>\n",
       "      <th>0</th>\n",
       "      <td>1990</td>\n",
       "      <td>R1</td>\n",
       "      <td>Sat 31-Mar-1990 2:10 PM</td>\n",
       "      <td>Princes Park</td>\n",
       "      <td>Carlton</td>\n",
       "      <td>True</td>\n",
       "      <td>6</td>\n",
       "      <td>5</td>\n",
       "      <td>4</td>\n",
       "      <td>4</td>\n",
       "      <td>...</td>\n",
       "      <td>6</td>\n",
       "      <td>3</td>\n",
       "      <td>6</td>\n",
       "      <td>5</td>\n",
       "      <td>104</td>\n",
       "      <td>4</td>\n",
       "      <td>True</td>\n",
       "      <td>False</td>\n",
       "      <td>False</td>\n",
       "      <td>lost-to</td>\n",
       "    </tr>\n",
       "    <tr>\n",
       "      <th>5809</th>\n",
       "      <td>2020</td>\n",
       "      <td>GF</td>\n",
       "      <td>Sat 24-Oct-2020 6:30 PM</td>\n",
       "      <td>Gabba</td>\n",
       "      <td>Geelong</td>\n",
       "      <td>False</td>\n",
       "      <td>2</td>\n",
       "      <td>2</td>\n",
       "      <td>3</td>\n",
       "      <td>3</td>\n",
       "      <td>...</td>\n",
       "      <td>4</td>\n",
       "      <td>2</td>\n",
       "      <td>5</td>\n",
       "      <td>5</td>\n",
       "      <td>81</td>\n",
       "      <td>4</td>\n",
       "      <td>True</td>\n",
       "      <td>False</td>\n",
       "      <td>False</td>\n",
       "      <td>lost-to</td>\n",
       "    </tr>\n",
       "  </tbody>\n",
       "</table>\n",
       "<p>2 rows × 35 columns</p>\n",
       "</div>"
      ],
      "text/plain": [
       "      season round                 datetime         venue for_team  \\\n",
       "0       1990    R1  Sat 31-Mar-1990 2:10 PM  Princes Park  Carlton   \n",
       "5809    2020    GF  Sat 24-Oct-2020 6:30 PM         Gabba  Geelong   \n",
       "\n",
       "      for_is_home  for_goals1  for_behinds1  for_goals2  for_behinds2  ...  \\\n",
       "0            True           6             5           4             4  ...   \n",
       "5809        False           2             2           3             3  ...   \n",
       "\n",
       "      against_goals3  against_behinds3  against_goals4  against_behinds4  \\\n",
       "0                  6                 3               6                 5   \n",
       "5809               4                 2               5                 5   \n",
       "\n",
       "      against_total_score  against_match_points  against_is_win  \\\n",
       "0                     104                     4            True   \n",
       "5809                   81                     4            True   \n",
       "\n",
       "      against_is_draw  against_is_loss edge_type  \n",
       "0               False            False   lost-to  \n",
       "5809            False            False   lost-to  \n",
       "\n",
       "[2 rows x 35 columns]"
      ]
     },
     "execution_count": 10,
     "metadata": {},
     "output_type": "execute_result"
    }
   ],
   "source": [
    "df_training.iloc[[0, -1]]"
   ]
  },
  {
   "cell_type": "code",
   "execution_count": 11,
   "id": "79f10a00",
   "metadata": {},
   "outputs": [],
   "source": [
    "df_testing = df_matches[df_matches.season.isin(tst_seasons)].copy()"
   ]
  },
  {
   "cell_type": "code",
   "execution_count": 12,
   "id": "b5aff08f",
   "metadata": {},
   "outputs": [
    {
     "data": {
      "text/html": [
       "<div>\n",
       "<style scoped>\n",
       "    .dataframe tbody tr th:only-of-type {\n",
       "        vertical-align: middle;\n",
       "    }\n",
       "\n",
       "    .dataframe tbody tr th {\n",
       "        vertical-align: top;\n",
       "    }\n",
       "\n",
       "    .dataframe thead th {\n",
       "        text-align: right;\n",
       "    }\n",
       "</style>\n",
       "<table border=\"1\" class=\"dataframe\">\n",
       "  <thead>\n",
       "    <tr style=\"text-align: right;\">\n",
       "      <th></th>\n",
       "      <th>season</th>\n",
       "      <th>round</th>\n",
       "      <th>datetime</th>\n",
       "      <th>venue</th>\n",
       "      <th>for_team</th>\n",
       "      <th>for_is_home</th>\n",
       "      <th>for_goals1</th>\n",
       "      <th>for_behinds1</th>\n",
       "      <th>for_goals2</th>\n",
       "      <th>for_behinds2</th>\n",
       "      <th>...</th>\n",
       "      <th>against_goals3</th>\n",
       "      <th>against_behinds3</th>\n",
       "      <th>against_goals4</th>\n",
       "      <th>against_behinds4</th>\n",
       "      <th>against_total_score</th>\n",
       "      <th>against_match_points</th>\n",
       "      <th>against_is_win</th>\n",
       "      <th>against_is_draw</th>\n",
       "      <th>against_is_loss</th>\n",
       "      <th>edge_type</th>\n",
       "    </tr>\n",
       "  </thead>\n",
       "  <tbody>\n",
       "    <tr>\n",
       "      <th>5810</th>\n",
       "      <td>2021</td>\n",
       "      <td>R1</td>\n",
       "      <td>Thu 18-Mar-2021 7:25 PM</td>\n",
       "      <td>M.C.G.</td>\n",
       "      <td>Carlton</td>\n",
       "      <td>False</td>\n",
       "      <td>3</td>\n",
       "      <td>2</td>\n",
       "      <td>3</td>\n",
       "      <td>4</td>\n",
       "      <td>...</td>\n",
       "      <td>2</td>\n",
       "      <td>3</td>\n",
       "      <td>5</td>\n",
       "      <td>7</td>\n",
       "      <td>105</td>\n",
       "      <td>4</td>\n",
       "      <td>True</td>\n",
       "      <td>False</td>\n",
       "      <td>False</td>\n",
       "      <td>lost-to</td>\n",
       "    </tr>\n",
       "    <tr>\n",
       "      <th>6493</th>\n",
       "      <td>2024</td>\n",
       "      <td>R7</td>\n",
       "      <td>Sun 21-Apr-2024 4:05 PM</td>\n",
       "      <td>Docklands</td>\n",
       "      <td>Hawthorn</td>\n",
       "      <td>False</td>\n",
       "      <td>3</td>\n",
       "      <td>3</td>\n",
       "      <td>8</td>\n",
       "      <td>3</td>\n",
       "      <td>...</td>\n",
       "      <td>3</td>\n",
       "      <td>1</td>\n",
       "      <td>2</td>\n",
       "      <td>2</td>\n",
       "      <td>68</td>\n",
       "      <td>0</td>\n",
       "      <td>False</td>\n",
       "      <td>False</td>\n",
       "      <td>True</td>\n",
       "      <td>defeated</td>\n",
       "    </tr>\n",
       "  </tbody>\n",
       "</table>\n",
       "<p>2 rows × 35 columns</p>\n",
       "</div>"
      ],
      "text/plain": [
       "      season round                 datetime      venue  for_team  for_is_home  \\\n",
       "5810    2021    R1  Thu 18-Mar-2021 7:25 PM     M.C.G.   Carlton        False   \n",
       "6493    2024    R7  Sun 21-Apr-2024 4:05 PM  Docklands  Hawthorn        False   \n",
       "\n",
       "      for_goals1  for_behinds1  for_goals2  for_behinds2  ...  against_goals3  \\\n",
       "5810           3             2           3             4  ...               2   \n",
       "6493           3             3           8             3  ...               3   \n",
       "\n",
       "      against_behinds3  against_goals4  against_behinds4  against_total_score  \\\n",
       "5810                 3               5                 7                  105   \n",
       "6493                 1               2                 2                   68   \n",
       "\n",
       "      against_match_points  against_is_win  against_is_draw  against_is_loss  \\\n",
       "5810                     4            True            False            False   \n",
       "6493                     0           False            False             True   \n",
       "\n",
       "     edge_type  \n",
       "5810   lost-to  \n",
       "6493  defeated  \n",
       "\n",
       "[2 rows x 35 columns]"
      ]
     },
     "execution_count": 12,
     "metadata": {},
     "output_type": "execute_result"
    }
   ],
   "source": [
    "df_testing.iloc[[0, -1]]"
   ]
  },
  {
   "cell_type": "code",
   "execution_count": 13,
   "id": "c32f338b",
   "metadata": {},
   "outputs": [
    {
     "name": "stdout",
     "output_type": "stream",
     "text": [
      "5810 training samples\n",
      "684 testing samples\n",
      "Ratio: 89.46720049276256 : 10.532799507237446\n"
     ]
    }
   ],
   "source": [
    "print(\"%d training samples\" % len(df_training))\n",
    "print(\"%d testing samples\" % len(df_testing))\n",
    "p = len(df_training) / len(df_matches)\n",
    "print(\"Ratio:\", 100 * p, \":\", 100 * (1 - p))"
   ]
  },
  {
   "cell_type": "markdown",
   "id": "c410e55f",
   "metadata": {},
   "source": [
    "### Save the partitioned data"
   ]
  },
  {
   "cell_type": "code",
   "execution_count": 14,
   "id": "9187b272",
   "metadata": {},
   "outputs": [],
   "source": [
    " df_training.to_csv(os.path.join(\"..\", \"data\", \"training_matches.csv\"), index=False)"
   ]
  },
  {
   "cell_type": "code",
   "execution_count": 15,
   "id": "0fc806e1",
   "metadata": {},
   "outputs": [],
   "source": [
    "df_testing.to_csv(os.path.join(\"..\", \"data\", \"testing_matches.csv\"), index=False)"
   ]
  },
  {
   "cell_type": "markdown",
   "id": "e45269bf",
   "metadata": {},
   "source": [
    "Note that, strict speaking, we should also partition the extracted features in the same fashion, in order to\n",
    "obviate the possibility of contaminating our data anlyses with testing data.\n",
    "In practice, we shall permit the loading of all historical data, on the assumption that queries will\n",
    "only be made for matches in the training data-set."
   ]
  },
  {
   "cell_type": "markdown",
   "id": "4d296e73",
   "metadata": {},
   "source": [
    "## Null hypothesis"
   ]
  },
  {
   "cell_type": "markdown",
   "id": "701546fb",
   "metadata": {},
   "source": [
    "A typical assumption of probabilistic modelling is that every data point is independently drawn from the same underlying distribution. This is just a form of the *null* hypothesis, corresponding to the *business as usual* (BAU) rule that nothing much changes.\n",
    "Informally, this means that each team is much like every other team, each match is like other matches, and each season is like other seasons.\n",
    "More formally, we notionally assume the existence of a single, joint distribution from which all teams and matches are sampled.\n",
    "\n",
    "In reality, the null hypothesis cannot strictly hold true always and everywhere. If it did, then the characteristics of each team would be stochastically sampled before a match, the results of each match would also be sampled, and consequently there would be little value in collecting historical data.\n",
    "However, in practice it is apparent that some teams are stronger than others, and that this relative strength has some temporal persistence (even if only for one or more seasons). "
   ]
  },
  {
   "cell_type": "markdown",
   "id": "cb001881",
   "metadata": {},
   "source": [
    "The benefit of considering the null hypothesis lies in aggregration. Considered over a period of time (say, a season), some teams are weak, some are strong, and some are inbetween. Thus, the teams might be thought of as being sampled from some common distribution, and it makes sense to consider the characteristics of an 'average' team. Put another way, if we consider past matches between team A and all other opponents, then team A will have faced both stronger teams and weaker teams in aggregate.\n",
    "The null hypothesis is then to assume that  all such team differences cancel out on average. Consequently, we may model the outcomes of these matches as measuring the relative performance of team A against the hypothetical 'average' team. This is just the so-called *one-team* model\n",
    "discussed in [Chapter 1](1_introduction.ipynb#Marginal-models \"Introduction: Marginal models\")."
   ]
  },
  {
   "cell_type": "markdown",
   "id": "c2cc6557",
   "metadata": {},
   "source": [
    "For the purposes of modelling, it is of interest to know when the null hypothesis fails. For example, if any one team is no longer just like another, then it is useful to capture these differences so\n",
    "that we may more precisely predict the outcome of a match between team A and team B using\n",
    "a [*two-team*](1_introduction.ipynb#Marginal-models \"Introduction: Marginal models\")\n",
    "model.\n",
    "\n",
    "If the null hypothesis does not hold across time, then we call this a failure of\n",
    "[*temporal representativeness*](#Temporal-representativeness \"Section: Temporal representativeness\").\n",
    "However, note that the null hypothesis might hold on one time-scale but fail to hold on a different time-scale. \n",
    "For example, if the null hypothesis were to happen to fail across multiple seasons, \n",
    "then perhaps it might still hold within a season. For instance, the relative strengths of teams might have (notionally) been sampled at the start of a season, and then held fixed for the duration of that season.\n",
    "\n",
    "Similarly, if the null hypothesis does not hold due to environmental factors or physical constraints, then we call this a failure of \n",
    "[*physical representativeness*](#Physical-representativeness \"Section: Physical representativeness\").\n",
    "For example, teams from different cities or suburbs might potentially show a disparity in performance due to differences in socio-economic status (e.g. due to the availability, or lack thereof, of sufficient funds to  contract top players, or build new training facilities, etc.). Likewise, we might expect most teams to play better\n",
    "in dry conditions than rainy conditions, but some teams might be less affected by slippery conditions than others."
   ]
  },
  {
   "cell_type": "markdown",
   "id": "05c030f1",
   "metadata": {},
   "source": [
    "## Emprical distributions"
   ]
  },
  {
   "cell_type": "markdown",
   "id": "73406ee4",
   "metadata": {},
   "source": [
    "In the following sections, we assume *a priori* that the \n",
    "[null hypothesis](#Null-hypothesis \"Section: Null hypothesis\") holds true, unless we find\n",
    "sufficient evidence to the contrary.\n",
    "Under this assumption, we aggregate all matches and examine the empirical distributions derived from the aggregated match results.\n",
    "At the coarsest level, aggregation is performed across all seasons, i.e. all matches are treated alike. At a finer level, aggregation of scores may be performed temporally over a match, or \n",
    "over each half of a match, or over each quarter."
   ]
  },
  {
   "cell_type": "markdown",
   "id": "4bf3338c",
   "metadata": {},
   "source": [
    "### Likelihood of a draw"
   ]
  },
  {
   "cell_type": "markdown",
   "id": "a55b79ac",
   "metadata": {},
   "source": [
    "At the end of an Australian Rules football match, the scores of the two opposing teams might be tied, resulting in a draw. However, as discussed in [Chapter 1](1_introduction.ipynb#The-effect-of-draws\n",
    "\"Introduction: The effect of draws\"), draws by their nature must be statisticaly unlikely events.\n",
    "Consequently, it makes sense to aggregate all matches to help overcome the scarcity of draws."
   ]
  },
  {
   "cell_type": "code",
   "execution_count": 16,
   "id": "b262efae",
   "metadata": {},
   "outputs": [
    {
     "data": {
      "text/plain": [
       "array(['lost-to', 'defeated', 'drew-with'], dtype=object)"
      ]
     },
     "execution_count": 16,
     "metadata": {},
     "output_type": "execute_result"
    }
   ],
   "source": [
    "df_training.edge_type.unique()"
   ]
  },
  {
   "cell_type": "code",
   "execution_count": 17,
   "id": "2e472976",
   "metadata": {},
   "outputs": [
    {
     "name": "stdout",
     "output_type": "stream",
     "text": [
      "Draws: matches=5810, draws=50, mean=0.008605851979345954, std. err.=0.0012118030613057298\n"
     ]
    }
   ],
   "source": [
    "df_training['is_draw'] = is_draw = df_training.edge_type == 'drew-with'\n",
    "p_draw = np.mean(is_draw)\n",
    "num_matches = len(df_training)\n",
    "#std_err = np.sqrt(np.var(is_draw) / num_matches)\n",
    "std_err = np.sqrt(p_draw * (1 - p_draw) / num_matches)\n",
    "print(f\"Draws: matches={num_matches}, draws={sum(is_draw)}, mean={p_draw}, std. err.={std_err}\")"
   ]
  },
  {
   "cell_type": "markdown",
   "id": "09b9e0a9",
   "metadata": {},
   "source": [
    "We observe that the empirical probability of a draw is around 1% or less,\n",
    "maing it a rare event."
   ]
  },
  {
   "cell_type": "markdown",
   "id": "a43c7426",
   "metadata": {},
   "source": [
    "### Distribution of goals"
   ]
  },
  {
   "cell_type": "markdown",
   "id": "5eb12228",
   "metadata": {},
   "source": [
    "The number of goals scored by a given team in a given match is a non-negative integer.\n",
    "Consequently, one might postulate *a priori* that the number of goals (in a given period of time) might follow a Poisson distribution, assuming that the rate of goal scoring remains\n",
    "constant. Alternatively, one might consider the physical limitations that could restrict the maximum number of goals that may be scored in a given period of time, e.g. the size of the oval, human muscle strength, et cetera. Thus, if we were to consider a minimum time quantum in which at most one goal could be scored, then we might consider a binomial distribution.\n",
    "\n",
    "However, there are several complications for either choice. In practice, the effective length of each quarter of a match may vary due to variations in timing due\n",
    "to stoppages, e.g. when the ball goes out of play, or when there are player injuries.\n",
    "Nominally, the current length of each quarter is about 20 minutes.\n",
    "However, it must be noted that prior to 1994, the alotted time for AFL matches was actually 25 minutes per quarter. Also, due to the outbreak of Covid in 2020, the time was reduced for that season to only 16 minutes per quarter. For convenience, we shall neglect these problematic seasons and apply\n",
    "the [null hypothesis](#Null-hypothesis \"Section: Null hypothesis\") that all quarters are essentially the same in length.\n",
    "\n",
    "A second difficulty is that of *over-dispersion*, where the empirical variance is higher than\n",
    "the theoretical variance of a given distribution. If this effect is significant, then\n",
    "over-dispersion would need to be modelled via an alternative distribution with additional parameters.\n",
    "\n",
    "Yet another complication arises from lack of temporal independence. For example, under the aforementioned\n",
    "null hypothesis, we may aggregate all quarterly scores into a single quarterly distribution.\n",
    "However, as we shall see below, the distribution of goals scored in a match has a higher variance\n",
    "than would be expected from four independent draws from the quarterly distribution.\n",
    "This is especially interesting since it might be expected that\n",
    "accumulating the quarterly scores over each match would perhaps 'average out' inter-quarter variation.\n",
    "Instead, it leads to higher variation due to non-independence of the number of goals scored\n",
    "in each quarter."
   ]
  },
  {
   "cell_type": "markdown",
   "id": "e00e0109",
   "metadata": {},
   "source": [
    "Let us begin by examining the goals scored in each individual quarter of each match."
   ]
  },
  {
   "cell_type": "code",
   "execution_count": 18,
   "id": "9843d191",
   "metadata": {},
   "outputs": [],
   "source": [
    "# Keep only matches with 20 minute quarters\n",
    "ind = (df_training.season >= 1994) & (df_training.season != 2020)\n",
    "columns  = ['for_goals' + str(i) for i in range(1, 5)]\n",
    "for_scores = df_training.loc[ind, columns].values\n",
    "columns  = ['against_goals' + str(i) for i in range(1, 5)]\n",
    "against_scores = df_training.loc[ind, columns].values\n",
    "goals_by_quarter = np.vstack([for_scores, for_scores])"
   ]
  },
  {
   "cell_type": "code",
   "execution_count": 19,
   "id": "cfd3ff37",
   "metadata": {},
   "outputs": [
    {
     "name": "stdout",
     "output_type": "stream",
     "text": [
      "Goal means per quarter: [3.24388287 3.28760529 3.37745688 3.39229844]\n",
      "Overall goal mean: 3.325310870437224\n",
      "Goal variances per quarter: [3.34605664 3.53380947 3.68183437 3.80959973]\n",
      "Overall goal variance: 3.596639744915929\n",
      "Proportions of all goals: [0.24387817 0.24716526 0.25392039 0.25503619]\n"
     ]
    }
   ],
   "source": [
    "print(\"Goal means per quarter:\", np.mean(goals_by_quarter, axis=0))\n",
    "print(\"Overall goal mean:\", np.mean(goals_by_quarter))\n",
    "print(\"Goal variances per quarter:\", np.var(goals_by_quarter, axis=0))\n",
    "print(\"Overall goal variance:\", np.var(goals_by_quarter))\n",
    "ps = np.sum(goals_by_quarter, axis=0) / np.sum(goals_by_quarter)\n",
    "print(\"Proportions of all goals:\", ps)"
   ]
  },
  {
   "cell_type": "code",
   "execution_count": 20,
   "id": "9e88e295",
   "metadata": {},
   "outputs": [
    {
     "data": {
      "image/png": "[encoded data removed]",
      "text/plain": [
       "<Figure size 640x480 with 4 Axes>"
      ]
     },
     "metadata": {},
     "output_type": "display_data"
    }
   ],
   "source": [
    "df_goals = pd.DataFrame(\n",
    "    columns = (\"quarter\", \"goals\"),\n",
    "    data = [\n",
    "        x for row in goals_by_quarter \n",
    "        for x in enumerate(row, start=1)\n",
    "    ]\n",
    ")\n",
    "\n",
    "max_goals = int(np.max(goals_by_quarter))\n",
    "bins = list(range(max_goals + 1))\n",
    "res = df_goals.hist('goals', by='quarter', bins=bins, density=True)"
   ]
  },
  {
   "cell_type": "markdown",
   "id": "2b7c5c98",
   "metadata": {},
   "source": [
    "It would appear that statistically there are slight differences between the goal distributions from each quarter, e.g. the mean number goal of goals increases slightly from the first half (quarters 1 and 2) to the second half (quarters 3 and 4) of each match, as does the variance.\n",
    "If we were to utilise a regression model of the number of goals per quarter, then we could potentially allow for variations in each quarter.\n",
    "\n",
    "However, to a good approximation, the per-quarter goal scores appear to be identically distributed. Hence, we support the null hypothesis that any given\n",
    "quarter is like any other.\n",
    "Now, since the mean and variance are approximately equal, we may consider fitting a \n",
    "[Poisson](./C_regression_models.ipynb#Poisson-distribution\n",
    "\"Appendix C: Poisson distribution\") "
   ]
  },
  {
   "cell_type": "code",
   "execution_count": 21,
   "id": "880362ef",
   "metadata": {},
   "outputs": [],
   "source": [
    "from distributions.poisson import PoissonDistribution"
   ]
  },
  {
   "cell_type": "code",
   "execution_count": 22,
   "id": "1992a405",
   "metadata": {},
   "outputs": [
    {
     "data": {
      "text/plain": [
       "{'score': -2.023100422395597,\n",
       " 'num_iters': 2,\n",
       " 'score_tol': 0.0,\n",
       " 'param_tol': 4.440892098500626e-16,\n",
       " 'converged': True}"
      ]
     },
     "execution_count": 22,
     "metadata": {},
     "output_type": "execute_result"
    }
   ],
   "source": [
    "all_goals = df_goals.goals.values\n",
    "\n",
    "psd = PoissonDistribution()\n",
    "psd.fit(all_goals)"
   ]
  },
  {
   "cell_type": "code",
   "execution_count": 23,
   "id": "25708772",
   "metadata": {},
   "outputs": [
    {
     "name": "stdout",
     "output_type": "stream",
     "text": [
      "lambda=3.325310870437224\n",
      "mean=3.325310870437224, variance=3.325310870437224\n"
     ]
    }
   ],
   "source": [
    "lam = psd.get_parameters()[0]\n",
    "print(f\"lambda={lam}\")\n",
    "mu = psd.mean()\n",
    "sigsq = psd.variance()\n",
    "print(f\"mean={mu}, variance={sigsq}\")"
   ]
  },
  {
   "cell_type": "markdown",
   "id": "93bdbda0",
   "metadata": {},
   "source": [
    "Observe that the Poisson distribution slightly under-estimates the empirical variance. \n",
    "Consequently, we might try the \n",
    "[negative binomial](./C_regression_models.ipynb#Negative-binomial-distribution\n",
    "\"Appendix C: Negative binomial distribution\")\n",
    "distribution, which \n",
    "[modifies](./D_distributions.ipynb#Gamma-Poisson-distribution\n",
    "\"Appendix D: Gamma-Poisson distribution\")\n",
    "the Poisson distribution to allow for over-dispersion."
   ]
  },
  {
   "cell_type": "code",
   "execution_count": 24,
   "id": "09091b3a",
   "metadata": {},
   "outputs": [],
   "source": [
    "from distributions.neg_binomial import NegBinomialDistribution"
   ]
  },
  {
   "cell_type": "code",
   "execution_count": 25,
   "id": "3c8d45a7",
   "metadata": {},
   "outputs": [
    {
     "data": {
      "text/plain": [
       "{'score': -2.021510723885497,\n",
       " 'num_iters': 375,\n",
       " 'score_tol': -1.7763568394002505e-15,\n",
       " 'param_tol': 9.882378222414445e-07,\n",
       " 'converged': True}"
      ]
     },
     "execution_count": 25,
     "metadata": {},
     "output_type": "execute_result"
    }
   ],
   "source": [
    "nbd = NegBinomialDistribution()\n",
    "nbd.fit(all_goals)"
   ]
  },
  {
   "cell_type": "code",
   "execution_count": 26,
   "id": "8aca0a3d",
   "metadata": {},
   "outputs": [
    {
     "name": "stdout",
     "output_type": "stream",
     "text": [
      "Method of moments: p=0.9245604526107334, q=0.07543954738926661, alpha=40.75383575114421\n",
      "Max. likelihood: p=0.9235153903421085, q=0.0764846096578915, alpha=40.15155179920352\n",
      "neg. binom: mean=3.3253108704372267, variance=3.6007097501703718\n",
      "gamma: beta=12.074525770255041, mu=3.3253108704372267, var=0.27539887973314486\n"
     ]
    }
   ],
   "source": [
    "qm = np.mean(all_goals)\n",
    "qv = np.var(all_goals)\n",
    "print(f\"Method of moments: p={qm / qv}, q={(qv - qm) / qv}, alpha={qm**2 / (qv - qm)}\")\n",
    "\n",
    "theta, alpha = nbd.get_parameters()\n",
    "beta = theta / (1 - theta)\n",
    "print(f\"Max. likelihood: p={theta}, q={1-theta}, alpha={alpha}\")\n",
    "mu = nbd.mean()\n",
    "sigsq = nbd.variance()\n",
    "print(f\"neg. binom: mean={mu}, variance={sigsq}\")\n",
    "print(f\"gamma: beta={beta}, mu={alpha/beta}, var={alpha/beta**2}\")"
   ]
  },
  {
   "cell_type": "markdown",
   "id": "6b280722",
   "metadata": {},
   "source": [
    "Observe that, as anticipated, the negative binomial fits the empirical variance better than the Poisson.\n",
    "\n",
    "Next, we recall that each quarter is (in theory) 20 minutes long. We also note,\n",
    "from the results above, that the maximum number of goals observed per quarter is 15.\n",
    "Consequently, we might expect no more than one goal to be scored per minute of play.\n",
    "Thus, we might try fitting a binomial distribution over each of the 20 minutes of each quarter."
   ]
  },
  {
   "cell_type": "code",
   "execution_count": 27,
   "id": "02508caf",
   "metadata": {},
   "outputs": [],
   "source": [
    "from distributions.binomial import BinomialDistribution"
   ]
  },
  {
   "cell_type": "code",
   "execution_count": 28,
   "id": "4f8ebebd",
   "metadata": {},
   "outputs": [
    {
     "data": {
      "text/plain": [
       "{'score': -2.0407147685153344,\n",
       " 'num_iters': 1,\n",
       " 'score_tol': 0.0,\n",
       " 'param_tol': 8.326672684688674e-17,\n",
       " 'converged': True}"
      ]
     },
     "execution_count": 28,
     "metadata": {},
     "output_type": "execute_result"
    }
   ],
   "source": [
    "bnd = BinomialDistribution(20)\n",
    "bnd.fit(all_goals)"
   ]
  },
  {
   "cell_type": "code",
   "execution_count": 29,
   "id": "1d1ee670",
   "metadata": {},
   "outputs": [
    {
     "name": "stdout",
     "output_type": "stream",
     "text": [
      "p=0.1662655435218613, q=0.8337344564781387, n=20.0\n",
      "mean=3.325310870437226, variance=2.772426251184827\n"
     ]
    }
   ],
   "source": [
    "n, theta = bnd.get_parameters()\n",
    "print(f\"p={theta}, q={1-theta}, n={n}\")\n",
    "mu = bnd.mean()\n",
    "sigsq = bnd.variance()\n",
    "print(f\"mean={mu}, variance={sigsq}\")"
   ]
  },
  {
   "cell_type": "markdown",
   "id": "14a256e3",
   "metadata": {},
   "source": [
    "Observe that the binomial distribution, by its very nature, has\n",
    "variance $\\sigma^2_X=npq<\\mu_X=np$. Hence, it is always under-dispersed \n",
    "in comparison to the Poisson distribution, for which \n",
    "$\\sigma^2_X=\\mu_X=\\lambda$.\n",
    "To allow for over-dispersion, we might try the \n",
    "[beta-binomial](./D_distributions.ipynb#Beta-Binomial-distribution\n",
    "\"Appendix D: Beta-Binomial distribution\") distribution."
   ]
  },
  {
   "cell_type": "code",
   "execution_count": 30,
   "id": "be12df6f",
   "metadata": {},
   "outputs": [],
   "source": [
    "from distributions.beta_binomial import BetaBinomialDistribution"
   ]
  },
  {
   "cell_type": "code",
   "execution_count": 31,
   "id": "b48388dd",
   "metadata": {},
   "outputs": [
    {
     "data": {
      "text/plain": [
       "{'score': -2.021408525483791,\n",
       " 'num_iters': 100,\n",
       " 'score_tol': 6.616929226765933e-14,\n",
       " 'param_tol': 4.0892373647238855e-05,\n",
       " 'converged': False}"
      ]
     },
     "execution_count": 31,
     "metadata": {},
     "output_type": "execute_result"
    }
   ],
   "source": [
    "bbd = BetaBinomialDistribution(20)\n",
    "bbd.fit(all_goals)"
   ]
  },
  {
   "cell_type": "code",
   "execution_count": 36,
   "id": "86f932ed",
   "metadata": {},
   "outputs": [
    {
     "name": "stdout",
     "output_type": "stream",
     "text": [
      "n=20.0, alpha=10.505313789339887, beta=52.677994888972584\n",
      "Beta-binomial: mean=3.3253446231586197, variance=3.593168806848246\n",
      "Beta: mean=0.166267231157931, variance=0.002159789544284535\n",
      "Binomial: prob=0.166267231157931, mean=3.3253446231586197, variance=2.7724487800201225\n"
     ]
    }
   ],
   "source": [
    "n, alpha, beta = bbd.get_parameters()\n",
    "print(f\"n={n}, alpha={alpha}, beta={beta}\")\n",
    "mu = bbd.mean()\n",
    "sigsq = bbd.variance()\n",
    "print(f\"Beta-binomial: mean={mu}, variance={sigsq}\")\n",
    "theta = alpha / (alpha + beta)\n",
    "mu = theta\n",
    "sigsq = mu * (1 - mu) / (alpha + beta + 1)\n",
    "print(f\"Beta: mean={mu}, variance={sigsq}\")\n",
    "mu = n * theta\n",
    "sigsq = mu * (1 - theta)\n",
    "print(f\"Binomial: prob={theta}, mean={mu}, variance={sigsq}\")"
   ]
  },
  {
   "cell_type": "markdown",
   "id": "412d2130",
   "metadata": {},
   "source": [
    "Observe that the binomial part of the beta-binomial distribution behaves as the standard binomial distribution above. However, the use of a beta distribution prior allows the over-dispersion to be modelled quite well."
   ]
  },
  {
   "cell_type": "code",
   "execution_count": 37,
   "id": "93b7ad88",
   "metadata": {},
   "outputs": [],
   "source": [
    "# Observed values are integer:\n",
    "#x_values = np.arange(np.max(all_goals) + 1)\n",
    "# But use real values for visual smoothness:\n",
    "x_values = np.linspace(min(all_goals), max(all_goals), 100)\n",
    "\n",
    "y_values_psd = np.exp(psd.log_prob(x_values))\n",
    "y_values_nbd = np.exp(nbd.log_prob(x_values))\n",
    "y_values_bnd = np.exp(bnd.log_prob(x_values))\n",
    "y_values_bbd = np.exp(bbd.log_prob(x_values))"
   ]
  },
  {
   "cell_type": "code",
   "execution_count": 38,
   "id": "19d0325f",
   "metadata": {},
   "outputs": [
    {
     "data": {
      "image/png": "[encoded data removed]",
      "text/plain": [
       "<Figure size 640x480 with 1 Axes>"
      ]
     },
     "metadata": {},
     "output_type": "display_data"
    }
   ],
   "source": [
    "res = df_goals.hist(\"goals\", bins=bins, density=True)\n",
    "ax = res[0][0]\n",
    "res = ax.plot(x_values, y_values_psd, 'r')\n",
    "res = ax.plot(x_values, y_values_nbd, 'g')\n",
    "res = ax.plot(x_values, y_values_bnd, 'b')\n",
    "res = ax.plot(x_values, y_values_bbd, 'k')\n",
    "plt.legend(['Poisson', 'NegBinomial', 'Binomial', 'BetaBinomial'])\n",
    "plt.xlabel(\"# Goals per quarter\")\n",
    "plt.show()"
   ]
  },
  {
   "cell_type": "markdown",
   "id": "3f0fd7e7",
   "metadata": {},
   "source": [
    "We now appear to have a few reasonable options for modelling the number of goals scored in any given quarter.\n",
    "However, we must not forget that the four quarterly scores form a sequence\n",
    "for each team for each match. Thus, we need to check whether the four quarters are truly independent or not.\n",
    "For this purpose, we now temporally aggregate the quarterly scores by summing them over each match. \n",
    "\n",
    "The first idea we try is to reverse the temporal dependency of match goals on quarterly goals. In such a model, the number of match goals is somehow\n",
    "pre-determined in advance, and then these goals are allocated to each quarter.\n",
    "Thus, we first examine the proportion of match goals allocted to each quarter."
   ]
  },
  {
   "cell_type": "code",
   "execution_count": 50,
   "id": "67e013e3",
   "metadata": {},
   "outputs": [
    {
     "name": "stdout",
     "output_type": "stream",
     "text": [
      "Proportion of match goals quarter:\n",
      "  means=[0.24534109 0.24738802 0.25324427 0.25402661]\n",
      "  variances=[0.01521607 0.01528783 0.01525899 0.01562921]\n",
      "  covariances=[[ 0.01521607 -0.00505764 -0.00465829 -0.00550014]\n",
      " [-0.00505764  0.01528783 -0.0053509  -0.00487928]\n",
      " [-0.00465829 -0.0053509   0.01525899 -0.0052498 ]\n",
      " [-0.00550014 -0.00487928 -0.0052498   0.01562921]]\n"
     ]
    }
   ],
   "source": [
    "match_goals = np.sum(goals_by_quarter, axis=1)\n",
    "quarterly_props = (goals_by_quarter.T / match_goals).T\n",
    "prop_means = np.mean(quarterly_props, axis=0)\n",
    "prop_vars = np.var(quarterly_props, axis=0)\n",
    "print(\"Proportion of match goals quarter:\")\n",
    "print(f\"  means={prop_means}\\n  variances={sigsqs}\")\n",
    "prop_covs = np.cov(quarterly_props.T, bias=True)\n",
    "print(f\"  covariances={prop_covs}\")"
   ]
  },
  {
   "cell_type": "markdown",
   "id": "cb8e0204",
   "metadata": {},
   "source": [
    "It would appear that, in aggregate, the four quarters share roughly equal allocation of the match goals. However, the empirical quarterly proportions actually vary widely from match to match.\n",
    "This suggests a possible model whereby the proportions are sampled from a\n",
    "[Dirichlet](https://en.wikipedia.org/wiki/Dirichlet_distribution\n",
    "\"Wikipedia: Dirichlet distribution\") distribution.\n",
    "Using the method of moments, the Dirichlet parameters may be estimated from\n",
    "the distributional means and variances, namely\n",
    "\\begin{eqnarray}\n",
    "\\mathbb{E}[X_i]~=~\\frac{\\alpha_i}{\\alpha_0}~\\doteq~p_i\\,, & ~~\\;\\;~~ &\n",
    "\\mathbb{V}[X_i]~=~\\frac{\\alpha_i\\,(\\alpha_0-\\alpha_i)}\n",
    "{\\alpha_0^2\\,(\\alpha_0+1)}~\\doteq~\\frac{p_i\\,q_i}{\\alpha_0+1}\\,,\n",
    "\\end{eqnarray}\n",
    "respectively, where $\\alpha_0\\doteq\\sum_{i=1}^{n}\\alpha_i$ and $q_i=1-p_i$."
   ]
  },
  {
   "cell_type": "code",
   "execution_count": 66,
   "id": "69f41d9b",
   "metadata": {},
   "outputs": [
    {
     "name": "stdout",
     "output_type": "stream",
     "text": [
      "Individual estimates of alpha_0: [11.16797652 11.17878623 11.3934525  11.1245457 ]\n",
      "Mean estimate of alpha0: 11.215653723856105\n",
      "Estimates of alpha_i: [2.75166069 2.77461842 2.84030008 2.84907453]\n",
      "Estimated covariances=[[ 0.01515669 -0.00496858 -0.0050862  -0.00510191]\n",
      " [-0.00496858  0.01524169 -0.00512863 -0.00514448]\n",
      " [-0.0050862  -0.00512863  0.01548109 -0.00526626]\n",
      " [-0.00510191 -0.00514448 -0.00526626  0.01551264]]\n"
     ]
    }
   ],
   "source": [
    "alpha0s = prop_means * (1 - prop_means) / prop_vars - 1\n",
    "print(f\"Individual estimates of alpha_0: {alpha0s}\")\n",
    "alpha0 = np.sum(prop_means * (1 - prop_means)) / np.sum(prop_vars) - 1\n",
    "print(f\"Mean estimate of alpha0: {alpha0}\")\n",
    "alphas = prop_means * alpha0\n",
    "print(f\"Estimates of alpha_i: {alphas}\")\n",
    "est_covs = (np.diag(prop_means) - np.outer(prop_means, prop_means)) / (alpha0 + 1)\n",
    "print(f\"Estimated covariances={est_covs}\")"
   ]
  },
  {
   "cell_type": "markdown",
   "id": "1115b262",
   "metadata": {},
   "source": [
    "An alternative model is that the quarterly proportions are fixed globally, but the numbers of goals assigned to each quarter follow a\n",
    "[multinomial](https://en.wikipedia.org/wiki/Multinomial_distribution \n",
    "\"Wikipedia: Multinomial dsitribution\") distribution. Such a model is justified\n",
    "on [theoretical](D_distributions.ipynb#Serial-correlation \n",
    "\"Appendix D: Gamma-Poisson distribution: Serial correlation\")\n",
    "grounds if the number of goals per match follows either a Poisson or negative binomial distribution."
   ]
  },
  {
   "cell_type": "code",
   "execution_count": null,
   "id": "12a4bd58",
   "metadata": {},
   "outputs": [],
   "source": []
  },
  {
   "cell_type": "code",
   "execution_count": 64,
   "id": "402157b4",
   "metadata": {},
   "outputs": [
    {
     "name": "stdout",
     "output_type": "stream",
     "text": [
      "[0.24534109 0.24738802 0.25324427 0.25402661]\n",
      "[11.16797652 11.17878623 11.3934525  11.1245457 ]\n",
      "0.1875\n"
     ]
    }
   ],
   "source": [
    "print(prop_means)\n",
    "print(prop_means * (1 - prop_means) / prop_vars -  1)\n",
    "print(3/16)"
   ]
  },
  {
   "cell_type": "code",
   "execution_count": 53,
   "id": "39d5d98d",
   "metadata": {},
   "outputs": [
    {
     "data": {
      "text/plain": [
       "array([[14.00871335, 10.76954602, 13.9664984 ,  2.54229775],\n",
       "       [ 8.5509994 ,  8.50617179, 10.79178662, 14.49755264],\n",
       "       [10.18109166, 13.83815094,  8.41525379, 11.33693915],\n",
       "       ...,\n",
       "       [15.2271536 , 13.53589231,  5.47260462,  5.31928425],\n",
       "       [12.4122392 ,  7.00957331, -1.        , 14.66924564],\n",
       "       [13.60443824, -1.        , 13.5633604 , 13.21838956]])"
      ]
     },
     "execution_count": 53,
     "metadata": {},
     "output_type": "execute_result"
    }
   ],
   "source": [
    "quarterly_props * (1 - quarterly_props) / prop_vars - 1"
   ]
  },
  {
   "cell_type": "code",
   "execution_count": null,
   "id": "f8b50385",
   "metadata": {},
   "outputs": [],
   "source": []
  },
  {
   "cell_type": "code",
   "execution_count": null,
   "id": "5c910ec6",
   "metadata": {},
   "outputs": [],
   "source": []
  },
  {
   "cell_type": "code",
   "execution_count": null,
   "id": "31adac7d",
   "metadata": {},
   "outputs": [],
   "source": []
  },
  {
   "cell_type": "code",
   "execution_count": null,
   "id": "24d35b95",
   "metadata": {},
   "outputs": [],
   "source": []
  },
  {
   "cell_type": "code",
   "execution_count": 44,
   "id": "7455b0f9",
   "metadata": {},
   "outputs": [
    {
     "name": "stdout",
     "output_type": "stream",
     "text": [
      "Goals per match: mean=13.301243481748896, variance=21.089757779866257\n",
      "  excess variance=6.718457569682879\n",
      "Proportion of match goals quarter:\n",
      "  means=[0.24534109 0.24738802 0.25324427 0.25402661],\n",
      "  variances=[0.01521607 0.01528783 0.01525899 0.01562921]\n"
     ]
    }
   ],
   "source": [
    "match_mean = np.mean(match_goals)\n",
    "match_var = np.var(match_goals)\n",
    "print(f\"Goals per match: mean={match_mean}, variance={match_var}\")\n",
    "delta_var = match_var - np.sum(np.var(goals_by_quarter, axis=0))\n",
    "print(f\"  excess variance={delta_var}\")\n"
   ]
  },
  {
   "cell_type": "markdown",
   "id": "3ffac859",
   "metadata": {},
   "source": [
    "Despite the fact that a Poisson distribution is a reasonable fit to the quarterly goal scores, the number of match goals (i.e. the sum of the quarterly scores) is clearly not Poisson due to having excess variance.\n",
    "This indicates that, for each team in each match, the sequence of quarterly goal scores are not independent of each other. We see further evidence of non-independence by computing the covariances and correlation coefficients between sequence scores from different quarters of the match."
   ]
  },
  {
   "cell_type": "code",
   "execution_count": null,
   "id": "832caf90",
   "metadata": {},
   "outputs": [],
   "source": []
  },
  {
   "cell_type": "code",
   "execution_count": null,
   "id": "031ef929",
   "metadata": {},
   "outputs": [],
   "source": []
  },
  {
   "cell_type": "code",
   "execution_count": null,
   "id": "edf4363a",
   "metadata": {},
   "outputs": [],
   "source": []
  },
  {
   "cell_type": "code",
   "execution_count": 42,
   "id": "bf048697",
   "metadata": {},
   "outputs": [
    {
     "name": "stdout",
     "output_type": "stream",
     "text": [
      "Check: p=0.6306968349559322, alpha=22.71589566235159\n"
     ]
    }
   ],
   "source": [
    "mm = match_mean\n",
    "mv = match_var\n",
    "print(f\"Check: p={mm / mv}, alpha={mm**2 / (mv - mm)}\")"
   ]
  },
  {
   "cell_type": "code",
   "execution_count": null,
   "id": "85ec3296",
   "metadata": {
    "scrolled": true
   },
   "outputs": [],
   "source": [
    "ind = (df_training.season >= 1994) & (df_training.season != 2020)\n",
    "columns  = ['for_goals' + str(i) for i in range(1, 5)]\n",
    "for_scores = df_training.loc[ind, columns].values\n",
    "columns  = ['against_goals' + str(i) for i in range(1, 5)]\n",
    "against_scores = df_training.loc[ind, columns].values\n",
    "match_goals = np.vstack([for_scores, against_scores])\n",
    "match_means = np.mean(match_goals, axis=0)\n",
    "match_means_sq = sum(np.outer(x, x) for x in match_goals) / match_goals.shape[0]\n",
    "match_vars = match_means_sq - np.outer(match_means, match_means)\n",
    "print(f\"Goals per match: mean=\\n{match_mean}\\nvariance=\\n{match_var}\")\n",
    "match_sum_var = np.sum(match_vars)\n",
    "print(f\"overall variance={match_sum_var}\")\n",
    "match_stds = np.sqrt(np.diag(match_vars))\n",
    "match_cors = match_vars / np.outer(match_stds, match_stds)\n",
    "print(f\"correlations=\\n{match_cors}\")"
   ]
  },
  {
   "cell_type": "code",
   "execution_count": null,
   "id": "89a45974",
   "metadata": {},
   "outputs": [],
   "source": [
    "match_vars - np.diag(match_means)"
   ]
  },
  {
   "cell_type": "markdown",
   "id": "bed2eb26",
   "metadata": {},
   "source": [
    "Since the quarterly goal score distributions are assumed to be identical, we deduce that the average correlation $\\rho$ between the goal scores $X_i$ of successive quarters obeys\n",
    "\\begin{eqnarray}\n",
    "\\mathbb{V}\\left[\\sum_{i=1}^{n}X_i\\right] & = & (n+n(n-1)\\rho)\\,\\mathbb{V}[X_1]\n",
    "\\end{eqnarray}"
   ]
  },
  {
   "cell_type": "code",
   "execution_count": null,
   "id": "ba8c1af5",
   "metadata": {},
   "outputs": [],
   "source": [
    "n = 4\n",
    "rho = (match_sum_var / quarterly_var - n) / (n * (n-1))\n",
    "print(f\"Goals per quarter correlation: rho={rho}\")"
   ]
  },
  {
   "cell_type": "markdown",
   "id": "8b4cc3c5",
   "metadata": {},
   "source": [
    "what about binomial*beta? E[X]=n mu, V[X]=n mu (1-mu) + n(n-1) sig^2"
   ]
  },
  {
   "cell_type": "code",
   "execution_count": null,
   "id": "32e95538",
   "metadata": {},
   "outputs": [],
   "source": [
    "n = 20 # minutes per quarter\n",
    "mu = quarterly_mean / n\n",
    "sigsq = (quarterly_var - n * mu * (1 - mu)) / (n * (n-1))\n",
    "print(f\"mu={mu}, sigsq={sigsq}\")"
   ]
  },
  {
   "cell_type": "code",
   "execution_count": null,
   "id": "4a2014c9",
   "metadata": {},
   "outputs": [],
   "source": [
    "nu = mu * (1 - mu) / sigsq - 1\n",
    "alpha = mu * nu\n",
    "beta = nu - alpha\n",
    "print(f\"alpha={alpha}, beta={beta}\")"
   ]
  },
  {
   "cell_type": "code",
   "execution_count": null,
   "id": "1c1a4292",
   "metadata": {},
   "outputs": [],
   "source": []
  },
  {
   "cell_type": "code",
   "execution_count": null,
   "id": "127f3e59",
   "metadata": {},
   "outputs": [],
   "source": []
  },
  {
   "cell_type": "markdown",
   "id": "3cf42315",
   "metadata": {},
   "source": [
    "\n",
    "One possibility is that goal scoring is still Poisson but with a variable rate. For example, if the scoring rate were resampled before each quarter from a gamma\n",
    "distribution, then the number of goals would follow a negative binomial distribution.\n",
    "As a quick estimate, the method of moments gives\n",
    "\\begin{eqnarray}\n",
    "\\mu~=~\\frac{\\alpha\\,q}{p},\\,\\;\\;\\sigma^2~=~\\frac{\\alpha\\,q}{p^2}\\,\n",
    "& ~\\Rightarrow~ &\n",
    "p~=~\\frac{\\mu}{\\sigma^2},\\,\\;\\;\\alpha~=~\\frac{\\mu\\,p}{q}\\,,\n",
    "\\end{eqnarray}\n",
    "where $p$ is the probability of a failed scoring shot and $\\alpha$ is the total number of failed shots, after which scoring attempts cease."
   ]
  },
  {
   "cell_type": "code",
   "execution_count": null,
   "id": "f4613c58",
   "metadata": {},
   "outputs": [],
   "source": [
    "p = quarterly_mean / quarterly_var\n",
    "q = 1 - p\n",
    "alpha = p * quarterly_mean / q\n",
    "print(f\"Goals per quarter: p={p}, q={q}, alpha={alpha}\")"
   ]
  },
  {
   "cell_type": "code",
   "execution_count": null,
   "id": "f68fde6a",
   "metadata": {},
   "outputs": [],
   "source": [
    "p = match_mean / match_var\n",
    "q = 1 - p\n",
    "alpha = p * match_mean / q\n",
    "print(f\"Goals per match: p={p}, q={q}, alpha={alpha}\")"
   ]
  },
  {
   "cell_type": "markdown",
   "id": "2aa121ac",
   "metadata": {},
   "source": [
    "Note that the negative binomial distribution may be derived as the sum of $\\alpha$\n",
    "independent, identically distributed geometric variables, each with stopping probability of $p$."
   ]
  },
  {
   "cell_type": "code",
   "execution_count": null,
   "id": "60d01e02",
   "metadata": {},
   "outputs": [],
   "source": []
  },
  {
   "cell_type": "code",
   "execution_count": null,
   "id": "827cf65b",
   "metadata": {},
   "outputs": [],
   "source": []
  },
  {
   "cell_type": "code",
   "execution_count": null,
   "id": "eb2e9e2d",
   "metadata": {},
   "outputs": [],
   "source": [
    "y_values_psd = np.exp(psd.log_prob(x_values))"
   ]
  },
  {
   "cell_type": "code",
   "execution_count": null,
   "id": "23bd35db",
   "metadata": {},
   "outputs": [],
   "source": [
    "from distributions.neg_binomial import NegBinomialDistribution"
   ]
  },
  {
   "cell_type": "code",
   "execution_count": null,
   "id": "4c7a1d5b",
   "metadata": {},
   "outputs": [],
   "source": [
    "nbd = NegBinomialDistribution()\n",
    "nbd.fit(all_goals)"
   ]
  },
  {
   "cell_type": "code",
   "execution_count": null,
   "id": "d9b11c65",
   "metadata": {},
   "outputs": [],
   "source": [
    "theta, alpha = nbd.get_parameters()\n",
    "print(f\"p={theta}, q={1-theta}, alpha={alpha}\")\n",
    "mu = nbd.mean()\n",
    "sigsq2 = nbd.variance()\n",
    "print(f\"mean={mu}, variance={sigsq2}\")"
   ]
  },
  {
   "cell_type": "markdown",
   "id": "0b98ad90",
   "metadata": {},
   "source": [
    "We interpret $q=1-\\theta\\approx 0.38$ as the probability of a shot on goal actually scoring a goal, and\n",
    "$p=\\theta\\approx 0.62$ as the probability of the shot missing or being blocked or deflected. \n",
    "Roughly speaking, shots on goal continue for the match until a total of $\\alpha\\approx 24$ shots fail to score. Note that, of the three distribbutions fitted, the negative binomial gives the closest match to the empirical values of both the mean and the variance."
   ]
  },
  {
   "cell_type": "code",
   "execution_count": null,
   "id": "e0be5053",
   "metadata": {},
   "outputs": [],
   "source": [
    "y_values_nbd = np.exp(nbd.log_prob(x_values))"
   ]
  },
  {
   "cell_type": "code",
   "execution_count": null,
   "id": "780b7868",
   "metadata": {},
   "outputs": [],
   "source": [
    "df_goals = pd.DataFrame({'goals': all_goals})\n",
    "res = df_goals.hist(bins=20, density=True)\n",
    "ax = res[0][0]\n",
    "res = ax.plot(x_values, y_values_psd, 'r')\n",
    "res = ax.plot(x_values, y_values_nbd, 'g')\n",
    "plt.legend(['Poisson', 'NegBinomial'])\n",
    "plt.xlabel(\"Number of goals per match\")\n",
    "plt.show()"
   ]
  },
  {
   "cell_type": "markdown",
   "id": "fcfe8973",
   "metadata": {},
   "source": [
    "### Distribution of behinds"
   ]
  },
  {
   "cell_type": "markdown",
   "id": "3ce59a25",
   "metadata": {},
   "source": [
    "If the ball is kicked through the goal posts without touching a goal post or a player's hand, then it scores a *goal* (worth 6 points). Otherwise, if the ball is touched or deflects off the goal post on its way through the goal posts, or else misses the goal but goes through the point posts without touching, then it scores a *behind* (worth 1 point)."
   ]
  },
  {
   "cell_type": "code",
   "execution_count": null,
   "id": "587a7b1b",
   "metadata": {},
   "outputs": [],
   "source": [
    "columns  = ['for_behinds' + str(i) for i in range(1, 5)]\n",
    "for_behinds = np.sum(df_training[columns].values, axis=1, dtype=float)\n",
    "columns  = ['against_behinds' + str(i) for i in range(1, 5)]\n",
    "against_behinds = np.sum(df_training[columns].values, axis=1, dtype=float)"
   ]
  },
  {
   "cell_type": "code",
   "execution_count": null,
   "id": "efb5cc29",
   "metadata": {},
   "outputs": [],
   "source": [
    "# Reduce time per quarter from 25 to 20\n",
    "ind = df_training.season < 1994\n",
    "for_behinds[ind] *= 20 / 25\n",
    "against_behinds[ind] *= 20 / 25\n",
    "# Increase time per quarter from 16 to 20\n",
    "ind = df_training.season == 2020\n",
    "for_behinds[ind] *= 20 / 16\n",
    "against_behinds[ind] *= 20 / 16"
   ]
  },
  {
   "cell_type": "code",
   "execution_count": null,
   "id": "4491925b",
   "metadata": {},
   "outputs": [],
   "source": [
    "all_behinds = np.concatenate([[for_behinds, against_behinds]], axis=None)\n",
    "behind_mean = np.mean(all_behinds)\n",
    "behind_var = np.var(all_behinds)\n",
    "print(f\"Behinds: mean={behind_mean}, variance={behind_var}\")"
   ]
  },
  {
   "cell_type": "code",
   "execution_count": null,
   "id": "03b80160",
   "metadata": {},
   "outputs": [],
   "source": [
    "psd = PoissonDistribution()\n",
    "psd.fit(all_behinds)"
   ]
  },
  {
   "cell_type": "code",
   "execution_count": null,
   "id": "d6597996",
   "metadata": {},
   "outputs": [],
   "source": [
    "lam = psd.get_parameters()[0]\n",
    "print(f\"lambda={lam}\")\n",
    "mu = psd.mean()\n",
    "sigsq2 = psd.variance()\n",
    "print(f\"mean={mu}, variance={sigsq2}\")"
   ]
  },
  {
   "cell_type": "code",
   "execution_count": null,
   "id": "bf96076b",
   "metadata": {},
   "outputs": [],
   "source": [
    "x_values = np.linspace(min(all_behinds), max(all_behinds), 100)"
   ]
  },
  {
   "cell_type": "code",
   "execution_count": null,
   "id": "9a0f8d9b",
   "metadata": {},
   "outputs": [],
   "source": [
    "y_values_psd = np.exp(psd.log_prob(x_values))"
   ]
  },
  {
   "cell_type": "code",
   "execution_count": null,
   "id": "560763ef",
   "metadata": {},
   "outputs": [],
   "source": [
    "gd = GammaDistribution()\n",
    "gd.fit(all_behinds)"
   ]
  },
  {
   "cell_type": "code",
   "execution_count": null,
   "id": "4bb18a1e",
   "metadata": {},
   "outputs": [],
   "source": [
    "alpha, beta = gd.get_parameters()\n",
    "print(f\"alpha={alpha}, beta={beta}, theta={1/beta}\")\n",
    "mu = gd.mean()\n",
    "sigsq2 = gd.variance()\n",
    "print(f\"mean={mu}, variance={sigsq2}\")"
   ]
  },
  {
   "cell_type": "code",
   "execution_count": null,
   "id": "a0ce5b94",
   "metadata": {},
   "outputs": [],
   "source": [
    "y_values_gd = np.exp(gd.log_prob(x_values))"
   ]
  },
  {
   "cell_type": "code",
   "execution_count": null,
   "id": "39b018ed",
   "metadata": {},
   "outputs": [],
   "source": [
    "nbd = NegBinomialDistribution()\n",
    "nbd.fit(all_behinds)"
   ]
  },
  {
   "cell_type": "code",
   "execution_count": null,
   "id": "813fb8af",
   "metadata": {},
   "outputs": [],
   "source": [
    "theta, alpha = nbd.get_parameters()\n",
    "print(f\"p={theta}, q={1-theta}, alpha={alpha}\")\n",
    "mu = nbd.mean()\n",
    "sigsq2 = nbd.variance()\n",
    "print(f\"mean={mu}, variance={sigsq2}\")"
   ]
  },
  {
   "cell_type": "code",
   "execution_count": null,
   "id": "f661008c",
   "metadata": {},
   "outputs": [],
   "source": [
    "y_values_nbd = np.exp(nbd.log_prob(x_values))"
   ]
  },
  {
   "cell_type": "code",
   "execution_count": null,
   "id": "d1f778d8",
   "metadata": {},
   "outputs": [],
   "source": [
    "df_behinds = pd.DataFrame({'behinds': all_behinds})\n",
    "res = df_behinds.hist(bins=20, density=True)\n",
    "ax = res[0][0]\n",
    "res = ax.plot(x_values, y_values_psd, 'r')\n",
    "res = ax.plot(x_values, y_values_gd, 'b')\n",
    "res = ax.plot(x_values, y_values_nbd, 'g')\n",
    "plt.legend(['Poisson', 'Gamma', 'NegBinomial'])\n",
    "plt.xlabel(\"Total behinds per match\")\n",
    "plt.show()"
   ]
  },
  {
   "cell_type": "markdown",
   "id": "45071ec4",
   "metadata": {},
   "source": [
    "It would appear that the data are too variable to properly aggregate the number of behinds over each match, leading to excess granularity. Let us therefore examine the number of behinds per quarter. Also, for simplicity, we shall neglect the matches that did not have 25 minute quarters."
   ]
  },
  {
   "cell_type": "code",
   "execution_count": null,
   "id": "ceb6b66d",
   "metadata": {},
   "outputs": [],
   "source": [
    "ind = (df_training.season < 1994) & (df_training.season != 2020)\n",
    "df_behinds = pd.DataFrame({'behinds': [], 'quarter': []})\n",
    "for i in range(1, 5):\n",
    "    behinds = np.concatenate([\n",
    "        df_training.loc[ind, 'for_behinds' + str(i)].values, \n",
    "        df_training.loc[ind, 'against_behinds' + str(i)].values\n",
    "    ])\n",
    "    labels = str(i)\n",
    "    df = pd.DataFrame({'behinds': behinds, 'quarter': labels})\n",
    "    df_behinds = pd.concat([df_behinds, df], ignore_index=True)"
   ]
  },
  {
   "cell_type": "code",
   "execution_count": null,
   "id": "3ca1d45d",
   "metadata": {},
   "outputs": [],
   "source": [
    "res = df_behinds.hist('behinds', by='quarter')"
   ]
  },
  {
   "cell_type": "markdown",
   "id": "2b13ffa6",
   "metadata": {},
   "source": [
    "It appears that there might be some slight differences in scoring between quarters of a match. However, for now,\n",
    "we shall adhere to the [null hypothesis](#Null-hypothesis \"Section: Null hypothesis\") that all quarters are essentially equal."
   ]
  },
  {
   "cell_type": "code",
   "execution_count": null,
   "id": "9690e303",
   "metadata": {},
   "outputs": [],
   "source": [
    "all_behinds = df_behinds.behinds.values\n",
    "behind_mean = np.mean(all_behinds)\n",
    "behind_var = np.var(all_behinds)\n",
    "print(f\"Behinds per quarter: mean={behind_mean}, variance={behind_var}\")"
   ]
  },
  {
   "cell_type": "code",
   "execution_count": null,
   "id": "f32ef886",
   "metadata": {},
   "outputs": [],
   "source": [
    "psd = PoissonDistribution()\n",
    "psd.fit(all_behinds)"
   ]
  },
  {
   "cell_type": "code",
   "execution_count": null,
   "id": "af5d680d",
   "metadata": {},
   "outputs": [],
   "source": [
    "lam = psd.get_parameters()[0]\n",
    "print(f\"lambda={lam}\")\n",
    "mu = psd.mean()\n",
    "sigsq2 = psd.variance()\n",
    "print(f\"mean={mu}, variance={sigsq2}\")"
   ]
  },
  {
   "cell_type": "code",
   "execution_count": null,
   "id": "c87d6a65",
   "metadata": {},
   "outputs": [],
   "source": [
    "x_values = np.linspace(min(all_behinds), max(all_behinds), 100)\n",
    "y_values_psd = np.exp(psd.log_prob(x_values))"
   ]
  },
  {
   "cell_type": "markdown",
   "id": "3690a77f",
   "metadata": {},
   "source": [
    "Technically, the gammma distribution cannot properly model cases where zero behinds were scored in any given quarter. Hence, we try a mixture model approach."
   ]
  },
  {
   "cell_type": "code",
   "execution_count": null,
   "id": "084fd943",
   "metadata": {},
   "outputs": [],
   "source": [
    "p_zero = np.sum(all_behinds == 0) / len(all_behinds)\n",
    "print(f\"Prob[behinds=0]={p_zero}\")"
   ]
  },
  {
   "cell_type": "code",
   "execution_count": null,
   "id": "d887cba1",
   "metadata": {},
   "outputs": [],
   "source": [
    "ind_nonzero = all_behinds > 0\n",
    "nonzero_behinds = all_behinds[ind_nonzero]\n",
    "gd = GammaDistribution()\n",
    "gd.fit(nonzero_behinds)"
   ]
  },
  {
   "cell_type": "code",
   "execution_count": null,
   "id": "219d4c3b",
   "metadata": {},
   "outputs": [],
   "source": [
    "y_values_gd = np.zeros(len(x_values))\n",
    "y_values_gd[x_values == 0] = p_zero\n",
    "x_ind_nonzero = x_values > 0\n",
    "y_values_gd[x_ind_nonzero] = np.exp(nbd.log_prob(x_values[x_ind_nonzero]))"
   ]
  },
  {
   "cell_type": "code",
   "execution_count": null,
   "id": "39b924d4",
   "metadata": {},
   "outputs": [],
   "source": [
    "nbd = NegBinomialDistribution()\n",
    "nbd.fit(all_behinds)"
   ]
  },
  {
   "cell_type": "code",
   "execution_count": null,
   "id": "c175ef02",
   "metadata": {},
   "outputs": [],
   "source": [
    "theta, alpha = nbd.get_parameters()\n",
    "print(f\"p={theta}, q={1-theta}, alpha={alpha}\")\n",
    "mu = nbd.mean()\n",
    "sigsq2 = nbd.variance()\n",
    "print(f\"mean={mu}, variance={sigsq2}\")"
   ]
  },
  {
   "cell_type": "code",
   "execution_count": null,
   "id": "5b50b016",
   "metadata": {},
   "outputs": [],
   "source": [
    "y_values_nbd = np.exp(nbd.log_prob(x_values))"
   ]
  },
  {
   "cell_type": "code",
   "execution_count": null,
   "id": "267d26fc",
   "metadata": {},
   "outputs": [],
   "source": [
    "res = df_behinds.hist('behinds', bins=20, density=True)\n",
    "ax = res[0][0]\n",
    "res = ax.plot(x_values, y_values_psd, 'r')\n",
    "res = ax.plot(x_values, y_values_gd, 'b')\n",
    "res = ax.plot(x_values, y_values_nbd, 'g')\n",
    "plt.legend(['Poisson', 'Gamma (adjusted)', 'NegBinomial'])\n",
    "plt.xlabel(\"Number of behinds per quarter\")\n",
    "plt.show()"
   ]
  },
  {
   "cell_type": "code",
   "execution_count": null,
   "id": "c62d02d6",
   "metadata": {},
   "outputs": [],
   "source": [
    "np.astype"
   ]
  },
  {
   "cell_type": "code",
   "execution_count": null,
   "id": "12b4fbdb",
   "metadata": {},
   "outputs": [],
   "source": [
    "x_values"
   ]
  },
  {
   "cell_type": "code",
   "execution_count": null,
   "id": "729e7939",
   "metadata": {},
   "outputs": [],
   "source": []
  },
  {
   "cell_type": "code",
   "execution_count": null,
   "id": "c3226e0e",
   "metadata": {},
   "outputs": [],
   "source": []
  },
  {
   "cell_type": "code",
   "execution_count": null,
   "id": "dbfdf503",
   "metadata": {},
   "outputs": [],
   "source": []
  },
  {
   "cell_type": "markdown",
   "id": "406dbd0a",
   "metadata": {},
   "source": [
    "## Physical representativeness"
   ]
  },
  {
   "cell_type": "markdown",
   "id": "49f5f191",
   "metadata": {},
   "source": [
    "A basic assumption of probabilistic modelling is that every data point (i.e. every match) is drawn from the *same* underlying distribution. This is just the null hypothesis discussed in a\n",
    "[previous](#Null-hypothesis \"Section: Null hypothesis\") section.\n",
    "However, the outcome of each AFL match depends upon both the laws of physics and the rules of the\n",
    "game. For example, there is a minimum time it takes to score from any given point of the match ground, which depends upon both player biodynamics and the dimensions of the oval (i.e. physics).\n",
    "This in turn determines the maximum possible score in a fixed period of time.\n",
    "\n",
    "However, the (nominal) length of a *quarter* depends upon the rules, which change over time.\n",
    "Thus, the maximum possible score per match can also change.\n",
    "Furthermore, various aspects of the game, e.g. the ability to tackle other players, also vary according to the rules. For example, the rate of scoring will be reduced when the free flow of the game is interrupted by umpires awarding penalties."
   ]
  },
  {
   "cell_type": "markdown",
   "id": "a5f46c39",
   "metadata": {},
   "source": [
    "These factors raise some difficult issues. Is a given match representative of the (assumed) underlying distribution? Is one season really much like another? We shall examine some of these issues in the sections below."
   ]
  },
  {
   "cell_type": "markdown",
   "id": "b0fa93fa",
   "metadata": {},
   "source": [
    "### Match venue effects"
   ]
  },
  {
   "cell_type": "markdown",
   "id": "102b19fe",
   "metadata": {},
   "source": [
    "Due to historical reasons, not all match grounds have the same physical dimensions.\n",
    "As discussed above, this is one physical factor that determines the team scores in a match.\n",
    "It might be reasoned that such physical constraints affect each team equally, and hence do not\n",
    "mattter when predicting which team will win. Conversely, it might be argued that a smaller oval will give each team's defence less opportunity to restrict scoring shots by the opposition offense, and this might favour a distinctly stronger team, e.g. a team that can run faster or kick the ball further."
   ]
  },
  {
   "cell_type": "markdown",
   "id": "04970c24",
   "metadata": {},
   "source": [
    "In order to test this effect, we examine the distribution of scores for each match venue and\n",
    "see whether or not these distributions differ markedly.\n",
    "Note that although the local name of each sporting ground might change over time due to naming rights from sponsorship deals, the extracted names of the venues have already been normalised."
   ]
  },
  {
   "cell_type": "code",
   "execution_count": null,
   "id": "81d6d1f5",
   "metadata": {},
   "outputs": [],
   "source": [
    "all_venues = sorted(df_training.venue.unique())\n",
    "print(\"Found %d distinct venues\" % len(all_venues))"
   ]
  },
  {
   "cell_type": "markdown",
   "id": "0f782034",
   "metadata": {},
   "source": [
    "For convenience, we ignore matches from infrequently used venues."
   ]
  },
  {
   "cell_type": "code",
   "execution_count": null,
   "id": "be154c91",
   "metadata": {},
   "outputs": [],
   "source": [
    "min_num_matches = 10"
   ]
  },
  {
   "cell_type": "code",
   "execution_count": null,
   "id": "71054b7a",
   "metadata": {},
   "outputs": [],
   "source": [
    "ds = df_training.sort_values(\"venue\").groupby(\"venue\").apply(len)\n",
    "ind = ds >= min_num_matches  # Reject infrequent\n",
    "df_sample = df_training[df_training.venue.isin(ds.index[ind])]"
   ]
  },
  {
   "cell_type": "code",
   "execution_count": null,
   "id": "9cc45b9c",
   "metadata": {},
   "outputs": [],
   "source": [
    "def score_stats(df):\n",
    "    scores = df[['for_total_score', 'against_total_score']].values\n",
    "    n = np.size(scores)\n",
    "    m = np.mean(scores)\n",
    "    v = np.var(scores)\n",
    "    se = np.sqrt(v / n)\n",
    "    data = n, m, v, se\n",
    "    index = 'size', 'mean', 'var', 'std_err'\n",
    "    return pd.Series(data, index)"
   ]
  },
  {
   "cell_type": "code",
   "execution_count": null,
   "id": "551db212",
   "metadata": {},
   "outputs": [],
   "source": [
    "ds_stats = score_stats(df_sample)\n",
    "print(ds_stats)"
   ]
  },
  {
   "cell_type": "code",
   "execution_count": null,
   "id": "71cf2b4a",
   "metadata": {},
   "outputs": [],
   "source": [
    "def group_score_stats(df, group_name):\n",
    "    df_out = df.groupby(group_name).apply(score_stats)\n",
    "    df_out.reset_index(drop=False, inplace=True)\n",
    "    return df_out"
   ]
  },
  {
   "cell_type": "code",
   "execution_count": null,
   "id": "6a6d64f6",
   "metadata": {},
   "outputs": [],
   "source": [
    "df_stats = group_score_stats(df_sample, \"venue\")\n",
    "df_stats['sig'] = (df_stats['mean'] - ds_stats['mean']) / df_stats.std_err\n",
    "print(df_stats)"
   ]
  },
  {
   "cell_type": "markdown",
   "id": "7f5c4195",
   "metadata": {},
   "source": [
    "Informally, we might plot the mean score of each venue along with standard error bars,\n",
    "and visually check whether these are similar to the overall mean score."
   ]
  },
  {
   "cell_type": "code",
   "execution_count": null,
   "id": "d6014482",
   "metadata": {},
   "outputs": [],
   "source": [
    "score_mean = ds_stats['mean']\n",
    "num_groups = len(df_stats)\n",
    "x = np.arange(1, num_groups + 1)\n",
    "plt.plot(x, [score_mean] * num_groups, 'r')\n",
    "venue_means = df_stats['mean']\n",
    "plt.plot(x, venue_means, 'g')\n",
    "venue_ses = df_stats.std_err\n",
    "plt.plot(x, venue_means + 2 * venue_ses, 'lightgrey')\n",
    "plt.plot(x, venue_means - 2 * venue_ses, 'lightgrey')\n",
    "sig = (venue_means - score_mean) / venue_ses\n",
    "plt.xlabel('Index of venue')\n",
    "plt.ylabel('Score')\n",
    "plt.legend(['overall mean', 'venue mean', '2 std. err.'])\n",
    "plt.show()"
   ]
  },
  {
   "cell_type": "markdown",
   "id": "870e0caa",
   "metadata": {},
   "source": [
    "This plot suggests that not all venues are like the 'average' venue.\n",
    "\n",
    "More formally, we could perform an *analysis of variance* (ANOVA)."
   ]
  },
  {
   "cell_type": "code",
   "execution_count": null,
   "id": "57a2a8b4",
   "metadata": {},
   "outputs": [],
   "source": [
    "def anova(ds_stats, df_stats):\n",
    "    num_samples = int(ds_stats['size'])\n",
    "    sse_total = num_samples * ds_stats['var']\n",
    "    sse_within = np.dot(df_stats['size'], df_stats['var'])\n",
    "    sse_between = sse_total - sse_within\n",
    "    print(f\"SSE: total={sse_total}, within={sse_within}, between={sse_between}\")\n",
    "    num_groups = len(df_stats)\n",
    "    deg_total = num_samples - 1\n",
    "    var_total = sse_total / deg_total\n",
    "    deg_within = num_samples - num_groups\n",
    "    var_within = sse_within / deg_within\n",
    "    deg_between = num_groups - 1\n",
    "    var_between = sse_between / deg_between\n",
    "    print(f\"DF: total={deg_total}, within={deg_within}, between={deg_between}\")\n",
    "    print(f\"Var: total={var_total}, within={var_within}, between={var_between}\")\n",
    "    print(\"F-score:\", var_between / var_within)"
   ]
  },
  {
   "cell_type": "code",
   "execution_count": null,
   "id": "c3c4b842",
   "metadata": {},
   "outputs": [],
   "source": [
    "anova(ds_stats, df_stats)"
   ]
  },
  {
   "cell_type": "markdown",
   "id": "cace62b7",
   "metadata": {},
   "source": [
    "## Temporal representativeness"
   ]
  }
 ],
 "metadata": {
  "kernelspec": {
   "display_name": "Python 3 (ipykernel)",
   "language": "python",
   "name": "python3"
  },
  "language_info": {
   "codemirror_mode": {
    "name": "ipython",
    "version": 3
   },
   "file_extension": ".py",
   "mimetype": "text/x-python",
   "name": "python",
   "nbconvert_exporter": "python",
   "pygments_lexer": "ipython3",
   "version": "3.11.5"
  }
 },
 "nbformat": 4,
 "nbformat_minor": 5
}
