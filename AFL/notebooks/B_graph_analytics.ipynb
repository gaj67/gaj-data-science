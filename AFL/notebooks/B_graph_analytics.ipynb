{
 "cells": [
  {
   "cell_type": "markdown",
   "id": "9d780f56",
   "metadata": {},
   "source": [
    "# Appendix B: Graph Analytics"
   ]
  },
  {
   "cell_type": "markdown",
   "id": "fb6ef58d",
   "metadata": {},
   "source": [
    "## A Problem with Prestige Scores"
   ]
  },
  {
   "cell_type": "markdown",
   "id": "8fd6e1de",
   "metadata": {},
   "source": [
    "It was noted in the [introduction](1_introduction.ipynb#Graph-features \"Introduction: Graph features\") that\n",
    "vertex scoring methods like PageRank and the normalised eigenvector produce prestige scores that measure the effect of in-edges but not out-edges. It was also noted that we should treat such scores with caution.\n",
    "\n",
    "To see why, consider the example graph below composed of only the historical matches between two teams, say A and B. Here we see that, either in a single match or aggregated over multiple matches, team A has scored a total of 60 points against team B, and team B has scored a total of 120 points against team A.\n",
    "Which team do you think is stronger?"
   ]
  },
  {
   "cell_type": "markdown",
   "id": "6d579fdb",
   "metadata": {},
   "source": [
    "<img src=\"graph_A_vs_B.png\" title=\"Graph of team A versus team B\" width=\"50%\">"
   ]
  },
  {
   "cell_type": "markdown",
   "id": "f7fd161a",
   "metadata": {},
   "source": [
    "Given the vertex ordering $(A,B)$, the weighted adjacency matrix of this example graph is\n",
    "\\begin{eqnarray}\n",
    "\\mathbf{A} & = & \\left[\\begin{array}\n",
    "\\\\\n",
    "0 & 120\\\\\n",
    "60 & 0\n",
    "\\end{array}\\right]\\,.\n",
    "\\end{eqnarray}\n",
    "Note that each edge is directed from the loser to the winner - thus, team A loses 0 points to itself and 120 points to team B, whereas team B loses 60 points to team A and 0 points to itself."
   ]
  },
  {
   "cell_type": "markdown",
   "id": "94ddfddc",
   "metadata": {},
   "source": [
    "In general, we amalgamate the edge scores across all matches between each given pair of teams, such that a single edge from team A to B represents a loss of prestige of A to B, with edge weight $w_{A\\rightarrow B}$.\n",
    "Likewise, the single edge from team B to A represents a loss of \n",
    "prestige of B to A, with edge weight $w_{B\\rightarrow A}$.\n",
    "The two-team weighted adjacency matrix is now\n",
    "\\begin{eqnarray}\n",
    "\\mathbf{A} & = & \\left[\\begin{array}\n",
    "\\\\\n",
    "0 & w_{A\\rightarrow B}\\\\\n",
    "w_{B\\rightarrow A} & 0\n",
    "\\end{array}\\right]\\,.\n",
    "\\end{eqnarray}\n",
    "We may consider the prestige graph of an arbitrary number of teams in general.\n",
    "For example, we could consider all the matches between all teams in a league, either in a single season or amalgamated over multiple seasons."
   ]
  },
  {
   "cell_type": "markdown",
   "id": "bd60b4da",
   "metadata": {},
   "source": [
    "### Normalised eigenvector scores"
   ]
  },
  {
   "cell_type": "markdown",
   "id": "3fca8141",
   "metadata": {},
   "source": [
    "To compute the eigenvector scores, we first let the probability of leaving a vertex along a given edge be proportional to the edge weight.\n",
    "Thus, we normalise each row of $\\mathbf{A}$ to unity, giving rise to the row-stochastic matrix $\\tilde{\\bf A}$ that obeys $\\tilde{\\bf A}\\mathbf{1}=\\mathbf{1}$.\n",
    "The prestige score vector $\\mathbf{x}$ is then the principle left-eigenvector of \n",
    "$\\tilde{\\bf A}$, obeying $\\mathbf{x}^{T}\\tilde{\\bf A}=\\mathbf{x}^{T}$.\n",
    "\n",
    "For the two-team graph above, we therefore obtain\n",
    "\\begin{eqnarray}\n",
    "\\tilde{\\bf A} & = & \\left[\n",
    "\\begin{array}\n",
    "\\\\\n",
    "0 & 1\\\\\n",
    "1 & 0\n",
    "\\end{array}\\right]\\,,\n",
    "\\end{eqnarray}\n",
    "with scores $\\mathbf{x}=(x_A,x_B)=(0.5,0.5)$.\n",
    "In other words, the prestige scores are equal, regardless of the values of the edge\n",
    "weights! Consequently, according to the normalised eigenvector scores, teams A and B are always equal in strength,\n",
    "which is certainly not what we expected."
   ]
  },
  {
   "cell_type": "markdown",
   "id": "d60ba75d",
   "metadata": {},
   "source": [
    "What is going wrong here? The problem is that the normalised eigenvector and related methods measure only the effect of in-edges. In essence, they measure the gain in prestige of each vertex due to in-edges, but fail to measure the corresponding loss of prestige \n",
    "due to out-edges.\n",
    "\n",
    "This is why we caution that such scores require interpretation. In social network analysis (SNA), the eigenvector prestige scores are often useful, for example in the context of a friendship graph where an edge $A\\rightarrow B$ indicates that person A likes person B. In this situation, person B obtains prestige for being liked, but person A does not lose prestige for the act of liking. However, in the adversarial context of opposing sporting teams, prestige is both won and lost."
   ]
  },
  {
   "cell_type": "markdown",
   "id": "4ec5f630",
   "metadata": {},
   "source": [
    "### Unnormalised eigenvector scores"
   ]
  },
  {
   "cell_type": "markdown",
   "id": "f84e872c",
   "metadata": {},
   "source": [
    "In the [previous](#Normalised-eigenvector-scores \n",
    "\"Section: Normalised eigenvector scores\") section, the main issue was that normalising the out-edge weights of each vertex to sum to unity led to teams A and B appearing equal in strength. The question then arises: what if we didn't normalise the edge weights? Computing the unnormalised eigenvector scores is also a common technique in SNA."
   ]
  },
  {
   "cell_type": "markdown",
   "id": "9d19b672",
   "metadata": {},
   "source": [
    "Here we now have the system $\\mathbf{A}^T\\mathbf{x}=\\lambda\\mathbf{x}$ of equations.\n",
    "For our [two-team](#A-Problem-with-Prestige-Scores \n",
    "\"Section: A Problem with Prestige Scores\") \n",
    " weighted adjacency matrix $\\mathbf{A}$, the system of equations becomes\n",
    "\\begin{eqnarray}\n",
    "\\left[\\begin{array}\\\\\n",
    "0 & w_{B\\rightarrow A}\\\\\n",
    "w_{A\\rightarrow B} & 0\n",
    "\\end{array}\\right]\n",
    "\\,\\left[\\begin{array}\\\\\n",
    "x_A\\\\x_B\n",
    "\\end{array}\\right] & = &\n",
    "\\lambda\\,\\left[\\begin{array}\\\\\n",
    "x_A\\\\x_B\n",
    "\\end{array}\\right]\n",
    "\\,.\n",
    "\\end{eqnarray}\n",
    "The solution gives the unit-sum eigenvector\n",
    "\\begin{eqnarray}\n",
    "\\left[\\begin{array}\\\\\n",
    "x_A\\\\x_B\n",
    "\\end{array}\\right] & = &\n",
    "\\frac{1}{\\sqrt{w_{B\\rightarrow A}}+\\sqrt{w_{A\\rightarrow B}}}\n",
    "\\left[\\begin{array}\\\\\n",
    "\\sqrt{w_{B\\rightarrow A}}\\\\\\sqrt{w_{A\\rightarrow B}}\n",
    "\\end{array}\\right]\\,,\n",
    "\\end{eqnarray}\n",
    "with eigenvalue $\\lambda=\\sqrt{w_{B\\rightarrow A}\\,w_{A\\rightarrow B}}$."
   ]
  },
  {
   "cell_type": "markdown",
   "id": "043f0230",
   "metadata": {},
   "source": [
    "For our example graph, this gives $x_A\\approx 0.414$ and $x_B\\approx 0.586$.\n",
    "Although mathematically this is an acceptable solution, philosophically\n",
    "it doesn't accord with our intuition. Also, physically just what does a dimensional unit of square-root point actually mean?"
   ]
  },
  {
   "cell_type": "markdown",
   "id": "2dbef861",
   "metadata": {},
   "source": [
    "### Steady-state flow scores"
   ]
  },
  {
   "cell_type": "markdown",
   "id": "3b652052",
   "metadata": {},
   "source": [
    "Let us now reconsider prestige as being akin to an incompressible fluid that flows through the graph. Like the mass of a fluid, we shall see that the total prestige is a conserved quantity."
   ]
  },
  {
   "cell_type": "markdown",
   "id": "256a2461",
   "metadata": {},
   "source": [
    "In order to obtain the flow equations, we now suppose that the edge weights,\n",
    "$w_{A\\rightarrow B}$ and $w_{B\\rightarrow A}$, represent flow rates. For example,\n",
    "we might let $w_{A\\rightarrow B}$ be the averaged points per match that team A concedes to B,\n",
    "over all games played between teams A and B. This represents the contribution from team A to team B's\n",
    "'for' score. Conversely, we let $w_{B\\rightarrow A}$ be the average points per match that team A\n",
    "scores against B, which represents team A's contribution to team B's 'against' score."
   ]
  },
  {
   "cell_type": "markdown",
   "id": "608b1475",
   "metadata": {},
   "source": [
    "We now see that team A gains prestige from B at the rate $w_{B\\rightarrow A}$, but\n",
    "simultaneously loses prestige to team B at the rate $w_{A\\rightarrow B}$. Since each team can only lose at most the prestige it currently has, the amout of flow out of a vertex must\n",
    "be proportional to the vertex's prestige score. Similarly,\n",
    "the amount of flow into a vertex along a given edge must be proportional to the prestige of the in-vertex.\n",
    "\n",
    "Consequently, for the two-team graph \n",
    "[above](#A-Problem-with-Prestige-Scores \"Section: A Problem with Prestige Scores\"), \n",
    "we obtain the fluid flow system\n",
    "\n",
    "\\begin{eqnarray}\n",
    "\\left[\\begin{array}\\\\\n",
    "\\dot{x}_A\\\\\n",
    "\\dot{x}_B\n",
    "\\end{array}\\right]\n",
    "& = &\n",
    "\\left[\\begin{array}\n",
    "\\\\\n",
    "-w_{A\\rightarrow B} & +w_{B\\rightarrow A}\\\\\n",
    "+w_{A\\rightarrow B} & -w_{B\\rightarrow A}\n",
    "\\end{array}\\right]\n",
    "\\,\n",
    "\\left[\\begin{array}\\\\\n",
    "x_A\\\\\n",
    "x_B\n",
    "\\end{array}\\right]\n",
    "\\,.\n",
    "\\end{eqnarray}\n",
    "\n",
    "This can more generally be denoted as $\\dot{\\bf x}=\\mathbf{R}\\mathbf{x}$ or \n",
    "$\\dot{\\bf x}(t)=\\mathbf{R}\\mathbf{x}(t)$.\n",
    "Observe that the columns of the flow matrix $\\mathbf{R}$ sum to zero, i.e.\n",
    "$\\mathbf{1}^{T}\\mathbf{R}=\\mathbf{0}^{T}$. This simply reflects the fact that,\n",
    "for the example graph,\n",
    "the flow out of A into B must equal the flow into B out of A. \n",
    "More generally, the sum of flows out of some vertex X into all other vertices must equal the sum of flows into all vertices from vertex X.\n",
    "Further note that, in comparison to the weighted adjacency matrix $\\mathbf{A}$ above,\n",
    "we have \n",
    "\\begin{eqnarray}\n",
    "\\mathbf{R} & \\doteq & \n",
    "\\mathbf{A}^{T}-\\mathtt{diag}\\left[\\mathbf{1}^{T}\\mathbf{A}^{T}\n",
    "\\right]\n",
    "\\,,\n",
    "\\end{eqnarray}\n",
    "which therefore trivially satisfies $\\mathbf{1}^{T}\\mathbf{R}=\\mathbf{0}^T$.\n",
    "\n",
    "As a consequence, we deduce\n",
    "that\n",
    "\\begin{eqnarray}\n",
    "\\mathbf{1}^{T}\\dot{\\bf x}(t)=\n",
    "\\mathbf{1}^{T}\\mathbf{R}\\mathbf{x}(t)=0\n",
    "& ~\\Rightarrow~ & \\mathbf{1}^{T}\\mathbf{x}(t)=\\mbox{constant}\n",
    "\\,.\n",
    "\\end{eqnarray}\n",
    "In other words, prestige is a conserved quantity (by construction).\n",
    "For convenience, we assume that initially $\\mathbf{1}^{1}\\mathbf{x}(0)=1$."
   ]
  },
  {
   "cell_type": "markdown",
   "id": "bc9bf666",
   "metadata": {},
   "source": [
    "The (or a) steady-state solution of the system of flow equations now occurs when\n",
    "\\begin{eqnarray}\n",
    "\\dot{\\mathbf{x}}=\\mathbf{0}\n",
    "& \\Rightarrow & \\mathbf{R}\\mathbf{x}=\\mathbf{0}\n",
    "%& ~\\Rightarrow~ (\\mathbf{I}+\\mathbf{R})\\mathbf{x}=\\mathbf{x}\\,.\n",
    "\\end{eqnarray}\n",
    "Hence, the prestige score vector\n",
    "$\\mathbf{x}$ is a right-eigenvector of matrix $\\mathbf{R}$ with zero eigenvalue.\n",
    "Such a (non-trivial) solution must exist since $\\mathbf{1}^T\\mathbf{R}=\\mathbf{0}$,\n",
    "i.e. $\\mathbf{1}$ is the left-eigenvector of $\\mathbf{R}$\n",
    "with eigenvalue 0. However, the uniqueness of the solution depends upon the connectedness of the graph,\n",
    "and its stability depends upon the (real parts of the) other eigenvalues."
   ]
  },
  {
   "cell_type": "markdown",
   "id": "d101fd71",
   "metadata": {},
   "source": [
    "For our example graph, we see that $x_B=1-x_A$ (due to conservation of prestige), and hence the steady-state flow for team A obeys\n",
    "\\begin{eqnarray}\n",
    "\\dot{x}_A & = & w_{B\\rightarrow A}\\,(1-x_A) - w_{A\\rightarrow B}\\,x_A~=~0\n",
    "\\\\\n",
    "\\Rightarrow x_A & = & \n",
    "\\frac{w_{B\\rightarrow A}}\n",
    "{w_{A\\rightarrow B}+w_{B\\rightarrow A}}\\,.\n",
    "\\end{eqnarray}\n",
    "Thus, the flow prestige of team A against team B is just the proportion of\n",
    "team A's 'for' score out of its total 'for' and 'against' scores.\n",
    "Indeed, this is just what one might intuitively expect from the two-team graph\n",
    "[above](#A-Problem-with-Prestige-Scores \"Section: A Problem with Prestige Scores\"),\n",
    "for which\n",
    "\\begin{eqnarray}\n",
    "x_A~=~\\frac{60}{120+60}~=~\\frac{1}{3}\\,,\n",
    "&&\n",
    "x_B~=~\\frac{120}{120+60}~=~\\frac{2}{3}\n",
    "\\,.\n",
    "\\end{eqnarray}\n",
    "In other words, out of the total of 120+60=180 points scored, one-third of those points were scored by team A,\n",
    "and two-thirds were scored by team B. This suggests a 2:1 ratio of the relative strength of team B to team A."
   ]
  },
  {
   "cell_type": "markdown",
   "id": "ba1f8e6f",
   "metadata": {},
   "source": [
    "### Probabilitistic modelling"
   ]
  },
  {
   "cell_type": "markdown",
   "id": "1e53dd7c",
   "metadata": {},
   "source": [
    "For the [two-team graph](#A-Problem-with-Prestige-Scores \"Section A Problem with Prestige Scores\"), the \n",
    "[flow prestige](#Steady-state-flow-scores \"Section: Steady-state flow scores\")\n",
    "score $x_A$ may be interpreted as the probability of team A winning an arbitrary match against team B,\n",
    "since $x_A+x_B=1$. Consequently, we may use the model\n",
    "\\begin{eqnarray}\n",
    "P(\\texttt{win}_A\\mid A,B) & \\doteq & \\frac{x_A}{x_A+x_B}\n",
    "\\end{eqnarray}\n",
    "to estimate team A's chances of defeating team B.\n",
    "\n",
    "However, for a more general graph with $N>2$ teams, the situation becomes more complicated. In effect, $x_A$ is\n",
    "the proportion of total prestige obtained by team A against all $N-1$ other teams simultaneously. Thus, we might expect any (arbitrary) one of these other teams to have approximate prestige\n",
    "\\begin{eqnarray}\n",
    "\\bar{x}_A & \\doteq & \\frac{1-x_A}{N-1}\\,.\n",
    "\\end{eqnarray}\n",
    "Thus, from team A's perspective against a single oppenent, the renormalised\n",
    "proportion of prestige for A is\n",
    "\\begin{eqnarray}\n",
    "P(\\texttt{win}_A\\mid A,*) & = & p_A ~\\doteq~ \\frac{x_A}{x_A+\\bar{x}_A}~=~\\frac{(N-1)\\,x_A}{1+(N-2)\\,x_A}\\,.\n",
    "\\end{eqnarray}\n",
    "\n",
    "Similarly, team B will have a renormalised proportion $p_B=P(\\texttt{win}_B\\mid B,*)$ of prestige against an arbitrary opponent.\n",
    "Thus, team B's estimate of the opponent winning is therefore \n",
    "$P(\\texttt{lose}_B\\mid *,B)=q_B\\doteq 1-p_B$. Consequently, from the perspective of team A's chances of winning against team B, A's estimate is $p_A$ and B's estimate is $q_B$.\n",
    "If there is no prior reason to believe that one estimate is any better or worse than the other, then the\n",
    "combined estimate is just the average\n",
    "\\begin{eqnarray}\n",
    "\\bar{P}(\\texttt{win}_A\\mid A,B) & \\doteq & \\frac{1}{2}p_A + \\frac{1}{2}\\,(1-p_B)\\,.\n",
    "\\end{eqnarray}\n",
    "Observe that for $N=2$, the renormalised variables reduce to $p_A=x_A$ and $p_B=x_B=1-x_A$, such that\n",
    "$\\bar{P}(\\texttt{win}_A\\mid A,B)=x_A$, as expected."
   ]
  }
 ],
 "metadata": {
  "kernelspec": {
   "display_name": "Python 3 (ipykernel)",
   "language": "python",
   "name": "python3"
  },
  "language_info": {
   "codemirror_mode": {
    "name": "ipython",
    "version": 3
   },
   "file_extension": ".py",
   "mimetype": "text/x-python",
   "name": "python",
   "nbconvert_exporter": "python",
   "pygments_lexer": "ipython3",
   "version": "3.10.9"
  }
 },
 "nbformat": 4,
 "nbformat_minor": 5
}
