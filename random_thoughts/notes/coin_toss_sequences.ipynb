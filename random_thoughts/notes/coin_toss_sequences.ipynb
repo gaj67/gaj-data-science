{
 "cells": [
  {
   "cell_type": "markdown",
   "id": "47af29e5",
   "metadata": {},
   "source": [
    "# Analysis of sequences of coin tosses"
   ]
  },
  {
   "cell_type": "markdown",
   "id": "45dd5c14",
   "metadata": {},
   "source": [
    "## Background"
   ]
  },
  {
   "cell_type": "markdown",
   "id": "42a2652f",
   "metadata": {},
   "source": [
    "The origin of this notebook comes from the paper [Perception of Randomness: Subjective Probability of Alternation](https://escholarship.org/content/qt1k47j3gs/qt1k47j3gs_noSplash_bac71f0c943f9fbf483bed68f80d6252.pdf?t=op2jco), which makes some claims about probabilities and expectations regarding sequences of coin tosses.\n",
    "In particular, they discuss (but do not prove) the difference between tossing coins until the pattern THH \n",
    "(tail-head-head) has been observed, and tossing coins until HHH (head-head-head) has been observed. \n",
    "For THH, they claim 8 throws are needed on average, whereas 14 throws are needed on average for HHH. Furthermore, they claim that if a single sequence is halted when either THH or HHH is first observed, then a sequence ending in THH is 7 times more likely than one ending in HHH.\n",
    "\n",
    "In this notebook, we seek to prove (or disprove) these claims, using theory wherever possible but also numerical computations where this becomes too difficult (such as this author not being clever enough!)."
   ]
  },
  {
   "cell_type": "markdown",
   "id": "d9422eee",
   "metadata": {},
   "source": [
    "## Experimental Setup"
   ]
  },
  {
   "cell_type": "markdown",
   "id": "86cc190a",
   "metadata": {},
   "source": [
    "### Experimenter X"
   ]
  },
  {
   "cell_type": "markdown",
   "id": "591c6b74",
   "metadata": {},
   "source": [
    "Consider an experimenter X who is inside a locked room performing a sequence of independent tosses of an unbiased coin.\n",
    "Suppose that the coin tosses continue until the first occurrence of the subsequence (or pattern) $S$ occurs, whereupon the experiment halts. Let $\\texttt{H}$ be the predicate that the experiment has halted, and let $N$ be a variable representing the total number of trials (coin tosses) performed so far during the experiment."
   ]
  },
  {
   "cell_type": "markdown",
   "id": "52570307",
   "metadata": {},
   "source": [
    "### Observer Y"
   ]
  },
  {
   "cell_type": "markdown",
   "id": "6f994fd5",
   "metadata": {},
   "source": [
    "Suppose that sitting outside of the locked room is observer Y. \n",
    "We further suppose that observer Y knows all about the experiment being performed, including $S$, but does not observe the outcome of any of the trials.\n",
    "However, after each coin toss, experimenter X calls out\n",
    "the number $n$ of trials performed so far, which observer Y hears through a small grill. Thus, observer Y does not know if the experiment has halted or not, but does know that if $N=n$ trials have been performed, then the experiment cannot have halted before then.\n",
    "\n",
    "Consequently, observer Y computes the probability of the experiment halting at the $n$th trial as\n",
    "\\begin{eqnarray}\n",
    "\\mathbb{P}(\\texttt{H}\\mid N=n,S,Y) & = & \\mathbb{P}(t_{n-m+1}\\ldots t_{n}=S\\mid N=n) = \\frac{1}{2^m}\\,,\n",
    "\\end{eqnarray}\n",
    "where $m=|S|$ is the length of pattern $S$, and $t_k\\in\\{T,H\\}$ represents the outcome of the $k$th trial. Clearly, this only holds for $n\\ge|S|$, and thus\n",
    "$\\mathbb{P}(\\texttt{H}\\mid N=n,S,Y)=0$ for $n<|S|$."
   ]
  },
  {
   "cell_type": "markdown",
   "id": "70896028",
   "metadata": {},
   "source": [
    "We shall show in a later section below that if the halting pattern is simply $S=$T (or H), then the sequence follows a geometric \n",
    "distribution, such that the probability $p_n\\doteq\\mathbb{P}(N=n\\mid\\texttt{H},S)$ of the experiment halting with a length-$n$ sequence is $p_n=p^{n-1}q$. Here we have observed that the probability $q$ of halting the sequence is the constant $q=\\frac{1}{2^m}$ (with $p=1-q$), and hence we might suppose that every experiment, for arbitrary $S$, is a geometric sequence of independent Bernoulli trials. \n",
    "\n",
    "However, do not be fooled. The decision of experimenter X to halt the experiment is not a stochastic one, independent of previous trials, but is in fact purely deterministic, depending entirely on the observed sequence $t_1\\ldots t_n$ of outcomes and the halting pattern $S$."
   ]
  },
  {
   "cell_type": "markdown",
   "id": "d67269c0",
   "metadata": {},
   "source": [
    "### Observer Z"
   ]
  },
  {
   "cell_type": "markdown",
   "id": "30d941b1",
   "metadata": {},
   "source": [
    "Now suppose that both experimenter X and observer Y are inside a locked building. Outside of this building waits observer Z, who also knows the nature of the experiment. Only when the experiment is halted does experimenter X unlock and leave the inner room (passing by observer Y), and then unlock and open the outer door of the building, telling observer Z the number $N$ of trials performed. Consequently, observer Z knows that the experiment has halted when told the number $n$ of trials, such that $\\mathbb{P}(\\texttt{H}\\mid N=n,S,Z)=1$ for $n\\ge|S|$, with $\\mathbb{P}(\\texttt{H}\\mid N=n,S,Z)=0$ for $n<|S|$."
   ]
  },
  {
   "cell_type": "markdown",
   "id": "a30743ad",
   "metadata": {},
   "source": [
    "Note that during the experiment, observer Y has access to different information than observer Z, \n",
    "and thus computes different probability estimates. However, once experiment X has told observer Z the total number $N$ of trials, then both observers Y and Z have the same information.\n",
    "Consequently, we shall drop the explicit dependence of the observer when it makes no difference. If in doubt, the reader should adopt the viewpoint of observer Z."
   ]
  },
  {
   "cell_type": "markdown",
   "id": "ed676ec2",
   "metadata": {},
   "source": [
    "Whilst waiting for the experiment to finish, observer Z plays a game of trying to estimate the number of trials. Upon hearing the outer door being unlocked, but before knowing the answer, observer Z computes \n",
    "$\\mathbb{P}(N\\mid \\texttt{H},S)$ and thus $\\mathbb{E}[N\\mid\\texttt{H},S]$."
   ]
  },
  {
   "cell_type": "markdown",
   "id": "279071f1",
   "metadata": {},
   "source": [
    "## Theoretical Support"
   ]
  },
  {
   "cell_type": "markdown",
   "id": "7d09eb57",
   "metadata": {},
   "source": [
    "The theoretical analyses of later sections will involve counting the number $c_n$ of \n",
    "distinct length-$n$ sequences in which the pattern $S$ occurs (one or more times), out of all $2^n$ length-$n$ sequences of coin tosses (trials). It will become apparent that the Fibonacci numbers $F_n$ play a significant role in this counting. Hence, we digress here to derive some useful information about the Fibonacci sequence."
   ]
  },
  {
   "cell_type": "markdown",
   "id": "ee90ae94",
   "metadata": {},
   "source": [
    "The Fibonacci numbers satisfy the recurrence relation\n",
    "\\begin{eqnarray}\n",
    "F_n & = & F_{n-1}+F_{n-2}\n",
    "\\end{eqnarray}\n",
    "for $n\\ge 2$, with boundary conditions $F_0=0$ and $F_1=1$. Thus, the first few numbers in the sequence are\n",
    "$0, 1, 1, 2, 3, 5, 8, \\ldots$."
   ]
  },
  {
   "cell_type": "markdown",
   "id": "cb65482a",
   "metadata": {},
   "source": [
    "It turns out that there is a closed formula for computing the $n$th Fibonacci number $F_n$, for \n",
    "$n\\ge 0$.\n",
    "We deduce this by substituting the supposed solution $F_n=\\lambda^n$ into the recurrence relation\n",
    "to obtain the so-called characteristic equation. Hence,\n",
    "\\begin{eqnarray}\n",
    "F_n & = & F_{n-1} + F_{n-2}\n",
    "\\\\\n",
    "\\Rightarrow \\lambda^n & = & \\lambda^{n-1}+\\lambda^{n-2}\n",
    "\\\\\n",
    "\\Rightarrow 0 & = & \\lambda^2-\\lambda-1\n",
    "\\\\\n",
    "\\Rightarrow \\lambda & = & \\frac{1\\pm\\sqrt{5}}{2}\\,.\n",
    "\\end{eqnarray}\n",
    "The positive root is the Golden Ratio $\\phi$, and the negative root is $\\bar{\\phi}=-\\frac{1}{\\phi}$.\n",
    "Hence, the general solution is\n",
    "\\begin{eqnarray}\n",
    "F_n & = & \\alpha\\phi^n+\\beta\\bar{\\phi}^n\\,,\n",
    "\\end{eqnarray}\n",
    "for coefficients $\\alpha$ and $\\beta$ to be determined. The appropriate boundary conditions are $F_0=0$ and $F_1=1$, such that\n",
    "\\begin{eqnarray}\n",
    "F_0 = \\alpha+\\beta = 0 & \\Rightarrow & \\beta = -\\alpha\\,,\n",
    "\\\\\n",
    "F_1 = \\alpha(\\phi-\\bar{\\phi}) = 1 & \\Rightarrow & \\alpha = \\frac{1}{\\sqrt{5}}\\,.\n",
    "\\end{eqnarray}\n",
    "Hence, the closed form of the Fibonacci numbers is given by\n",
    "\\begin{eqnarray}\n",
    "F_n & = & \\frac{1}{\\sqrt{5}}\\left\\{\n",
    "  \\left(\\frac{1+\\sqrt{5}}{2}\\right)^{n}\n",
    "  -\\left(\\frac{1-\\sqrt{5}}{2}\\right)^{n}\\right\\}\\,.\n",
    "\\end{eqnarray}"
   ]
  },
  {
   "cell_type": "code",
   "execution_count": 1,
   "id": "52d55a59",
   "metadata": {},
   "outputs": [
    {
     "name": "stdout",
     "output_type": "stream",
     "text": [
      "[0, 1, 1, 2, 3, 5, 8, 13, 21, 34, 55, 89, 144, 233, 377, 610, 987, 1597, 2584, 4181, 6765]\n"
     ]
    }
   ],
   "source": [
    "from math import sqrt\n",
    "\n",
    "_root5 = sqrt(5)\n",
    "_phi = (1 + _root5) / 2\n",
    "_phi_bar = (1 - _root5)/2\n",
    "\n",
    "def fibonacci(n):\n",
    "    rval = (_phi**n - _phi_bar**n) / _root5\n",
    "    ival = int(rval)\n",
    "    return (\n",
    "        # Allow for numerical error:\n",
    "        ival if rval - ival < 0.5  # real = integer + epsilon\n",
    "        else ival + 1              # real = integer - espilon\n",
    "    )\n",
    "\n",
    "print(list(fibonacci(n) for n in range(21)))"
   ]
  },
  {
   "cell_type": "code",
   "execution_count": 2,
   "id": "8ca6a4ed",
   "metadata": {},
   "outputs": [
    {
     "name": "stdout",
     "output_type": "stream",
     "text": [
      "[0, 1, 1, 2, 3, 5, 8, 13, 21, 34, 55, 89, 144, 233, 377, 610, 987, 1597, 2584, 4181, 6765]\n"
     ]
    }
   ],
   "source": [
    "def recursive_fibonacci(n):\n",
    "    if n == 0:\n",
    "        return 0\n",
    "    elif n == 1:\n",
    "        return 1\n",
    "    else:\n",
    "        return recursive_fibonacci(n-1) + recursive_fibonacci(n-2)\n",
    "\n",
    "print(list(recursive_fibonacci(n) for n in range(21)))"
   ]
  },
  {
   "cell_type": "markdown",
   "id": "c87a9cb9",
   "metadata": {},
   "source": [
    "Another property of Fibonacci numbers that we shall need is that\n",
    "\\begin{eqnarray}\n",
    "  \\sum_{j=1}^{n}F_j & = & F_{n+2}-1\\,.\n",
    "\\end{eqnarray}\n",
    "Observe that this is true for $n=0$, since (by definition) the sum on the left-hand side is zero,\n",
    "and the right-hand side gives $F_2-1=1-1=0$.\n",
    "Hence, by induction, we have\n",
    "\\begin{eqnarray}\n",
    "  \\sum_{j=1}^{n+1}F_j & = & \\sum_{j=1}^{n}F_j + F_{n+1} \n",
    "\\\\ & = &\n",
    "  F_{n+2}-1 + F_{n+1} = F_{n+3} - 1\\,,\n",
    "\\end{eqnarray}\n",
    "using the Fibonacci recurrence relation above."
   ]
  },
  {
   "cell_type": "markdown",
   "id": "c4611540",
   "metadata": {},
   "source": [
    "## Computational Support"
   ]
  },
  {
   "cell_type": "markdown",
   "id": "334b5775",
   "metadata": {},
   "source": [
    "Since we are considering sequences of independent, unbiased coin tosses, it will be useful to provide\n",
    "some machinery for both deterministically and stochastically creating such sequences. This machinery will allow us to computationally check our theoretical results, or to bypass theoretical results if they are intractable to prove."
   ]
  },
  {
   "cell_type": "code",
   "execution_count": 3,
   "id": "3ef4575d",
   "metadata": {},
   "outputs": [],
   "source": [
    "def binary_sequence(value, N=None):\n",
    "    \"\"\"\n",
    "    Converts the decimal value into a size-N vector of bits, using zero-padding\n",
    "    or truncation (both on the left) as necessary.\n",
    "\n",
    "    Inputs:\n",
    "        - value (int): The decimal value.\n",
    "        - N (int, optional): The size of the binary vector.\n",
    "    Returns:\n",
    "        - vec (array): The size-N binary vector.\n",
    "    \"\"\"\n",
    "    b = bin(value)[2:]\n",
    "    if N is not None:\n",
    "        b = b[-N:]\n",
    "        if len(b) < N:\n",
    "            b = \"0\" * (N - len(b)) + b\n",
    "    return b\n",
    "\n",
    "\n",
    "def deterministic_sequence(value, n):\n",
    "    \"\"\"\n",
    "    Computes the distinct, length-n coin toss sequence\n",
    "    corresponding to the given decimal value.\n",
    "    \"\"\"\n",
    "    seq = binary_sequence(value, n)\n",
    "    return seq.replace('0', 'T').replace('1', 'H')\n",
    "\n",
    "\n",
    "def deterministic_sequences(n):\n",
    "    \"\"\"\n",
    "    Computes all distinct, length-n sequences of coin tosses.\n",
    "    \"\"\"\n",
    "    return list(\n",
    "        deterministic_sequence(v, n)\n",
    "        for v in range(2**n)\n",
    "    )"
   ]
  },
  {
   "cell_type": "code",
   "execution_count": 4,
   "id": "88ea0b41",
   "metadata": {},
   "outputs": [
    {
     "name": "stdout",
     "output_type": "stream",
     "text": [
      "['TT', 'TH', 'HT', 'HH']\n",
      "['TTT', 'TTH', 'THT', 'THH', 'HTT', 'HTH', 'HHT', 'HHH']\n",
      "['TTTT', 'TTTH', 'TTHT', 'TTHH', 'THTT', 'THTH', 'THHT', 'THHH', 'HTTT', 'HTTH', 'HTHT', 'HTHH', 'HHTT', 'HHTH', 'HHHT', 'HHHH']\n"
     ]
    }
   ],
   "source": [
    "print(deterministic_sequences(2))\n",
    "print(deterministic_sequences(3))\n",
    "print(deterministic_sequences(4))"
   ]
  },
  {
   "cell_type": "code",
   "execution_count": 5,
   "id": "6d6b7da5",
   "metadata": {},
   "outputs": [],
   "source": [
    "def count_pattern(n, pattern):\n",
    "    \"\"\"\n",
    "    Counts the number of distinct, length-n sequences of coin tosses\n",
    "    that contain the given pattern.\n",
    "    \"\"\"\n",
    "    f = lambda s: 1 if s.find(pattern) >= 0 else 0\n",
    "    return sum(f(s) for s in deterministic_sequences(n))"
   ]
  },
  {
   "cell_type": "code",
   "execution_count": 6,
   "id": "78205e51",
   "metadata": {},
   "outputs": [
    {
     "name": "stdout",
     "output_type": "stream",
     "text": [
      "[0, 0, 1, 4, 11, 26, 57, 120, 247, 502, 1013, 2036, 4083, 8178, 16369, 32752, 65519, 131054, 262125, 524268, 1048555]\n",
      "[0, 0, 0, 1, 4, 12, 31, 74, 168, 369, 792, 1672, 3487, 7206, 14788, 30185, 61356, 124308, 251199, 506578, 1019920]\n"
     ]
    }
   ],
   "source": [
    "print(list(count_pattern(n, \"TH\") for n in range(21)))\n",
    "print(list(count_pattern(n, \"THH\") for n in range(21)))"
   ]
  },
  {
   "cell_type": "code",
   "execution_count": 7,
   "id": "91c9ea86",
   "metadata": {},
   "outputs": [],
   "source": [
    "from random import random\n",
    "\n",
    "\n",
    "def stochastic_sequence(pattern):\n",
    "    \"\"\"\n",
    "    Performs one experiment of repeated coin tosses that halts\n",
    "    when the given pattern is first observed.\n",
    "    Returns the observed sequence.\n",
    "    \"\"\"\n",
    "    seq = \"\"\n",
    "    while True:\n",
    "        throw = 'T' if random() < 0.5 else 'H'\n",
    "        seq += throw\n",
    "        if seq.endswith(pattern):\n",
    "            return seq\n",
    "\n",
    "\n",
    "def length_stochastic_sequence(pattern):\n",
    "    \"\"\"\n",
    "    Performs one experiment of repeated coin tosses that halts\n",
    "    when the given pattern is first observed.\n",
    "    Returns the length of the observed sequence.\n",
    "    \"\"\"\n",
    "    seq = 'X' * (len(pattern) - 1)\n",
    "    n = 0\n",
    "    while True:\n",
    "        n += 1\n",
    "        throw = 'T' if random() < 0.5 else 'H'\n",
    "        seq += throw\n",
    "        if seq == pattern:\n",
    "            return n\n",
    "        seq = seq[1:]\n"
   ]
  },
  {
   "cell_type": "code",
   "execution_count": 8,
   "id": "c376defb",
   "metadata": {},
   "outputs": [
    {
     "name": "stdout",
     "output_type": "stream",
     "text": [
      "HTTHTTHTHH\n",
      "HHHHTHTHTTTTHTHH\n",
      "HHHHTTHH\n"
     ]
    }
   ],
   "source": [
    "print(stochastic_sequence(\"THH\"))\n",
    "print(stochastic_sequence(\"THH\"))\n",
    "print(stochastic_sequence(\"THH\"))"
   ]
  },
  {
   "cell_type": "code",
   "execution_count": 9,
   "id": "e92afecb",
   "metadata": {},
   "outputs": [
    {
     "name": "stdout",
     "output_type": "stream",
     "text": [
      "6\n",
      "13\n",
      "6\n"
     ]
    }
   ],
   "source": [
    "print(length_stochastic_sequence(\"THH\"))\n",
    "print(length_stochastic_sequence(\"THH\"))\n",
    "print(length_stochastic_sequence(\"THH\"))"
   ]
  },
  {
   "cell_type": "code",
   "execution_count": 10,
   "id": "23c3f355",
   "metadata": {},
   "outputs": [],
   "source": [
    "def simulate_experiment(num_experiments, pattern):\n",
    "    \"\"\"\n",
    "    Simulates the experiment the specified number of times, and returns the list\n",
    "    of observed sequence lengths.\n",
    "    \"\"\"\n",
    "    return list(\n",
    "        length_stochastic_sequence(pattern)\n",
    "        for i in range(num_experiments)\n",
    "    )"
   ]
  },
  {
   "cell_type": "code",
   "execution_count": 11,
   "id": "4629af80",
   "metadata": {},
   "outputs": [
    {
     "name": "stdout",
     "output_type": "stream",
     "text": [
      "2.037\n",
      "4.0248\n",
      "8.00481\n"
     ]
    }
   ],
   "source": [
    "import numpy as np\n",
    "\n",
    "print(np.mean(simulate_experiment(1000, \"T\")))\n",
    "print(np.mean(simulate_experiment(10_000, \"TH\")))\n",
    "print(np.mean(simulate_experiment(100_000, \"THH\")))"
   ]
  },
  {
   "cell_type": "code",
   "execution_count": 12,
   "id": "7d206b4e",
   "metadata": {},
   "outputs": [],
   "source": [
    "def index_length_stochastic_sequence(patterns):\n",
    "    \"\"\"\n",
    "    Performs a modified experiment that halts when any one of the given\n",
    "    patterns is first observed. Returns the index of the matching pattern\n",
    "    and the length of the observed sequence.\n",
    "    \"\"\"\n",
    "    max_len = max(len(p) for p in patterns)\n",
    "    seq = 'X' * (max_len - 1)\n",
    "    n = 0\n",
    "    while True:\n",
    "        n += 1\n",
    "        throw = 'T' if random() < 0.5 else 'H'\n",
    "        seq += throw\n",
    "        for i, pattern in enumerate(patterns):\n",
    "            if seq.endswith(pattern):\n",
    "                return i, n\n",
    "        seq = seq[1:]"
   ]
  },
  {
   "cell_type": "code",
   "execution_count": 13,
   "id": "5c548b02",
   "metadata": {},
   "outputs": [
    {
     "name": "stdout",
     "output_type": "stream",
     "text": [
      "(4, 3)\n",
      "(5, 3)\n",
      "(2, 3)\n"
     ]
    }
   ],
   "source": [
    "patterns = deterministic_sequences(3)\n",
    "print(index_length_stochastic_sequence(patterns))\n",
    "print(index_length_stochastic_sequence(patterns))\n",
    "print(index_length_stochastic_sequence(patterns))"
   ]
  },
  {
   "cell_type": "code",
   "execution_count": 14,
   "id": "2fe2c2ef",
   "metadata": {},
   "outputs": [],
   "source": [
    "def simulate_combined_experiment(num_experiments, patterns):\n",
    "    \"\"\"\n",
    "    Simulates the modified experiment the specified number of times.\n",
    "    The modified experiment halts when any one of the given patterns\n",
    "    is first observed.\n",
    "    Returns a list of lists of observed sequence lengths, \n",
    "    one for each pattern.\n",
    "    \"\"\"\n",
    "    lists = list(list() for p in patterns)\n",
    "    for i in range(num_experiments):\n",
    "        j, n = index_length_stochastic_sequence(patterns)\n",
    "        lists[j].append(n)\n",
    "    return lists"
   ]
  },
  {
   "cell_type": "code",
   "execution_count": 15,
   "id": "de8b1442",
   "metadata": {},
   "outputs": [
    {
     "name": "stdout",
     "output_type": "stream",
     "text": [
      "TT: 2493\n",
      "TH: 2476\n",
      "HT: 2588\n",
      "HH: 2443\n"
     ]
    }
   ],
   "source": [
    "patterns = deterministic_sequences(2)\n",
    "res = simulate_combined_experiment(10_000, patterns)\n",
    "for p, r in zip(patterns, res):\n",
    "    print(\"%s: %d\" % (p, len(r)))"
   ]
  },
  {
   "cell_type": "markdown",
   "id": "1dec5a78",
   "metadata": {},
   "source": [
    "## Experiment 1 - T vs H"
   ]
  },
  {
   "cell_type": "markdown",
   "id": "97047606",
   "metadata": {},
   "source": [
    "The probability of throwing a T is $\\mathbb{P}(T)=\\frac{1}{2}$, and so we might expect it to take 2 throws on average to obtain a sequence halting with T. Similarly for H."
   ]
  },
  {
   "cell_type": "code",
   "execution_count": 16,
   "id": "ed34f05d",
   "metadata": {},
   "outputs": [
    {
     "name": "stdout",
     "output_type": "stream",
     "text": [
      "1.988\n",
      "1.989\n"
     ]
    }
   ],
   "source": [
    "print(np.mean(simulate_experiment(1000, \"T\")))\n",
    "print(np.mean(simulate_experiment(1000, \"H\")))"
   ]
  },
  {
   "cell_type": "markdown",
   "id": "d1e40bf8",
   "metadata": {},
   "source": [
    "This is in fact what we observe."
   ]
  },
  {
   "cell_type": "markdown",
   "id": "0eddd9db",
   "metadata": {},
   "source": [
    "More formally, suppose on a single coin toss we throw a tail with probability $p_T = \\mathbb{P}(T)$ or a head with probability  $p_H=\\mathbb{P}(H)$.\n",
    "Then a length-n sequence that halts with the first T has probability\n",
    "\\begin{eqnarray}\n",
    "\\mathbb{P}(N=n\\mid\\mathtt{H},S=T) & = & p_H^{n-1}p_T\\,,\n",
    "\\end{eqnarray}\n",
    "where\n",
    "\\begin{eqnarray}\n",
    "\\sum_{n=1}^{\\infty}p_H^{n-1}p_T & = & \n",
    "(1+p_H+p_H^2+\\cdots)\\,p_T = \\frac{p_T}{1-p_H} = 1\\,.\n",
    "\\end{eqnarray}\n",
    "The expectation is therefore given by\n",
    "\\begin{eqnarray}\n",
    "\\mathbb{E}[N=n\\mid\\mathtt{H},S=T] & = & \n",
    "\\sum_{n=1}^{\\infty}np_H^{n-1}p_T\n",
    "= p_T\\frac{\\partial}{\\partial p_H}\\sum_{n=0}^{\\infty}p_H^{n}\n",
    "\\\\& = & \n",
    "p_T\\frac{\\partial}{\\partial p_H}\\frac{1}{1-p_H}\n",
    "=\\frac{p_T}{(1-p_H)^2} = \\frac{1}{p_T}\\,.\n",
    "\\end{eqnarray}\n",
    "We conclude for the simple halting pattern $S=$T that the distribution of permissible sequence lengths is\n",
    "geometric."
   ]
  },
  {
   "cell_type": "markdown",
   "id": "37b2a4ae",
   "metadata": {},
   "source": [
    "## Experiment 2 - TT vs TH"
   ]
  },
  {
   "cell_type": "markdown",
   "id": "2f8d1e75",
   "metadata": {},
   "source": [
    "Suppose now we run two simultaneous experiments, with the first experiment halting on $S=$TT, and the second\n",
    "halting on $S=$TH."
   ]
  },
  {
   "cell_type": "code",
   "execution_count": 17,
   "id": "1be87804",
   "metadata": {},
   "outputs": [
    {
     "name": "stdout",
     "output_type": "stream",
     "text": [
      "TT: 5.996300\n",
      "TH: 3.995800\n",
      "HT: 3.978500\n",
      "HH: 6.002800\n"
     ]
    }
   ],
   "source": [
    "patterns = deterministic_sequences(2)\n",
    "for pattern in patterns:\n",
    "    mu = np.mean(simulate_experiment(10_000, pattern))\n",
    "    print(\"%s: %f\" % (pattern, mu))"
   ]
  },
  {
   "cell_type": "markdown",
   "id": "b266ff09",
   "metadata": {},
   "source": [
    "We now observe an interesting result. The probability of obtaining TT on two consecutive trials is\n",
    "$\\frac{1}{2^2}$, as is that of obtaining TH. However, experimentally it takes 6 throws on average to first obtain TT, whereas it only takes 4 throws on average to obtain TH. By symmetry, we expect HT to behave like TH, and HH to behave like TT, and we observe that is indeed the case."
   ]
  },
  {
   "cell_type": "markdown",
   "id": "3438fc81",
   "metadata": {},
   "source": [
    "Alternatively, suppose we run a modified experiment that halts on first observing either TH or TT."
   ]
  },
  {
   "cell_type": "code",
   "execution_count": 18,
   "id": "469181c9",
   "metadata": {
    "scrolled": true
   },
   "outputs": [
    {
     "name": "stdout",
     "output_type": "stream",
     "text": [
      "TT: 4965 3.004632\n",
      "TH: 5035 3.021450\n"
     ]
    }
   ],
   "source": [
    "half_patterns = patterns[0 : (len(patterns)//2)]\n",
    "res = simulate_combined_experiment(10_000, half_patterns)\n",
    "for p, r in zip(half_patterns, res):\n",
    "    print(\"%s: %d %f\" % (p, len(r), np.mean(r)))"
   ]
  },
  {
   "cell_type": "markdown",
   "id": "0536f829",
   "metadata": {},
   "source": [
    "We observe that number of sequences halting with TH compared to those halting with TT are in about the ratio 1:1. However, given the above results, we might have anticipated the ratio 3:2 of TH to TT.\n",
    "I find the discrepancy between observation and \"intuition\" to be fascinating."
   ]
  },
  {
   "cell_type": "markdown",
   "id": "cb803183",
   "metadata": {},
   "source": [
    "To explain the results of the modified experiment, we note that the first coin toss will either be T with probability 0.5 or H with probability 0.5. If it is a T, then a second throw will guarantee a sequence that ends in either TT or TH. However, if it is an H, then we have effectively reset the experiment except for having 1 extra throw. Thus, if we let $\\bar{N}\\doteq\\mathbb{P}(N\\mid\\mathtt{H},S=T*)$, \n",
    "where $*$ here is a wildcard denoting either T or H,\n",
    "we have\n",
    "\\begin{eqnarray}\n",
    "\\bar{N} & = & \\frac{1}{2}(1+1)+\\frac{1}{2}(1+\\bar{N}) = \\frac{3}{2}+\\frac{1}{2}\\bar{N}\n",
    "\\\\\n",
    "\\Rightarrow \\bar{N} & = & 3\\,.\n",
    "\\end{eqnarray}\n",
    "Equivalently, if it takes 2 throws on average to first obtain T (from the previous section), then it will take a third throw to obtain TH or TT.\n",
    "Also, once we have thrown the first T, the two possible endings of TT or TH are equally likely."
   ]
  },
  {
   "cell_type": "markdown",
   "id": "e24085fd",
   "metadata": {},
   "source": [
    "### Halting with $S=$TH"
   ]
  },
  {
   "cell_type": "markdown",
   "id": "7e95eabb",
   "metadata": {},
   "source": [
    "To explain the two simultaneous experiments, the situation is less straightforward.\n",
    "Let us first consider the pattern $S=$TH. For the experiment to return a sequence of length $n$, the sequence must end in TH and not contain TH within the length-$(n-1)$ pre-sequence. However, since the pattern TH cannot overlap with itself, then the length-$(n-1)$ pre-sequence, $t_1 t_2\\ldots t_{n-1}$, cannot end with \n",
    "$t_{n-2}t_{n-1}=$TH since we require $t_{n-1}t_n=$TH, and hence we need only consider\n",
    "the length-$(n-2)$ pre-sequence, $t_1 t_2\\ldots t_{n-2}$. Letting $c_n$ be the number of distinct length-$n$ sequences that contain the pattern TH, we have\n",
    "\\begin{eqnarray}\n",
    "\\mathbb{P}(N=n\\mid\\mathtt{H},S=TH) & = & \\mathbb{P}(t_{n-1}t_{n}=TH \\wedge TH\\not\\in t_1\\ldots t_{n-1})\n",
    "\\\\& = & \\mathbb{P}(t_{n-1}t_{n}=TH)\\, \\mathbb{P}(TH\\not\\in t_1\\ldots t_{n-1}\\mid t_{n-1}t_{n}=TH)\n",
    "\\\\& = & \\mathbb{P}(t_{n-1}t_{n}=TH)\\,\\left[1-\\mathbb{P}(TH\\in t_1\\ldots t_{n-2})\\right]\n",
    "\\\\& = & \\frac{1}{2^2}\\left[1-\\frac{c_{n-2}}{2^{n-2}}\\right]\\,.\n",
    "\\end{eqnarray}\n",
    "More neatly, if we further define $\\bar{c}_n\\doteq 2^n-c_n$ to be the number of distinct length-$n$ sequences that do **not** contain the pattern $S$, then we have\n",
    "\\begin{eqnarray}\n",
    "  p_n & = & \\frac{\\bar{c}_{n-2}}{2^n}\\,.\n",
    "\\end{eqnarray}"
   ]
  },
  {
   "cell_type": "markdown",
   "id": "e0f245eb",
   "metadata": {},
   "source": [
    "To find $c_n$, consider the complete length-$n$ sequence, denoted by $\\langle t_1 t_2\\ldots t_n\\rangle$.\n",
    "We suppose at the outset that $n$ is sufficiently large enough for the following analysis.\n",
    "\n",
    "Now suppose that the sequence ends with T or H, denoted by $T\\rangle$ or $H\\rangle$,\n",
    "respectively. If $t_n=T$, then $t_{n-1}t_n\\ne TH$, and so TH can only possibly occur in the length-$(n-1)$\n",
    "pre-sequence, in $c_{n-1}$ ways.\n",
    "However, if $t_n=H$, then it is possible that $t_{n-1}t_n=TH$ or that TH occurs earlier in the sequence.\n",
    "Thus, we define $c^{H\\rangle}_n$ to be the number of distinct length-$n$\n",
    "sequences ending with H that contain the pattern $S$.\n",
    "Therefore, we obtain the recursion\n",
    "\\begin{eqnarray}\n",
    "c_n & = & c^{H\\rangle}_{n} + c_{n-1}\\,,\n",
    "\\end{eqnarray}\n",
    "with boundary conditions $c_0=c_1=0$ by construction. We may unwind this recursion to obtain\n",
    "\\begin{eqnarray}\n",
    "c_n & = & \\sum_{j=2}^{n}c^{H\\rangle}_j\\,.\n",
    "\\end{eqnarray}\n",
    "\n",
    "To find $c^{H\\rangle}_n$, we see that either $t_{n-1}t_n=TH$ or $t_{n-1}t_n=HH$.\n",
    "For the former case, there are $2^{n-2}$ distinct length-$n$ sequences of the form \n",
    "$\\langle t_1 t_2\\ldots t_{n-2}TH\\rangle$.\n",
    "For the latter case, the length-$(n-1)$ pre-sequence $\\langle t_1 t_2\\ldots t_{n-2}H)$ could contain TH in\n",
    "$c^{H\\rangle}_{n-1}$ ways. Consequently, we obtain the further recursion\n",
    "\\begin{eqnarray}\n",
    "c^{H\\rangle}_n & = & 2^{n-2} + c^{H\\rangle}_{n-1}\\,,\n",
    "\\end{eqnarray}\n",
    "with $c^{H\\rangle}_0=c^{H\\rangle}_1=0$ by construction.\n",
    "Unwinding this recursion gives\n",
    "\\begin{eqnarray}\n",
    "c^{H\\rangle}_n & = & \\sum_{k=0}^{n-2}2^k = 2^{n-1} - 1\\,.\n",
    "\\end{eqnarray}\n",
    "\n",
    "Combining the two results gives\n",
    "\\begin{eqnarray}\n",
    "c_n & = & \\sum_{j=2}^{n}\\left(2^{j-1}-1\\right) = 2^n - n - 1\\,,\n",
    "\\\\\\Rightarrow \\bar{c}_n & = & 2^n-c_n = n+1\\,,\n",
    "\\end{eqnarray}\n",
    "both of which are valid for $n\\ge 0$. Finally, we obtain the probability of the experiment returning\n",
    "a length-$n$ sequence as\n",
    "\\begin{eqnarray}\n",
    "p_n & = & \\frac{\\bar{c}_{n-2}}{2^n} = \\frac{n-1}{2^n}\\,,\n",
    "\\end{eqnarray}\n",
    "which is valid for $n\\ge 1$."
   ]
  },
  {
   "cell_type": "markdown",
   "id": "00b70545",
   "metadata": {},
   "source": [
    "Clearly, we do **not** have a geometric distribution, as we anticipated earlier.\n",
    "\n",
    "A sanity check is in order here - do these supposed probabilities sum to unity?\n",
    "Letting $p=\\frac{1}{2}$ for convenience, we see that\n",
    "\\begin{eqnarray}\n",
    "\\sum_{n=1}^{\\infty}p_n & = & \\sum_{n=1}^{\\infty}(n-1)p^n\n",
    "\\\\& = & p^2\\frac{\\partial}{\\partial p}\\sum_{n=1}^{\\infty}p^{n-1}\n",
    "= p^2\\frac{\\partial}{\\partial p}\\frac{1}{1-p}\n",
    "\\\\& = & \\frac{p^2}{(1-p)^2} = 1\\,,\n",
    "\\end{eqnarray}\n",
    "since $p=\\frac{1}{2}$. Thus, we may proceed to finding the expected value \n",
    "$\\bar{N}=\\mathbb{E}[N\\mid\\mathtt{H},S=TH]$ as\n",
    "\\begin{eqnarray}\n",
    "\\bar{N} & = & \\sum_{n=1}^{\\infty}n p_n = \\sum_{n=1}^{\\infty}n(n-1) p^n\n",
    "\\\\& = & p^2\\frac{\\partial^2}{\\partial p^2}\\sum_{n=2}^{\\infty}p^{n-2}\n",
    "= p^2\\frac{\\partial^2}{\\partial p^2}\\frac{1}{1-p}\n",
    "\\\\& = & \\frac{2p^2}{(1-p)^3} = 4\\,,\n",
    "\\end{eqnarray}\n",
    "as expected from the simulation results above."
   ]
  },
  {
   "cell_type": "markdown",
   "id": "e263c20f",
   "metadata": {},
   "source": [
    "Let us further check these theoretical solutions by computation."
   ]
  },
  {
   "cell_type": "code",
   "execution_count": 19,
   "id": "e15a8d88",
   "metadata": {},
   "outputs": [
    {
     "name": "stdout",
     "output_type": "stream",
     "text": [
      "[0, 0, 1, 4, 11, 26, 57, 120, 247, 502, 1013, 2036, 4083, 8178, 16369, 32752, 65519, 131054, 262125, 524268, 1048555]\n"
     ]
    }
   ],
   "source": [
    "def c_n(n):\n",
    "    return 2**n - n - 1\n",
    "\n",
    "\n",
    "theoretical_c_n_list = list(c_n(n) for n in range(21))\n",
    "computed_c_n_list = list(count_pattern(n, \"TH\") for n in range(21))\n",
    "print(computed_c_n_list)\n",
    "for observed, expected in zip(computed_c_n_list, theoretical_c_n_list):\n",
    "    assert observed == expected"
   ]
  },
  {
   "cell_type": "markdown",
   "id": "b55f5447",
   "metadata": {},
   "source": [
    "We observe that brute force counting agrees exactly with the theoretical counts."
   ]
  },
  {
   "cell_type": "code",
   "execution_count": 20,
   "id": "781d59d1",
   "metadata": {},
   "outputs": [
    {
     "name": "stdout",
     "output_type": "stream",
     "text": [
      "[0, 0.0, 0.25, 0.25, 0.1875, 0.125, 0.078125, 0.046875, 0.02734375, 0.015625, 0.0087890625, 0.0048828125, 0.002685546875, 0.00146484375, 0.00079345703125, 0.00042724609375, 0.0002288818359375, 0.0001220703125, 6.4849853515625e-05, 3.4332275390625e-05, 1.811981201171875e-05]\n"
     ]
    }
   ],
   "source": [
    "def p_n(n):\n",
    "    return (\n",
    "        0 if n <= 0\n",
    "        else (n - 1) / 2**n\n",
    "    )\n",
    "\n",
    "\n",
    "theoretical_p_n_list = list(p_n(n) for n in range(21))\n",
    "print(theoretical_p_n_list)"
   ]
  },
  {
   "cell_type": "code",
   "execution_count": 21,
   "id": "e3df6390",
   "metadata": {},
   "outputs": [],
   "source": [
    "res = simulate_experiment(100_000, \"TH\")\n",
    "lens, counts = np.unique(res, return_counts=True)\n",
    "probs = counts / np.sum(counts)"
   ]
  },
  {
   "cell_type": "code",
   "execution_count": 22,
   "id": "fdb16564",
   "metadata": {},
   "outputs": [
    {
     "name": "stdout",
     "output_type": "stream",
     "text": [
      "[ 2  3  4  5  6  7  8  9 10 11 12 13 14 15 16 17 18 19 20 21 22 23]\n"
     ]
    }
   ],
   "source": [
    "print(lens)"
   ]
  },
  {
   "cell_type": "code",
   "execution_count": 23,
   "id": "a1d16cee",
   "metadata": {
    "scrolled": true
   },
   "outputs": [
    {
     "name": "stdout",
     "output_type": "stream",
     "text": [
      "[2.4923e-01 2.4692e-01 1.8807e-01 1.2596e-01 7.8990e-02 4.8000e-02\n",
      " 2.6990e-02 1.5820e-02 9.1000e-03 5.1200e-03 2.5000e-03 1.5300e-03\n",
      " 7.0000e-04 4.9000e-04 2.2000e-04 1.6000e-04 1.0000e-04 3.0000e-05\n",
      " 3.0000e-05 1.0000e-05 1.0000e-05 2.0000e-05]\n"
     ]
    }
   ],
   "source": [
    "print(probs)"
   ]
  },
  {
   "cell_type": "markdown",
   "id": "203b494a",
   "metadata": {},
   "source": [
    "We observe that the simulated probabilites agree very well numerically with the theoretical probabilities."
   ]
  },
  {
   "cell_type": "markdown",
   "id": "b1e67a52",
   "metadata": {},
   "source": [
    "### Halting with $S=$TT"
   ]
  },
  {
   "cell_type": "markdown",
   "id": "dac3cfaf",
   "metadata": {},
   "source": [
    "Now consider the other experiment for which the sequence of coin tosses halts when $S=$TT is first observed.\n",
    "Following the reasoning above, we have\n",
    "\\begin{eqnarray}\n",
    "\\mathbb{P}(N=n\\mid\\mathtt{H},S=TT) & = & \\mathbb{P}(t_{n-1}t_{n}=TT \\wedge TT\\not\\in t_1\\ldots t_{n-1})\n",
    "\\\\& = & \\mathbb{P}(t_{n-1}t_{n}=TT)\\, \\mathbb{P}(TT\\not\\in t_1\\ldots t_{n-1}\\mid t_{n-1}t_{n}=TT)\n",
    "\\\\& = & \\mathbb{P}(t_{n-1}t_{n}=TT)\\,\\left[1-\\mathbb{P}(TT\\in t_1\\ldots t_{n-2}T)\\right]\n",
    "\\\\& = & \\frac{1}{2^2}\\left[1-\\frac{c^{T\\rangle}_{n-1}}{2^{n-2}}\\right]\n",
    "= \\frac{\\bar{c}^{T\\rangle}_{n-1}}{2^n}\n",
    "\\,,\n",
    "\\end{eqnarray}\n",
    "where $c^{T\\rangle}_n$ is the number of distinct length-$n$ sequences ending in T that contain $S=$TT,\n",
    "and $\\bar{c}^{T\\rangle}_n=2^{n-1}-c^{T\\rangle}_n$ is the number of length-$n$ sequences ending in T that do\n",
    "not contain $S=$TT."
   ]
  },
  {
   "cell_type": "markdown",
   "id": "c08a5dea",
   "metadata": {},
   "source": [
    "Once again we assume in advance that $n$ is large enough for our purposes. Thus, a length-$n$ sequence ending in T either ends with TT or HT. If it ends with TT then there are $2^{n-2}$ such sequences. However, if it ends with HT then TT can occur in the length-$(n-2)$ pre-sequence in $c_{n-2}$ ways, where we have now (perhaps confusingly) repurposed $c_n$ to count sequences containing TT (rather than TH as before). Therefore, we obtain\n",
    "\\begin{eqnarray}\n",
    "c^{T\\rangle}_n & = & 2^{n-2}+c_{n-2}\\,,\n",
    "\\end{eqnarray}\n",
    "with $c^{T\\rangle}_0=c^{T\\rangle}_1=0$ as boundary conditions.\n",
    "\n",
    "For $c_n$, the length-$n$ sequence either ends with T or H, giving\n",
    "\\begin{eqnarray}\n",
    "c_n & = & c^{T\\rangle}_n+c_{n-1}\n",
    "\\\\& = & 2^{n-2}+c_{n-1}+c_{n-2}\\,,\n",
    "\\end{eqnarray}\n",
    "with $c_0=c_1$ by construction."
   ]
  },
  {
   "cell_type": "markdown",
   "id": "8299b28c",
   "metadata": {},
   "source": [
    "Unwinding this sequence manually, we observe that\n",
    "\\begin{eqnarray}\n",
    "c_2 & = & 2^0+c_1+c_0 = 2^0\\,,\n",
    "\\\\\n",
    "c_3 & = & 2^1+c_2+c_1 = 2^1+2^0\\,,\n",
    "\\\\\n",
    "c_4 & = & 2^2+c_3+c_2\n",
    "\\\\& = & 2^2+(2^1+2^0)+(2^0) = 2^2+2^1+2.2^0\\,,\n",
    "\\\\\n",
    "c_5 & = & 2^3+c_4+c_3\n",
    "\\\\& = & 2^3+(2^2+2^1+2.2^0)+(2^1+2^0)\n",
    "\\\\& = & 2^3+2^2+2.2^1+3.2^0\\,,\n",
    "\\\\\n",
    "c_6 & = & 2^4+c_5+c_4\n",
    "\\\\& = & 2^4+(2^3+2^2+2.2^1+3.2^0)+(2^2+2^1+2.2^0)\n",
    "\\\\& = & 2^4+2^3+2.2^2+3.2^1+5.2^0\\,,\n",
    "\\\\\n",
    "c_7 & = & 2^5+c_6+c_5\n",
    "\\\\& = & 2^5+(2^4+2^3+2.2^2+3.2^1+5.2^0)+(2^3+2^2+2.2^1+3.2^0)\n",
    "\\\\& = & 2^5+2^4+2.2^3+3.2^2+5.2^1+8.2^0\\,.\n",
    "\\end{eqnarray}\n",
    "It would appear that the decreasing powers of 2 have coefficients that match the Fibonacci sequence,\n",
    "namely $1,1,2,3,5,8,\\ldots$ (from the section on Theoretical Support)."
   ]
  },
  {
   "cell_type": "markdown",
   "id": "5d6ca107",
   "metadata": {},
   "source": [
    "To prove this in general for $n\\ge 2$, we postulate the hypothesis\n",
    "\\begin{eqnarray}\n",
    "H_n: && c_n = \\sum_{k=0}^{n-2}F_{n-k-1}.2^k\\,.\n",
    "\\end{eqnarray}\n",
    "Thus, from the recursion formula above, we have\n",
    "\\begin{eqnarray}\n",
    "c_{n+1} & = & 2^{n-1}+c_{n}+c_{n-1}\n",
    "\\\\& = &\n",
    "2^{n-1}+\\sum_{k=0}^{n-2}F_{n-k-1}.2^k+\\sum_{k=0}^{n-3}F_{n-k-2}.2^k\\,,\n",
    "\\end{eqnarray}\n",
    "using hypotheses $H_n$ and $H_{n-1}$. Consequently, we have\n",
    "\\begin{eqnarray}\n",
    "c_{n+1} & = & 2^{n-1}+F_1.2^{n-2}+\\sum_{k=0}^{n-3}\\left\\{F_{n-k-1}+F_{n-k-2}\\right\\}.2^k\n",
    "\\\\& = & F_1.2^{n-1}+F_2.2^{n-2}+\\sum_{k=0}^{n-3}F_{n-k}.2^k\n",
    "\\\\& = & \\sum_{k=0}^{n-1}F_{n-k}.2^k = \\sum_{k=0}^{n+1-2}F_{n+1-k-1}.2^k\n",
    "\\,,\n",
    "\\end{eqnarray}\n",
    "from the Fibonacci recursion, using the fact that $F_1=F_2=1$. However, this is exactly hypothesis $H_{n+1}$,\n",
    "which we have now proven by induction, since $c_2=F_{2-0-1}.2^0=F_1=1$, agreeing with the unwinding results above."
   ]
  },
  {
   "cell_type": "markdown",
   "id": "220792f5",
   "metadata": {},
   "source": [
    "Consequently, for $n\\ge 5$ we have\n",
    "\\begin{eqnarray}\n",
    "  \\bar{c}^{T\\rangle}_{n-1} & = & 2^{n-2}-c^{T\\rangle}_{n-1} = 2^{n-2}-2^{n-3}-c_{n-3}\n",
    "\\\\& = &\n",
    "2^{n-3}-\\sum_{k=0}^{n-5}F_{n-k-4}.2^k\\,.\n",
    "\\end{eqnarray}\n",
    "For $3\\le n<5$, we instead find $\\bar{c}^{T\\rangle}_{n-1}$ via\n",
    "\\begin{eqnarray}\n",
    "  \\bar{c}^{T\\rangle}_3 & = & 2^2-c^{T\\rangle}_3 = 4-(2^1+c_1) = 2\\,,\n",
    "\\\\\n",
    "  \\bar{c}^{T\\rangle}_2 & = & 2^1-c^{T\\rangle}_2 = 2-(2^0+c_0) = 1\\,,\n",
    "\\end{eqnarray}\n",
    "since $c_0=c_1=0$ by construction.\n",
    "Lastly, for $n=2$ we find $\\bar{c}^{T\\rangle}_{n-1}$ via\n",
    "\\begin{eqnarray}\n",
    "\\bar{c}^{T\\rangle}_1 & = & 2^0-c^{T\\rangle}_1 = 1\\,,\n",
    "\\end{eqnarray}\n",
    "since $c^{T\\rangle}_1=0$ by construction."
   ]
  },
  {
   "cell_type": "markdown",
   "id": "7fb4b1eb",
   "metadata": {},
   "source": [
    "Consequently, the first few terms in our probability distribution are\n",
    "\\begin{eqnarray}\n",
    "  p_0 & = & p_1 = 0\\,,\n",
    "\\\\\n",
    "  p_2 & = & \\frac{\\bar{c}^{T\\rangle}_1}{2^2}=\\frac{1}{4}\\,,\n",
    "\\\\\n",
    "  p_3 & = & \\frac{\\bar{c}^{T\\rangle}_2}{2^3}=\\frac{1}{8}\\,,\n",
    "\\\\\n",
    "  p_4 & = & \\frac{\\bar{c}^{T\\rangle}_3}{2^4}=\\frac{2}{16} = \\frac{1}{8}\\,,\n",
    "\\end{eqnarray}\n",
    "with\n",
    "\\begin{eqnarray}\n",
    "p_n & = & 2^{-3}-\\sum_{k=0}^{n-5}F_{n-k-4}.2^{-(n-k)}\\,,\n",
    "\\end{eqnarray}\n",
    "for $n\\ge 5$."
   ]
  },
  {
   "cell_type": "markdown",
   "id": "ff74d544",
   "metadata": {},
   "source": [
    "Let us now check our counts numerically."
   ]
  },
  {
   "cell_type": "code",
   "execution_count": 24,
   "id": "d9f87b80",
   "metadata": {
    "scrolled": true
   },
   "outputs": [
    {
     "name": "stdout",
     "output_type": "stream",
     "text": [
      "[0, 0, 1, 3, 8, 19, 43, 94, 201, 423, 880, 1815, 3719, 7582, 15397, 31171, 62952, 126891, 255379, 513342, 1030865]\n"
     ]
    }
   ],
   "source": [
    "def c_n(n):\n",
    "    if n < 2:\n",
    "        return 0\n",
    "    return sum(fibonacci(n-k-1) * 2**k for k in range(n-1))\n",
    "\n",
    "\n",
    "theoretical_c_n_list = list(c_n(n) for n in range(21))\n",
    "computed_c_n_list = list(count_pattern(n, \"TT\") for n in range(21))\n",
    "print(computed_c_n_list)\n",
    "for observed, expected in zip(computed_c_n_list, theoretical_c_n_list):\n",
    "    assert observed == expected"
   ]
  },
  {
   "cell_type": "markdown",
   "id": "2ede76c8",
   "metadata": {},
   "source": [
    "Next, let us check our probabilities numerically."
   ]
  },
  {
   "cell_type": "code",
   "execution_count": 25,
   "id": "b4d67b7e",
   "metadata": {},
   "outputs": [
    {
     "name": "stdout",
     "output_type": "stream",
     "text": [
      "[0, 0, 0.25, 0.125, 0.125, 0.09375, 0.078125, 0.0625, 0.05078125, 0.041015625, 0.033203125, 0.02685546875, 0.021728515625, 0.017578125, 0.01422119140625, 0.011505126953125, 0.009307861328125, 0.00753021240234375, 0.006092071533203125, 0.0049285888671875, 0.003987312316894531, 0.0032258033752441406, 0.002609729766845703, 0.0021113157272338867, 0.0017080903053283691, 0.0013818740844726562, 0.0011179596185684204, 0.0009044483304023743, 0.0007317140698432922, 0.0005919691175222397, 0.0004789130762219429, 0.00038744881749153137, 0.0003134526778012514, 0.00025358854327350855, 0.00020515744108706713, 0.0001659758563619107, 0.00013427728845272213, 0.00010863260831683874, 8.78856262715999e-05, 7.110096521500964e-05, 5.7521889175404795e-05, 4.6536185891454807e-05, 3.76485652395786e-05, 3.0458329092653003e-05, 2.4641305856221152e-05, 1.9935235201273827e-05, 1.61279440646922e-05, 1.3047780832664557e-05, 1.0555876432505329e-05, 8.539883424418804e-06, 6.908910820335734e-06]\n"
     ]
    }
   ],
   "source": [
    "def bar_cT_n(n):\n",
    "    if n <= 0:\n",
    "        return 0\n",
    "    elif n == 1:\n",
    "        return 1\n",
    "    else:\n",
    "        return 2**(n-2) - c_n(n-2)\n",
    "\n",
    "    \n",
    "def p_n(n):\n",
    "    return (\n",
    "        0 if n <= 1\n",
    "        else bar_cT_n(n-1) / 2**n\n",
    "    )\n",
    "\n",
    "\n",
    "theoretical_p_n_list = list(p_n(n) for n in range(51))\n",
    "print(theoretical_p_n_list)"
   ]
  },
  {
   "cell_type": "code",
   "execution_count": 26,
   "id": "7822f79d",
   "metadata": {},
   "outputs": [
    {
     "data": {
      "text/plain": [
       "0.9999707333841146"
      ]
     },
     "execution_count": 26,
     "metadata": {},
     "output_type": "execute_result"
    }
   ],
   "source": [
    "sum(theoretical_p_n_list)"
   ]
  },
  {
   "cell_type": "code",
   "execution_count": 27,
   "id": "9daaf3d7",
   "metadata": {},
   "outputs": [
    {
     "data": {
      "text/plain": [
       "5.998383427215481"
      ]
     },
     "execution_count": 27,
     "metadata": {},
     "output_type": "execute_result"
    }
   ],
   "source": [
    "np.sum(np.arange(51) * theoretical_p_n_list)"
   ]
  },
  {
   "cell_type": "code",
   "execution_count": 28,
   "id": "1108a3ad",
   "metadata": {},
   "outputs": [],
   "source": [
    "res = simulate_experiment(200_000, \"TT\")\n",
    "lens, counts = np.unique(res, return_counts=True)\n",
    "probs = counts / np.sum(counts)"
   ]
  },
  {
   "cell_type": "code",
   "execution_count": 29,
   "id": "228a4eef",
   "metadata": {},
   "outputs": [
    {
     "name": "stdout",
     "output_type": "stream",
     "text": [
      "[ 2  3  4  5  6  7  8  9 10 11 12 13 14 15 16 17 18 19 20 21 22 23 24 25\n",
      " 26 27 28 29 30 31 32 33 34 35 36 37 38 39 40 41 42 43 44 45 47 48 50 51\n",
      " 52 53 56 68 72]\n"
     ]
    }
   ],
   "source": [
    "print(lens)"
   ]
  },
  {
   "cell_type": "code",
   "execution_count": 30,
   "id": "33c44acc",
   "metadata": {},
   "outputs": [
    {
     "name": "stdout",
     "output_type": "stream",
     "text": [
      "[2.49930e-01 1.25695e-01 1.24830e-01 9.27300e-02 7.83750e-02 6.26250e-02\n",
      " 5.12350e-02 4.07800e-02 3.32050e-02 2.76100e-02 2.15350e-02 1.74600e-02\n",
      " 1.40800e-02 1.18550e-02 9.25000e-03 7.45500e-03 5.96500e-03 4.72500e-03\n",
      " 4.08500e-03 3.24500e-03 2.38000e-03 2.03000e-03 1.55500e-03 1.49000e-03\n",
      " 1.06500e-03 8.35000e-04 8.05000e-04 6.25000e-04 4.95000e-04 4.65000e-04\n",
      " 2.95000e-04 2.05000e-04 1.70000e-04 1.80000e-04 1.20000e-04 1.25000e-04\n",
      " 1.20000e-04 4.00000e-05 7.00000e-05 7.00000e-05 6.00000e-05 3.50000e-05\n",
      " 1.00000e-05 2.00000e-05 1.00000e-05 5.00000e-06 1.00000e-05 1.00000e-05\n",
      " 1.00000e-05]\n"
     ]
    }
   ],
   "source": [
    "print(probs[0:49])"
   ]
  },
  {
   "cell_type": "markdown",
   "id": "d9cafa8a",
   "metadata": {},
   "source": [
    "It appears to be beyond this author's modest powers to directly establish \n",
    "$\\bar{N}=\\mathbb{E}[N\\mid\\mathtt{H},S=TT]$ from $p_n=\\mathbb{P}(N=n\\mid\\mathtt{H},S=TT)$.\n",
    "However, we can attempt the trick used in the previous section, by reasoning indirectly.\n",
    "\n",
    "Thus, we begin with the first coin toss. With probability $\\frac{1}{2}$ the result is $t_1=H$, using up 1 throw. \n",
    "However, we cannot directly stop now with TT, leaving this up to the expected $\\bar{N}$ further throws to\n",
    "acheive.\n",
    "Alternatively, with probability $\\frac{1}{2}$ the result is $t_1=T$, using up 1 throw. \n",
    "Now we proceed to the second coin toss. With probability $\\frac{1}{2}$ the result is $t_2=H$ \n",
    "(giving $t_1 t_2=TH$), using up 1 throw and requiring $\\bar{N}$ further throws (on average) to observe TT.\n",
    "Alternatively, with probability $\\frac{1}{2}$ the second result is $t_2=T$ (giving $t_1 t_2=TT$), using up 1 throw, whereupon the sequence halts. Mathematically, this gives\n",
    "\\begin{eqnarray}\n",
    "\\bar{N} & = & \\frac{1}{2}\\left(1+\\bar{N}\\right)\n",
    "+\\frac{1}{2}\\left(1+\\frac{1}{2}\\left(1+\\bar{N}\\right)+\\frac{1}{2}(1)\\right)\n",
    "\\\\& = & \\frac{3}{2}+\\frac{3}{4}\\bar{N}\n",
    "\\\\\\Rightarrow \\bar{N} & = & 6\\,.\n",
    "\\end{eqnarray}\n",
    "This is indeed the expected sequence length that we have observed computationally."
   ]
  },
  {
   "cell_type": "markdown",
   "id": "7b660872",
   "metadata": {},
   "source": [
    "## Experiment 3 - THH vs HHH"
   ]
  },
  {
   "cell_type": "markdown",
   "id": "69e22ab1",
   "metadata": {},
   "source": [
    "We now extend the experiment to halt upon the first occurrence of a length-$3$ subsequence. In particular, we\n",
    "are interested in $S=$THH and $S=$HHH."
   ]
  },
  {
   "cell_type": "code",
   "execution_count": 31,
   "id": "43896e91",
   "metadata": {},
   "outputs": [
    {
     "name": "stdout",
     "output_type": "stream",
     "text": [
      "TTT: 13.934850\n",
      "TTH: 7.989040\n",
      "THT: 10.039580\n",
      "THH: 7.988940\n",
      "HTT: 8.000460\n",
      "HTH: 10.050080\n",
      "HHT: 8.012750\n",
      "HHH: 14.009410\n"
     ]
    }
   ],
   "source": [
    "patterns = deterministic_sequences(3)\n",
    "for pattern in patterns:\n",
    "    mu = np.mean(simulate_experiment(100_000, pattern))\n",
    "    print(\"%s: %f\" % (pattern, mu))"
   ]
  },
  {
   "cell_type": "markdown",
   "id": "4019378c",
   "metadata": {},
   "source": [
    "As noted in the Background section, the expected sequence length for $S=$THH (and HTT by symmetry) is $\\bar{N}=8$, and for $S=$HHH (and TTT) is $\\bar{N}=14$. We also see that $\\bar{N}=10$ for $S=$THT and HTH,\n",
    "and lastly $\\bar{N}=8$ for $S=$TTH and HHT."
   ]
  },
  {
   "cell_type": "markdown",
   "id": "95d9420a",
   "metadata": {},
   "source": [
    "For the halting sequence $S=$THH, let us consider the situation indirectly, as we did in the previous section. Briefly, if $t_1=H$ then we reset the experiment, expecting a futher $\\bar{N}$ throws to halt. If $t_1=T$ then we proceed to the second throw. At this point, let us define $\\bar{N}^{\\langle T}$ as the expected number\n",
    "of coin tosses required to terminate (with $S=$THH) a sequence that starts with T. \n",
    "Further letting $p_H\\doteq\\mathbb{P}(H)$ and $p_T\\doteq\\mathbb{P}(T)$ to help the reader distinguish coin tosses (and thus match mathematical terms with verbal description), we have\n",
    "\\begin{eqnarray}\n",
    "\\bar{N} & = & p_H\\left(1+\\bar{N}\\right)\n",
    "+p_T\\bar{N}^{\\langle T}\\,.\n",
    "\\end{eqnarray}\n",
    "Continuing to the second coin toss,\n",
    "if $t_2=T$ (i.e. $t_1 t_2=TT$), then we reset the experiment, expecting a futher $\\bar{N}^{\\langle T}$ throws to halt. However, if $t_2=H$ (i.e. $t_1 t_2=TH$), then we proceed to the third throw. If $t_3=T$  (i.e. $t_1 t_2 t_3=THT$), then we reset the experiment, expecting a futher $\\bar{N}^{\\langle T}$ throws to halt.\n",
    "Only if $t_3=H$ (i.e. $t_1 t_2 t_3=THH$) do we halt the sequence.\n",
    "\n",
    "Mathematically, this description leads to\n",
    "\\begin{eqnarray}\n",
    "\\bar{N}^{\\langle T} & = & 1+p_T\\bar{N}^{\\langle T}\n",
    "+p_H\\left(1+p_T\\bar{N}^{\\langle T}+p_H(1)\\right)\n",
    "\\\\& = & \\left(1+p_H+p_H^2\\right)+\\left(p_T+p_Hp_T\\right)\\bar{N}^{\\langle T}\n",
    "\\\\\\Rightarrow \\bar{N}^{\\langle T} & = & \n",
    "\\frac{1+p_H+p_H^2}{1-p_T-p_Hp_T}\n",
    "\\\\& = & \\frac{1-p_H^3}{p_H^2 p_T}\\,,\n",
    "\\end{eqnarray}\n",
    "using the fact that $p_H+p_T=1$. Substituting this into the equation above gives\n",
    "\\begin{eqnarray}\n",
    "\\bar{N} & = & p_H+p_H\\bar{N}+p_T\\left(\\frac{1-p_H^3}{p_H^2 p_T}\\right)\n",
    "\\\\\\Rightarrow \\bar{N} & = & \\frac{1}{p_Tp_H^2} = \\frac{1}{\\mathbb{P}(THH)}\\,.\n",
    "\\end{eqnarray}\n",
    "Clearly, this gives $\\bar{N}=8$ for $p_H=p_H=\\frac{1}{2}$."
   ]
  },
  {
   "cell_type": "markdown",
   "id": "3d9128f7",
   "metadata": {},
   "source": [
    "For the alternative halting pattern, $S=$HHH, the analysis is more straightforward, since any occurrance of T\n",
    "simply resets the experiment. Thus, we have\n",
    "\\begin{eqnarray}\n",
    "\\bar{N} & = & p_T\\left(1+\\bar{N}\\right)\n",
    "+p_H\\left\\{1+\n",
    "  p_T\\left(1+\\bar{N}\\right)\n",
    "  +p_H\\left[1+\n",
    "    p_T\\left(1+\\bar{N}\\right)\n",
    "    +p_H(1)\n",
    "  \\right]\n",
    "\\right\\}\n",
    "\\\\& = &\n",
    "\\left(p_T+p_H+p_Hp_T+p_H^2+p_H^2p_T+p_H^3\\right)\n",
    "+\\left(p_T+p_Hp_T+p_H^2p_T\\right)\\bar{N}\n",
    "\\\\& = &\n",
    "\\left\\{p_T\\left(1+p_H+p_H^2\\right)+p_H\\left(1+p_H+p_H^2\\right)\\right\\}\n",
    "+p_T\\left(1+p_H+p_H^2\\right)\\bar{N}\n",
    "\\\\& = & \\frac{1-p_H^3}{p_T}+\\left(1-p_H^3\\right)\\bar{N}\n",
    "\\\\\\Rightarrow\\bar{N} & = & \\frac{1-p_H^3}{p_Tp_H^3}\\,.\n",
    "\\end{eqnarray}\n",
    "For $p_H=p_T=\\frac{1}{2}$, this gives $\\bar{N}=14$, as anticipated from the simulations above."
   ]
  },
  {
   "cell_type": "markdown",
   "id": "4ba645b8",
   "metadata": {},
   "source": [
    "Finally, for the sake of completeness, let us see if we can derive the expected length for sequences that halt with $S=$THT. Clearly, we reset the experiment in its entirety if $t_1=H$ or $t_1 t_2 t_3=THH$, and if \n",
    "$t_1 t_2=TT$ then we reset the experiment with a sequence starting with T. Thus, we have\n",
    "\\begin{eqnarray}\n",
    "\\bar{N} & = & p_H\\left(1+\\bar{N}\\right)+p_T\\bar{N}^{\\langle T}\\,,\n",
    "\\\\\n",
    "\\bar{N}^{\\langle T} & = & 1 + p_T\\bar{N}^{\\langle T}\n",
    "+p_H\\left(1+p_T(1)+p_H\\left(1+\\bar{N}\\right)\\right)\\,.\n",
    "\\end{eqnarray}\n",
    "The latter equation gives\n",
    "\\begin{eqnarray}\n",
    "p_H\\bar{N}^{\\langle T} & = & 1+p_H+p_Hp_T+p_H^2+p_H^2\\bar{N}\\,,\n",
    "\\end{eqnarray}\n",
    "and the former equation gives\n",
    "\\begin{eqnarray}\n",
    "p_T\\bar{N} & = & p_H+\\frac{p_T}{p_H}\\left(1+p_H+p_Hp_T+p_H^2+p_H^2\\bar{N}\\right)\n",
    "\\\\\\Rightarrow\n",
    "\\left(p_Hp_T-p_Tp_H^2\\right)\\bar{N} & = & p_H^2+p_T+p_Tp_H+p_T^2p_H+p_Tp_H^2\n",
    "\\\\\\Rightarrow\n",
    "p_Hp_T^2\\bar{N} & = & 1+p_Tp_H\n",
    "\\\\\\Rightarrow \\bar{N} & = & \\frac{1}{p_Hp_T^2}+\\frac{1}{p_T} \n",
    "= \\frac{1}{\\mathbb{P}(THT)}+\\frac{1}{\\mathbb{P}(T)}\\,.\n",
    "\\end{eqnarray}\n",
    "Thus, we obtain exactly $\\bar{N}=10$ for $p_H=p_T=\\frac{1}{2}$, which agrees with the simulation."
   ]
  },
  {
   "cell_type": "markdown",
   "id": "1a0d10b5",
   "metadata": {},
   "source": [
    "### Halting with $S=$THH"
   ]
  },
  {
   "cell_type": "markdown",
   "id": "1f672edd",
   "metadata": {},
   "source": [
    "We have derived above the expected length of sequences that halt with pattern $S=$THH, namely \n",
    "$\\bar{N}=8$. This is sufficient for our purposes of comparing expected length for different halt patterns.\n",
    "\n",
    "However, we might as well derive the distribution of lengths, just for a final example."
   ]
  },
  {
   "cell_type": "markdown",
   "id": "db5d329a",
   "metadata": {},
   "source": [
    "Due to the fact that the pattern THH does not overlap itself, a length-$n$ sequence halting on THH must\n",
    "have the last three coins toss as THH, and the previous $n-3$ coin tosses, for $n\\ge 3$, must not contain THH. Thus\n",
    "\\begin{eqnarray}\n",
    "  p_n & = & \\mathbb{P}(t_{n-2}t_{n-1}t_n=THH \\wedge THH\\not\\in t_{1}\\cdots t_{n-3})\n",
    "\\\\\n",
    "  & = & \\mathbb{P}(t_{n-2}t_{n-1}t_n=THH)\\,\\mathbb{P}(THH\\not\\in t_{1}\\cdots t_{n-3}\\mid t_{n-2}t_{n-1}t_n=THH)\n",
    "\\\\\n",
    "& = & \\mathbb{P}(t_{n-2}t_{n-1}t_n=THH)\\,\\left[1-\\mathbb{P}(THH\\in t_{1}\\cdots t_{n-3})\\right]\n",
    "\\\\\n",
    "& = & \\frac{1}{2^3}\\left[1-\\frac{c_{n-3}}{2^{n-3}}\\right]\n",
    "= \\frac{\\bar{c}_{n-3}}{2^n}\\,,\n",
    "\\end{eqnarray}\n",
    "where $c_n$ is the number of distinct length-$n$ sequences containing THH, and $\\bar{c}_n=2^n-c_n$\n",
    "is the number of distinct length-$n$ sequences not containing THH."
   ]
  },
  {
   "cell_type": "markdown",
   "id": "fc33aa32",
   "metadata": {},
   "source": [
    "Just to provide some contrast from our previous probabilistic analyses, let us examine starting sequences\n",
    "instead of ending sequences. Thus, let $c^{\\langle T}_n$ be the number of length-$n$ sequences starting with T\n",
    "that contain the pattern THH.\n",
    "\n",
    "For $n\\ge 1$, any sequence must start with T or H. If it starts with H, then it cannot start with THH, but it will contain THH if the length-$(n-1)$ post-sequence (i.e. $(t_2\\cdots t_n\\rangle$) contains THH, which can occur in $c_{n-1}$ ways. Alternatively, if the sequence starts with T, then $c^{\\langle T}_n$\n",
    "of the $2^{n-1}$ distinct length-$n$ sequences starting with T will contain THH. \n",
    "Thus, we obtain \n",
    "\\begin{eqnarray}\n",
    " c_n & = & c^{\\langle T}_n + c_{n-1}\\,.\n",
    "\\end{eqnarray}\n",
    "Unwinding this recursion gives\n",
    "\\begin{eqnarray}\n",
    " c_n & = & c^{\\langle T}_n + c^{\\langle T}_{n-1} + \\cdots + c^{\\langle T}_3+c_{2} \n",
    " = \\sum_{m=3}^{n}c^{\\langle T}_m \n",
    " \\,,\n",
    "\\end{eqnarray}\n",
    "since $c_0=c_1=c_2=0$ by construction."
   ]
  },
  {
   "cell_type": "markdown",
   "id": "b2e4fe01",
   "metadata": {},
   "source": [
    "For $n\\ge 2$, any sequence starting with T must start with TT or TH. If it starts with TT, then it cannot start with THH, but the second T might start a length-$(n-1)$ post-sequence containing THH, which can occur in $c^{\\langle T}_{n-1}$ ways. \n",
    "\n",
    "Alternatively, if the sequence starts with TH, then for $n\\ge 3$ it either starts with THH or THT. If it starts with THH, then it doesn't matter what the length-$(n-3)$ post-sequence is, and\n",
    "there are $2^{n-3}$ such completions, giving $2^{n-3}$ distinct sequences of length $n$ that start with THH. \n",
    "However, if the sequence starts with THT, then the length-$(n-2)$ post-sequence starting with $t_3=T$ might contain THH, which can occur in $c^{\\langle T}_{n-2}$ ways.\n",
    "Consequently, for $n\\ge 3$, we obtain the recursion\n",
    "\\begin{eqnarray}\n",
    "  c^{\\langle T}_n & = & 2^{n-3} + c^{\\langle T}_{n-1} + c^{\\langle T}_{n-2}\\,.\n",
    "\\end{eqnarray}\n",
    "By construction, we also have $c^{\\langle T}_0=c^{\\langle T}_1=c^{\\langle T}_2=0$."
   ]
  },
  {
   "cell_type": "markdown",
   "id": "a26497cc",
   "metadata": {},
   "source": [
    "We met a similar recursion earlier, except that the leading term was $2^{n-2}$ then, whereas it is\n",
    "$2^{n-3}$ now, since $|S|=|$THH$|=3$.\n",
    "It can be shown by induction that the recursion satisfies\n",
    "\\begin{eqnarray}\n",
    "c^{\\langle T}_n & = & \\sum_{k=0}^{n-3}F_{n-k-2}.2^k\\,.\n",
    "\\end{eqnarray}"
   ]
  },
  {
   "cell_type": "markdown",
   "id": "faeb00ef",
   "metadata": {},
   "source": [
    "Therefore, we can substitute this formula for $c^{\\langle T}_n$ into the formula for $c_n$, obtaining\n",
    "\\begin{eqnarray}\n",
    "c_n & = & \\sum_{m=3}^{n}\\sum_{k=0}^{m-3}F_{m-k-2}.2^k\n",
    "\\\\& = & \\sum_{k=0}^{n-3}\\left\\{\\sum_{m=k+3}^{n}F_{m-k-2}\\right\\} 2^k\n",
    "\\\\& = & \\sum_{k=0}^{n-3}\\left\\{\\sum_{j=1}^{n-k-2}F_j\\right\\} 2^k\n",
    "\\\\& = & \\sum_{k=0}^{n-3}(F_{n-k}-1) 2^k\n",
    "\\\\& = & 1-2^{n-2}+\\sum_{k=0}^{n-3}F_{n-k}.2^k\n",
    "\\,,\n",
    "\\end{eqnarray}\n",
    "which is clearly valid for $n\\ge 3$.\n",
    "Note that the progression from the third to fourth line, regarding the sum of Fibonacci numbers, uses the result we derived in the section on Theoretical Support."
   ]
  },
  {
   "cell_type": "markdown",
   "id": "8cbe63f6",
   "metadata": {},
   "source": [
    "Let us now check these results numerically."
   ]
  },
  {
   "cell_type": "code",
   "execution_count": 32,
   "id": "977e55f0",
   "metadata": {},
   "outputs": [
    {
     "name": "stdout",
     "output_type": "stream",
     "text": [
      "[0, 0, 0, 1, 4, 12, 31, 74, 168, 369, 792, 1672, 3487, 7206, 14788, 30185, 61356, 124308, 251199, 506578, 1019920]\n"
     ]
    }
   ],
   "source": [
    "def c_n(n):\n",
    "    if n < 3:\n",
    "        return 0\n",
    "    s = sum(fibonacci(n-k) * 2**k for k in range(n-2))\n",
    "    return s + 1 - 2**(n-2)\n",
    "\n",
    "\n",
    "theoretical_c_n_list = list(c_n(n) for n in range(21))\n",
    "computed_c_n_list = list(count_pattern(n, \"THH\") for n in range(21))\n",
    "print(computed_c_n_list)\n",
    "for observed, expected in zip(computed_c_n_list, theoretical_c_n_list):\n",
    "    assert observed == expected"
   ]
  },
  {
   "cell_type": "code",
   "execution_count": 33,
   "id": "210c4ba0",
   "metadata": {},
   "outputs": [
    {
     "name": "stdout",
     "output_type": "stream",
     "text": [
      "[0, 0, 0, 0.125, 0.125, 0.125, 0.109375, 0.09375, 0.078125, 0.064453125, 0.052734375, 0.04296875, 0.034912109375, 0.0283203125, 0.02294921875, 0.018585205078125, 0.015045166015625, 0.012176513671875, 0.009853363037109375, 0.00797271728515625, 0.006450653076171875, 0.005218982696533203, 0.004222393035888672, 0.0034160614013671875, 0.002763688564300537, 0.002235889434814453, 0.0018088817596435547, 0.0014634206891059875, 0.001183934509754181, 0.0009578242897987366, 0.0007748967036604881, 0.0006269048899412155, 0.0005071768537163734, 0.00041031476575881243, 0.0003319516545161605, 0.0002685545478016138, 0.00021726520208176225, 0.0001757712452672422, 0.00014220192679204047, 0.00011504377653182019, 9.307237087341491e-05, 7.529713002440985e-05, 6.091665795793233e-05, 4.9282611598755466e-05, 3.9870470345704234e-05, 3.225588810096269e-05, 2.609556165111826e-05, 2.111175285790523e-05, 1.7079766845284894e-05, 1.3817821638895111e-05, 1.1178852531656958e-05]\n"
     ]
    }
   ],
   "source": [
    "def p_n(n):\n",
    "    return (\n",
    "        0 if n <= 2\n",
    "        else (2**(n-3) - c_n(n-3)) / 2**n\n",
    "    )\n",
    "\n",
    "\n",
    "theoretical_p_n_list = list(p_n(n) for n in range(51))\n",
    "print(theoretical_p_n_list)"
   ]
  },
  {
   "cell_type": "code",
   "execution_count": 34,
   "id": "98500453",
   "metadata": {},
   "outputs": [
    {
     "name": "stdout",
     "output_type": "stream",
     "text": [
      "sum{p_n} = 0.9999526456207626\n",
      "sum{n.p_n} = 7.997384330289407\n"
     ]
    }
   ],
   "source": [
    "print(\"sum{p_n} =\", sum(theoretical_p_n_list))\n",
    "print(\"sum{n.p_n} =\", np.sum(np.arange(len(theoretical_p_n_list)) * theoretical_p_n_list))"
   ]
  },
  {
   "cell_type": "code",
   "execution_count": 35,
   "id": "c8b5faef",
   "metadata": {},
   "outputs": [],
   "source": [
    "res = simulate_experiment(200_000, \"THH\")\n",
    "lens, counts = np.unique(res, return_counts=True)\n",
    "probs = counts / np.sum(counts)"
   ]
  },
  {
   "cell_type": "code",
   "execution_count": 36,
   "id": "11652e81",
   "metadata": {},
   "outputs": [
    {
     "name": "stdout",
     "output_type": "stream",
     "text": [
      "[ 3  4  5  6  7  8  9 10 11 12 13 14 15 16 17 18 19 20 21 22 23 24 25 26\n",
      " 27 28 29 30 31 32 33 34 35 36 37 38 39 40 41 42 43 44 45 46 47 48 50 51\n",
      " 52 53 54 57 58 59 60 62]\n"
     ]
    }
   ],
   "source": [
    "print(lens)"
   ]
  },
  {
   "cell_type": "code",
   "execution_count": 37,
   "id": "dac3f0bb",
   "metadata": {},
   "outputs": [
    {
     "name": "stdout",
     "output_type": "stream",
     "text": [
      "[1.25960e-01 1.23985e-01 1.24375e-01 1.09330e-01 9.42500e-02 7.88200e-02\n",
      " 6.39200e-02 5.25750e-02 4.33600e-02 3.55500e-02 2.83700e-02 2.23600e-02\n",
      " 1.87700e-02 1.45400e-02 1.21850e-02 9.69500e-03 7.78000e-03 6.42000e-03\n",
      " 5.00000e-03 4.35500e-03 3.52000e-03 2.90500e-03 2.12000e-03 1.82500e-03\n",
      " 1.63500e-03 1.18500e-03 9.40000e-04 7.80000e-04 6.45000e-04 5.60000e-04\n",
      " 3.80000e-04 4.10000e-04 3.15000e-04 2.00000e-04 1.95000e-04 1.40000e-04\n",
      " 1.10000e-04 1.05000e-04 6.50000e-05 4.00000e-05 7.00000e-05 6.00000e-05\n",
      " 4.00000e-05 2.00000e-05 2.50000e-05 3.00000e-05 1.00000e-05 5.00000e-06\n",
      " 2.00000e-05 1.00000e-05 1.00000e-05 5.00000e-06 5.00000e-06 5.00000e-06\n",
      " 5.00000e-06 5.00000e-06]\n"
     ]
    }
   ],
   "source": [
    "print(probs)"
   ]
  },
  {
   "cell_type": "markdown",
   "id": "12260371",
   "metadata": {},
   "source": [
    "### Halting with $S=$THH or $S=$HHH"
   ]
  },
  {
   "cell_type": "markdown",
   "id": "db7952df",
   "metadata": {},
   "source": [
    "We now consider the modified experiment where the sequence halts upon the first occurrence of either THH or HHH. We note that these stopping patterns are rather special in that HHH is overlapped to its left by both THH and HHH.\n",
    "\n",
    "Initially, the experiment can halt on $S=$HHH with a length $n=3$ sequence with probability \n",
    "$\\mathbb{P}(HHH)=\\frac{1}{8}$, or on $S=$THH with probability $\\mathbb{P}(THH)=\\frac{1}{8}$.\n",
    "However, when we look for a length $n=4$ sequence $\\langle t_1HHH\\rangle$, we see that if $t_1=T$ then the sequence would have previously halted with $t_1t_2t_3=THH$, whereas if $t_1=H$ then the sequence would have halted with $t_1t_2t_3=HHH$. Consequently, no sequence for $n\\ge 4$ may halt on HHH. Thus, the probability that the experiment halts on HHH is\n",
    "\\begin{eqnarray}\n",
    "\\mathbb{P}(S=HHH\\mid\\mathtt{H},S=HHH\\vee S=THH) & = & \\frac{1}{8}\\,,\n",
    "\\\\\\Rightarrow\n",
    "\\mathbb{P}(S=THH\\mid\\mathtt{H},S=HHH\\vee S=THH) & = & \\frac{7}{8}\\,,\n",
    "\\end{eqnarray}\n",
    "giving rise to the 7:1 ratio."
   ]
  },
  {
   "cell_type": "markdown",
   "id": "f03fd2e6",
   "metadata": {},
   "source": [
    "We further deduce that any coin toss of T results in a subsequence starting with T that halts\n",
    "with $S=$THH, with an expected length $\\bar{N}^{\\langle T}$, where\n",
    "\\begin{eqnarray}\n",
    "\\bar{N}^{\\langle T} & = & 1 + p_T\\bar{N}^{\\langle T}\n",
    "+p_H\\left\\{1+p_T\\bar{N}^{\\langle T}+p_H(1)\\right\\}\n",
    "\\\\\\Rightarrow \\bar{N}^{\\langle T} & = &\n",
    "\\frac{1+p_H+p_H^2}\n",
    "{1-p_T-p_Hp_T} = \\frac{1-p_H^3}{p_Tp_H^2}\\,,\n",
    "\\end{eqnarray}\n",
    "giving $\\bar{N}^{\\langle T}=7$ for $p_H=p_T=\\frac{1}{2}$.\n",
    "\n",
    "Hence, the overall expected length $\\bar{N}$ is given by\n",
    "\\begin{eqnarray}\n",
    "\\bar{N} & = & p_T\\bar{N}^{\\langle T}+p_H\\left\\{\n",
    "  1+p_T\\bar{N}^{\\langle T}+p_H\\left[\n",
    "    1+p_T\\bar{N}^{\\langle T}+p_H(1)\n",
    "  \\right]\n",
    "\\right\\}\n",
    "\\\\& = & p_T(1+p_H+p_H^2)\\bar{N}^{\\langle T}+p_H(1+p_H+p_H^2)\n",
    "\\\\& = & (1-p_H^3)\\bar{N}^{\\langle T}+\\frac{p_H(1-p_H^3)}{p_T}\n",
    "\\\\& = &\n",
    "(1-p_H^3)\\frac{1-p_H^3}{p_Tp_H^2}+p_H^3\\frac{1-p_H^3}{p_Tp_H^2}\n",
    "= \\frac{1-p_H^3}{p_Tp_H^2}\\,,\n",
    "\\end{eqnarray}\n",
    "also giving $\\bar{N}=7$. We now confirm these results numerically via simulation."
   ]
  },
  {
   "cell_type": "code",
   "execution_count": 38,
   "id": "fd2753f2",
   "metadata": {},
   "outputs": [
    {
     "name": "stdout",
     "output_type": "stream",
     "text": [
      "THH: 437119 7.560083\n",
      "HHH: 62881 3.000000\n"
     ]
    }
   ],
   "source": [
    "patterns = [\"THH\", \"HHH\"]\n",
    "res = simulate_combined_experiment(500_000, patterns)\n",
    "for p, r in zip(patterns, res):\n",
    "    print(\"%s: %d %f\" % (p, len(r), np.mean(r)))"
   ]
  },
  {
   "cell_type": "markdown",
   "id": "182917e7",
   "metadata": {},
   "source": [
    "We observe that the sequences halting with $S=$HHH all have length 3, as anticipated above."
   ]
  },
  {
   "cell_type": "code",
   "execution_count": 39,
   "id": "82a2ffe6",
   "metadata": {},
   "outputs": [
    {
     "name": "stdout",
     "output_type": "stream",
     "text": [
      "THH:HHH ratio = 6.951527488430528\n"
     ]
    }
   ],
   "source": [
    "print(\"THH:HHH ratio =\", len(res[0]) / len(res[1]))"
   ]
  },
  {
   "cell_type": "markdown",
   "id": "4a43c10d",
   "metadata": {},
   "source": [
    "The ratio of the number of sequences halting with $S=$THH compared to $S=$HHH is about 7:1, as expected."
   ]
  },
  {
   "cell_type": "code",
   "execution_count": 40,
   "id": "f9acbec5",
   "metadata": {},
   "outputs": [
    {
     "name": "stdout",
     "output_type": "stream",
     "text": [
      "overall mean = 6.986598\n"
     ]
    }
   ],
   "source": [
    "print(\"overall mean =\", np.mean(res[0] + res[1]))"
   ]
  },
  {
   "cell_type": "markdown",
   "id": "30bbd1c8",
   "metadata": {},
   "source": [
    "Finally, the mean length of all sequences produced by the modified experiment is approximately 7, as we deduced above."
   ]
  }
 ],
 "metadata": {
  "kernelspec": {
   "display_name": "Python 3",
   "language": "python",
   "name": "python3"
  },
  "language_info": {
   "codemirror_mode": {
    "name": "ipython",
    "version": 3
   },
   "file_extension": ".py",
   "mimetype": "text/x-python",
   "name": "python",
   "nbconvert_exporter": "python",
   "pygments_lexer": "ipython3",
   "version": "3.8.8"
  }
 },
 "nbformat": 4,
 "nbformat_minor": 5
}
