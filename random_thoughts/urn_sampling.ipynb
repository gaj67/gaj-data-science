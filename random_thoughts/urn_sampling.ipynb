{
 "cells": [
  {
   "cell_type": "markdown",
   "id": "d06e77d2",
   "metadata": {},
   "source": [
    "# Bernoulli Urn Sampling"
   ]
  },
  {
   "cell_type": "markdown",
   "id": "cc2cdb96",
   "metadata": {},
   "source": [
    "This document details some of the ideas involved in sampling from a finite population without replacement, particularly the notion of *exhangeability*.\n",
    "We shall focus on sequences of Bernoulli trials, where each trial may (potentially) have one of two distinct outcomes."
   ]
  },
  {
   "cell_type": "markdown",
   "id": "6381027f",
   "metadata": {},
   "source": [
    "## Motivation"
   ]
  },
  {
   "cell_type": "markdown",
   "id": "e6dd7c8b",
   "metadata": {},
   "source": [
    "The motivation for this document comes from Problem 15 \"*The Theater Row*\" from\n",
    "Mosteller [[1]](#References \"References: Fifty Challenging Problems in Probability\").\n",
    "This involves a number of bachelors and models being randomly seated together in a row, and asks for the expected number of unlike pairs.\n",
    "Mosteller tersely states that the answer is the number of possible pairs multiplied by the probability of a pair, namely\n",
    "\\begin{eqnarray}\n",
    "(m+b-1)\\times\\frac{2mb}{(m+b)\\,(m+b-1)} & ~=~ & \\frac{2mb}{m+b}\\,.\n",
    "\\end{eqnarray}\n",
    "This is perfectly correct, but the reason why it is true lies in the deeper notion of exchangeability of sequences. It is this hidden depth that we wish to explore here."
   ]
  },
  {
   "cell_type": "markdown",
   "id": "02fb1de3",
   "metadata": {},
   "source": [
    "## Sampling without replacement"
   ]
  },
  {
   "cell_type": "markdown",
   "id": "130625fd",
   "metadata": {},
   "source": [
    "Consider a set $\\mathcal{S}=\\{A^{[1]},A^{[2]},\\ldots,A^{[N_A]},\n",
    "B^{[N_A+1]},B^{[N_A+2]},\\ldots,B^{[N]}\\}$ of $N=N_A+N_B$ elements comprised of\n",
    "$N_A$ distinct elements all labelled \"A\" and $N_B$ distinct elements all labelled \"B\". The distinction between elements is captured by each element possessing a hidden, unique identifier, e.g. $[i]$ for $i=1,2,\\ldots,N$."
   ]
  },
  {
   "cell_type": "markdown",
   "id": "a8470017",
   "metadata": {},
   "source": [
    "Now consider the probability of obtaining a particular sequence of length $n$ by sampling $n$ elements from $\\mathcal{S}$ without replacement.\n",
    "To aid the calculations, consider that we may observe the label, i.e. $A$ or $B$, of each sampled element but not its identifier. Let $A_k$ represent the Boolean proposition that an element of label $A$ is sampled on the $k$th draw, and similarly let $B_k\\equiv\\bar{A}_k$ be the alternative proposition of drawing an element with label $B$.\n",
    "\n",
    "Then, for example, the probability of obtaining $a$ elements with label $A$ follwed by $b=n-a$ elements with label $B$ is\n",
    "\\begin{eqnarray}\n",
    "P(A_1 A_2\\cdots A_a B_{a+1} B_{a+2}\\cdots B_n\\mid\\mathcal{S})\n",
    "& ~=~ &\n",
    "\\frac{N_A}{N}\\,\\frac{N_A-1}{N-1}\\cdots\\frac{N_A-a+1}{N-a+1}\n",
    "\\\\\n",
    "&& \\times\\frac{N_B}{N-a}\\,\\frac{N_B-1}{N-a-1}\\cdots\\frac{N_B-b+1}{N-n+1}\n",
    "\\\\\n",
    "& = &\n",
    "\\frac{N_A!}{(N_A-a)!}\\,\\left.\\frac{N_B!}{(N_B-b)!}\\right/\n",
    "\\frac{N!}{(N-n)!}\n",
    "\\,.\n",
    "\\end{eqnarray}\n",
    "Alternatively, the probability of obtaining $b$ $B$'s followed by $a$ $A$'s is\n",
    "\\begin{eqnarray}\n",
    "P(B_1 B_2\\cdots B_b A_{b+1} A_{b+2}\\cdots A_n\\mid\\mathcal{S})\n",
    "& ~=~ & \\frac{N_B}{N}\\,\\frac{N_B-1}{N-1}\\cdots\\frac{N_B-b+1}{N-b+1}\n",
    "\\\\\n",
    "&& \\times\\frac{N_A}{N-b}\\,\\frac{N_A-1}{N-b-1}\\cdots\\frac{N_A-a+1}{N-n+1}\n",
    "\\\\\n",
    "& = &\n",
    "\\frac{N_B!}{(N_B-b)!}\\,\\left.\\frac{N_A!}{(N_A-a)!}\\right/\n",
    "\\frac{N!}{(N-n)!}\n",
    "\\,.\n",
    "\\end{eqnarray}\n",
    "Observe that these two probabilities are identical."
   ]
  },
  {
   "cell_type": "markdown",
   "id": "510df641",
   "metadata": {},
   "source": [
    "## Hypergeometric distribution"
   ]
  },
  {
   "cell_type": "markdown",
   "id": "13e8be38",
   "metadata": {},
   "source": [
    "It would appear that rearranging the\n",
    "order of labels in a sequence does not alter the overall probability. This is essentiallly the notion of *exchangeability*, that a sequence may be exchanged with any permutation of the sequence without significantly altering the outcome. We shall see some consequences of exchangeability in the \n",
    "[following](#Exchangeability \"Section: Exchangeability\") section.\n",
    "\n",
    "To see that all sequences of $a$ $A$'s and $b$ $B$'s in any order must have the same probability, Jaynes [[2]](#References \"References: Probability Theory - The Logic of Science\")\n",
    "observes that the $k$th factor in the denominator always corresponds to the number $N-k+1$ of elements available in $\\mathcal{S}$ before the $k$th draw. Similarly,\n",
    "just before the $j$th draw of an element with label $A$, at any position within the sequence, there are $N_A-j+1$ such elements available within $\\mathcal{S}$,\n",
    "which factor appears in the numerator."
   ]
  },
  {
   "cell_type": "markdown",
   "id": "f36d7693",
   "metadata": {},
   "source": [
    "To compute the total probability of all sequences having exactly $n_A=a$ elements with label $A$ and $n_B=b$ elements with label $B$, first recall that all elements have a hidden identifier. Hence, the first sequence in our example may be written with unique identifiers, but without position indices, as \n",
    "\\begin{eqnarray}\n",
    "A^{[i_1]}\\,A^{[i_2]}\\cdots A^{[i_a]}\\,\n",
    "A^{[i_{a+1}]}\\,B^{[i_{a+2}]}\\cdots B^{[i_n]}\\,.\n",
    "\\end{eqnarray}\n",
    "We know that these $n$ distinct elements may now be rearranged into $n!$ distinct sequence permutations, e.g.\n",
    "\\begin{eqnarray}\n",
    "A^{[i_1]}\\,B^{[i_{a+2}]}\\cdots A^{[i_a]}\\,\n",
    "A^{[i_2]}\\,A^{[i_{a+1}]}\\cdots B^{[i_n]}\\,.\n",
    "\\end{eqnarray}\n",
    "However, for each such sequence, the\n",
    "$a$ elements with label $A$ may be rearranged amongst themselves via $a!$ permutations that do not change the positions of the label assignments, e.g.\n",
    "\\begin{eqnarray}\n",
    "A^{[i_a]}\\,B^{[i_{a+2}]}\\cdots A^{[i_2]}\\,\n",
    "A^{[i_{a+1}]}\\,A^{[i_1]}\\cdots B^{[i_n]}\\,.\n",
    "\\end{eqnarray}\n",
    "Thus, when the identifiers are subsequently neglected and the sequence positions are reindexed, these permutations all lead to an identical sequence of labels. Similarly, there are $b!$ permutations amongst the $b$ elements with label $B$\n",
    "that do not change the subsequent ordering of these labels."
   ]
  },
  {
   "cell_type": "markdown",
   "id": "3e72ed10",
   "metadata": {},
   "source": [
    "Consequently, each unique identified sequence is a member of a family of\n",
    "$\\frac{n!}{a!\\,b!}$ such sequences having the same deidentified label sequence.\n",
    "Thus, the total probability of all length $n$ sequences that have $a$ labels of $A$ and $b$ labels of $B$ is given by\n",
    "\\begin{eqnarray}\n",
    "P(n_A=a,n_B=b\\mid n_A+n_B=n,\\mathcal{S})\n",
    "& ~=~ & \\frac{n!}{a!\\,b!}\\,\n",
    "\\frac{N_A!}{(N_A-a)!}\\,\\left.\\frac{N_B!}{(N_B-b)!}\\right/\n",
    "\\frac{N!}{(N-n)!}\n",
    "\\\\& = &\n",
    "{N_A\\choose a}\\,\\left.{N_B\\choose b}\\right/{N\\choose n}\n",
    "\\,.\n",
    "\\end{eqnarray}\n",
    "This is just the *hypergeometric* distribution. Note that we implictly assume that given $n$ we\n",
    "always enforce the condition that $a+b=n$, otherwise the probability is taken to be zero.\n",
    "Likewise, we implicitly enforce the condition that $1\\le n\\le N$; for $n\\le 0$ or $n>N$ we again take the probability to be zero."
   ]
  },
  {
   "cell_type": "markdown",
   "id": "acc5d4b6",
   "metadata": {},
   "source": [
    "For convenience, we now rewrite the hypergeometric distribution in the form\n",
    "\\begin{eqnarray}\n",
    "P(a,b\\mid n,N_A,N_B)\n",
    "& ~=~ & {N_A\\choose a}\\,\\left.{N_B\\choose b}\\right/{N_A+N_B\\choose n}\\,,\n",
    "\\end{eqnarray}\n",
    "which permits us to consider cases where samples have previously been drawn, i.e. when\n",
    "we wish to reduce the effective values of $N_A$ and $N_B$ from the maximum values determined by \n",
    "$\\mathcal{S}$.\n",
    "Note that normalisation is determined by the given value of the sequence length $n$, such that\n",
    "\\begin{eqnarray}\n",
    "\\sum_{\\substack{a=0\\\\b=n-a}}^{n}\n",
    "P(a,b\\mid n,N_A,N_B)\n",
    "& ~=~ &\n",
    "\\sum_{a=0}^{n}\n",
    "{N_A\\choose a}\\,\\left.{N_B\\choose n-a}\\right/{N_A+N_B\\choose n}\n",
    "~=~1\\,.\n",
    "\\end{eqnarray}\n",
    "Now, for large enough $n$, e.g. $n>N_A$, this summation runs into boundary problems, e.g. $a>N_A$. However, rather than specify formulaic variants dependent upon $n$, we instead apply the device of \n",
    "Jaynes [[2]](#References \"References: Probability Theory - The Logic of Science\"), whereupon all factorials are evaluated via $n!=\\Gamma(n+1)$,\n",
    "with $\\Gamma(-x)=\\infty$ for all $x\\ge 0$. As a consequence,\n",
    "terms in the denominator like $(N_A-a)!$ automatically lead to zero probability for $a>N_A$."
   ]
  },
  {
   "cell_type": "markdown",
   "id": "5eb2dc6c",
   "metadata": {},
   "source": [
    "Instead of the multiplicity argument above, we may also derive the\n",
    "hypergeometric distribution via induction. \n",
    "Consider an observed sequence of length $n$ having exactly $a$ $A$'s and $b$ $B$'s.\n",
    "If this sequence ends in label $A$, i.e. $A_n$ is true, then the previous length $n-1$ subsequence\n",
    "must have $a-1$ $A$'s and $b$ $B$'s. Alternatively, if $B_n$ is true, then\n",
    "the subsequence must have $a$ $A$'s and $b-1$ $B$'s.\n",
    "Hence, assuming that $N=N_A+N_B$, we deduce that\n",
    "\\begin{eqnarray}\n",
    "P(a,b\\mid n,N_A,N_B) & ~=~ &\n",
    "P(a-1,b\\mid n-1,N_A,N_B)\\,P(A\\mid N_A-a+1,N_B-b)\n",
    "\\\\&&\n",
    "{}+P(a,b-1\\mid n-1,N_A,N_B)\\,P(B\\mid N_A-a,N_B-b+1)\n",
    "\\\\& = &\n",
    "\\frac{{N_A\\choose a-1}\\,{N_B\\choose b}}{N\\choose n-1}\\,\\frac{N_A-a+1}{N-n+1}\n",
    "+\\frac{{N_A\\choose a}\\,{N_B\\choose b-1}}{N\\choose n-1}\\,\\frac{N_B-b+1}{N-n+1}\n",
    "\\\\&=&\n",
    "\\frac{\n",
    "\\frac{N_A!\\,(N_A-a+1)}{(a-1)!\\,(N_A-a+1)!}\\,\\frac{N_B!}{b!\\,(N_B-b)!}\n",
    "+\\frac{N_A!}{a!\\,(N_A-a)!}\\,\\frac{N_B!\\,(N_B-b+1)}{(b-1)!\\,(N_B-b+1)!}\n",
    "}\n",
    "{\\frac{N!\\,(N-n+1)}{(n-1)!\\,(N-n+1)!}}\n",
    "\\\\&=&\n",
    "\\frac{\n",
    "\\frac{a\\,N_A!}{a!\\,(N_A-a)!}\\,\\frac{N_B!}{b!\\,(N_B-b)!}\n",
    "+\\frac{N_A!}{a!\\,(N_A-a)!}\\,\\frac{b\\,N_B!}{b!\\,(N_B-b)!}\n",
    "}\n",
    "{\\frac{n\\,N!}{n!\\,(N-n)!}}\n",
    "\\\\&=&\n",
    "\\frac{a+b}{n}\\,{N_A\\choose a}\\,\\left.{N_B\\choose b}\\right/{N\\choose n}\n",
    "\\\\&=&\n",
    "{N_A\\choose a}\\,\\left.{N_B\\choose b}\\right/{N_A+N_B\\choose n}\\,,\n",
    "\\end{eqnarray}\n",
    "since $n=a+b$."
   ]
  },
  {
   "cell_type": "markdown",
   "id": "b40f8d56",
   "metadata": {},
   "source": [
    "## Exchangeability"
   ]
  },
  {
   "cell_type": "markdown",
   "id": "346888f4",
   "metadata": {},
   "source": [
    "We may now consider some of the consequences of exchangeable sequences.\n",
    "In particular, we look at the both the exchangeability of single observations within a sequence,\n",
    "and then the exchangeability of pairs of observations."
   ]
  },
  {
   "cell_type": "markdown",
   "id": "0dfce365",
   "metadata": {},
   "source": [
    "### Exchangeability of single observations"
   ]
  },
  {
   "cell_type": "markdown",
   "id": "5ca455e4",
   "metadata": {},
   "source": [
    "Firstly, observe that the probability of the first draw having label $A$ is just\n",
    "\\begin{eqnarray}\n",
    "P(A_1\\mid\\mathcal{S}) & ~=~ & \\frac{N_A}{N}\\,.\n",
    "\\end{eqnarray}\n",
    "Next, suppose we proceed to a second draw, but failed to record the result of the first draw.\n",
    "Then observe that\n",
    "\\begin{eqnarray}\n",
    "P(A_2\\mid\\mathcal{S}) & ~=~ & \n",
    "P(A_1 A_2\\mid\\mathcal{S})+P(B_1 A_2\\mid\\mathcal{S})\n",
    "\\\\&=&\n",
    "\\frac{N_A}{N}\\,\\frac{N_A-1}{N-1}+\\frac{N_B}{N}\\,\\frac{N_A}{N-1}\n",
    "\\\\&=&\n",
    "\\frac{N_A}{N(N-1)}(N_A+N_B-1)\n",
    "\\\\&=&\n",
    "\\frac{N_A}{N}~=~P(A_1\\mid\\mathcal{S})\n",
    "\\,,\n",
    "\\end{eqnarray}\n",
    "since $N_A+N_B=N$.\n",
    "This tells us that observing a label of A on the second draw (without any other context) is equivalent to observing a label of A on the first draw. In other words, we may exchange $A_2$ for $A_1$."
   ]
  },
  {
   "cell_type": "markdown",
   "id": "a65f41fa",
   "metadata": {},
   "source": [
    "More generally, consider a length $n$ sequence ending with $A_n$ - we wish to deduce\n",
    "$P(A_n\\mid\\mathcal{S})$. For convenience, let\n",
    "$P(A\\mid n,N_A,N_B)$ denote the probability of starting with an available set of $N_A$ label $A$'s and $N_B$ label $B$'s, performing $n$ draws and observing an $A$ on the $n$th draw.\n",
    "We may suppose that the initial subsequence of length $n-1$ has $a$ $A$'s and $b$ $B$'s, for arbitrary $a=0,1,\\ldots,n-1$.\n",
    "Then it follows that\n",
    "\\begin{eqnarray}\n",
    "P(A_n\\mid\\mathcal{S}) & ~\\doteq~ &\n",
    "P(A\\mid n,N_A,N_B)\n",
    "\\\\&=&\n",
    "\\sum_{\\substack{a=0\\\\b=n-a-1}}^{n-1} \n",
    "P(a,b\\mid n-1,N_A,N_B)\\,P(A\\mid 1,N_A-a,N_B-b)\n",
    "\\\\&=&\n",
    "\\sum_{\\substack{a=0\\\\b=n-a-1}}^{n-1} \n",
    "\\frac{{N_A\\choose a}\\,{N_B\\choose b}}{N\\choose n-1}\\,\n",
    "\\frac{N_A-a}{N-n+1}\n",
    "\\\\&=&\n",
    "\\sum_{\\substack{a=0\\\\b=n-a-1}}^{n-1} \n",
    "\\frac{\\frac{N_A!\\,(N_A-a)}{a!\\,(N_A-a)!}\\,{N_B\\choose b}}\n",
    "{\\frac{N!\\,(N-n+1)}{(n-1)!\\,(N-n+1)!}}\n",
    "\\\\&=&\n",
    "\\sum_{\\substack{a=0\\\\b=n-a-1}}^{n-1} \n",
    "\\frac{\\frac{N_A\\,(N_A-1)!}{a!\\,((N_A-1)-a)!}\\,{N_B\\choose b}}\n",
    "{\\frac{N\\,(N-1)!}{(n-1)!\\,((N-1)-(n-1))!}}\n",
    "\\\\&=&\n",
    "\\frac{N_A}{N}\\,\n",
    "\\sum_{\\substack{a=0\\\\b=n-a-1}}^{n-1} \n",
    "\\frac{{N_A-1\\choose a}\\,{N_B\\choose b}}{N-1\\choose n-1}\n",
    "\\\\&=&\n",
    "\\frac{N_A}{N}~=~P(A_1\\mid\\mathcal{S})\\,.\n",
    "\\end{eqnarray}\n",
    "Consequently, we may exchange $A_1$ and $A_n$ for any valid $n$.\n",
    "Additionally, we have also deduced that\n",
    "\\begin{eqnarray}\n",
    "P(A\\mid n,N_A,N_B) & ~\\doteq~ & \\frac{N_A}{N_A+N_B}\\,,\n",
    "\\end{eqnarray}\n",
    "for valid $n$; clearly, this probability is zero if $n>N_A+N_B$."
   ]
  },
  {
   "cell_type": "markdown",
   "id": "6e3e80c3",
   "metadata": {},
   "source": [
    "Another point of interest that arises from this derivation is the occurrence of terms in $N_A-1$.\n",
    "We began the derivation by assuming that we may sample $a$ out of $N_A$ of the $A$ labels in\n",
    "$\\mathcal{S}$. However, the subsequent assumption that $A_n$ is also true provides additional information that one of the $A$'s must have been effectively \"reserved\" in advance, leaving only \n",
    "$N_A-1$ $A$'s out of $N-1$ elements available for sampling ahead of $A_n$.\n",
    "As Jaynes [[2]](#References \"References: Probability Theory - The Logic of Science\")\n",
    "repeatedly observes, this automatic self-correction is a consequence of the consistency of Bayesian analysis as new evidence becomes available.\n",
    "\n",
    "In fact, due to exchangeability, the penultimate line of the above derivation is exactly equivalent to first sampling $A_1$ and then further sampling another $n-1$ elements with arbitrary labels.\n",
    "Symbolically, this equivalence may be denoted as\n",
    "\\begin{eqnarray}\n",
    "(A_1\\lor B_1)\\cdots(A_{n-1}\\lor B_{n-1})\\,A_n & ~\\equiv~ &\n",
    "A_1\\,(A_2\\lor B_2)\\ldots(A_n\\lor B_n)\\,.\n",
    "\\end{eqnarray}\n",
    "Consequently, we also have the general equivalence\n",
    "\\begin{eqnarray}\n",
    "(A_1\\lor B_1)\\cdots(A_{k-1}\\lor B_{k-1})\\,A_k\\,(A_{k+1}\\lor B_{k+1})\\cdots(A_n\\lor B_n) & ~\\equiv~ &\n",
    "A_1\\,(A_2\\lor B_2)\\ldots(A_n\\lor B_n)\\,.\n",
    "\\end{eqnarray}\n",
    "due to exchangeability. Thus, we may more simply write the equivalence as $A_k\\equiv A_1$, which means that for any partially observed sequence where we have observed only a single label, we may permute the position of that label anywhere within the sequence."
   ]
  },
  {
   "cell_type": "markdown",
   "id": "8835bf66",
   "metadata": {},
   "source": [
    "### Expectation of single observations"
   ]
  },
  {
   "cell_type": "markdown",
   "id": "ceea4a9f",
   "metadata": {},
   "source": [
    "We now examine how exchangeability influences expectation. In particlar, for a length $n$ sequence,\n",
    "the expected value of the number $n_A$ of $A$ labels is given by\n",
    "\\begin{eqnarray}\n",
    "\\mathbb{E}[n_A\\mid n,\\mathcal{S}] & ~=~ &\n",
    "\\sum_{\\substack{a=0\\\\b=n-a}}^{n} a\\,P(a,b\\mid n,N_A,N_B)\n",
    "\\\\& = &\n",
    "\\sum_{\\substack{a=0\\\\b=n-a}}^{n} \n",
    "a\\,{N_A\\choose a}\\,\\left.{N_B\\choose b}\\right/{N\\choose n}\n",
    "\\\\& = &\n",
    "\\sum_{\\substack{a=0\\\\b=n-a}}^{n} \n",
    "\\frac{a\\,N_A!}{a!\\,(N_A-a)!}\\,\\left.{N_B\\choose b}\n",
    "\\right/\\frac{N!}{n!\\,(N-n)!}\n",
    "\\\\& = &\n",
    "\\sum_{\\substack{a=0\\\\b=n-a}}^{n} \n",
    "\\frac{N_A\\,(N_A-1)!}{(a-1)!\\,((N_A-1)-(a-1))!}\\,\\left.{N_B\\choose b}\n",
    "\\right/\\frac{N\\,(N-1)!}{n\\,(n-1)!\\,((N-1)-(n-1))!}\n",
    "\\\\& = &\n",
    "\\frac{n\\,N_A}{N}\\,\n",
    "\\sum_{\\substack{a=0\\\\b=n-a}}^{n} \n",
    "{N_A-1\\choose a-1}\\,\\left.{N_B\\choose b}\\right/{N-1\\choose n-1}\n",
    "\\\\&=&\n",
    "\\frac{n\\,N_A}{N}~=~n\\,P(A_1\\mid\\mathcal{S})\\,.\n",
    "\\end{eqnarray}\n",
    "Hence, the expected value of $n_A$ is just the length of the sequence multiplied by the probability of\n",
    "observing an $A$ label (in any position)."
   ]
  },
  {
   "cell_type": "markdown",
   "id": "bf5fb299",
   "metadata": {},
   "source": [
    "As an alternative derivation, consider a sequence of independent, binary indicator variables of the form $z_k\\doteq\\delta(A_k)$, where $z_k=1$ if $A_k$ is true, otherwise $z_k=0$.\n",
    "Then for an observed sequence of length $n$ we have $n_A=\\sum_{k=1}^{n}z_k$.\n",
    "Consequently, the expected value of $n_A$ is now given by\n",
    "\\begin{eqnarray}\n",
    "\\mathbb{E}[n_A\\mid n,\\mathcal{S}] & ~=~ &\n",
    "\\sum_{k=1}^{n}\\mathbb{E}[z_k\\mid\\mathcal{S}]\n",
    "~=~\\sum_{k=1}^{n} P(A_k\\mid\\mathcal{S})~=~n\\,P(A_1\\mid\\mathcal{S})\\,,\n",
    "\\end{eqnarray}\n",
    "due to the \n",
    "[exchangeability](#Exchangeability-of-single-observations \"Section: Exchangeability of single observations\")\n",
    "of $A_k$ with $A_1$."
   ]
  },
  {
   "cell_type": "markdown",
   "id": "558b1d2d",
   "metadata": {},
   "source": [
    "### Exchangeability of paired observations"
   ]
  },
  {
   "cell_type": "markdown",
   "id": "088a8115",
   "metadata": {},
   "source": [
    "We now turn to pairs of (not necessarily adjacent) observations, say $A_j$ and $A_k$, within\n",
    "a sequence of arbitrary length $n$, e.g. $1\\le j<k\\le n$.\n",
    "From Bayes' rule, we have\n",
    "\\begin{eqnarray}\n",
    "P(A_j\\land A_k\\mid\\mathcal{S}) & ~=~ &\n",
    "P(A_j\\mid A_k,\\mathcal{S})\\,P(A_k\\mid\\mathcal{S})\n",
    "~=~\n",
    "P(A_k\\mid A_j,\\mathcal{S})\\,P(A_j\\mid\\mathcal{S})\\,.\n",
    "\\end{eqnarray}\n",
    "However, since\n",
    "\\begin{eqnarray}\n",
    "P(A_j\\mid\\mathcal{S})~=~ & P(A_1\\mid\\mathcal{S}) & ~=~P(A_k\\mid\\mathcal{S})\\,,\n",
    "\\end{eqnarray}\n",
    "due to [exchangeability](#Exchangeability-of-single-observations \"Section: Exchangeability of single observations\"), then it follows that\n",
    "\\begin{eqnarray}\n",
    "P(A_j\\mid A_k,\\mathcal{S}) & ~=~ &\n",
    "P(A_k\\mid A_j,\\mathcal{S})\\,.\n",
    "\\end{eqnarray}\n",
    "As Jaynes [[2]](#References \"References: Probability Theory - The Logic of Science\")\n",
    "notes, this means that inferring the future from the past has the same status as inferring the past from the future (at least for Bernoulli urn sampling), regardless of the direction of causality.\n",
    "This is another reason why, from our previous [example](#Exchangeability-of-single-observations \"Section: Exchangeability of single observations\"), observing $A_n$ and inferring $A_1$ was equivalent\n",
    "to observing $A_1$ and inferring $A_n$."
   ]
  },
  {
   "cell_type": "markdown",
   "id": "adb903c0",
   "metadata": {},
   "source": [
    "More generally, we want to know if there exists a simple calculation for \n",
    "$P(A_j\\land A_k\\mid\\mathcal{S})$. Once again, we suppose that there are\n",
    "arbitrary numbers $a$ $A$'s and $b$ $B$'s in the first $j-1$ draws.\n",
    "Then it follows that\n",
    "\\begin{eqnarray}\n",
    "P(A_j\\land A_k\\mid\\mathcal{S}) & ~=~ &\n",
    "\\sum_{\\substack{a=0\\\\b=j-1-a}}^{j-1}\n",
    "P(a,b\\mid j-1,N_A,N_B)\\,P(A\\mid 1, N_A-a,N_B-b)\\,\n",
    "P(A\\mid k-j,N_A-a-1,N_B-b)\n",
    "\\\\& = &\n",
    "\\sum_{\\substack{a=0\\\\b=j-1-a}}^{j-1}\n",
    "\\frac{{N_A\\choose a}\\,{N_B\\choose b}}{N\\choose j-1}\\,\n",
    "\\frac{N_A-a}{N-j+1}\\,\n",
    "\\frac{N_A-a-1}{N-j}\\,\n",
    "\\\\& = &\n",
    "\\sum_{\\substack{a=0\\\\b=j-1-a}}^{j-1}\n",
    "\\frac{N_A!\\,(N_A-a)\\,(N_A-a-1)}{a!\\,(N_A-a)!}\\,\n",
    "\\left.{N_B\\choose b}\n",
    "\\right/\n",
    "\\frac{N!\\,(N-j+1)\\,(N-j)}{(j-1)!\\,(N-j+1)!}\n",
    "\\\\& = &\n",
    "\\sum_{\\substack{a=0\\\\b=j-1-a}}^{j-1}\n",
    "\\frac{N_A\\,(N_A-1)\\,(N_A-2)!}{a!\\,((N_A-2)-a)!}\\,\n",
    "\\left.{N_B\\choose b}\n",
    "\\right/\n",
    "\\frac{N\\,(N-1)\\,(N-2)!}{(j-1)!\\,((N-2)-(j-1))!}\n",
    "\\\\& = &\n",
    "\\frac{N_A\\,(N_A-1)}{N\\,(N-1)}\n",
    "\\sum_{\\substack{a=0\\\\b=j-1-a}}^{j-1}\n",
    "{N_A-2\\choose a}\\,\n",
    "\\left.{N_B\\choose b}\n",
    "\\right/\n",
    "{N-2\\choose j-1}\n",
    "\\\\&=&\n",
    "\\frac{N_A\\,(N_A-1)}{N\\,(N-1)}~=~P(A_1 A_2\\mid\\mathcal{S})\n",
    "\\,.\n",
    "\\end{eqnarray}\n",
    "Thus, the ordered pair $A_j A_k$, for any valid $j<k$, may be exchanged with the ordered pair $A_1 A_2$. However, it clearly doesn't matter whether $A_j\\rightarrow A_1$ and $A_k\\rightarrow A_2$ or else\n",
    "$A_j\\rightarrow A_2$ and $A_k\\rightarrow A_1$. Consequently, we obtain the unordered equivalence\n",
    "$A_j A_k\\equiv A_1 A_2$ for any valid $j\\ne k$."
   ]
  },
  {
   "cell_type": "markdown",
   "id": "20576d4f",
   "metadata": {},
   "source": [
    "Next, we want to compute $P(A_j\\land B_k\\mid\\mathcal{S})$.\n",
    "Since $A_j\\equiv A_j\\land(A_k\\lor B_k)$, it follows that\n",
    "\\begin{eqnarray}\n",
    "P(A_j\\land B_k\\mid\\mathcal{S}) & ~=~ & P(A_j\\mid\\mathcal{S}) - P(A_j\\land A_k\\mid\\mathcal{S})\n",
    "\\\\& = &\n",
    "\\frac{N_A}{N}-\\frac{N_A\\,(N_A-1)}{N\\,(N-1)}\n",
    "\\\\& = &\n",
    "\\frac{N_A}{N}\\,\\frac{(N-1)-(N_A-1)}{N-1}\n",
    "\\\\& = &\n",
    "\\frac{N_A\\,N_B}{N\\,(N-1)}\n",
    "\\\\& = &\n",
    "P(A_1 B_2\\mid\\mathcal{S})~=~P(B_1 A_2\\mid\\mathcal{S})\\,.\n",
    "\\end{eqnarray}\n",
    "Consequently, the ordered pair $A_j B_k$, for any valid $j<k$, may be exchanged with either of the ordered pairs $A_1 B_2$ or $B_1 A_2$.\n",
    "\n",
    "However, now imagine a transformation that simultaneously swapped every \"A\" label with a \"B\" label and\n",
    "vice versa. Consequently, we would also have to sawp terms in $N_A$ and $N_B$ in our formulae, since\n",
    "they would have exchanged meaning, i.e. $N_B$ would now mean the number of $A$'s.\n",
    "Hence, by symmetry, we deduce that\n",
    "\\begin{eqnarray}\n",
    "P(B_j\\land A_k\\mid\\mathcal{S}) & ~=~ & \n",
    "P(B_1 A_2\\mid\\mathcal{S})~=~P(A_1 B_2\\mid\\mathcal{S})\\,.\n",
    "\\end{eqnarray}\n",
    "Consequently, we obtain the unordered equivalences\n",
    "$A_j B_k\\equiv B_j A_k\\equiv A_1 B_2\\equiv B_1 A_2$ for any valid $j\\ne k$.\n",
    "Thus, for any partially observed sequence where we have observed only two labels, we may permute the positions of those labels anywhere within the sequence."
   ]
  },
  {
   "cell_type": "markdown",
   "id": "1bc8ef60",
   "metadata": {},
   "source": [
    "### Expectation of paired observations"
   ]
  },
  {
   "cell_type": "markdown",
   "id": "976d494d",
   "metadata": {},
   "source": [
    "For any sequence of arbitrary length $n$, we now consider the Boolean proposition\n",
    "\\begin{eqnarray}\n",
    "U_k & ~\\doteq~ A_k B_{k+1}\\lor B_k A_{k+1}\\,,\n",
    "\\end{eqnarray}\n",
    "for $k=1,2,\\ldots,n-1$. Hence, $U_k$ implies observing an unlike pair of labels in\n",
    "the consecutive positions $k$ and $k+1$. The total number $n_U$ of such unlike pairs is then given by\n",
    "$n_U\\doteq\\sum_{k=1}^{n-1}\\delta(U_k)$. Recall that $\\delta(U_k)=1$ if $U_k$ is true, otherwise \n",
    "$\\delta(\\texttt{false})=0$.\n",
    "\n",
    "The expected number of unlike pairs is then given by\n",
    "\\begin{eqnarray}\n",
    "\\mathbb{E}[n_U\\mid n,\\mathcal{S}] & ~=~ & \n",
    "\\sum_{k=1}^{n-1}\\mathbb{E}[\\delta(U_k)\\mid\\mathcal{S}]~=~\n",
    "\\sum_{k=1}^{n-1}P(U_k\\mid\\mathcal{S})\n",
    "\\\\& = &\n",
    "\\sum_{k=1}^{n-1}P(A_k B_{k+1}\\lor B_k A_{k+1}\\mid\\mathcal{S})\n",
    "\\\\& = &\n",
    "\\sum_{k=1}^{n-1}\\left\\{P(A_k B_{k+1}\\mid\\mathcal{S})+\n",
    "P(B_k A_{k+1}\\mid\\mathcal{S})\\right\\}\n",
    "\\\\& = &\n",
    "2(n-1)\\,P(A_1 B_2\\mid\\mathcal{S})~=~2(n-1)\\frac{N_A N_B}{N(N-1)}\\,,\n",
    "\\end{eqnarray}\n",
    "due to [exchangeability](#Exchangeability-of-paired-observations \"Section: Exchangeability of paired observations\")."
   ]
  },
  {
   "cell_type": "markdown",
   "id": "9a950303",
   "metadata": {},
   "source": [
    "We are finally in a position to solve\n",
    "Problem 15 \"*The Theater Row*\" from\n",
    "Mosteller [[1]](#References \"References: Fifty Challenging Problems in Probability\").\n",
    "Exhaustively sampling the entire set $\\mathcal{S}$ produces a sequence of length $n=N=N_A+N_B$.\n",
    "Taking $m=N_A$ to be the number of models and $b=N_B$ to be the number of bachelors, we deduce that\n",
    "the expected number of bachelor-model pairs (in any order) is now given by\n",
    "\\begin{eqnarray}\n",
    "\\mathbb{E}[n_U\\mid n,\\mathcal{S}] & ~=~ & 2(N-1)\\frac{N_A N_B}{N(N-1)}\n",
    "~=~\\frac{2mb}{m+b}\\,.\n",
    "\\end{eqnarray}\n",
    "For the actual problem, we are given $m=7$ models and $b=8$ bachelors, resulting in the expected number of unlike pairs of $\\frac{2\\times7\\times 8}{7+8}=\\frac{112}{15}\\approx 7.5$.\n"
   ]
  },
  {
   "cell_type": "code",
   "execution_count": null,
   "id": "201b860e",
   "metadata": {},
   "outputs": [],
   "source": []
  },
  {
   "cell_type": "code",
   "execution_count": null,
   "id": "09775d8c",
   "metadata": {},
   "outputs": [],
   "source": []
  },
  {
   "cell_type": "markdown",
   "id": "e331bcba",
   "metadata": {},
   "source": [
    "## References"
   ]
  },
  {
   "cell_type": "markdown",
   "id": "2736f28f",
   "metadata": {},
   "source": [
    "[1] F. Mosteller (1987 edition), \"*Fifty Challenging Problems in Probability*\", Dover.\n",
    "\n",
    "[2] E. T. Jaynes (2003), \"*Probability Theory - The Logic of Science*\", Cambridge University Press."
   ]
  },
  {
   "cell_type": "code",
   "execution_count": null,
   "id": "5f9f3d0d",
   "metadata": {},
   "outputs": [],
   "source": []
  }
 ],
 "metadata": {
  "kernelspec": {
   "display_name": "Python 3 (ipykernel)",
   "language": "python",
   "name": "python3"
  },
  "language_info": {
   "codemirror_mode": {
    "name": "ipython",
    "version": 3
   },
   "file_extension": ".py",
   "mimetype": "text/x-python",
   "name": "python",
   "nbconvert_exporter": "python",
   "pygments_lexer": "ipython3",
   "version": "3.11.5"
  }
 },
 "nbformat": 4,
 "nbformat_minor": 5
}
