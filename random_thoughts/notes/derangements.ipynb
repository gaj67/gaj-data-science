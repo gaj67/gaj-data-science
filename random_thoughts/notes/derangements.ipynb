{
 "cells": [
  {
   "cell_type": "markdown",
   "id": "17b68a3d",
   "metadata": {},
   "source": [
    "# Derangements of Sequences"
   ]
  },
  {
   "cell_type": "markdown",
   "id": "a10f8aa0",
   "metadata": {},
   "source": [
    "Given a known sequence of distinct elements, we consider perturbations of that seqeuence, known as *arrangements* or, excluding the original sequence, *rearrangements*. In particular, we seek perturbations\n",
    "such that none of the perturbed elements match the elements in the same position in the original sequence. Such perturbations are known as *derangements*."
   ]
  },
  {
   "cell_type": "markdown",
   "id": "05c25e47",
   "metadata": {},
   "source": [
    "## Hat Check Problem"
   ]
  },
  {
   "cell_type": "markdown",
   "id": "755635b9",
   "metadata": {},
   "source": [
    "The original problem of derangements was called the *Hat Check Problem*.\n",
    "Consider that $N$ people arrive at some evening venue, one at a time, each wearing a hat. The hats are checked into \n",
    "storage for later collection, but the hat clerk, being a temporary, last-minute replacement, forgets to ticket each hat.\n",
    "Thus, when the people leave the venue later that night in some arbitrary order, they are given a random hat by the clerk.\n",
    "We must further suppose that it is very dark outside the venue and also inside the hat-check area, such that people do not notice they have the wrong (or right) hat until everyone has already collected a hat and left.\n",
    "\n",
    "The question of interest is this: What is the probability that none of the $N$ people receive their correct\n",
    "hat at the end of the night?"
   ]
  },
  {
   "cell_type": "markdown",
   "id": "bfe0f2b2",
   "metadata": {},
   "source": [
    "### Counting derangements"
   ]
  },
  {
   "cell_type": "markdown",
   "id": "63fea0ca",
   "metadata": {},
   "source": [
    "For convenience, we uniquely label the people in order of their arrival as $P_1, P_2, \\ldots, P_N$.\n",
    "Similarly, we uniquely label their respective hats as $H_1, H_2, \\ldots, H_N$.\n",
    "Hence, only the ordering $H_1, ..., H_N$ is correct,\n",
    "and any other ordering (i.e. any of the other $N! - 1$ permutations or rearrangements) is incorrect.\n",
    "\n",
    "However, we can further distinguish between rearrangements where some (one or more) people\n",
    "get their right hats, and derangements where no-one gets their right hat. Thus, we can ask: How many possible derangements are there?"
   ]
  },
  {
   "cell_type": "markdown",
   "id": "df59a7a8",
   "metadata": {},
   "source": [
    "To count the number, $D(N)$, of derangements, suppose that person $P_1$ is given the wrong hat $H_i$, for some $i\\in\\{2,3,\\ldots,N\\}$,\n",
    "which can clearly happen in exactly $N - 1$ ways. We might write this as the assignment $P_1 \\leftarrow H_i$.\n",
    "\n",
    "Now, because hat $H_i$ has been given to person $P_1$, then person $P_i$ cannot receive their correct hat $H_i$.\n",
    "Thus, we can now split the problem into two sub-problems, such that either:\n",
    "\n",
    "1. Person $P_i$ gets hat $H_1$, i.e. $P_i \\leftarrow H_1$.\n",
    "2. Person $P_i$ does not get hat $H_1$, i.e. $P_i \\leftarrow H_j$, with $j\\in\\{2,\\ldots,i-1,i+1,\\ldots,N\\}$.\n",
    "\n",
    "For case 1, the partial hats-to-people assignments look like\n",
    "\\begin{eqnarray}\n",
    "&& P_1\\cdots P_i\\cdots P_N\n",
    "\\\\\n",
    "\\leftarrow && H_i\\cdots H_1\\cdots\n",
    "\\end{eqnarray}\n",
    "Consequently, 2 people so far, namely $P_1$ and $P_i$, do not have their correct hats. Thus, a full derangement\n",
    "requires that none of the remaining $N-2$ people receive their correct hats.\n",
    "Specifically, **none** of the following assignments are permitted:\n",
    "\\begin{eqnarray}\n",
    "&& P_2\\cdots P_{i-1}P_{i+1}\\cdots P_N\n",
    "\\\\\n",
    "\\leftarrow && H_2\\cdots H_{i-1}H_{i+1}\\cdots H_N\\;\\;\\;\\mbox{(not permitted)}\n",
    "\\end{eqnarray}\n",
    "Thus, the remaining $N-2$ assigments may be deranged in exactly $D(N-2)$ ways.\n",
    "\n",
    "For case 2, we have already established that person $P_i$ cannot be given hat $H_1$ (since this is just case 1).\n",
    "Likewise, none of the remaining $N-2$ people may receive their correct hats. Thus, a full derangement requires that **none** of\n",
    "the following assignments is permitted:\n",
    "\\begin{eqnarray}\n",
    "&& P_2\\cdots P_{i-1}P_iP_{i+1}\\cdots P_N\n",
    "\\\\\n",
    "\\leftarrow && H_2\\cdots H_{i-1}H_1H_{i+1}\\cdots H_N\\;\\;\\;\\mbox{(not permitted)}\n",
    "\\end{eqnarray}\n",
    "Thus, since we have already counted person $P_1$, none of the remaining $N-1$ people may be given the hats\n",
    "listed above. Hence, the $N-1$ assignments may be deranged in $D(N-1)$ ways.\n",
    "\n",
    "Consequently, combining cases 1 and 2, we obtain the recurrence relation\n",
    "\\begin{eqnarray}\n",
    "    D(N) = (N-1) \\left[D(N-2) + D(N-1)\\right]\\,,\n",
    "\\end{eqnarray}\n",
    "since we observed above that person $P_1$ may get the wrong hat in $N-1$ distinct ways."
   ]
  },
  {
   "cell_type": "markdown",
   "id": "550db1a9",
   "metadata": {},
   "source": [
    "For boundary conditions, we observe that if there is only $N=1$ person, then the only possible assignment is \n",
    "$P_1\\leftarrow H_1$, and there can be no derangements, i.e. $D(1)=0$. Likewise, if $N=2$, then the only\n",
    "possible assignments are $P_1P_2\\leftarrow H_1H_2$ and $P_1P_2\\leftarrow H_2H_1$, of which the first assignment\n",
    "is correct and the second is a derangement, giving $D(2)=1$. Hence, the recursion holds for $N\\ge 2$ if we\n",
    "define $D(0)\\doteq 1$ for convenience."
   ]
  },
  {
   "cell_type": "markdown",
   "id": "37bfcacc",
   "metadata": {},
   "source": [
    "Unrolling the recursion, we observe that\n",
    "\\begin{eqnarray}\n",
    "D(1) & = & 0\\,,\n",
    "\\\\\n",
    "D(2) & = & 1\\,,\n",
    "\\\\\n",
    "D(3) & = & 2\\left[D(2)+D(1)\\right] = 2\\times (1+0) = 2!\n",
    "\\\\\n",
    "D(4) & = & 3\\left[D(3)+D(2)\\right] = 3\\left[2!+1\\right] = 3!+3\n",
    "\\\\\n",
    "D(5) & = & 4\\left[D(4)+D(3)\\right] = 4\\left[(3!+3)+(2!)\\right] = 4!+4\\times 5\n",
    "\\\\\n",
    "D(6) & = & 5\\left[D(5)+D(4)\\right] = 5\\left[(4!+20)+(3!+3)\\right] = 5!+5\\times 29\n",
    "\\end{eqnarray}"
   ]
  },
  {
   "cell_type": "markdown",
   "id": "805571dc",
   "metadata": {},
   "source": [
    "We observe that $D(n) = (n-1)! + (n-1)\\,g(n-1)$. However, more effort\n",
    "is required to obtain an exact formula for $g(n)$, and thus $D(n)$."
   ]
  },
  {
   "cell_type": "markdown",
   "id": "28de9ee5",
   "metadata": {},
   "source": [
    "### Probability of derangement"
   ]
  },
  {
   "cell_type": "markdown",
   "id": "683c3104",
   "metadata": {},
   "source": [
    "Since $N!$ is the number of distinct arrangements of N people/hats, and\n",
    "$D(N)$ is the number of derangements, then \n",
    "$P(N) = \\frac{D(N)}{N!}$ is the probability that no-one gets their right hat, assuming that an arbitrary arrangement is selected uniformly at random.\n",
    "\n",
    "From the recurrence relation, we have\n",
    "\\begin{eqnarray}\n",
    "    P(N) & = & \\frac{D(N)}{N!}\n",
    "\\\\\n",
    "         & = & \\frac{N-1}{N!} \\left[D(N-1)+D(N-2)\\right]\n",
    "\\\\\n",
    "         & = & \\frac{N-1}{N} P(N-1) + \\frac{1}{N} P(N-2)\n",
    "\\\\\n",
    "        & = & P(N-1) - \\frac{1}{N} \\left[P(N-1) - P(N-2)\\right]\n",
    "\\,,\n",
    "\\end{eqnarray}\n",
    "where $P(0)=\\frac{D(0)}{0!}=1$ by definition, and \n",
    "$P(1)=\\frac{D(1)}{1!}=0$ by construction. \n",
    "The former sort of makes sense when we\n",
    "consider that if there are no people and no hats, then \n",
    "there is no way to correctly assign hats to people, and thus the\n",
    "probability of not correctly assigning hats must be unity!\n",
    "\n",
    "Unrolling the recursion gives\n",
    "\\begin{eqnarray}\n",
    "P(2) & = & P(1) - \\frac{1}{2}\\left[P(1)-P(0)\\right]\n",
    "= \\frac{1}{2} = \\frac{1}{2!}\\,,\n",
    "\\\\\n",
    "P(3) & = & P(2) - \\frac{1}{3}\\left[P(2)-P(1)\\right]\n",
    "= \\frac{1}{2!}-\\frac{1}{3}\\times\\frac{1}{2}\n",
    "= \\frac{1}{2!}-\\frac{1}{3!}\\,,\n",
    "\\\\\n",
    "P(4) & = & P(3) - \\frac{1}{4}\\left[P(3)-P(2)\\right]\n",
    "= \\left[\\frac{1}{2!}-\\frac{1}{3!}\\right]\n",
    "-\\frac{1}{4}\\left[\\frac{1}{2!}-\\frac{1}{3!}\\right]\n",
    "+\\frac{1}{4}\\left[\\frac{1}{2!}\\right]\n",
    "\\\\& = & \\frac{1}{2!}-\\frac{1}{3!}+\\frac{1}{4!}\\,.\n",
    "\\end{eqnarray}\n",
    "We hypothesise that\n",
    "\\begin{eqnarray}\n",
    "P(N) & = & \\sum_{n=0}^{N}\\frac{(-1)^n}{n!}\\,,\n",
    "\\end{eqnarray}\n",
    "which clearly holds for $P(0)=\\frac{(-1)^0}{0!}=1$\n",
    "and $P(1)=1+\\frac{(-1)^1}{1!}=0$.\n",
    "Thus, we have\n",
    "\\begin{eqnarray}\n",
    "P(N) - P(N-1) & = & \\sum_{n=0}^{N}\\frac{(-1)^n}{n!}\n",
    "-\\sum_{n=0}^{N-1}\\frac{(-1)^n}{n!}\n",
    "= \\frac{(-1)^{N}}{N!}\\,.\n",
    "\\end{eqnarray}\n",
    "Hence, from the recurrence relation, we have\n",
    "\\begin{eqnarray}\n",
    "P(N+1) & = & P(N)-\\frac{1}{N+1}\\left[P(N)-P(N-1)\\right]\n",
    "\\\\& = & \\sum_{n=0}^{N}\\frac{(-1)^n}{n!}\n",
    "-\\frac{1}{N+1}\\frac{(-1)^{N}}{N!}\n",
    "\\\\& = & \\sum_{n=0}^{N}\\frac{(-1)^n}{n!}\n",
    "+\\frac{(-1)^{N+1}}{(N+1)!} = \\sum_{n=0}^{N+1}\\frac{(-1)^n}{n!}\\,,\n",
    "\\end{eqnarray}\n",
    "and we have therefore proven our hypothesis via induction."
   ]
  },
  {
   "cell_type": "markdown",
   "id": "b117aca4",
   "metadata": {},
   "source": [
    "Let us now check this relationship numerically."
   ]
  },
  {
   "cell_type": "code",
   "execution_count": 1,
   "id": "96f770db",
   "metadata": {},
   "outputs": [],
   "source": [
    "def D_n(n):\n",
    "    if n <= 0:\n",
    "        return 1\n",
    "    elif n == 1:\n",
    "        return 0\n",
    "    else:\n",
    "        return (n-1) * (D_n(n-1) + D_n(n-2))"
   ]
  },
  {
   "cell_type": "code",
   "execution_count": 2,
   "id": "1cd610d4",
   "metadata": {},
   "outputs": [
    {
     "name": "stdout",
     "output_type": "stream",
     "text": [
      "[1, 0, 1, 2, 9, 44, 265, 1854, 14833, 133496, 1334961, 14684570, 176214841, 2290792932, 32071101049, 481066515734, 7697064251745, 130850092279664, 2355301661033953, 44750731559645106, 895014631192902121]\n"
     ]
    }
   ],
   "source": [
    "print(list(D_n(n) for n in range(21)))"
   ]
  },
  {
   "cell_type": "code",
   "execution_count": 3,
   "id": "9fe375c6",
   "metadata": {},
   "outputs": [],
   "source": [
    "def factorial(n):\n",
    "    if n <= 1:\n",
    "        return 1\n",
    "    else:\n",
    "        return n * factorial(n-1)"
   ]
  },
  {
   "cell_type": "code",
   "execution_count": 4,
   "id": "c76dbd25",
   "metadata": {},
   "outputs": [],
   "source": [
    "def P_n(n):\n",
    "    return D_n(n) / factorial(n)"
   ]
  },
  {
   "cell_type": "code",
   "execution_count": 5,
   "id": "42f6017e",
   "metadata": {},
   "outputs": [
    {
     "name": "stdout",
     "output_type": "stream",
     "text": [
      "[1.0, 0.0, 0.5, 0.3333333333333333, 0.375, 0.36666666666666664, 0.3680555555555556, 0.3678571428571429, 0.36788194444444444, 0.36787918871252206, 0.3678794642857143, 0.3678794392336059, 0.3678794413212816, 0.36787944116069116, 0.3678794411721619, 0.3678794411713972, 0.367879441171445, 0.36787944117144217, 0.36787944117144233, 0.36787944117144233, 0.36787944117144233]\n"
     ]
    }
   ],
   "source": [
    "print(list(P_n(n) for n in range(21)))"
   ]
  },
  {
   "cell_type": "code",
   "execution_count": 6,
   "id": "6c74c3a6",
   "metadata": {},
   "outputs": [],
   "source": [
    "def P_n_sum(n):\n",
    "    p = 1    # holds (-1)^k / k!\n",
    "    s = 1.0  # holds sum_{k=0}^n (-1)^k / k!\n",
    "    if n >= 1:\n",
    "        for k in range(1, n+1):\n",
    "            p = -p / k\n",
    "            s += p\n",
    "    return s"
   ]
  },
  {
   "cell_type": "code",
   "execution_count": 7,
   "id": "d62ed74f",
   "metadata": {},
   "outputs": [
    {
     "name": "stdout",
     "output_type": "stream",
     "text": [
      "[1.0, 0.0, 0.5, 0.33333333333333337, 0.37500000000000006, 0.3666666666666667, 0.3680555555555556, 0.3678571428571429, 0.3678819444444445, 0.3678791887125221, 0.3678794642857144, 0.367879439233606, 0.3678794413212817, 0.36787944116069127, 0.36787944117216204, 0.3678794411713973, 0.3678794411714451, 0.3678794411714423, 0.36787944117144245, 0.36787944117144245, 0.36787944117144245]\n"
     ]
    }
   ],
   "source": [
    "print(list(P_n_sum(n) for n in range(21)))"
   ]
  },
  {
   "cell_type": "code",
   "execution_count": 8,
   "id": "55f5da27",
   "metadata": {},
   "outputs": [
    {
     "name": "stdout",
     "output_type": "stream",
     "text": [
      "0.36787944117144233\n"
     ]
    }
   ],
   "source": [
    "from math import exp\n",
    "\n",
    "print(exp(-1))"
   ]
  },
  {
   "cell_type": "markdown",
   "id": "ed54e8b3",
   "metadata": {},
   "source": [
    "We observe that the summation formula for the probability $P(N)$ is just the first $N$ terms in the Maclaurin series expansion of\n",
    "$e^{-1}$, to which $P(N)$ theoretically converges as $N\\rightarrow\\infty$.\n",
    "However, we also observe that the summation formula introduces some round-off error\n",
    "that is not present for the counting-based formula, which does correctly converge (numerically) to $e^{-1}$."
   ]
  }
 ],
 "metadata": {
  "kernelspec": {
   "display_name": "Python 3",
   "language": "python",
   "name": "python3"
  },
  "language_info": {
   "codemirror_mode": {
    "name": "ipython",
    "version": 3
   },
   "file_extension": ".py",
   "mimetype": "text/x-python",
   "name": "python",
   "nbconvert_exporter": "python",
   "pygments_lexer": "ipython3",
   "version": "3.8.8"
  }
 },
 "nbformat": 4,
 "nbformat_minor": 5
}
