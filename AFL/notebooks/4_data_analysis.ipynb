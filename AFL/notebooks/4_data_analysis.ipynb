{
 "cells": [
  {
   "cell_type": "markdown",
   "id": "2ffb5ceb",
   "metadata": {},
   "source": [
    "# Data Analysis"
   ]
  },
  {
   "cell_type": "markdown",
   "id": "0c85d1d0",
   "metadata": {},
   "source": [
    "In this notebook we discuss basic issues in analysing the extracted AFL data, and provide\n",
    "some initial exploratory data analyses."
   ]
  },
  {
   "cell_type": "markdown",
   "id": "4a3787db",
   "metadata": {},
   "source": [
    "## Training and testing data"
   ]
  },
  {
   "cell_type": "markdown",
   "id": "b626ad69",
   "metadata": {},
   "source": [
    "As previously discussed in\n",
    "[Chapter 1](1_introduction.ipynb#Model-validation \"Introduction: Model validation\"),\n",
    "for the purposes of data analysis and modelling we should partition the data into *training* and \n",
    "*testing* sets. Only the training data should be subject to exploratory data analysis, and the testing data should be kept only for model validation. Actually, to be completely fair, there should also be an additional *validation* data-set. Multiple models should be validated against this data-set, and only the selected, best model should be tested on the testing data.\n",
    "\n",
    "However, in a 'live' system, the *retrospective* analysis of model building would be coupled with *prospective* prediction of future matches, so these yet-to-be-collected matches would act as ongoing testing data. Monitoring of predictive performance and data distributions over time would then also\n",
    "allow testing for other issues such as \n",
    "[*concept drift*](https://en.wikipedia.org/wiki/Concept_drift \"Wikipedia\"),\n",
    "where the model no longer accurately reflects the data."
   ]
  },
  {
   "cell_type": "markdown",
   "id": "c81dd0b9",
   "metadata": {},
   "source": [
    "Recall from [Chapter 3](3_feature_extraction.ipynb \"Chapter 3: Feature Extraction\")\n",
    "that historical features were extracted for every collected AFL match. Consequently, we are permitted to treat each match, coupled with its corresponding features, as being \n",
    "[independent](1_introduction.ipynb#Causality-and-independence-of-observations\n",
    "\"Introduction: Causality and independence of observations\").\n",
    "For simplicity, we arbitrarily take all matches from 1990 to 2020 as the training data, and matches from 2021 onwards as testing/validation data. \n",
    "\n",
    "A better scheme might have been to randomly partition the matches per season, or even completely at random per match. However, this would make it harder to test for temporal representativeness (a form of concept drift discussed in a\n",
    "[later](#Temporal-representativeness \"Section: Temporal representativeness\") section).\n",
    "In addition, we would typically apply a partitioning rule such as 90/10 or 80/20, to control\n",
    "the proportion of training data to testing data. "
   ]
  },
  {
   "cell_type": "markdown",
   "id": "cd51a33a",
   "metadata": {},
   "source": [
    "### Load the data"
   ]
  },
  {
   "cell_type": "code",
   "execution_count": 1,
   "id": "b48a8960",
   "metadata": {},
   "outputs": [],
   "source": [
    "import sys\n",
    "import os\n",
    "\n",
    "sys.path.append(os.path.join(\"..\", \"python\"))"
   ]
  },
  {
   "cell_type": "code",
   "execution_count": 2,
   "id": "dc6507bd",
   "metadata": {},
   "outputs": [],
   "source": [
    "import pandas as pd\n",
    "import numpy as np"
   ]
  },
  {
   "cell_type": "code",
   "execution_count": 3,
   "id": "1fe4cb44",
   "metadata": {},
   "outputs": [],
   "source": [
    "import matplotlib.pyplot as plt"
   ]
  },
  {
   "cell_type": "code",
   "execution_count": 4,
   "id": "764abfe7",
   "metadata": {},
   "outputs": [],
   "source": [
    "df_matches = pd.read_csv(os.path.join(\"..\", \"data\", \"matches.csv\"))"
   ]
  },
  {
   "cell_type": "code",
   "execution_count": 5,
   "id": "16ac47ca",
   "metadata": {},
   "outputs": [
    {
     "data": {
      "text/html": [
       "<div>\n",
       "<style scoped>\n",
       "    .dataframe tbody tr th:only-of-type {\n",
       "        vertical-align: middle;\n",
       "    }\n",
       "\n",
       "    .dataframe tbody tr th {\n",
       "        vertical-align: top;\n",
       "    }\n",
       "\n",
       "    .dataframe thead th {\n",
       "        text-align: right;\n",
       "    }\n",
       "</style>\n",
       "<table border=\"1\" class=\"dataframe\">\n",
       "  <thead>\n",
       "    <tr style=\"text-align: right;\">\n",
       "      <th></th>\n",
       "      <th>season</th>\n",
       "      <th>round</th>\n",
       "      <th>datetime</th>\n",
       "      <th>venue</th>\n",
       "      <th>for_team</th>\n",
       "      <th>for_is_home</th>\n",
       "      <th>for_goals1</th>\n",
       "      <th>for_behinds1</th>\n",
       "      <th>for_goals2</th>\n",
       "      <th>for_behinds2</th>\n",
       "      <th>...</th>\n",
       "      <th>against_goals3</th>\n",
       "      <th>against_behinds3</th>\n",
       "      <th>against_goals4</th>\n",
       "      <th>against_behinds4</th>\n",
       "      <th>against_total_score</th>\n",
       "      <th>against_match_points</th>\n",
       "      <th>against_is_win</th>\n",
       "      <th>against_is_draw</th>\n",
       "      <th>against_is_loss</th>\n",
       "      <th>edge_type</th>\n",
       "    </tr>\n",
       "  </thead>\n",
       "  <tbody>\n",
       "    <tr>\n",
       "      <th>0</th>\n",
       "      <td>1990</td>\n",
       "      <td>R1</td>\n",
       "      <td>Sat 31-Mar-1990 2:10 PM</td>\n",
       "      <td>Princes Park</td>\n",
       "      <td>Carlton</td>\n",
       "      <td>True</td>\n",
       "      <td>6</td>\n",
       "      <td>5</td>\n",
       "      <td>4</td>\n",
       "      <td>4</td>\n",
       "      <td>...</td>\n",
       "      <td>6</td>\n",
       "      <td>3</td>\n",
       "      <td>6</td>\n",
       "      <td>5</td>\n",
       "      <td>104</td>\n",
       "      <td>4</td>\n",
       "      <td>True</td>\n",
       "      <td>False</td>\n",
       "      <td>False</td>\n",
       "      <td>lost-to</td>\n",
       "    </tr>\n",
       "    <tr>\n",
       "      <th>1</th>\n",
       "      <td>1990</td>\n",
       "      <td>R1</td>\n",
       "      <td>Sat 31-Mar-1990 2:10 PM</td>\n",
       "      <td>M.C.G.</td>\n",
       "      <td>Melbourne</td>\n",
       "      <td>False</td>\n",
       "      <td>6</td>\n",
       "      <td>2</td>\n",
       "      <td>4</td>\n",
       "      <td>1</td>\n",
       "      <td>...</td>\n",
       "      <td>4</td>\n",
       "      <td>4</td>\n",
       "      <td>3</td>\n",
       "      <td>4</td>\n",
       "      <td>89</td>\n",
       "      <td>0</td>\n",
       "      <td>False</td>\n",
       "      <td>False</td>\n",
       "      <td>True</td>\n",
       "      <td>defeated</td>\n",
       "    </tr>\n",
       "    <tr>\n",
       "      <th>2</th>\n",
       "      <td>1990</td>\n",
       "      <td>R1</td>\n",
       "      <td>Sat 31-Mar-1990 2:10 PM</td>\n",
       "      <td>Waverley Park</td>\n",
       "      <td>Geelong</td>\n",
       "      <td>True</td>\n",
       "      <td>5</td>\n",
       "      <td>3</td>\n",
       "      <td>2</td>\n",
       "      <td>3</td>\n",
       "      <td>...</td>\n",
       "      <td>9</td>\n",
       "      <td>7</td>\n",
       "      <td>10</td>\n",
       "      <td>6</td>\n",
       "      <td>192</td>\n",
       "      <td>4</td>\n",
       "      <td>True</td>\n",
       "      <td>False</td>\n",
       "      <td>False</td>\n",
       "      <td>lost-to</td>\n",
       "    </tr>\n",
       "    <tr>\n",
       "      <th>3</th>\n",
       "      <td>1990</td>\n",
       "      <td>R1</td>\n",
       "      <td>Sat 31-Mar-1990 2:10 PM</td>\n",
       "      <td>Windy Hill</td>\n",
       "      <td>Essendon</td>\n",
       "      <td>True</td>\n",
       "      <td>7</td>\n",
       "      <td>4</td>\n",
       "      <td>6</td>\n",
       "      <td>7</td>\n",
       "      <td>...</td>\n",
       "      <td>1</td>\n",
       "      <td>3</td>\n",
       "      <td>2</td>\n",
       "      <td>4</td>\n",
       "      <td>60</td>\n",
       "      <td>0</td>\n",
       "      <td>False</td>\n",
       "      <td>False</td>\n",
       "      <td>True</td>\n",
       "      <td>defeated</td>\n",
       "    </tr>\n",
       "    <tr>\n",
       "      <th>4</th>\n",
       "      <td>1990</td>\n",
       "      <td>R1</td>\n",
       "      <td>Sat 31-Mar-1990 7:40 PM</td>\n",
       "      <td>Carrara</td>\n",
       "      <td>Brisbane Bears</td>\n",
       "      <td>True</td>\n",
       "      <td>4</td>\n",
       "      <td>3</td>\n",
       "      <td>3</td>\n",
       "      <td>2</td>\n",
       "      <td>...</td>\n",
       "      <td>1</td>\n",
       "      <td>3</td>\n",
       "      <td>3</td>\n",
       "      <td>2</td>\n",
       "      <td>74</td>\n",
       "      <td>0</td>\n",
       "      <td>False</td>\n",
       "      <td>False</td>\n",
       "      <td>True</td>\n",
       "      <td>defeated</td>\n",
       "    </tr>\n",
       "    <tr>\n",
       "      <th>...</th>\n",
       "      <td>...</td>\n",
       "      <td>...</td>\n",
       "      <td>...</td>\n",
       "      <td>...</td>\n",
       "      <td>...</td>\n",
       "      <td>...</td>\n",
       "      <td>...</td>\n",
       "      <td>...</td>\n",
       "      <td>...</td>\n",
       "      <td>...</td>\n",
       "      <td>...</td>\n",
       "      <td>...</td>\n",
       "      <td>...</td>\n",
       "      <td>...</td>\n",
       "      <td>...</td>\n",
       "      <td>...</td>\n",
       "      <td>...</td>\n",
       "      <td>...</td>\n",
       "      <td>...</td>\n",
       "      <td>...</td>\n",
       "      <td>...</td>\n",
       "    </tr>\n",
       "    <tr>\n",
       "      <th>6489</th>\n",
       "      <td>2024</td>\n",
       "      <td>R7</td>\n",
       "      <td>Sat 20-Apr-2024 4:35 PM</td>\n",
       "      <td>Docklands</td>\n",
       "      <td>Carlton</td>\n",
       "      <td>True</td>\n",
       "      <td>5</td>\n",
       "      <td>1</td>\n",
       "      <td>2</td>\n",
       "      <td>6</td>\n",
       "      <td>...</td>\n",
       "      <td>3</td>\n",
       "      <td>3</td>\n",
       "      <td>3</td>\n",
       "      <td>1</td>\n",
       "      <td>98</td>\n",
       "      <td>0</td>\n",
       "      <td>False</td>\n",
       "      <td>False</td>\n",
       "      <td>True</td>\n",
       "      <td>defeated</td>\n",
       "    </tr>\n",
       "    <tr>\n",
       "      <th>6490</th>\n",
       "      <td>2024</td>\n",
       "      <td>R7</td>\n",
       "      <td>Sat 20-Apr-2024 6:10 PM</td>\n",
       "      <td>Perth Stadium</td>\n",
       "      <td>Fremantle</td>\n",
       "      <td>False</td>\n",
       "      <td>0</td>\n",
       "      <td>3</td>\n",
       "      <td>3</td>\n",
       "      <td>0</td>\n",
       "      <td>...</td>\n",
       "      <td>5</td>\n",
       "      <td>5</td>\n",
       "      <td>2</td>\n",
       "      <td>0</td>\n",
       "      <td>105</td>\n",
       "      <td>4</td>\n",
       "      <td>True</td>\n",
       "      <td>False</td>\n",
       "      <td>False</td>\n",
       "      <td>lost-to</td>\n",
       "    </tr>\n",
       "    <tr>\n",
       "      <th>6491</th>\n",
       "      <td>2024</td>\n",
       "      <td>R7</td>\n",
       "      <td>Sat 20-Apr-2024 7:30 PM</td>\n",
       "      <td>Gabba</td>\n",
       "      <td>Brisbane Lions</td>\n",
       "      <td>True</td>\n",
       "      <td>2</td>\n",
       "      <td>5</td>\n",
       "      <td>1</td>\n",
       "      <td>3</td>\n",
       "      <td>...</td>\n",
       "      <td>2</td>\n",
       "      <td>2</td>\n",
       "      <td>3</td>\n",
       "      <td>3</td>\n",
       "      <td>63</td>\n",
       "      <td>4</td>\n",
       "      <td>True</td>\n",
       "      <td>False</td>\n",
       "      <td>False</td>\n",
       "      <td>lost-to</td>\n",
       "    </tr>\n",
       "    <tr>\n",
       "      <th>6492</th>\n",
       "      <td>2024</td>\n",
       "      <td>R7</td>\n",
       "      <td>Sun 21-Apr-2024 1:05 PM</td>\n",
       "      <td>S.C.G.</td>\n",
       "      <td>Gold Coast</td>\n",
       "      <td>False</td>\n",
       "      <td>1</td>\n",
       "      <td>2</td>\n",
       "      <td>2</td>\n",
       "      <td>3</td>\n",
       "      <td>...</td>\n",
       "      <td>7</td>\n",
       "      <td>4</td>\n",
       "      <td>5</td>\n",
       "      <td>0</td>\n",
       "      <td>110</td>\n",
       "      <td>4</td>\n",
       "      <td>True</td>\n",
       "      <td>False</td>\n",
       "      <td>False</td>\n",
       "      <td>lost-to</td>\n",
       "    </tr>\n",
       "    <tr>\n",
       "      <th>6493</th>\n",
       "      <td>2024</td>\n",
       "      <td>R7</td>\n",
       "      <td>Sun 21-Apr-2024 4:05 PM</td>\n",
       "      <td>Docklands</td>\n",
       "      <td>Hawthorn</td>\n",
       "      <td>False</td>\n",
       "      <td>3</td>\n",
       "      <td>3</td>\n",
       "      <td>8</td>\n",
       "      <td>3</td>\n",
       "      <td>...</td>\n",
       "      <td>3</td>\n",
       "      <td>1</td>\n",
       "      <td>2</td>\n",
       "      <td>2</td>\n",
       "      <td>68</td>\n",
       "      <td>0</td>\n",
       "      <td>False</td>\n",
       "      <td>False</td>\n",
       "      <td>True</td>\n",
       "      <td>defeated</td>\n",
       "    </tr>\n",
       "  </tbody>\n",
       "</table>\n",
       "<p>6494 rows × 35 columns</p>\n",
       "</div>"
      ],
      "text/plain": [
       "      season round                 datetime          venue        for_team  \\\n",
       "0       1990    R1  Sat 31-Mar-1990 2:10 PM   Princes Park         Carlton   \n",
       "1       1990    R1  Sat 31-Mar-1990 2:10 PM         M.C.G.       Melbourne   \n",
       "2       1990    R1  Sat 31-Mar-1990 2:10 PM  Waverley Park         Geelong   \n",
       "3       1990    R1  Sat 31-Mar-1990 2:10 PM     Windy Hill        Essendon   \n",
       "4       1990    R1  Sat 31-Mar-1990 7:40 PM        Carrara  Brisbane Bears   \n",
       "...      ...   ...                      ...            ...             ...   \n",
       "6489    2024    R7  Sat 20-Apr-2024 4:35 PM      Docklands         Carlton   \n",
       "6490    2024    R7  Sat 20-Apr-2024 6:10 PM  Perth Stadium       Fremantle   \n",
       "6491    2024    R7  Sat 20-Apr-2024 7:30 PM          Gabba  Brisbane Lions   \n",
       "6492    2024    R7  Sun 21-Apr-2024 1:05 PM         S.C.G.      Gold Coast   \n",
       "6493    2024    R7  Sun 21-Apr-2024 4:05 PM      Docklands        Hawthorn   \n",
       "\n",
       "      for_is_home  for_goals1  for_behinds1  for_goals2  for_behinds2  ...  \\\n",
       "0            True           6             5           4             4  ...   \n",
       "1           False           6             2           4             1  ...   \n",
       "2            True           5             3           2             3  ...   \n",
       "3            True           7             4           6             7  ...   \n",
       "4            True           4             3           3             2  ...   \n",
       "...           ...         ...           ...         ...           ...  ...   \n",
       "6489         True           5             1           2             6  ...   \n",
       "6490        False           0             3           3             0  ...   \n",
       "6491         True           2             5           1             3  ...   \n",
       "6492        False           1             2           2             3  ...   \n",
       "6493        False           3             3           8             3  ...   \n",
       "\n",
       "      against_goals3  against_behinds3  against_goals4  against_behinds4  \\\n",
       "0                  6                 3               6                 5   \n",
       "1                  4                 4               3                 4   \n",
       "2                  9                 7              10                 6   \n",
       "3                  1                 3               2                 4   \n",
       "4                  1                 3               3                 2   \n",
       "...              ...               ...             ...               ...   \n",
       "6489               3                 3               3                 1   \n",
       "6490               5                 5               2                 0   \n",
       "6491               2                 2               3                 3   \n",
       "6492               7                 4               5                 0   \n",
       "6493               3                 1               2                 2   \n",
       "\n",
       "      against_total_score  against_match_points  against_is_win  \\\n",
       "0                     104                     4            True   \n",
       "1                      89                     0           False   \n",
       "2                     192                     4            True   \n",
       "3                      60                     0           False   \n",
       "4                      74                     0           False   \n",
       "...                   ...                   ...             ...   \n",
       "6489                   98                     0           False   \n",
       "6490                  105                     4            True   \n",
       "6491                   63                     4            True   \n",
       "6492                  110                     4            True   \n",
       "6493                   68                     0           False   \n",
       "\n",
       "      against_is_draw  against_is_loss edge_type  \n",
       "0               False            False   lost-to  \n",
       "1               False             True  defeated  \n",
       "2               False            False   lost-to  \n",
       "3               False             True  defeated  \n",
       "4               False             True  defeated  \n",
       "...               ...              ...       ...  \n",
       "6489            False             True  defeated  \n",
       "6490            False            False   lost-to  \n",
       "6491            False            False   lost-to  \n",
       "6492            False            False   lost-to  \n",
       "6493            False             True  defeated  \n",
       "\n",
       "[6494 rows x 35 columns]"
      ]
     },
     "execution_count": 5,
     "metadata": {},
     "output_type": "execute_result"
    }
   ],
   "source": [
    "df_matches"
   ]
  },
  {
   "cell_type": "code",
   "execution_count": 6,
   "id": "9838bfe3",
   "metadata": {},
   "outputs": [
    {
     "name": "stdout",
     "output_type": "stream",
     "text": [
      "Index(['season', 'round', 'datetime', 'venue', 'for_team', 'for_is_home',\n",
      "       'for_goals1', 'for_behinds1', 'for_goals2', 'for_behinds2',\n",
      "       'for_goals3', 'for_behinds3', 'for_goals4', 'for_behinds4',\n",
      "       'for_total_score', 'for_match_points', 'for_is_win', 'for_is_draw',\n",
      "       'for_is_loss', 'against_team', 'against_is_home', 'against_goals1',\n",
      "       'against_behinds1', 'against_goals2', 'against_behinds2',\n",
      "       'against_goals3', 'against_behinds3', 'against_goals4',\n",
      "       'against_behinds4', 'against_total_score', 'against_match_points',\n",
      "       'against_is_win', 'against_is_draw', 'against_is_loss', 'edge_type'],\n",
      "      dtype='object')\n"
     ]
    }
   ],
   "source": [
    "print(df_matches.columns)"
   ]
  },
  {
   "cell_type": "markdown",
   "id": "833042da",
   "metadata": {},
   "source": [
    "### Partition the data"
   ]
  },
  {
   "cell_type": "code",
   "execution_count": 7,
   "id": "7c485c2b",
   "metadata": {},
   "outputs": [],
   "source": [
    "all_seasons = df_matches.season.unique()"
   ]
  },
  {
   "cell_type": "code",
   "execution_count": 8,
   "id": "e8496233",
   "metadata": {},
   "outputs": [],
   "source": [
    "split_season = 2020\n",
    "trn_seasons = all_seasons[all_seasons <= split_season]\n",
    "tst_seasons = all_seasons[all_seasons > split_season]"
   ]
  },
  {
   "cell_type": "code",
   "execution_count": 9,
   "id": "15cd766a",
   "metadata": {},
   "outputs": [],
   "source": [
    "df_training = df_matches[df_matches.season.isin(trn_seasons)].copy()"
   ]
  },
  {
   "cell_type": "code",
   "execution_count": 10,
   "id": "cdcab98f",
   "metadata": {},
   "outputs": [
    {
     "data": {
      "text/html": [
       "<div>\n",
       "<style scoped>\n",
       "    .dataframe tbody tr th:only-of-type {\n",
       "        vertical-align: middle;\n",
       "    }\n",
       "\n",
       "    .dataframe tbody tr th {\n",
       "        vertical-align: top;\n",
       "    }\n",
       "\n",
       "    .dataframe thead th {\n",
       "        text-align: right;\n",
       "    }\n",
       "</style>\n",
       "<table border=\"1\" class=\"dataframe\">\n",
       "  <thead>\n",
       "    <tr style=\"text-align: right;\">\n",
       "      <th></th>\n",
       "      <th>season</th>\n",
       "      <th>round</th>\n",
       "      <th>datetime</th>\n",
       "      <th>venue</th>\n",
       "      <th>for_team</th>\n",
       "      <th>for_is_home</th>\n",
       "      <th>for_goals1</th>\n",
       "      <th>for_behinds1</th>\n",
       "      <th>for_goals2</th>\n",
       "      <th>for_behinds2</th>\n",
       "      <th>...</th>\n",
       "      <th>against_goals3</th>\n",
       "      <th>against_behinds3</th>\n",
       "      <th>against_goals4</th>\n",
       "      <th>against_behinds4</th>\n",
       "      <th>against_total_score</th>\n",
       "      <th>against_match_points</th>\n",
       "      <th>against_is_win</th>\n",
       "      <th>against_is_draw</th>\n",
       "      <th>against_is_loss</th>\n",
       "      <th>edge_type</th>\n",
       "    </tr>\n",
       "  </thead>\n",
       "  <tbody>\n",
       "    <tr>\n",
       "      <th>0</th>\n",
       "      <td>1990</td>\n",
       "      <td>R1</td>\n",
       "      <td>Sat 31-Mar-1990 2:10 PM</td>\n",
       "      <td>Princes Park</td>\n",
       "      <td>Carlton</td>\n",
       "      <td>True</td>\n",
       "      <td>6</td>\n",
       "      <td>5</td>\n",
       "      <td>4</td>\n",
       "      <td>4</td>\n",
       "      <td>...</td>\n",
       "      <td>6</td>\n",
       "      <td>3</td>\n",
       "      <td>6</td>\n",
       "      <td>5</td>\n",
       "      <td>104</td>\n",
       "      <td>4</td>\n",
       "      <td>True</td>\n",
       "      <td>False</td>\n",
       "      <td>False</td>\n",
       "      <td>lost-to</td>\n",
       "    </tr>\n",
       "    <tr>\n",
       "      <th>5809</th>\n",
       "      <td>2020</td>\n",
       "      <td>GF</td>\n",
       "      <td>Sat 24-Oct-2020 6:30 PM</td>\n",
       "      <td>Gabba</td>\n",
       "      <td>Geelong</td>\n",
       "      <td>False</td>\n",
       "      <td>2</td>\n",
       "      <td>2</td>\n",
       "      <td>3</td>\n",
       "      <td>3</td>\n",
       "      <td>...</td>\n",
       "      <td>4</td>\n",
       "      <td>2</td>\n",
       "      <td>5</td>\n",
       "      <td>5</td>\n",
       "      <td>81</td>\n",
       "      <td>4</td>\n",
       "      <td>True</td>\n",
       "      <td>False</td>\n",
       "      <td>False</td>\n",
       "      <td>lost-to</td>\n",
       "    </tr>\n",
       "  </tbody>\n",
       "</table>\n",
       "<p>2 rows × 35 columns</p>\n",
       "</div>"
      ],
      "text/plain": [
       "      season round                 datetime         venue for_team  \\\n",
       "0       1990    R1  Sat 31-Mar-1990 2:10 PM  Princes Park  Carlton   \n",
       "5809    2020    GF  Sat 24-Oct-2020 6:30 PM         Gabba  Geelong   \n",
       "\n",
       "      for_is_home  for_goals1  for_behinds1  for_goals2  for_behinds2  ...  \\\n",
       "0            True           6             5           4             4  ...   \n",
       "5809        False           2             2           3             3  ...   \n",
       "\n",
       "      against_goals3  against_behinds3  against_goals4  against_behinds4  \\\n",
       "0                  6                 3               6                 5   \n",
       "5809               4                 2               5                 5   \n",
       "\n",
       "      against_total_score  against_match_points  against_is_win  \\\n",
       "0                     104                     4            True   \n",
       "5809                   81                     4            True   \n",
       "\n",
       "      against_is_draw  against_is_loss edge_type  \n",
       "0               False            False   lost-to  \n",
       "5809            False            False   lost-to  \n",
       "\n",
       "[2 rows x 35 columns]"
      ]
     },
     "execution_count": 10,
     "metadata": {},
     "output_type": "execute_result"
    }
   ],
   "source": [
    "df_training.iloc[[0, -1]]"
   ]
  },
  {
   "cell_type": "code",
   "execution_count": 11,
   "id": "79f10a00",
   "metadata": {},
   "outputs": [],
   "source": [
    "df_testing = df_matches[df_matches.season.isin(tst_seasons)].copy()"
   ]
  },
  {
   "cell_type": "code",
   "execution_count": 12,
   "id": "b5aff08f",
   "metadata": {},
   "outputs": [
    {
     "data": {
      "text/html": [
       "<div>\n",
       "<style scoped>\n",
       "    .dataframe tbody tr th:only-of-type {\n",
       "        vertical-align: middle;\n",
       "    }\n",
       "\n",
       "    .dataframe tbody tr th {\n",
       "        vertical-align: top;\n",
       "    }\n",
       "\n",
       "    .dataframe thead th {\n",
       "        text-align: right;\n",
       "    }\n",
       "</style>\n",
       "<table border=\"1\" class=\"dataframe\">\n",
       "  <thead>\n",
       "    <tr style=\"text-align: right;\">\n",
       "      <th></th>\n",
       "      <th>season</th>\n",
       "      <th>round</th>\n",
       "      <th>datetime</th>\n",
       "      <th>venue</th>\n",
       "      <th>for_team</th>\n",
       "      <th>for_is_home</th>\n",
       "      <th>for_goals1</th>\n",
       "      <th>for_behinds1</th>\n",
       "      <th>for_goals2</th>\n",
       "      <th>for_behinds2</th>\n",
       "      <th>...</th>\n",
       "      <th>against_goals3</th>\n",
       "      <th>against_behinds3</th>\n",
       "      <th>against_goals4</th>\n",
       "      <th>against_behinds4</th>\n",
       "      <th>against_total_score</th>\n",
       "      <th>against_match_points</th>\n",
       "      <th>against_is_win</th>\n",
       "      <th>against_is_draw</th>\n",
       "      <th>against_is_loss</th>\n",
       "      <th>edge_type</th>\n",
       "    </tr>\n",
       "  </thead>\n",
       "  <tbody>\n",
       "    <tr>\n",
       "      <th>5810</th>\n",
       "      <td>2021</td>\n",
       "      <td>R1</td>\n",
       "      <td>Thu 18-Mar-2021 7:25 PM</td>\n",
       "      <td>M.C.G.</td>\n",
       "      <td>Carlton</td>\n",
       "      <td>False</td>\n",
       "      <td>3</td>\n",
       "      <td>2</td>\n",
       "      <td>3</td>\n",
       "      <td>4</td>\n",
       "      <td>...</td>\n",
       "      <td>2</td>\n",
       "      <td>3</td>\n",
       "      <td>5</td>\n",
       "      <td>7</td>\n",
       "      <td>105</td>\n",
       "      <td>4</td>\n",
       "      <td>True</td>\n",
       "      <td>False</td>\n",
       "      <td>False</td>\n",
       "      <td>lost-to</td>\n",
       "    </tr>\n",
       "    <tr>\n",
       "      <th>6493</th>\n",
       "      <td>2024</td>\n",
       "      <td>R7</td>\n",
       "      <td>Sun 21-Apr-2024 4:05 PM</td>\n",
       "      <td>Docklands</td>\n",
       "      <td>Hawthorn</td>\n",
       "      <td>False</td>\n",
       "      <td>3</td>\n",
       "      <td>3</td>\n",
       "      <td>8</td>\n",
       "      <td>3</td>\n",
       "      <td>...</td>\n",
       "      <td>3</td>\n",
       "      <td>1</td>\n",
       "      <td>2</td>\n",
       "      <td>2</td>\n",
       "      <td>68</td>\n",
       "      <td>0</td>\n",
       "      <td>False</td>\n",
       "      <td>False</td>\n",
       "      <td>True</td>\n",
       "      <td>defeated</td>\n",
       "    </tr>\n",
       "  </tbody>\n",
       "</table>\n",
       "<p>2 rows × 35 columns</p>\n",
       "</div>"
      ],
      "text/plain": [
       "      season round                 datetime      venue  for_team  for_is_home  \\\n",
       "5810    2021    R1  Thu 18-Mar-2021 7:25 PM     M.C.G.   Carlton        False   \n",
       "6493    2024    R7  Sun 21-Apr-2024 4:05 PM  Docklands  Hawthorn        False   \n",
       "\n",
       "      for_goals1  for_behinds1  for_goals2  for_behinds2  ...  against_goals3  \\\n",
       "5810           3             2           3             4  ...               2   \n",
       "6493           3             3           8             3  ...               3   \n",
       "\n",
       "      against_behinds3  against_goals4  against_behinds4  against_total_score  \\\n",
       "5810                 3               5                 7                  105   \n",
       "6493                 1               2                 2                   68   \n",
       "\n",
       "      against_match_points  against_is_win  against_is_draw  against_is_loss  \\\n",
       "5810                     4            True            False            False   \n",
       "6493                     0           False            False             True   \n",
       "\n",
       "     edge_type  \n",
       "5810   lost-to  \n",
       "6493  defeated  \n",
       "\n",
       "[2 rows x 35 columns]"
      ]
     },
     "execution_count": 12,
     "metadata": {},
     "output_type": "execute_result"
    }
   ],
   "source": [
    "df_testing.iloc[[0, -1]]"
   ]
  },
  {
   "cell_type": "code",
   "execution_count": 13,
   "id": "c32f338b",
   "metadata": {},
   "outputs": [
    {
     "name": "stdout",
     "output_type": "stream",
     "text": [
      "5810 training samples\n",
      "684 testing samples\n",
      "Ratio: 89.46720049276256 : 10.532799507237446\n"
     ]
    }
   ],
   "source": [
    "print(\"%d training samples\" % len(df_training))\n",
    "print(\"%d testing samples\" % len(df_testing))\n",
    "p = len(df_training) / len(df_matches)\n",
    "print(\"Ratio:\", 100 * p, \":\", 100 * (1 - p))"
   ]
  },
  {
   "cell_type": "markdown",
   "id": "c410e55f",
   "metadata": {},
   "source": [
    "### Save the partitioned data"
   ]
  },
  {
   "cell_type": "code",
   "execution_count": 14,
   "id": "9187b272",
   "metadata": {},
   "outputs": [],
   "source": [
    " df_training.to_csv(os.path.join(\"..\", \"data\", \"training_matches.csv\"), index=False)"
   ]
  },
  {
   "cell_type": "code",
   "execution_count": 15,
   "id": "0fc806e1",
   "metadata": {},
   "outputs": [],
   "source": [
    "df_testing.to_csv(os.path.join(\"..\", \"data\", \"testing_matches.csv\"), index=False)"
   ]
  },
  {
   "cell_type": "markdown",
   "id": "e45269bf",
   "metadata": {},
   "source": [
    "Note that, strict speaking, we should also partition the extracted features in the same fashion, in order to\n",
    "obviate the possibility of contaminating our data anlyses with testing data.\n",
    "In practice, we shall permit the loading of all historical data, on the assumption that queries will\n",
    "only be made for matches in the training data-set."
   ]
  },
  {
   "cell_type": "markdown",
   "id": "4d296e73",
   "metadata": {},
   "source": [
    "## Null hypothesis"
   ]
  },
  {
   "cell_type": "markdown",
   "id": "701546fb",
   "metadata": {},
   "source": [
    "A typical assumption of probabilistic modelling is that every data point is independently drawn from the same underlying distribution. This is just a form of the *null* hypothesis, corresponding to the *business as usual* (BAU) rule that nothing much changes.\n",
    "Informally, this means that each team is much like every other team, each match is like other matches, and each season is like other seasons.\n",
    "More formally, we notionally assume the existence of a single, joint distribution from which all teams and matches are sampled.\n",
    "\n",
    "In reality, the null hypothesis cannot strictly hold true always and everywhere. If it did, then the characteristics of each team would be stochastically sampled before a match, the results of each match would also be sampled, and consequently there would be little value in collecting historical data.\n",
    "However, in practice it is apparent that some teams are stronger than others, and that this relative strength has some temporal persistence (even if only for one or more seasons). "
   ]
  },
  {
   "cell_type": "markdown",
   "id": "cb001881",
   "metadata": {},
   "source": [
    "The benefit of considering the null hypothesis lies in aggregration. Considered over a period of time (say, a season), some teams are weak, some are strong, and some are inbetween. Thus, the teams might be thought of as being sampled from some common distribution, and it makes sense to consider the characteristics of an 'average' team. Put another way, if we consider past matches between team A and all other opponents, then team A will have faced both stronger teams and weaker teams in aggregate.\n",
    "The null hypothesis is then to assume that  all such team differences cancel out on average. Consequently, we may model the outcomes of these matches as measuring the relative performance of team A against the hypothetical 'average' team. This is just the so-called *one-team* model\n",
    "discussed in [Chapter 1](1_introduction.ipynb#Marginal-models \"Introduction: Marginal models\")."
   ]
  },
  {
   "cell_type": "markdown",
   "id": "c2cc6557",
   "metadata": {},
   "source": [
    "For the purposes of modelling, it is of interest to know when the null hypothesis fails. For example, if any one team is no longer just like another, then it is useful to capture these differences so\n",
    "that we may more precisely predict the outcome of a match between team A and team B using\n",
    "a [*two-team*](1_introduction.ipynb#Marginal-models \"Introduction: Marginal models\")\n",
    "model.\n",
    "\n",
    "If the null hypothesis does not hold across time, then we call this a failure of\n",
    "[*temporal representativeness*](#Temporal-representativeness \"Section: Temporal representativeness\").\n",
    "However, note that the null hypothesis might hold on one time-scale but fail to hold on a different time-scale. \n",
    "For example, if the null hypothesis were to happen to fail across multiple seasons, \n",
    "then perhaps it might still hold within a season. For instance, the relative strengths of teams might have (notionally) been sampled at the start of a season, and then held fixed for the duration of that season.\n",
    "\n",
    "Similarly, if the null hypothesis does not hold due to environmental factors or physical constraints, then we call this a failure of \n",
    "[*physical representativeness*](#Physical-representativeness \"Section: Physical representativeness\").\n",
    "For example, teams from different cities or suburbs might potentially show a disparity in performance due to differences in socio-economic status (e.g. due to the availability, or lack thereof, of sufficient funds to  contract top players). Likewise, we might expect most teams to play better\n",
    "in dry conditions than rainy conditions, but some teams might be less affected by slippery conditions than others."
   ]
  },
  {
   "cell_type": "markdown",
   "id": "05c030f1",
   "metadata": {},
   "source": [
    "## Emprical distributions"
   ]
  },
  {
   "cell_type": "markdown",
   "id": "73406ee4",
   "metadata": {},
   "source": [
    "In the following sections, we assume a priori that the \n",
    "[null hypothesis](#Null-hypothesis \"Section: Null hypothesis\") holds true.\n",
    "Under this assumption, we aggregate all matches and examine the empirical distributions\n",
    "derived from match outcomes."
   ]
  },
  {
   "cell_type": "markdown",
   "id": "4bf3338c",
   "metadata": {},
   "source": [
    "### Likelihood of a draw"
   ]
  },
  {
   "cell_type": "markdown",
   "id": "a55b79ac",
   "metadata": {},
   "source": [
    "At the end of an Australian Rules football match, the scores of the two opposing teams might be tied, resulting in a draw. However, as discussed in [Chapter 1](1_introduction.ipynb#The-effect-of-draws\n",
    "\"Introduction: The effect of draws\"), draws by their nature must be statisticaly unlikely events.\n",
    "Consequently, it makes sense to aggregate all matches to help overcome the scarcity of draws."
   ]
  },
  {
   "cell_type": "code",
   "execution_count": 16,
   "id": "b262efae",
   "metadata": {},
   "outputs": [
    {
     "data": {
      "text/plain": [
       "array(['lost-to', 'defeated', 'drew-with'], dtype=object)"
      ]
     },
     "execution_count": 16,
     "metadata": {},
     "output_type": "execute_result"
    }
   ],
   "source": [
    "df_training.edge_type.unique()"
   ]
  },
  {
   "cell_type": "code",
   "execution_count": 17,
   "id": "2e472976",
   "metadata": {},
   "outputs": [
    {
     "name": "stdout",
     "output_type": "stream",
     "text": [
      "Draws: matches=5810, draws=50, mean=0.008605851979345954, std. err.=0.0012118030613057298\n"
     ]
    }
   ],
   "source": [
    "df_training['is_draw'] = is_draw = df_training.edge_type == 'drew-with'\n",
    "p_draw = np.mean(is_draw)\n",
    "num_matches = len(df_training)\n",
    "#std_err = np.sqrt(np.var(is_draw) / num_matches)\n",
    "std_err = np.sqrt(p_draw * (1 - p_draw) / num_matches)\n",
    "print(f\"Draws: matches={num_matches}, draws={sum(is_draw)}, mean={p_draw}, std. err.={std_err}\")"
   ]
  },
  {
   "cell_type": "markdown",
   "id": "09b9e0a9",
   "metadata": {},
   "source": [
    "We observe that the empirical probability of a draw is around 1% or less."
   ]
  },
  {
   "cell_type": "markdown",
   "id": "a43c7426",
   "metadata": {},
   "source": [
    "### Distribution of goals"
   ]
  },
  {
   "cell_type": "markdown",
   "id": "5eb12228",
   "metadata": {},
   "source": [
    "The number of goals scored by a given team in a given match is a non-negative integer.\n",
    "Consequently, one could potentially assume a priori that the number of goals (in a given period of time) might follow a Poisson distribution, assuming that the rate of goal scoring remains\n",
    "constant. To partially allow for the goal rate to vary in each quarter of a match (e.g. due perhaps to accumulating fatigue), we aggregate the scores over all four quarters.\n",
    "\n",
    "We also assume for convenience that every match takes the same amount of time to complete,\n",
    "with the current length of each quarter being nominally about 20 minutes.\n",
    "However, this is not actually true in practice, primarily due to variations in timing due\n",
    "to stoppages, e.g. when the ball goes out of play, or when there are player injuries.\n",
    "Additionally, it must be noted that prior to 1994, the alotted time was actually 25 minutes per quarter. Also, due to the outbreak of Covid in 2020, the time was reduced for that season to only 16 minutes per quarter. We make simple adjustments for these variations in this analysis."
   ]
  },
  {
   "cell_type": "code",
   "execution_count": 18,
   "id": "c1cd4e4e",
   "metadata": {},
   "outputs": [],
   "source": [
    "columns  = ['for_goals' + str(i) for i in range(1, 5)]\n",
    "for_goals = np.sum(df_training[columns].values, axis=1, dtype=float)\n",
    "columns  = ['against_goals' + str(i) for i in range(1, 5)]\n",
    "against_goals = np.sum(df_training[columns].values, axis=1, dtype=float)"
   ]
  },
  {
   "cell_type": "code",
   "execution_count": 19,
   "id": "9828ff77",
   "metadata": {},
   "outputs": [],
   "source": [
    "# Reduce time per quarter from 25 to 20\n",
    "ind = df_training.season < 1994\n",
    "for_goals[ind] *= 20 / 25\n",
    "against_goals[ind] *= 20 / 25\n",
    "# Increase time per quarter from 16 to 20\n",
    "ind = df_training.season == 2020\n",
    "for_goals[ind] *= 20 / 16\n",
    "against_goals[ind] *= 20 / 16"
   ]
  },
  {
   "cell_type": "code",
   "execution_count": 20,
   "id": "92b0e635",
   "metadata": {},
   "outputs": [
    {
     "name": "stdout",
     "output_type": "stream",
     "text": [
      "Goals: mean=13.13802065404475, variance=20.381749782705942\n"
     ]
    }
   ],
   "source": [
    "all_goals = np.concatenate([[for_goals, against_goals]], axis=None)\n",
    "goal_mean = np.mean(all_goals)\n",
    "goal_var = np.var(all_goals)\n",
    "print(f\"Goals: mean={goal_mean}, variance={goal_var}\")"
   ]
  },
  {
   "cell_type": "markdown",
   "id": "f97868cf",
   "metadata": {},
   "source": [
    "The over-dispersion of the variance (which should otherwise appproximately equal the mean)\n",
    "rules out a simple Poisson distribution. One possibility is that goal scoring is still Poisson but with a variable rate. For example, if the scoring rate was resampled for each match from a Gamma\n",
    "distribution, then the overall number of goals would follow a negative binomial distribution."
   ]
  },
  {
   "cell_type": "code",
   "execution_count": 21,
   "id": "c47a8acc",
   "metadata": {},
   "outputs": [],
   "source": [
    "from scipy import stats as sci_stats"
   ]
  },
  {
   "cell_type": "code",
   "execution_count": 22,
   "id": "7f1ed800",
   "metadata": {},
   "outputs": [],
   "source": [
    "alpha, loc, beta = sci_stats.gamma.fit(all_goals)\n",
    "x_values = np.linspace(min(all_goals), max(all_goals), 100)\n",
    "y_values = sci_stats.gamma.pdf(x_values, alpha, loc=loc, scale=beta)"
   ]
  },
  {
   "cell_type": "code",
   "execution_count": 23,
   "id": "32f894de",
   "metadata": {},
   "outputs": [
    {
     "data": {
      "image/png": "[encoded data removed]",
      "text/plain": [
       "<Figure size 640x480 with 1 Axes>"
      ]
     },
     "metadata": {},
     "output_type": "display_data"
    }
   ],
   "source": [
    "df_goals = pd.DataFrame({'goals': all_goals})\n",
    "res = df_goals.hist(bins=20, density=True)\n",
    "ax = res[0][0]\n",
    "res = ax.plot(x_values, y_values, 'r')"
   ]
  },
  {
   "cell_type": "code",
   "execution_count": 24,
   "id": "aa4223e1",
   "metadata": {},
   "outputs": [
    {
     "ename": "AttributeError",
     "evalue": "'nbinom_gen' object has no attribute 'fit'",
     "output_type": "error",
     "traceback": [
      "\u001b[1;31m--------------------------------------------\u001b[0m",
      "\u001b[1;31mAttributeError\u001b[0mTraceback (most recent call last)",
      "Cell \u001b[1;32mIn[24], line 1\u001b[0m\n\u001b[1;32m----> 1\u001b[0m sci_stats\u001b[38;5;241m.\u001b[39mnbinom\u001b[38;5;241m.\u001b[39mfit(all_goals)\n",
      "\u001b[1;31mAttributeError\u001b[0m: 'nbinom_gen' object has no attribute 'fit'"
     ]
    }
   ],
   "source": [
    "sci_stats.nbinom.fit(all_goals)"
   ]
  },
  {
   "cell_type": "code",
   "execution_count": 25,
   "id": "1ec3ddef",
   "metadata": {},
   "outputs": [],
   "source": [
    "from gamma_dist import GammaDistribution"
   ]
  },
  {
   "cell_type": "code",
   "execution_count": 26,
   "id": "0ce45d66",
   "metadata": {},
   "outputs": [
    {
     "data": {
      "text/plain": [
       "(-2.909294655346973, 131, 9.801057481162445e-07)"
      ]
     },
     "execution_count": 26,
     "metadata": {},
     "output_type": "execute_result"
    }
   ],
   "source": [
    "gd = GammaDistribution()\n",
    "gd.fit(all_goals)"
   ]
  },
  {
   "cell_type": "code",
   "execution_count": 28,
   "id": "750363ac",
   "metadata": {},
   "outputs": [],
   "source": [
    "y_values = np.exp(gd.log_prob(x_values))"
   ]
  },
  {
   "cell_type": "code",
   "execution_count": 29,
   "id": "c56c7abd",
   "metadata": {},
   "outputs": [
    {
     "data": {
      "image/png": "[encoded data removed]",
      "text/plain": [
       "<Figure size 640x480 with 1 Axes>"
      ]
     },
     "metadata": {},
     "output_type": "display_data"
    }
   ],
   "source": [
    "df_goals = pd.DataFrame({'goals': all_goals})\n",
    "res = df_goals.hist(bins=20, density=True)\n",
    "ax = res[0][0]\n",
    "res = ax.plot(x_values, y_values, 'r')"
   ]
  },
  {
   "cell_type": "markdown",
   "id": "406dbd0a",
   "metadata": {},
   "source": [
    "## Physical representativeness"
   ]
  },
  {
   "cell_type": "markdown",
   "id": "49f5f191",
   "metadata": {},
   "source": [
    "A basic assumption of probabilistic modelling is that every data point (i.e. every match) is drawn from the *same* underlying distribution. This is just the null hypothesis discussed in a\n",
    "[previous](#Null-hypothesis \"Section: Null hypothesis\") section.\n",
    "However, the outcome of each AFL match depends upon both the laws of physics and the rules of the\n",
    "game. For example, there is a minimum time it takes to score from any given point of the match ground, which depends upon both player biodynamics and the dimensions of the oval (i.e. physics).\n",
    "This in turn determines the maximum possible score in a fixed period of time.\n",
    "\n",
    "However, the (nominal) length of a *quarter* depends upon the rules, which change over time.\n",
    "Thus, the maximum possible score per match can also change.\n",
    "Furthermore, various aspects of the game, e.g. the ability to tackle other players, also vary according to the rules. For example, the rate of scoring will be reduced when the free flow of the game is interrupted by umpires awarding penalties."
   ]
  },
  {
   "cell_type": "markdown",
   "id": "a5f46c39",
   "metadata": {},
   "source": [
    "These factors raise some difficult issues. Is a given match representative of the (assumed) underlying distribution? Is one season really much like another? We shall examine some of these issues in the sections below."
   ]
  },
  {
   "cell_type": "markdown",
   "id": "b0fa93fa",
   "metadata": {},
   "source": [
    "### Match venue effects"
   ]
  },
  {
   "cell_type": "markdown",
   "id": "102b19fe",
   "metadata": {},
   "source": [
    "Due to historical reasons, not all match grounds have the same physical dimensions.\n",
    "As discussed above, this is one physical factor that determines the team scores in a match.\n",
    "It might be reasoned that such physical constraints affect each team equally, and hence do not\n",
    "mattter when predicting which team will win. Conversely, it might be argued that a smaller oval will give each team's defence less opportunity to restrict scoring shots by the opposition offense, and this might favour a distinctly stronger team, e.g. a team that can run faster or kick the ball further."
   ]
  },
  {
   "cell_type": "markdown",
   "id": "04970c24",
   "metadata": {},
   "source": [
    "In order to test this effect, we examine the distribution of scores for each match venue and\n",
    "see whether or not these distributions differ markedly.\n",
    "Note that although the local name of each sporting ground might change over time due to naming rights from sponsorship deals, the extracted names of the venues have already been normalised."
   ]
  },
  {
   "cell_type": "code",
   "execution_count": null,
   "id": "81d6d1f5",
   "metadata": {},
   "outputs": [],
   "source": [
    "all_venues = sorted(df_training.venue.unique())\n",
    "print(\"Found %d distinct venues\" % len(all_venues))"
   ]
  },
  {
   "cell_type": "markdown",
   "id": "0f782034",
   "metadata": {},
   "source": [
    "For convenience, we ignore matches from infrequently used venues."
   ]
  },
  {
   "cell_type": "code",
   "execution_count": null,
   "id": "be154c91",
   "metadata": {},
   "outputs": [],
   "source": [
    "min_num_matches = 10"
   ]
  },
  {
   "cell_type": "code",
   "execution_count": null,
   "id": "71054b7a",
   "metadata": {},
   "outputs": [],
   "source": [
    "ds = df_training.sort_values(\"venue\").groupby(\"venue\").apply(len)\n",
    "ind = ds >= min_num_matches  # Reject infrequent\n",
    "df_sample = df_training[df_training.venue.isin(ds.index[ind])]"
   ]
  },
  {
   "cell_type": "code",
   "execution_count": null,
   "id": "9cc45b9c",
   "metadata": {},
   "outputs": [],
   "source": [
    "def score_stats(df):\n",
    "    scores = df[['for_total_score', 'against_total_score']].values\n",
    "    n = np.size(scores)\n",
    "    m = np.mean(scores)\n",
    "    v = np.var(scores)\n",
    "    se = np.sqrt(v / n)\n",
    "    data = n, m, v, se\n",
    "    index = 'size', 'mean', 'var', 'std_err'\n",
    "    return pd.Series(data, index)"
   ]
  },
  {
   "cell_type": "code",
   "execution_count": null,
   "id": "551db212",
   "metadata": {},
   "outputs": [],
   "source": [
    "ds_stats = score_stats(df_sample)\n",
    "print(ds_stats)"
   ]
  },
  {
   "cell_type": "code",
   "execution_count": null,
   "id": "71cf2b4a",
   "metadata": {},
   "outputs": [],
   "source": [
    "def group_score_stats(df, group_name):\n",
    "    df_out = df.groupby(group_name).apply(score_stats)\n",
    "    df_out.reset_index(drop=False, inplace=True)\n",
    "    return df_out"
   ]
  },
  {
   "cell_type": "code",
   "execution_count": null,
   "id": "6a6d64f6",
   "metadata": {},
   "outputs": [],
   "source": [
    "df_stats = group_score_stats(df_sample, \"venue\")\n",
    "df_stats['sig'] = (df_stats['mean'] - ds_stats['mean']) / df_stats.std_err\n",
    "print(df_stats)"
   ]
  },
  {
   "cell_type": "markdown",
   "id": "7f5c4195",
   "metadata": {},
   "source": [
    "Informally, we might plot the mean score of each venue along with standard error bars,\n",
    "and visually check whether these are similar to the overall mean score."
   ]
  },
  {
   "cell_type": "code",
   "execution_count": null,
   "id": "d6014482",
   "metadata": {},
   "outputs": [],
   "source": [
    "score_mean = ds_stats['mean']\n",
    "num_groups = len(df_stats)\n",
    "x = np.arange(1, num_groups + 1)\n",
    "plt.plot(x, [score_mean] * num_groups, 'r')\n",
    "venue_means = df_stats['mean']\n",
    "plt.plot(x, venue_means, 'g')\n",
    "venue_ses = df_stats.std_err\n",
    "plt.plot(x, venue_means + 2 * venue_ses, 'lightgrey')\n",
    "plt.plot(x, venue_means - 2 * venue_ses, 'lightgrey')\n",
    "sig = (venue_means - score_mean) / venue_ses\n",
    "plt.xlabel('Index of venue')\n",
    "plt.ylabel('Score')\n",
    "plt.legend(['overall mean', 'venue mean', '2 std. err.'])\n",
    "plt.show()"
   ]
  },
  {
   "cell_type": "markdown",
   "id": "870e0caa",
   "metadata": {},
   "source": [
    "This plot suggests that not all venues are like the 'average' venue.\n",
    "\n",
    "More formally, we could perform an *analysis of variance* (ANOVA)."
   ]
  },
  {
   "cell_type": "code",
   "execution_count": null,
   "id": "57a2a8b4",
   "metadata": {},
   "outputs": [],
   "source": [
    "def anova(ds_stats, df_stats):\n",
    "    num_samples = int(ds_stats['size'])\n",
    "    sse_total = num_samples * ds_stats['var']\n",
    "    sse_within = np.dot(df_stats['size'], df_stats['var'])\n",
    "    sse_between = sse_total - sse_within\n",
    "    print(f\"SSE: total={sse_total}, within={sse_within}, between={sse_between}\")\n",
    "    num_groups = len(df_stats)\n",
    "    deg_total = num_samples - 1\n",
    "    var_total = sse_total / deg_total\n",
    "    deg_within = num_samples - num_groups\n",
    "    var_within = sse_within / deg_within\n",
    "    deg_between = num_groups - 1\n",
    "    var_between = sse_between / deg_between\n",
    "    print(f\"DF: total={deg_total}, within={deg_within}, between={deg_between}\")\n",
    "    print(f\"Var: total={var_total}, within={var_within}, between={var_between}\")\n",
    "    print(\"F-score:\", var_between / var_within)"
   ]
  },
  {
   "cell_type": "code",
   "execution_count": null,
   "id": "c3c4b842",
   "metadata": {},
   "outputs": [],
   "source": [
    "anova(ds_stats, df_stats)"
   ]
  },
  {
   "cell_type": "markdown",
   "id": "cace62b7",
   "metadata": {},
   "source": [
    "## Temporal representativeness"
   ]
  }
 ],
 "metadata": {
  "kernelspec": {
   "display_name": "Python 3 (ipykernel)",
   "language": "python",
   "name": "python3"
  },
  "language_info": {
   "codemirror_mode": {
    "name": "ipython",
    "version": 3
   },
   "file_extension": ".py",
   "mimetype": "text/x-python",
   "name": "python",
   "nbconvert_exporter": "python",
   "pygments_lexer": "ipython3",
   "version": "3.11.5"
  }
 },
 "nbformat": 4,
 "nbformat_minor": 5
}
