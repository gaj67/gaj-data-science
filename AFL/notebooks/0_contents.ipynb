{
 "cells": [
  {
   "cell_type": "markdown",
   "id": "233526a5",
   "metadata": {},
   "source": [
    "# AFL Match Prediction"
   ]
  },
  {
   "cell_type": "markdown",
   "id": "9eceadb4",
   "metadata": {},
   "source": [
    "The following chapters/notebooks expound upon practical, though experimental, techniques for attempting to predict the winner of an Australian Rules football match."
   ]
  },
  {
   "cell_type": "markdown",
   "id": "3ce6aa07",
   "metadata": {},
   "source": [
    "## Introduction"
   ]
  },
  {
   "cell_type": "markdown",
   "id": "dfa6d47c",
   "metadata": {},
   "source": [
    "[Chapter 1](#1-introduction.ipynb \"Chapter 1: Introduction\") introduces ..."
   ]
  },
  {
   "cell_type": "markdown",
   "id": "44fdbcdf",
   "metadata": {},
   "source": [
    "## Data Extraction"
   ]
  },
  {
   "cell_type": "markdown",
   "id": "9ccd6cec",
   "metadata": {},
   "source": [
    "[Chapter 2](#2-data-extraction.ipynb \"Chapter 2: Data Extraction\") deals with the task of extracting machine-readable data from human-readable web pages that list the results of historical AFL matches."
   ]
  },
  {
   "cell_type": "markdown",
   "id": "95d1bc4b",
   "metadata": {},
   "source": [
    "## Feature Extraction"
   ]
  },
  {
   "cell_type": "markdown",
   "id": "c9876ab3",
   "metadata": {},
   "source": [
    "[Chapter 3](#3-feature-extraction.ipynb \"Chapter 3: Feature Extraction\") ..."
   ]
  },
  {
   "cell_type": "markdown",
   "id": "13d26c85",
   "metadata": {},
   "source": [
    "## Data Analysis"
   ]
  },
  {
   "cell_type": "markdown",
   "id": "3b05b7d2",
   "metadata": {},
   "source": [
    "[Chapter 4](#4-data-analysis.ipynb \"Chapter 4: Data Analysis\") deals with various pratical issues in analysing the extracted data, including the split between training and testing data, and the issue of representativeness of data over time."
   ]
  },
  {
   "cell_type": "code",
   "execution_count": null,
   "id": "e233c34f",
   "metadata": {},
   "outputs": [],
   "source": []
  }
 ],
 "metadata": {
  "kernelspec": {
   "display_name": "Python 3 (ipykernel)",
   "language": "python",
   "name": "python3"
  },
  "language_info": {
   "codemirror_mode": {
    "name": "ipython",
    "version": 3
   },
   "file_extension": ".py",
   "mimetype": "text/x-python",
   "name": "python",
   "nbconvert_exporter": "python",
   "pygments_lexer": "ipython3",
   "version": "3.11.5"
  }
 },
 "nbformat": 4,
 "nbformat_minor": 5
}
