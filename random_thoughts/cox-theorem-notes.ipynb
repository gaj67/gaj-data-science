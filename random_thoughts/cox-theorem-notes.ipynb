{
 "cells": [
  {
   "cell_type": "markdown",
   "id": "0becd350",
   "metadata": {},
   "source": [
    "Author: G. Jarrad\n",
    "\n",
    "This document summarises some of the relations due to Cox's Theorem \n",
    "[[1]](#References \"Reference: Probability, frequency and reasonable expectation\"), particularly as they relate to the discussion by Van Horn\n",
    "[[2]](#References \"Reference: Constructing a logic of plausible inference: a guide to Cox's theorem\"). \n",
    "Note that here we are aiming more for explicability than formal exactness."
   ]
  },
  {
   "cell_type": "markdown",
   "id": "1e38e817",
   "metadata": {},
   "source": [
    "# The Calculus of Plausible Inference"
   ]
  },
  {
   "cell_type": "markdown",
   "id": "203f7ca5",
   "metadata": {},
   "source": [
    "## Propositional calculus"
   ]
  },
  {
   "cell_type": "markdown",
   "id": "4242c66a",
   "metadata": {},
   "source": [
    "We start with the notion of Boolean propositions, denoted by $A$, $B$, $C$, et cetera, that must take on values of either $\\mathtt{True}$ or $\\mathtt{False}$. However, our knowledge about the truth values of these propositions is always contextual, and depends on some background knowledge, denoted by $X$. Hence, $A\\mid X$\n",
    "denotes the proposition that $A$ is conditionally $\\mathtt{True}$ given $X$. Conversely, $\\lnot A\\mid X$ denotes the propostion that $A$ is conditionally $\\mathtt{False}$ given $X$. Similarly, $A\\wedge B\\mid X$ denotes *both* $A$ and $B$ being conditionally $\\mathtt{True}$, and $A\\vee B\\mid X$ denotes *either* $A$ or $B$ (or both) being\n",
    "conditionally $\\mathtt{True}$."
   ]
  },
  {
   "cell_type": "markdown",
   "id": "b5327a06",
   "metadata": {},
   "source": [
    "## Credibility of propositions"
   ]
  },
  {
   "cell_type": "markdown",
   "id": "43982561",
   "metadata": {},
   "source": [
    "In the case where we do not know with certainty that some proposition $A\\mid X$ is definitely $\\mathtt{True}$\n",
    "or definitely $\\mathtt{False}$, then we instead have some degree of *belief* in its truth value. Formally, we encapsulate the degree of belief via some *credibility* (or plausibility) function $c(\\cdot)$, such that\n",
    "$c(A\\mid X)$ denotes our subjective measure of the cedibility of the proposition $A\\mid X$."
   ]
  },
  {
   "cell_type": "markdown",
   "id": "4c3eab50",
   "metadata": {},
   "source": [
    "In a unimodal calculus of credibility, we suppose that credibility is denoted by a single, real number, such that a higher number indicates more certainty that the proposition is $\\mathtt{True}$, and a lower number indicates more certainty that the proposition is $\\mathtt{False}$. \n",
    "However, we further require that the calculus of credibility remains consistent with the calculus of propositional logic. In particular, if we know that \n",
    "$A\\mid X$ is $\\mathtt{True}$, then the assigned credibility must attain its maximimum value \n",
    "$T\\doteq c(\\mathtt{True})$. Conversely, if we know that $A\\mid X$ is $\\mathtt{False}$, then the assigned credibility must attain its minimimum value $F\\doteq c(\\mathtt{False})$.\n",
    "Hence, in general, we have $F\\le c(A\\mid X)\\le T$.\n",
    "\n",
    "Note, however, that we have neither defined nor proscribed any given values of $T$ and $F$. In particular, we have not ruled out $F=-\\infty$ or $T=+\\infty$. However, we can assume that $F<T$, otherwise we will always be stuck with a singular (and thus unexpressive) value of credibility for every proposition.\n",
    "Also note that we are assuming that credibility values are dense in the interval $[F,T]$. This is essentially the *universality* axiom."
   ]
  },
  {
   "cell_type": "markdown",
   "id": "45c2840d",
   "metadata": {},
   "source": [
    "## Credibility of negation"
   ]
  },
  {
   "cell_type": "markdown",
   "id": "e786f2b5",
   "metadata": {},
   "source": [
    "Suppose that our background knowledge changes from $X$ to $X'$, such that our (conditional) degree of belief in some proposition $A$ increases, i.e. $c(A\\mid X')\\ge c(A\\mid X)$. It follows, for our unimodal calculus of credibility, that our degree of belief in the converse proposition $\\lnot A$ must decrease, i.e. $c(\\lnot A\\mid X')\\le c(\\lnot A\\mid X)$. In general,  we suppose that our degrees of belief in the contrary propositions $A\\mid X$ and $\\lnot A\\mid X$ are related via some *complementation* function $s(\\cdot)$, such that\n",
    "$c(\\lnot A\\mid X)=s(c(A\\mid X))$ and $c(A\\mid X)=s(c(\\lnot A\\mid X))$."
   ]
  },
  {
   "cell_type": "markdown",
   "id": "7409d56b",
   "metadata": {},
   "source": [
    "It immediately follows that\n",
    "$s(\\cdot)$ is self-invertible in the sense that $s(s(x))=x$ for any valid credibility $x=c(A\\mid X)$.\n",
    "Clearly, by construction, $s(x)$ is a monitonically decreasing function of $x$.\n",
    "Furthermore, for consistency with the calculus of propositional logic, we observe that knowing that\n",
    "$A\\mid X$ is $\\mathtt{True}$ is equivalent to knowing that $\\lnot A\\mid X$ is $\\mathtt{False}$, such that\n",
    "$s(T)=F$ and $s(F)=T$."
   ]
  },
  {
   "cell_type": "markdown",
   "id": "f974d618",
   "metadata": {},
   "source": [
    "## Credibility of conjunction"
   ]
  },
  {
   "cell_type": "markdown",
   "id": "9dcacc7b",
   "metadata": {},
   "source": [
    "We now turn to the conjunctive proposition $A\\wedge B\\mid X$, and its credibility $c(A\\wedge B\\mid X)$.\n",
    "Observe that if $B\\mid X=\\mathtt{True}$, then it follows logically that $A\\wedge B\\mid X=A\\mid X$.\n",
    "Conversely, if $B\\mid X=\\mathtt{False}$ then $A\\wedge B\\mid X=\\mathtt{False}$.\n",
    "Hence, we might suppose that $c(A\\wedge B\\mid X)$ depends upon $c(A\\mid X)$ and $c(B\\mid X)$."
   ]
  },
  {
   "cell_type": "markdown",
   "id": "865f52d1",
   "metadata": {},
   "source": [
    "However, if $B\\mid X=\\mathtt{True}$, then $B$ is consistent with, and adds nothing to, the background knowledge $X$. In other words, the new knowledge $X'\\doteq B\\wedge X$ is still just $X$. Hence, if $B\\mid X=\\mathtt{True}$ then it follows that $A\\mid X=A\\mid B\\wedge X$. \n",
    "Similarly, if $B\\mid X=\\mathtt{True}$, then it follows that $B\\mid A\\wedge X=\\mathtt{True}$ for any  proposition $A$ that is consistent with $X$.\n",
    "Consequently, we might suppose that\n",
    "$c(A\\wedge B\\mid X)$ also depends upon both $c(A\\mid B\\wedge X)$ and\n",
    "$c(B\\mid A\\wedge X)$."
   ]
  },
  {
   "cell_type": "markdown",
   "id": "ac82c948",
   "metadata": {},
   "source": [
    "In general, we therefore suppose that the credibility of the proposition $A\\wedge B\\mid X$ depends on the \n",
    "atomic credibilities of $x=c(A\\mid X)$, $y=c(B\\mid X)$ and $w=c(A\\mid B\\wedge X)$, $z=c(B\\mid A\\wedge X)$.\n",
    "We thus posit a *conjunctive* function $f(\\cdot)$ such that $c(A\\wedge B\\mid X)=f(x,y,w,z)$.\n",
    "Since each atomic credibility, taken in turn, might or might not influence $c(A\\wedge B\\mid X)$, we see that there are $2^4=16$ distinct functions, each with a distinct argument signature. These arbitrary functions, enumerated as $f_i$ for $i=1,2\\ldots,16$, are listed in the first column of the table below."
   ]
  },
  {
   "cell_type": "markdown",
   "id": "edd30d80",
   "metadata": {},
   "source": [
    "Note that if $c(A\\wedge B\\mid X)$ is defined by any particular function $f_i$, then this relation must hold for all propositions $A$ and $B$, and any (consistent) background knowledge $X$.\n",
    "In particular, if we suppose that $B\\mid X=\\mathtt{True}$, then (from above) we have \n",
    "$y=c(B\\mid X)=T$ and $z=c(B\\mid A\\wedge X)=T$, and also $w=c(A\\mid B\\wedge X)=c(A\\mid X)=x$, and finally\n",
    "$c(A\\wedge B\\mid X)=c(A\\mid X)=x$. \n",
    "\n",
    "These values give us the constraints listed in the second column of the table. We may therefore immediately rule out functions $f_1$, $f_3$, $f_5$ and $f_{10}$ as being inconsistent, since their respective constraints imply that a constant left-hand side must equal a variable right-hand side."
   ]
  },
  {
   "cell_type": "markdown",
   "id": "381eca02",
   "metadata": {},
   "source": [
    "By a similar argument, we deduce that if, alternatively, we suppose that $A\\mid X=\\mathtt{True}$, then we obtain\n",
    "$x=c(A\\mid X)=T$, $w=c(A\\mid B\\wedge X)=T$, $z=c(B\\mid A\\wedge X)=c(B\\mid X)=y$ and\n",
    "$c(A\\wedge B\\mid X)=c(B\\mid X)=y$. These values give us the constraints listed in the third column of the table.\n",
    "Consequently, we may further rule out functions $f_2$, $f_4$ and $f_7$ as being inconsistent."
   ]
  },
  {
   "cell_type": "markdown",
   "id": "c870af72",
   "metadata": {},
   "source": [
    "Continuing these arguments, suppose now that $A\\mid X=\\lnot B\\mid X$. Then we obtain that\n",
    "$c(A\\wedge B\\mid X)=F$, along with $x=c(A\\mid X)=c(\\lnot B\\mid X)=s(c(B\\mid X))=s(y)$,\n",
    "and $w=c(A\\mid B\\wedge X)=F$ and $z=c(B\\mid A\\wedge X)=F$. These values form the constraints listed in the fourth column of the table. We now rule out function $f_6$ on the basis that the constraint implies that both\n",
    "$f_6(x,y)=F$ and $y=s(x)$; informally, the intersection of these two curves cannot hold for the dense subset $x\\in[F,T]$ (as is required by the universality axiom).\n",
    "Note that Van Horn\n",
    "[[2]](#References \"Reference: Constructing a logic of plausible inference: a guide to Cox's theorem\")\n",
    "uses a more detailed, multi-faceted argument to formally make this conclusion."
   ]
  },
  {
   "cell_type": "markdown",
   "id": "8595dfd3",
   "metadata": {},
   "source": [
    "Finally, suppose now that $A\\mid X=B\\mid X$. Consequently, we obtain $x=c(A\\mid X)=c(B\\mid X)=y$, along with\n",
    "$w=c(A\\mid B\\wedge X)=T$, $z=c(B\\mid A\\wedge X)=T$, and $c(A\\wedge B\\mid X)=c(A\\mid X)=x$.\n",
    "These values form the constraints listed in the fifth column of the table. Hence, we now also eliminate function $f_{11}$."
   ]
  },
  {
   "cell_type": "markdown",
   "id": "3331dfea",
   "metadata": {},
   "source": [
    "\\begin{equation}\n",
    "\\nonumber\n",
    "\\begin{array}{l|l|l|l|l}\n",
    "c(A\\wedge B\\mid X) & B\\mid X=\\mathtt{True} & A\\mid X=\\mathtt{True} \n",
    "  & A\\mid X=\\lnot B\\mid X & A\\mid X=B\\mid X\\\\\n",
    "\\hline\n",
    "f_1() & \\rule{1.5cm}{0.25mm}\\hspace{-1.5cm} f_1()=x \n",
    "  & \\rule{1.5cm}{0.25mm}\\hspace{-1.5cm}f_1()=y & f_1()=F\n",
    "  & \\rule{1.5cm}{0.25mm}\\hspace{-1.5cm}f_1()=x\\\\\n",
    "f_2(x) & f_2(x)=x & \\rule{1.9cm}{0.2mm}\\hspace{-1.9cm}f_2(T)=y\n",
    "  & \\rule{1.9cm}{0.2mm}\\hspace{-1.9cm}f_2(x)=F & f_2(x)=x\\\\\n",
    "f_3(y) & \\rule{1.8cm}{0.25mm}\\hspace{-1.8cm}f_3(T)=x & f_3(y)=y\n",
    "  & \\rule{1.8cm}{0.25mm}\\hspace{-1.8cm}f_3(y)=F & f_3(y)=y\\\\\n",
    "f_4(w) & f_4(w)=w & \\rule{1.8cm}{0.25mm}\\hspace{-1.8cm}f_4(T)=y \n",
    "  & f_4(F)=F & \\rule{1.8cm}{0.25mm}\\hspace{-1.8cm}f_4(T)=x\\\\\n",
    "f_5(z) & \\rule{1.8cm}{0.25mm}\\hspace{-1.8cm}f_5(T)=x & f_5(z)=z \n",
    "  & f_5(F)=F & \\rule{1.8cm}{0.25mm}\\hspace{-1.8cm}f_5(T)=x\\\\\n",
    "f_6(x,y) & f_6(x,T)=x & f_6(T,y)=y\n",
    "  & \\rule{2.8cm}{0.25mm}\\hspace{-2.8cm}f_6(x,s(x))=F & f_6(x,x)=x\\\\\n",
    "f_7(x,w) & f_7(x,x)=x & \\rule{2.3cm}{0.25mm}\\hspace{-2.3cm}f_7(T,T)=y \n",
    "  & f_7(x,F)=F & f_7(x,T)=x\\\\\n",
    "f_8(x,z) & f_8(x,T)=x & f_8(T,z)=z & f_8(x,F)=F & f_8(x,T)=x\\\\\n",
    "f_9(y,w) & f_9(T,w)=w & f_9(y,T)=y & f_9(y,F)=F & f_9(y,T)=y\\\\\n",
    "f_{10}(y,z) & \\rule{2.5cm}{0.2mm}\\hspace{-2.5cm}f_{10}(T,T)=x \n",
    "  & f_{10}(y,y)=y & f_{10}(y,F)=F & f_{10}(y,T)=y\\\\\n",
    "f_{11}(w,z) & f_{11}(w,T)=w & f_{11}(T,z)=z & f_{11}(F,F)=F\n",
    "  & \\rule{2.5cm}{0.2mm}\\hspace{-2.5cm}f_{11}(T,T)=x\\\\\n",
    "f_{12}(x,y,w) & f_{12}(x,T,x)=x & f_{12}(T,y,T)=y\n",
    "  & f_{12}(x,s(x),F)=F & f_{12}(x,x,T)=x\\\\\n",
    "f_{13}(x,y,z) & f_{13}(x,T,T)=x & f_{13}(T,y,y)=y & f_{13}(x,s(x),F)=F & f_{13}(x,x,T)=x\\\\\n",
    "f_{14}(x,w,z) & f_{14}(x,x,T)=x & f_{14}(T,T,z)=z & f_{14}(x,F,F)=F & f_{14}(x,T,T)=x\\\\\n",
    "f_{15}(y,w,z) & f_{15}(T,w,T)=w & f_{15}(y,T,y)=y & f_{15}(y,F,F)=F & f_{15}(y,T,T)=y\\\\\n",
    "f_{16}(x,y,w,z) & f_{16}(x,T,x,T)=x & f_{16}(T,y,T,y)=y & f_{16}(x,s(x),F,F)=F \n",
    "  & f_{16}(x,x,T,T)=x\\\\\n",
    "\\end{array}\n",
    "\\end{equation}"
   ]
  },
  {
   "cell_type": "markdown",
   "id": "bddc5dbc",
   "metadata": {},
   "source": [
    "So far, we have ignored the symmetry that $A\\wedge B\\mid X=B\\wedge A\\mid X$. This symmetry allows us to swap the labels $A$ and $B$ to obtain the same results, implying that we may exchange the pairs\n",
    "$x=c(A\\mid X)\\leftrightarrow y=c(B\\mid X)$ and\n",
    "$w=c(A\\mid B\\wedge X)\\leftrightarrow z=c(B\\mid A\\wedge X)$.\n",
    "This exchangability then induces some pairings between formulae:\n",
    "\\begin{eqnarray*}\n",
    "c(A\\wedge B\\mid X) & = & f_8(x,z)~=~f_8(y,w)~=~f_9(y,w)~=~f_9(x,z)\\,,\n",
    "\\\\\n",
    "c(A\\wedge B\\mid X) & = & f_{12}(x,y,w)~=~f_{12}(y,x,z)~=~f_{13}(x,y,z)~=~f_{13}(y,x,w)\\,,\n",
    "\\\\\n",
    "c(A\\wedge B\\mid X) & = & f_{14}(x,w,z)~=~f_{14}(y,z,w)~=~f_{15}(y,w,z)~=~f_{15}(x,z,w)\\,,\n",
    "\\\\\n",
    "c(A\\wedge B\\mid X) & = & f_{16}(x,y,w,z)~=~f_{16}(y,x,z,w)\\,.\n",
    "\\end{eqnarray*}\n"
   ]
  },
  {
   "cell_type": "markdown",
   "id": "cea15ae9",
   "metadata": {},
   "source": [
    "At this juncture, Van Horn \n",
    "[[2]](#References \"Reference: Constructing a logic of plausible inference: a guide to Cox's theorem\")\n",
    "disputes the claims of Tribus\n",
    "[[3]](#References \"Reference: Rational Descriptions, Decisions and Designs\")\n",
    "to have eliminated the final three models.\n",
    "\n",
    "Van Horn then goes on to prove the standard result of Cox \n",
    "[[1]](#References \"Reference: Probability, frequency and reasonable expectation\"), namely that there\n",
    "exists a non-negative function $g(\\cdot)$ with $g(F)=0$, such that $g(f_8(x,z))=g(x)g(z)$. Roughly speaking, we may therefore\n",
    "define the probability function $p(\\cdot)\\doteq g(c(\\cdot))$, such that\n",
    "\\begin{eqnarray*}\n",
    "p(A\\wedge B\\mid X) & = & p(A\\mid X)\\,p(B\\mid A\\wedge X)~=~p(B\\mid X)\\,p(A\\mid B\\wedge X)\\,,\n",
    "\\end{eqnarray*}\n",
    "where we have chosen $g$ to satisfy $g(T)=g(c(\\mathtt{True}))=p(\\mathtt{True})=1$. Clearly, we then have\n",
    "$p(\\mathtt{False})=g(c(\\mathtt{False}))=g(F)=0$."
   ]
  },
  {
   "cell_type": "markdown",
   "id": "977ae7cf",
   "metadata": {},
   "source": [
    "At this point, however, we note that functions $f_{12}$ to $f_{16}$ cannot have this same factorisation. If they did, then we observe from the table above for $B\\mid X=\\mathtt{True}$, for instance, that\n",
    "\\begin{eqnarray*}\n",
    "g(x) & = & g(f_{16}(x,T,x,T))~=~\\left[g(T)\\,g(x)\\right]^2\\,,\n",
    "\\end{eqnarray*}\n",
    "which cannot hold true for all $x\\in[F,T]$ unless $g$ is everywhere zero, unity or infinity."
   ]
  },
  {
   "cell_type": "markdown",
   "id": "70bd00d0",
   "metadata": {},
   "source": [
    "In fact, a simple dimensional analysis (e.g. supposing that $c(A\\mid X)$ has dimensional units $[A]$) shows that\n",
    "\\begin{eqnarray*}\n",
    "g(f_{12}(x,y,w)) & = & g(y)\\,\\sqrt{g(x)\\,g(w)}\\,,\n",
    "\\\\\n",
    "g(f_{13}(x,y,z)) & = & g(x)\\,\\sqrt{g(y)\\,g(z)}\\,,\n",
    "\\\\\n",
    "g(f_{14}(x,w,z)) & = & g(z)\\,\\sqrt{g(x)\\,g(w)}\\,,\n",
    "\\\\\n",
    "g(f_{15}(y,w,z)) & = & g(w)\\,\\sqrt{g(y)\\,g(z)}\\,,\n",
    "\\\\\n",
    "g(f_{16}(x,y,w,z)) & = & \\sqrt{g(x)\\,g(w)}\\,\\sqrt{g(y)\\,g(z)}\\,,\n",
    "\\end{eqnarray*}\n",
    "are more suitable factorisations that satisfy the constraints of the above table.\n",
    "Furthermore, if we accept that \n",
    "$p(A\\wedge B\\mid X)=g(f_8(x,z))=g(f_9(y,w))$, then we observe that\n",
    "\\begin{eqnarray*}\n",
    "g(f_{12}(x,y,w)) & = & \\sqrt{g(x)\\,g(z)}\\sqrt{g(y)\\,g(w)}\\,\\sqrt{\\frac{g(y)}{g(z)}}\n",
    "  ~=~p(A\\wedge B\\mid X)\\,\\sqrt{\\frac{p(B\\mid X)}{p(B\\mid A\\wedge X)}}\\,,\n",
    "\\\\\n",
    "g(f_{13}(x,y,z)) & = & \\sqrt{g(x)\\,g(z)}\\,\\sqrt{g(y)\\,g(w)}\\,\\sqrt{\\frac{g(x)}{g(w)}}\n",
    "  ~=~p(A\\wedge B\\mid X)\\,\\sqrt{\\frac{p(A\\mid X)}{p(A\\mid B\\wedge X)}}\\,,\n",
    "\\\\\n",
    "g(f_{14}(x,w,z)) & = & \\sqrt{g(x)\\,g(z)}\\,\\sqrt{g(y)\\,g(w)}\\,\\sqrt{\\frac{g(z)}{g(y)}}\n",
    "  ~=~p(A\\wedge B\\mid X)\\,\\sqrt{\\frac{p(B\\mid A\\wedge X)}{p(B\\mid X)}}\\,,\n",
    "\\\\\n",
    "g(f_{15}(y,w,z)) & = &  \\sqrt{g(x)\\,g(z)}\\,\\sqrt{g(y)\\,g(w)}\\,\\sqrt{\\frac{g(w)}{g(x)}}\n",
    "  ~=~p(A\\wedge B\\mid X)\\,\\sqrt{\\frac{p(A\\mid B\\wedge X)}{p(A\\mid X)}}\\,,\n",
    "\\\\\n",
    "g(f_{16}(x,y,w,z)) & = & \\sqrt{g(x)\\,g(z)}\\,\\sqrt{g(y)\\,g(w)}\n",
    "  ~=~p(A\\wedge B\\mid X)\\,.\n",
    "\\end{eqnarray*}\n",
    "Thus, as Van Horn \n",
    "[[2]](#References \"Reference: Constructing a logic of plausible inference: a guide to Cox's theorem\")\n",
    "notes, $f_8$ is clearly the simplest function (along with its equivalent $f_9$) out of the set\n",
    "$\\{f_8,f_9,f_{12},\\ldots,f_{16}\\}$ of plausible options. "
   ]
  },
  {
   "cell_type": "markdown",
   "id": "75bd0f92",
   "metadata": {},
   "source": [
    "# References"
   ]
  },
  {
   "cell_type": "markdown",
   "id": "8e6a0c66",
   "metadata": {},
   "source": [
    "[1]  R.T. Cox (1946): \"*Probability, frequency and reasonable expectation*\"\n",
    "\n",
    "[2] K.S. Van Horn (2003): \"*Constructing a logic of plausible inference: a guide to Cox's Theorem*\"\n",
    "\n",
    "[3] M. Tribus (1969): \"*Rational descriptions, decisions and designs*\""
   ]
  }
 ],
 "metadata": {
  "kernelspec": {
   "display_name": "Python 3",
   "language": "python",
   "name": "python3"
  },
  "language_info": {
   "codemirror_mode": {
    "name": "ipython",
    "version": 3
   },
   "file_extension": ".py",
   "mimetype": "text/x-python",
   "name": "python",
   "nbconvert_exporter": "python",
   "pygments_lexer": "ipython3",
   "version": "3.8.8"
  }
 },
 "nbformat": 4,
 "nbformat_minor": 5
}
