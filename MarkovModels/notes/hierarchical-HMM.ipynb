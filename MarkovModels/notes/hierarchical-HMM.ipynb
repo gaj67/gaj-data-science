{
 "cells": [
  {
   "cell_type": "markdown",
   "id": "19601bd9",
   "metadata": {},
   "source": [
    "# Hierarchical Hidden Markov Model"
   ]
  },
  {
   "cell_type": "markdown",
   "id": "c11d62ea",
   "metadata": {},
   "source": [
    "## Background"
   ]
  },
  {
   "cell_type": "markdown",
   "id": "3f86b1ac",
   "metadata": {},
   "source": [
    "The seminal paper on hierarchical HMMs appears to be \n",
    "[(Fine, Singer and Tishby)](#References \"Reference [1]: The Hierarchical Hidden Markov Model: Analysis and Applications\"). However, this paper assumes that the hierarchy must be a tree structure.\n",
    "\n",
    "As an alternative, the paper by \n",
    "[(Bui, Phung and Venkatesh)](#References \"Reference [2]: Hierarchical Hidden Markov Models with General State Hierarchy\") allows a more general hierarchical structure, represented by\n",
    "the dynamical Bayesian network (DBN) shown below.\n",
    "<img src=\"DBN_original.png\" title=\"Dynamic Bayesian Network for Hierarchical HMM\">"
   ]
  },
  {
   "cell_type": "markdown",
   "id": "5f46e204",
   "metadata": {},
   "source": [
    "This notebook represents my thoughts and re-derivation of the model of\n",
    "[(Bui, Phung and Venkatesh)](#References \"Reference [2]: Hierarchical Hidden Markov Models with General State Hierarchy\").\n",
    "We shall mostly retain their notation, but slightly alter some initial assumptions\n",
    "and some symbology."
   ]
  },
  {
   "cell_type": "markdown",
   "id": "ba27222d",
   "metadata": {},
   "source": [
    "## Structural Levels"
   ]
  },
  {
   "cell_type": "markdown",
   "id": "b278e186",
   "metadata": {},
   "source": [
    "### Implicit level 0"
   ]
  },
  {
   "cell_type": "markdown",
   "id": "f525229a",
   "metadata": {},
   "source": [
    "My first problem with the model of [(Bui, Phung and Venkatesh)](#References \"Reference [2]: Hierarchical Hidden Markov Models with General State Hierarchy\") is that they assume there is only a singular state at level 1, such that $q^{1}_{t}=1$ for all $t=1,2,\\ldots,T$. Next, they assume from observation of $y_1,y_2,\\ldots,y_T$ that the level 1 sequence cannot finish before $t=T$, and thus $e^{1}_t=0$ for $t=1,2,\\ldots,T-1$, with $e^1_T$ being arbitrary and irrelevant. These assumptions essentially mean that we only have $D-1$ useful levels.\n",
    "\n",
    "In contrast, we shall here reserve an implicit level 0 with these same properties, such that choosing $D=1$ should recover an ordinary HMM. Thus, at level 0 we permit only state(s) \n",
    "$\\mathcal{Q}^0=\\{\\sigma^0_1\\}$. The necessary parameters at level 0 are \n",
    "$\\boldsymbol{\\Pi}^0=(\\boldsymbol{\\pi}^{0,1})$ and \n",
    "$\\boldsymbol{\\mathcal{A}}^0=(\\mathbf{A}^{0,1})$, where\n",
    "the $0$ denotes level 0 and the $1$ indexes the (single, allowable) state at level 0. \n",
    "These parameters control the subprocess at level 1, as explained in the next \n",
    "[section](#Level-1 \"Section: Level 1\").\n",
    "\n",
    "As discussed further in a later [section](#Temporal-Stages \"Section: Temporal Stages\"),\n",
    "for mathematical convenience we take $e^0_t=0$ for $t=1,2,\\ldots,T-1$. However, we allow\n",
    "the variable $e^0_T$ to be controlled, since we find that $e^0_T=1$ if it is known in advance that the observed sequence terminates after stage $T$. This special handling is discussed at [stage T](#Stage-T \"Section: Stage T\")."
   ]
  },
  {
   "cell_type": "markdown",
   "id": "6c25510f",
   "metadata": {},
   "source": [
    "### Level 1"
   ]
  },
  {
   "cell_type": "markdown",
   "id": "59541661",
   "metadata": {},
   "source": [
    "The allowable states at level 1 are arbitrarily specified by the finite set\n",
    "$\\mathcal{Q}^1=\\{\\sigma^1_1,\\sigma^1_2,\\ldots\\}$.\n",
    "The initial state $q^1_1\\in\\mathcal{Q}^1$ of level 1 at stage $t=1$ is stochastically selected\n",
    "via $q^1_1\\mid q^0_1\\sim\\mathcal{D}(\\boldsymbol{\\Pi}^{0})$. That is, the process chooses\n",
    "$q^1_1=\\sigma^1_i$ with probability \n",
    "\\begin{eqnarray}\n",
    "P(q^1_1=\\sigma^1_i\\mid q^0_1=\\sigma^0_1) & = & \\pi^{0,1}_i\\,,\n",
    "\\end{eqnarray}\n",
    "where $\\pi^{0,1}_\\cdot\\doteq\\sum_{i=1}^{\\left|\\mathcal{Q}^1\\right|}\\pi^{0,1}_i = 1$.\n",
    "This assumption is discussed futher in a later \n",
    "[section](#Stage-1 \"Section: Stage 1\").\n",
    "\n",
    "Following that initial choice of state, subsequent states $q^1_t$ are mostly chosen via stochastic state transitions. However, from the \n",
    "[DBN](#Background \"Section: Background\")\n",
    "we see that the transition from stage $t$ to stage $t+1$ is controlled by the *state completion indicator* $e^1_t\\in\\{0,1\\}$.\n",
    "\n",
    "To explain this indicator, note that due to the heierarchical nature of the model, the state $q^1_t$ at level 1 recursively controls the\n",
    "subprocesses at subsequent levels $d=2,3,\\ldots,D$ (see the next \n",
    "[section](#Level-d \"Section: Level d\")). At some point, we have a notion that these\n",
    "subprocesses have completed, and control returns back to state $q^1_t$. Now, at this\n",
    "point, at the end of stage $t$, the state $q^1_t$ has either completed its work, \n",
    "denoted by $e^1_t=1$, or else it is still in use, denoted by $e^1_t=0$.\n",
    "\n",
    "In the former case, if the state $q^1_t$ has completed its job after stage $t$, then the process at level 1 transitions to another state $q^1_{t+1}$ via \n",
    "$q^1_{t+1}\\mid q^1_t,e^1_t=1\\sim\\mathcal{D}(\\boldsymbol{\\mathcal{A}}^{0})$.\n",
    "That is, state $q^1_t=\\sigma^1_i$ transitions to state $q^1_{t+1}=\\sigma^1_j$\n",
    "with time-invariant probability \n",
    "\\begin{eqnarray}\n",
    "P(q^1_{t+1}=\\sigma^1_j\\mid q^1_t=\\sigma^1_i, q^0_t=\\sigma^0_1, e^1_t=1) & = & A^{0,1}_{i,j}\\,,\n",
    "\\end{eqnarray}\n",
    "where $A^{0,1}_{i,\\cdot}\\doteq\\sum_{j=1}^{\\left|\\mathcal{Q}^1\\right|}A^{0,1}_{i,j}=1$."
   ]
  },
  {
   "cell_type": "markdown",
   "id": "fdc8ff80",
   "metadata": {},
   "source": [
    "However, in the latter case, if state $q^1_t$ is not finished, then it is responsible for further\n",
    "subprocesses at stage $t+1$. We denote this continuing use of state $q^1_t=\\sigma^1_i$ by ensuring that \n",
    "$q^1_{t+1}=\\sigma^1_i$ when $e^1_t=0$.\n",
    "\n",
    "Consequently, at level 1, the general update from state $q^1_t$ at stage $t$ to state $q^1_{t+1}$ at stage $t+1$ is given by\n",
    "\\begin{eqnarray}\n",
    "P(q^1_{t+1}=\\sigma^1_j\\mid q^1_t=\\sigma^1_i,q^0_t=\\sigma^0_1,e^1_t) & = &\n",
    "\\left\\{\\begin{array}{ll}\n",
    "\\delta_{ij} & \\mbox{if}~e^1_t=0\\,,\\\\\n",
    "A^{0,1}_{i,j} & \\mbox{otherwise}\n",
    "\\end{array}\n",
    "\\right.\n",
    "\\,,\n",
    "\\end{eqnarray}\n",
    "for $t=1,2,\\ldots,T-1$.\n",
    "Note that it is possible for state $q^1_t$ to transition to the *same* state $q^1_{t+1}$\n",
    "when $e^1_t=1$. Thus, the simple fact that maybe $q^1_{t+1}=q^1_t$ is **not** sufficient to determine whether or not the state has completed at stage $t$."
   ]
  },
  {
   "cell_type": "markdown",
   "id": "6ae19cff",
   "metadata": {},
   "source": [
    "How can we know when state $q^1_t$ has finished after stage $t$? We observed above that if the process\n",
    "at level 1 has completed (for the current stage), then all subprocesses must also have completed. At this point, there must be a stochastic decision as to whether or not the\n",
    "state has finished, which clearly depends upon the state $q^1_t$.\n",
    "\n",
    "Conversely, if any subprocess has not completed, then the superprocess(es)\n",
    "cannot have completed either.\n",
    "Consequently, the decision for the indicator \n",
    "$e^1_t\\in\\{0,1\\}$ at level 1\n",
    "must also depend upon the indicator $e^2_t$ at level 2.\n",
    "\n",
    "What other information is needed? Since control passes down the hierarchy from superprocess to subprocess, and then back up the hierarchy from subprocess to superprocess, it makes sense if at some point the subprocess can signal the superprocess. In particular, the superprocess may possibly complete upon the subprocess\n",
    "reaching a certain state.\n",
    "\n",
    "These various dependencies are all included in the \n",
    "[DBN](#Background \"Section: Background\").\n",
    "Consequently, the completion indicator $e^1_t$ is sampled from\n",
    "$e^1_t\\mid q^1_t,q^2_t,e^2_t\\sim\\mathcal{D}(\\boldsymbol{\\mathcal{T}}^{1})$,\n",
    "for level 1 completion parameters \n",
    "$\\boldsymbol{\\mathcal{T}}^1=\n",
    "(\\boldsymbol{\\tau}^{1,p})_{p=1}^{\\left|\\mathcal{Q}^1\\right|}$.\n",
    "The exact calculation is deferred to the next [section](#Level-d \"Section: Level d\").\n",
    "The other parameters required at level 1 are\n",
    "$\\boldsymbol{\\Pi}^{1}=(\\boldsymbol{\\pi}^{1,p})_{p=1}^{\\left|\\mathcal{Q}^{1}\\right|}$ and\n",
    "$\\boldsymbol{\\mathcal{A}}^{1}=(\\mathbf{A}^{1,p})_{p=1}^{\\left|\\mathcal{Q}^{1}\\right|}$,\n",
    "which control the subprocess at level 2."
   ]
  },
  {
   "cell_type": "markdown",
   "id": "0b595f98",
   "metadata": {},
   "source": [
    "### Level d"
   ]
  },
  {
   "cell_type": "markdown",
   "id": "28f02e1c",
   "metadata": {},
   "source": [
    "In the previous [section](#Level-1 \"Section: Level 1\"), the process at level 1\n",
    "dependend strongly upon the implicit superprocess at level 0, and weakly on the\n",
    "subprocess at level 2.\n",
    "In this section, we shall generalise the process to arbitrary (explicit) level $d$ for\n",
    "$d=1,2,\\ldots,D-1$, and sometimes also for $d=D$.\n",
    "\n",
    "Firstly, we let the allowable states of level $d$ to be arbitrarily specified\n",
    "by the finite set $\\mathcal{Q}^d=\\{\\sigma^d_1,\\sigma^d_2,\\ldots\\}$.\n",
    "The size of these various state sets will need to be specified in advance.\n",
    "\n",
    "Next, we note that at level $d$ the state $q^d_t$ of the process\n",
    "depends upon the state $q^{d-1}_t$ of the superprocess. Thus, we permit\n",
    "each particular parent state,\n",
    "say $q^{d-1}_t=\\sigma^{d-1}_p$, to subselect different child states from \n",
    "$\\mathcal{Q}^d$.\n",
    "\n",
    "The first stage $t=1$ of level $d$ is initialised with state\n",
    "$q^d_1\\mid q^{d-1}_1\\sim\\mathcal{D}(\\boldsymbol{\\Pi}^{d-1})$. That is,\n",
    "state $q^d_1=\\sigma^d_i$ is chosen with probability\n",
    "\\begin{eqnarray}\n",
    "P(q^d_1=\\sigma^d_i\\mid q^{d-1}_1=p) & = & \\pi^{d-1,p}_{i}\\,,\n",
    "\\end{eqnarray}\n",
    "where $\\pi^{d-1,p}_\\cdot\\doteq\\sum_{i=1}^{\\left|\\mathcal{Q}^d\\right|}\\pi^{d-1,p}_i = 1$,\n",
    "for $d=1,2,\\ldots,D$."
   ]
  },
  {
   "cell_type": "markdown",
   "id": "a6f385f0",
   "metadata": {},
   "source": [
    "In terms of whether or not state $q^d_t$ is completed after stage $t$\n",
    "(denoted by $e^d_t=1$ or $e^d_t=0$, respectively),\n",
    "the logic of the previous [section](#Level-1 \"Section: Level 1\") \n",
    "holds true in general. That is, state $q^d_t$ cannot finish\n",
    "until state $q^{d+1}_t$ has finished, and even then state $q^d_t$ will only complete\n",
    "at stage $t$ with some probability, but with converse probability will continue\n",
    "to be active at stage $t+1$.\n",
    "\n",
    "Consequently, state $q^d_t$ is completed (or not) according to\n",
    "$e^d_t\\mid q^d_t,q^{d+1}_t,e^{d+1}_t\\sim\\mathcal{D}(\\boldsymbol{\\mathcal{T}}^{d})$.\n",
    "In particular,\n",
    "\\begin{eqnarray}\n",
    "P(e^d_t=1\\mid q^d_t=\\sigma^d_p, q^{d+1}_t=\\sigma^{d+1}_i,e^{d+1}_t) & = &\n",
    "\\left\\{\\begin{array}{ll}\n",
    "0 & \\mbox{if}~e^{d+1}_t=0\\,,\\\\\n",
    "\\tau^{d,p}_{i} & \\mbox{otherwise}\\,,\n",
    "\\end{array}\n",
    "\\right.\n",
    "\\end{eqnarray}\n",
    "for $d=1,2,\\ldots,D-1$ and $t=1,2,\\ldots,T$.\n",
    "Note that $\\tau^{d-1,p}_{i}$ is the time-invariant probability that the parent state $q^d_t=\\sigma^d_p$ is complete once the subprocess completes after reaching child state $q^{d+1}_t=\\sigma^{d+1}_i$. This does **not**\n",
    "sum to unity over child states $\\sigma^{d+1}_i\\in\\mathcal{Q}^{d+1}$."
   ]
  },
  {
   "cell_type": "markdown",
   "id": "b9006d48",
   "metadata": {},
   "source": [
    "In terms of transitioning between states at level $d$, the dynamics again mostly follow from those of the previous [section](#Level-1 \"Section: Level 1\"), \n",
    "except that now for $d>1$ there is an additional behaviour arising from the fact that state $q^{d-1}_t$ is permitted to complete \n",
    "(unlike for level 0, where $e^0_t=0$ for $t=1,2,\\ldots,T-1$).\n",
    "Thus, the 'transition' from state $q^d_t$ to $q^d_{t+1}$ now depends upon whether or\n",
    "not parent state $q^{d-1}_t$ is complete.\n",
    "Furthermore, the 'transition' actually depends on the next parent state $q^{d-1}_{t+1}$,\n",
    "not on the current state $q^{d-1}_t$. This did not matter at level 1,\n",
    "since there could only ever be one parent state $\\sigma^0_1$.\n",
    "From the [DBN](#Background \"Section: Background\"), we therefore sample according to\n",
    "$q^d_{t+1}\\mid q^d_t,q^{d-1}_{t+1},e^d_t,e^{d-1}_t\\sim\n",
    "\\mathcal{D}(\\boldsymbol{\\mathcal{A}}^{d-1},\\boldsymbol{\\Pi}^{d-1})$.\n",
    "\n",
    "We can view the control flow as follows. If state $q^d_t=\\sigma^d_p$ is not complete at stage $t$, then that state is still active (i.e. reused) at stage $t+1$\n",
    "with $q^d_{t+1}=q^d_t$, and control remains at level $d$. At the same time, none of the superprocesses may complete, and all super-states also remain the same at stage $t+1$. \n",
    "\n",
    "However, if state $q^d_t$ is complete, then control passes up to the superprocess\n",
    "at level $d-1$, across to the stage $t+1$ with parent state $q^{d-1}_{t+1}$,\n",
    "and then back down to the subprocess at level $d$ with the selection of state\n",
    "$q^d_{t+1}$. This next state depends upon whether or not the superprocess also\n",
    "completed with its state $q^{d-1}_t$. If $q^{d-1}_t$ is complete, then a new\n",
    "state $q^{d-1}_{t+1}$ is sampled at level $d-1$, triggering the selection of a new 'initial' state at level $d$. In other words, completion at level $d-1$ \n",
    "(and level $d$) results in the ending of the current subsequence at level $d$ and the commencement of another subsequence.\n",
    "\n",
    "Conversely, if $q^{d-1}_t$ is not complete, then the parent state persists as \n",
    "$q^{d-1}_{t+1}=q^{d-1}_t$, and the next child state\n",
    "$q^d_{t+1}$ is selected via allowable transitions from $q^d_t$. In other words,\n",
    "whilst the superprocess is not complete, the subprocess will continue to generate a subsequence. In effect, each superprocess produces a contiguous partitioning of its\n",
    "subprocess. Thus, although the [DBN](#Background \"Section: Background\") is in general not a tree,\n",
    "the end result of the HHMM is a tree of hierarchical states.\n",
    "\n",
    "Putting all the dependencies together, in general the state $q^d_t$ 'transitions' to\n",
    "state $q^d_{t+1}$ with probability\n",
    "\\begin{eqnarray}\n",
    "P(q^d_{t+1}=\\sigma^1_j\\mid q^d_t=\\sigma^1_i,q^{d-1}_{t+1}=\\sigma^{d-1}_p,\n",
    "e^d_t,e^{d-1}_t) \n",
    "& = &\n",
    "\\left\\{\\begin{array}{ll}\n",
    "\\delta_{ij} & \\mbox{if}~e^d_t=0\\,,\\\\\n",
    "A^{d-1,p}_{i,j} & \\mbox{else if}~e^{d-1}_t=0\\,,\\\\\n",
    "\\pi^{d-1,p}_{j} & \\mbox{otherwise}\n",
    "\\end{array}\n",
    "\\right.\n",
    "\\,,\n",
    "\\end{eqnarray}\n",
    "for $t=1,2,\\ldots,T-1$ and $d=1,2,\\ldots,D$.\n"
   ]
  },
  {
   "cell_type": "markdown",
   "id": "7e98d7a0",
   "metadata": {},
   "source": [
    "### Level D"
   ]
  },
  {
   "cell_type": "markdown",
   "id": "be0a1db9",
   "metadata": {},
   "source": [
    "Like [level 0](#Level-0 \"Section: Level 0\") and \n",
    "[level 1](#Level-1 \"Section: Level 1\"), \n",
    "level $D$ has some special properties.\n",
    "In particular, observations \n",
    "$\\mathbf{y}_{1:T}\\doteq(y_1,y_2,\\ldots,y_T)\\in\\mathcal{Y}^T$ are only generated\n",
    "at level $D$.\n",
    "\n",
    "Next, just as we chose $e^0_t=0$ for level 0, we take $e^D_t=1$ for level $D$.\n",
    "In effect, this means that every state $q^D_t$ is complete immediately after generating\n",
    "observation $y_t$. Although this might seem a bit strange, if we set $e^D_t=0$, then\n",
    "no state $q^{d}_t$ for $d<D$ would ever be permitted to complete."
   ]
  },
  {
   "cell_type": "markdown",
   "id": "34243273",
   "metadata": {},
   "source": [
    "So far, all of the state-dependent parameters in the HHMM, \n",
    "e.g. $\\tau^{d,p}_i$, $A^{d-1,p}_{i,j}$ and $\\pi^{d-1,p}_j$,\n",
    "depend upon both the parent state $q^{d-1}_t=\\sigma^{d-1}_p$ and the child state\n",
    "$q^d_t=\\sigma^d_i$ at stage $t$.\n",
    "For the output of observation $y_t$, therefore, we could also assume this dual\n",
    "dependency. Note that, as mentioned [previously](#Level-0 \"Section: Level 0\"),\n",
    "we assume that the HHMM devolves exactly into a HMM when $D=1$. However, since there is always an implicit, constant-state level 0, an observation dependency on dual parent-child states would also devolve into the usual single child-state dependency of a typical HMM.\n",
    "\n",
    "Despite this argument, the [DBN](#Background \"Section: Background\")\n",
    "has been specified such that observation $y_t$ depends only upon state $q^D_t$,\n",
    "for $t=1,2,\\ldots,T$."
   ]
  },
  {
   "cell_type": "markdown",
   "id": "ec968a9d",
   "metadata": {},
   "source": [
    "## Temporal Stages"
   ]
  },
  {
   "cell_type": "markdown",
   "id": "5525ba04",
   "metadata": {},
   "source": [
    "### Stage 1"
   ]
  },
  {
   "cell_type": "markdown",
   "id": "a34b6d47",
   "metadata": {},
   "source": [
    "It must be noted that the [DBN](#Background \"Section: Background\") model\n",
    "makes a special assumption for $t=1$, namely that the observed sequence\n",
    "$\\mathbf{y}_{1:T}$ commences at stage 1. This decision is not unconsequential, since it \n",
    "[ensures](#Level-d \"Section: Level d\") \n",
    "that the sequence starts with special state, via\n",
    "\\begin{eqnarray}\n",
    "P(q^d_1=\\sigma^d_i\\mid q^{d-1}_1=p) & = & \\pi^{d-1,p}_{i}\\,.\n",
    "\\end{eqnarray}\n",
    "However, this assumption is not justified for an arbitrary\n",
    "sequence that has an unknown point of initialisation.\n",
    "\n",
    "If we knew in advance that the observed sequence did not start at stage 1, then there is essentially a missing stage $t=0$ with $e^0_0=0$. We might then (in theory) infer\n",
    "an initial state from\n",
    "\\begin{eqnarray}\n",
    "P(q^d_1=\\sigma^d_i\\mid q^d_0=*,q^{d-1}_1=p,e^d_0=*,e^{d-1}_0=*)~\\doteq~\n",
    "\\sum_{j=1}^{\\left|\\mathcal{Q}^d\\right|}\\sum_{k,\\ell\\in\\{0,1\\}^2}&&\n",
    "P(q^d_{1}=\\sigma^1_i\\mid q^d_0=\\sigma^1_j,q^{d-1}_{1}=\\sigma^{d-1}_p,\n",
    "e^d_0,e^{d-1}_0)\n",
    "\\\\&&{}\\times\n",
    "P(q^d_0=\\sigma^1_j,e^d_0=k,e^{d-1}_0=\\ell)\n",
    "\\,.\n",
    "\\end{eqnarray}\n",
    "In practice, this is intractible, since we do not even know if $e^0_{-1}=1$, i.e. the true start of the sequence could be any $t\\le 0$.\n",
    "Hence, we shall retain the implicit assumption that $e^d_0=1$\n",
    "for $d=0,1,\\ldots,D$."
   ]
  },
  {
   "cell_type": "markdown",
   "id": "8e6f6de6",
   "metadata": {},
   "source": [
    "### Stage t"
   ]
  },
  {
   "cell_type": "markdown",
   "id": "4649d544",
   "metadata": {},
   "source": [
    "Following on from [stage 1](#Stage-1 \"Section: Stage 1\"), we might further suppose\n",
    "that we know that the observed sequence $\\mathbf{y}_{1:T}$ is actually composed of a number of complete sub-sequences. In other words, we assume prior assignments for completion variables $\\mathbf{e}^0_{1:T-1}$.\n",
    "However, in such a case we might more reasonably split the larger sequence into\n",
    "their separate, complete sub-sequences, and model each sub-sequence separately.\n",
    "Hence, we shall continue to assume that $\\mathbf{e}^0_{1:T-1}=\\mathbf{0}$."
   ]
  },
  {
   "cell_type": "markdown",
   "id": "8208b059",
   "metadata": {},
   "source": [
    "### Stage T"
   ]
  },
  {
   "cell_type": "markdown",
   "id": "9e11129e",
   "metadata": {},
   "source": [
    "The [DBN](#Background \"Section: Background\") model as presented does not properly account for stage $t=T$.\n",
    "In particular, it does not account for prior knowledge about whether or not the observed sequence $\\mathbf{y}_{1:T}$ is complete. This is particularly important in some areas, e.g. when modelling entire sentences from a grammar, or when predicting the final observation of a sequence given the previous observations.\n",
    "\n",
    "As noted previously, if we know in advance that the observations\n",
    "$\\mathbf{y}_{1:T}$ form a complete sequence, then we know $e^0_T=1$.\n",
    "It then follows [logically](#Level-d \"Section: Level d\") that \n",
    "$\\mathbf{e}^{1:D}_T=\\mathbf{1}$ also.\n",
    "The probability of agreement with this condition is then\n",
    "\\begin{eqnarray}\n",
    "P(e^0_T=1\\mid\\mathbf{q}^{0:D}_T,e^{D}_T=1) & = &\n",
    "\\prod_{d=0}^{D-1}\n",
    "P(e^d_T=1\\mid q^d_T, q^{d+1}_T,e^{d+1}_T=1)~=~\n",
    "\\prod_{d=0}^{D-1}\\tau^{d,\\iota(q^d_T)}_{\\iota(q^{d+1}_T)}\\,,\n",
    "\\end{eqnarray}\n",
    "with *state index* function $\\iota(\\sigma^d_i)=i$. This requires that we also model\n",
    "the level 0 parameters $\\boldsymbol{\\mathcal{T}}^0=(\\boldsymbol{\\tau}^{0,1})$, which\n",
    "were previously ignored.\n",
    "\n",
    "Conversely, if we know the sequence has not ended at stage $t=T$ then $e^0_T=0$, and\n",
    "the probability of this condition is just\n",
    "\\begin{eqnarray}\n",
    "P(e^0_T=0\\mid\\mathbf{q}^{0:D}_T,e^{D}_T=1) & = &\n",
    "1 - P(e^0_T=1\\mid\\mathbf{q}^{0:D}_T,e^{D}_T=1)~=~\n",
    "1 - \\prod_{d=0}^{D-1}\\tau^{d,\\iota(q^d_T)}_{\\iota(q^{d+1}_T)}\\,.\n",
    "\\end{eqnarray}\n",
    "Consequently, in the event that $e^0_T$ is known, the joint probability of each\n",
    "*complete* case should be multiplied by $P(e^0_T\\mid q^{0:D}_T,e^{D}_T=1)$, before summing over the hidden variables.\n",
    "\n",
    "In the special case where we do not know whether or not the sequence has terminated at stage $T$, for convenience we take $e^0_T=*$, such that\n",
    "\\begin{eqnarray}\n",
    "P(e^0_T=*\\mid\\mathbf{q}^{0:D}_T,e^{D}_T=1) & \\doteq & \n",
    "\\sum_{e^0_T\\in\\{0,1\\}}P(e^0_T\\mid\\mathbf{q}^{0:D}_T,e^{D}_T=1)\n",
    "~=~1\\,.\n",
    "\\end{eqnarray}"
   ]
  },
  {
   "cell_type": "markdown",
   "id": "7b4d35d5",
   "metadata": {},
   "source": [
    "## The Model"
   ]
  },
  {
   "cell_type": "markdown",
   "id": "3732cbc3",
   "metadata": {},
   "source": [
    "The original [DBN](#Background \"Section: Background\") is modified using the\n",
    "various suggestions for\n",
    "[level 0](#Level-0 \"Section: Level 0\"),\n",
    "[level D](#Level-D \"Section: Level D\"),\n",
    "and [stage $T$](#Stage-T \"Section: Stage T\").\n",
    "The new DBN has the structure:\n",
    "<img src=\"DBN_modified.png\" title=\"Dynamic Bayesian Network for Hierarchical HMM\"\n",
    " width=\"50%\">\n",
    "where solid (black) vertical arrows represent control-flow dependencies, \n",
    "solid (grey) non-vertical arrows represent non-control-flow dependencies,\n",
    "and dotted arrows represent non-dependency control-flows.\n",
    "\n",
    "[Recall](#Level-d \"Section: Level d\")\n",
    "that the flow of control proceeds firstly down the DBN,\n",
    "sampling states $\\mathbf{q}^{0:D}_t$ from parent state to child state, and then subsequently up the DBN, sampling the completion indicators $\\mathbf{e}^{0:D-1}_t$\n",
    "from child indicator to parent indicator.\n",
    "This pattern is then repeated as the flow proceeds from left to right from stage $t$ to stage $t+1$ for $t=1,2,\\ldots,T-1$.\n",
    "\n",
    "This DBN\n",
    "entirely specifies the joint probability of a *complete* case of data \n",
    "$\\mathbf{v}$ specifying values of the variables \n",
    "$\\mathcal{V}=(\\mathbf{Q}^{0:D}_{1:T}, \\mathbf{E}^{0:D}_{1:T},\\mathbf{y}_{1:T})$,\n",
    "where \n",
    "$\\mathbf{Q}^{0:D}_{1:T}\\doteq (\\mathbf{q}^{0:D}_1,\\mathbf{q}^{0:D}_2,\\ldots,\\mathbf{q}^{0:D}_T)$\n",
    "and\n",
    "$\\mathbf{E}^{0:D}_{1:T}\\doteq (\\mathbf{e}^{0:D}_1,\\mathbf{e}^{0:D}_2,\\ldots,\\mathbf{e}^{0:D}_T)$.\n",
    "In practice, we may partition these variables into hidden variables $\\mathcal{H}$, observed variables $\\mathcal{O}$, and fixed variables (i.e. constants) $\\mathcal{C}$, via \n",
    "$\\mathcal{V}=\\mathcal{H}\\oplus\\mathcal{O}\\oplus\\mathcal{C}$. \n",
    "\n",
    "The known constants are therefore \n",
    "$\\mathcal{C}=(\\mathbf{q}^0_{1:T}, \\mathbf{e}^D_{1:T})$, where\n",
    "$q^0_t=\\sigma^0_1$ and $e^D_t=1$ for $t=1,2,\\ldots,T$.\n",
    "We take $P(\\mathcal{C})=1$.\n",
    "Similarly, the observational variables are \n",
    "$\\mathcal{O}=(\\mathbf{y}_{1:T},\\mathbf{e}^0_{1:T})$, since\n",
    "$\\mathbf{e}^0_{1:T}$ specifies how the sequence $\\mathbf{y}_{1:T}$ is to be interpreted\n",
    "(i.e. complete, incomplete or multi-sequence - see the\n",
    "[previous](#Temporal-Stages \"Section: Temporal Stages\") section).\n",
    "The hidden variables are therefore\n",
    "$\\mathcal{H}=(\\mathbf{Q}^{1:D}_{1:T},\\mathbf{E}^{1:D-1}_{1:T})$.\n",
    "\n",
    "\n",
    "Due to the Markov property of the network, the joint probability of an arbitrary case \n",
    "is thus given (in control flow order) by \n",
    "\\begin{eqnarray}\n",
    "P(\\mathcal{V}) & = & \n",
    "\\left[\n",
    "P(q^0_1)\n",
    "\\prod_{d=1}^D P(q^d_1\\mid q^{d-1}_1)\n",
    "\\right]\\,P(y_1\\mid q^D_1)\\,\n",
    "\\left[\n",
    "p(e^D_1)\\prod_{d=D-1}^0 P(e^d_{1}\\mid q^{d}_{1}, q^{d+1}_{1}, e^{d+1}_{1})\n",
    "\\right]\n",
    "\\\\&&{}\\!\\!\\!\\!\\!\\!\\!\\times\n",
    "\\prod_{t=2}^T\\left\\{\n",
    " \\left[\n",
    " p(q^0_t)\n",
    " \\prod_{d=1}^D P(q^d_t\\mid q^d_{t-1}, q^{d-1}_{t}, e^d_{t-1}, e^{d-1}_{t-1})\n",
    " \\right]\\,\n",
    " P(y_t\\mid q^D_t)\\,\n",
    " \\left[\n",
    " P(e^D_t)\\prod_{d=D-1}^0 P(e^d_{t}\\mid q^{d}_{t}, q^{d+1}_{t}, e^{d+1}_{t})\\right]\n",
    "\\right\\}\n",
    "\\,.\n",
    "\\end{eqnarray}"
   ]
  },
  {
   "cell_type": "markdown",
   "id": "9dfb9628",
   "metadata": {},
   "source": [
    "Some notational simplifications are clearly in order. For example, note that\n",
    "for level 0 and level $D$ we have\n",
    "\\begin{eqnarray}\n",
    "P(\\mathcal{C}) & = & \\prod_{t=1}^T P(q^0_t)\\,P(e^D_t)~=~1\\,.\n",
    "\\end{eqnarray}\n",
    "Also, for stage 1, we have\n",
    "\\begin{eqnarray}\n",
    "P(\\mathbf{q}_1^{1:D}\\mid q^0_1) & = & \\prod_{d=1}^D P(q^d_1\\mid q^{d-1}_1)\\,,\n",
    "\\end{eqnarray}\n",
    "and\n",
    "\\begin{eqnarray}\n",
    "P(\\mathbf{e}_1^{0:D-1}\\mid\\mathbf{q}_1^{0:D},e^D_1) & = & \n",
    "\\prod_{d=D-1}^0 P(e^d_{1}\\mid q^{d}_{1}, q^{d+1}_{1}, e^{d+1}_{1})\\,.\n",
    "\\end{eqnarray}\n",
    "Similarly, for stage $t>1$ we have\n",
    "\\begin{eqnarray}\n",
    "P(\\mathbf{q}_t^{1:D}\\mid q^0_t,\\mathbf{q}_{t-1}^{1:D},\\mathbf{e}_{t-1}^{0:D}) & = & \n",
    "\\prod_{d=1}^D P(q^d_t\\mid q^d_{t-1}, q^{d-1}_{t}, e^d_{t-1}, e^{d-1}_{t-1})\\,,\n",
    "\\end{eqnarray}\n",
    "and\n",
    "\\begin{eqnarray}\n",
    "P(\\mathbf{e}_t^{0:D-1}\\mid\\mathbf{q}_t^{0:D},e^D_t) & = &\n",
    "\\prod_{d=D-1}^0 P(e^d_{t}\\mid q^{d}_{t}, q^{d+1}_{t}, e^{d+1}_{t})\\,.\n",
    "\\end{eqnarray}\n",
    "Finally, at level $D$ we have\n",
    "\\begin{eqnarray}\n",
    "P(\\mathbf{y}\\mid\\mathbf{q}^D_{1:T}) & = &\n",
    "\\prod_{t=1}^{T} P(y_t\\mid q^D_t)\\,.\n",
    "\\end{eqnarray}\n",
    "Consequently, the joint probability of the hidden and observed variables is just\n",
    "\\begin{eqnarray}\n",
    "P(\\mathcal{H},\\mathcal{O}\\mid\\mathcal{C}) & = &\n",
    "P(\\mathbf{q}_1^{1:D}\\mid q^0_1)\\,\n",
    "P(\\mathbf{e}_1^{0:D-1}\\mid\\mathbf{q}_1^{0:D},e^D_1)\n",
    "\\prod_{t=2}^T\\left\\{\n",
    "P(\\mathbf{q}_t^{1:D}\\mid q^0_t,\\mathbf{q}_{t-1}^{1:D},\\mathbf{e}_{t-1}^{0:D})\\,\n",
    "P(\\mathbf{e}_t^{0:D-1}\\mid\\mathbf{q}_t^{1:D},e^D_t)\n",
    "\\right\\}\n",
    "P(\\mathbf{y}\\mid\\mathbf{q}^D_{1:T})\\,.\n",
    "\\end{eqnarray}"
   ]
  },
  {
   "cell_type": "markdown",
   "id": "b823f947",
   "metadata": {},
   "source": [
    "## References"
   ]
  },
  {
   "cell_type": "markdown",
   "id": "2991d03e",
   "metadata": {},
   "source": [
    "[1] Fine, Singer, and Tishby (1998) \"*The Hierarchical Hidden Markov Model: Analysis and Applications*\", Machine Learning 32. \n",
    "[(PDF)](https://link.springer.com/content/pdf/10.1023/A:1007469218079.pdf \"springer.com\")\n",
    "\n",
    "[2] Bui, Phung and Venkatesh (2004) \"*Hierarchical Hidden Markov Models with General State Hierarchy*\", AAAI-04 (National Conference on Artificial Intelligence).\n",
    "[(PDF)](https://www.aaai.org/Papers/AAAI/2004/AAAI04-052.pdf \"aaai.org\")"
   ]
  }
 ],
 "metadata": {
  "kernelspec": {
   "display_name": "Python 3",
   "language": "python",
   "name": "python3"
  },
  "language_info": {
   "codemirror_mode": {
    "name": "ipython",
    "version": 3
   },
   "file_extension": ".py",
   "mimetype": "text/x-python",
   "name": "python",
   "nbconvert_exporter": "python",
   "pygments_lexer": "ipython3",
   "version": "3.8.8"
  }
 },
 "nbformat": 4,
 "nbformat_minor": 5
}
