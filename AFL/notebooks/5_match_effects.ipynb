{
 "cells": [
  {
   "cell_type": "markdown",
   "id": "193f0436",
   "metadata": {},
   "source": [
    "# Match Effects"
   ]
  },
  {
   "cell_type": "markdown",
   "id": "20954b1b",
   "metadata": {},
   "source": [
    "The purpose of this notebook is to examine the various factors computed from historical match data, and determine the ability these factors have to help predict the outcomes of future matches. We include matches played within the same season as each predicted match, as well as end-of-season statistics computed from the previous season. We may also include environmental features for the predicted match, including temporal factors (e.g. day of week, time of day), physical factors (e.g. match ground, distance travelled to match), atmospheric factors (e.g. prevailing wind directions, intensity of wind, rain or shine), and other factors (e.g. home or away)."
   ]
  },
  {
   "cell_type": "markdown",
   "id": "edd85a22",
   "metadata": {},
   "source": [
    "## Load the data"
   ]
  },
  {
   "cell_type": "code",
   "execution_count": 1,
   "id": "cc4f736b",
   "metadata": {},
   "outputs": [],
   "source": [
    "import sys\n",
    "import os\n",
    "\n",
    "sys.path.append(os.path.join(\"..\", \"python\"))"
   ]
  },
  {
   "cell_type": "code",
   "execution_count": 2,
   "id": "0e279812",
   "metadata": {},
   "outputs": [],
   "source": [
    "import match_tools\n",
    "import stats_tools\n",
    "from stats_tools import logit, logistic"
   ]
  },
  {
   "cell_type": "code",
   "execution_count": 3,
   "id": "364e8714",
   "metadata": {},
   "outputs": [],
   "source": [
    "import numpy as np\n",
    "import pandas as pd"
   ]
  },
  {
   "cell_type": "code",
   "execution_count": 4,
   "id": "3085bbc4",
   "metadata": {},
   "outputs": [],
   "source": [
    "import matplotlib.pyplot as plt"
   ]
  },
  {
   "cell_type": "markdown",
   "id": "c5d60072",
   "metadata": {},
   "source": [
    "### Load match results"
   ]
  },
  {
   "cell_type": "code",
   "execution_count": 5,
   "id": "2615541b",
   "metadata": {},
   "outputs": [],
   "source": [
    "df_matches = pd.read_csv(os.path.join(\"..\", \"data\", \"matches.csv\"))"
   ]
  },
  {
   "cell_type": "code",
   "execution_count": 6,
   "id": "319d2950",
   "metadata": {},
   "outputs": [],
   "source": [
    "match_tools.add_timestamp(df_matches)"
   ]
  },
  {
   "cell_type": "code",
   "execution_count": 7,
   "id": "2df0005d",
   "metadata": {},
   "outputs": [],
   "source": [
    "match_tools.add_hash(df_matches)"
   ]
  },
  {
   "cell_type": "code",
   "execution_count": 8,
   "id": "65354c5c",
   "metadata": {},
   "outputs": [
    {
     "data": {
      "text/html": [
       "<div>\n",
       "<style scoped>\n",
       "    .dataframe tbody tr th:only-of-type {\n",
       "        vertical-align: middle;\n",
       "    }\n",
       "\n",
       "    .dataframe tbody tr th {\n",
       "        vertical-align: top;\n",
       "    }\n",
       "\n",
       "    .dataframe thead th {\n",
       "        text-align: right;\n",
       "    }\n",
       "</style>\n",
       "<table border=\"1\" class=\"dataframe\">\n",
       "  <thead>\n",
       "    <tr style=\"text-align: right;\">\n",
       "      <th></th>\n",
       "      <th>season</th>\n",
       "      <th>round</th>\n",
       "      <th>datetime</th>\n",
       "      <th>venue</th>\n",
       "      <th>for_team</th>\n",
       "      <th>for_is_home</th>\n",
       "      <th>for_goals1</th>\n",
       "      <th>for_behinds1</th>\n",
       "      <th>for_goals2</th>\n",
       "      <th>for_behinds2</th>\n",
       "      <th>...</th>\n",
       "      <th>against_behinds4</th>\n",
       "      <th>against_total_score</th>\n",
       "      <th>against_match_points</th>\n",
       "      <th>against_is_win</th>\n",
       "      <th>against_is_draw</th>\n",
       "      <th>against_is_loss</th>\n",
       "      <th>edge_type</th>\n",
       "      <th>timestamp</th>\n",
       "      <th>for_hash</th>\n",
       "      <th>against_hash</th>\n",
       "    </tr>\n",
       "  </thead>\n",
       "  <tbody>\n",
       "    <tr>\n",
       "      <th>0</th>\n",
       "      <td>1990</td>\n",
       "      <td>R1</td>\n",
       "      <td>Sat 31-Mar-1990 2:10 PM</td>\n",
       "      <td>M.C.G.</td>\n",
       "      <td>Melbourne</td>\n",
       "      <td>False</td>\n",
       "      <td>6</td>\n",
       "      <td>2</td>\n",
       "      <td>4</td>\n",
       "      <td>1</td>\n",
       "      <td>...</td>\n",
       "      <td>4</td>\n",
       "      <td>89</td>\n",
       "      <td>0</td>\n",
       "      <td>False</td>\n",
       "      <td>False</td>\n",
       "      <td>True</td>\n",
       "      <td>defeated</td>\n",
       "      <td>1990-03-31 14:10:00</td>\n",
       "      <td>6166655854671223202</td>\n",
       "      <td>2364253932249452778</td>\n",
       "    </tr>\n",
       "    <tr>\n",
       "      <th>1</th>\n",
       "      <td>1990</td>\n",
       "      <td>R1</td>\n",
       "      <td>Sat 31-Mar-1990 2:10 PM</td>\n",
       "      <td>Waverley Park</td>\n",
       "      <td>Geelong</td>\n",
       "      <td>True</td>\n",
       "      <td>5</td>\n",
       "      <td>3</td>\n",
       "      <td>2</td>\n",
       "      <td>3</td>\n",
       "      <td>...</td>\n",
       "      <td>6</td>\n",
       "      <td>192</td>\n",
       "      <td>4</td>\n",
       "      <td>True</td>\n",
       "      <td>False</td>\n",
       "      <td>False</td>\n",
       "      <td>lost-to</td>\n",
       "      <td>1990-03-31 14:10:00</td>\n",
       "      <td>4921247972059228651</td>\n",
       "      <td>-7190954483137771083</td>\n",
       "    </tr>\n",
       "    <tr>\n",
       "      <th>2</th>\n",
       "      <td>1990</td>\n",
       "      <td>R1</td>\n",
       "      <td>Sat 31-Mar-1990 2:10 PM</td>\n",
       "      <td>Princes Park</td>\n",
       "      <td>Carlton</td>\n",
       "      <td>True</td>\n",
       "      <td>6</td>\n",
       "      <td>5</td>\n",
       "      <td>4</td>\n",
       "      <td>4</td>\n",
       "      <td>...</td>\n",
       "      <td>5</td>\n",
       "      <td>104</td>\n",
       "      <td>4</td>\n",
       "      <td>True</td>\n",
       "      <td>False</td>\n",
       "      <td>False</td>\n",
       "      <td>lost-to</td>\n",
       "      <td>1990-03-31 14:10:00</td>\n",
       "      <td>-7794399553268364453</td>\n",
       "      <td>936217637445128616</td>\n",
       "    </tr>\n",
       "    <tr>\n",
       "      <th>3</th>\n",
       "      <td>1990</td>\n",
       "      <td>R1</td>\n",
       "      <td>Sat 31-Mar-1990 2:10 PM</td>\n",
       "      <td>Windy Hill</td>\n",
       "      <td>Essendon</td>\n",
       "      <td>True</td>\n",
       "      <td>7</td>\n",
       "      <td>4</td>\n",
       "      <td>6</td>\n",
       "      <td>7</td>\n",
       "      <td>...</td>\n",
       "      <td>4</td>\n",
       "      <td>60</td>\n",
       "      <td>0</td>\n",
       "      <td>False</td>\n",
       "      <td>False</td>\n",
       "      <td>True</td>\n",
       "      <td>defeated</td>\n",
       "      <td>1990-03-31 14:10:00</td>\n",
       "      <td>-2426895182796421829</td>\n",
       "      <td>4343628243495463406</td>\n",
       "    </tr>\n",
       "    <tr>\n",
       "      <th>4</th>\n",
       "      <td>1990</td>\n",
       "      <td>R1</td>\n",
       "      <td>Sat 31-Mar-1990 7:40 PM</td>\n",
       "      <td>Carrara</td>\n",
       "      <td>Brisbane Bears</td>\n",
       "      <td>True</td>\n",
       "      <td>4</td>\n",
       "      <td>3</td>\n",
       "      <td>3</td>\n",
       "      <td>2</td>\n",
       "      <td>...</td>\n",
       "      <td>2</td>\n",
       "      <td>74</td>\n",
       "      <td>0</td>\n",
       "      <td>False</td>\n",
       "      <td>False</td>\n",
       "      <td>True</td>\n",
       "      <td>defeated</td>\n",
       "      <td>1990-03-31 19:40:00</td>\n",
       "      <td>2096700373463651389</td>\n",
       "      <td>-7308452610317080305</td>\n",
       "    </tr>\n",
       "    <tr>\n",
       "      <th>...</th>\n",
       "      <td>...</td>\n",
       "      <td>...</td>\n",
       "      <td>...</td>\n",
       "      <td>...</td>\n",
       "      <td>...</td>\n",
       "      <td>...</td>\n",
       "      <td>...</td>\n",
       "      <td>...</td>\n",
       "      <td>...</td>\n",
       "      <td>...</td>\n",
       "      <td>...</td>\n",
       "      <td>...</td>\n",
       "      <td>...</td>\n",
       "      <td>...</td>\n",
       "      <td>...</td>\n",
       "      <td>...</td>\n",
       "      <td>...</td>\n",
       "      <td>...</td>\n",
       "      <td>...</td>\n",
       "      <td>...</td>\n",
       "      <td>...</td>\n",
       "    </tr>\n",
       "    <tr>\n",
       "      <th>6165</th>\n",
       "      <td>2022</td>\n",
       "      <td>R18</td>\n",
       "      <td>Sat 16-Jul-2022 5:30 PM</td>\n",
       "      <td>Perth Stadium</td>\n",
       "      <td>Fremantle</td>\n",
       "      <td>True</td>\n",
       "      <td>3</td>\n",
       "      <td>3</td>\n",
       "      <td>3</td>\n",
       "      <td>2</td>\n",
       "      <td>...</td>\n",
       "      <td>4</td>\n",
       "      <td>82</td>\n",
       "      <td>4</td>\n",
       "      <td>True</td>\n",
       "      <td>False</td>\n",
       "      <td>False</td>\n",
       "      <td>lost-to</td>\n",
       "      <td>2022-07-16 17:30:00</td>\n",
       "      <td>868817324642870054</td>\n",
       "      <td>7795331509424769913</td>\n",
       "    </tr>\n",
       "    <tr>\n",
       "      <th>6166</th>\n",
       "      <td>2022</td>\n",
       "      <td>R18</td>\n",
       "      <td>Sat 16-Jul-2022 7:25 PM</td>\n",
       "      <td>M.C.G.</td>\n",
       "      <td>Carlton</td>\n",
       "      <td>True</td>\n",
       "      <td>4</td>\n",
       "      <td>1</td>\n",
       "      <td>1</td>\n",
       "      <td>0</td>\n",
       "      <td>...</td>\n",
       "      <td>5</td>\n",
       "      <td>85</td>\n",
       "      <td>4</td>\n",
       "      <td>True</td>\n",
       "      <td>False</td>\n",
       "      <td>False</td>\n",
       "      <td>lost-to</td>\n",
       "      <td>2022-07-16 19:25:00</td>\n",
       "      <td>5847729134653820224</td>\n",
       "      <td>6082157806707708142</td>\n",
       "    </tr>\n",
       "    <tr>\n",
       "      <th>6167</th>\n",
       "      <td>2022</td>\n",
       "      <td>R18</td>\n",
       "      <td>Sun 17-Jul-2022 1:10 PM</td>\n",
       "      <td>M.C.G.</td>\n",
       "      <td>Hawthorn</td>\n",
       "      <td>True</td>\n",
       "      <td>2</td>\n",
       "      <td>3</td>\n",
       "      <td>7</td>\n",
       "      <td>0</td>\n",
       "      <td>...</td>\n",
       "      <td>0</td>\n",
       "      <td>77</td>\n",
       "      <td>0</td>\n",
       "      <td>False</td>\n",
       "      <td>False</td>\n",
       "      <td>True</td>\n",
       "      <td>defeated</td>\n",
       "      <td>2022-07-17 13:10:00</td>\n",
       "      <td>-8374578582360586415</td>\n",
       "      <td>3460460708897523496</td>\n",
       "    </tr>\n",
       "    <tr>\n",
       "      <th>6168</th>\n",
       "      <td>2022</td>\n",
       "      <td>R18</td>\n",
       "      <td>Sun 17-Jul-2022 2:50 PM</td>\n",
       "      <td>Traeger Park</td>\n",
       "      <td>Melbourne</td>\n",
       "      <td>True</td>\n",
       "      <td>0</td>\n",
       "      <td>4</td>\n",
       "      <td>5</td>\n",
       "      <td>3</td>\n",
       "      <td>...</td>\n",
       "      <td>3</td>\n",
       "      <td>69</td>\n",
       "      <td>0</td>\n",
       "      <td>False</td>\n",
       "      <td>False</td>\n",
       "      <td>True</td>\n",
       "      <td>defeated</td>\n",
       "      <td>2022-07-17 14:50:00</td>\n",
       "      <td>8340202876625989827</td>\n",
       "      <td>-2975851654109569516</td>\n",
       "    </tr>\n",
       "    <tr>\n",
       "      <th>6169</th>\n",
       "      <td>2022</td>\n",
       "      <td>R18</td>\n",
       "      <td>Sun 17-Jul-2022 4:40 PM</td>\n",
       "      <td>Docklands</td>\n",
       "      <td>Essendon</td>\n",
       "      <td>True</td>\n",
       "      <td>4</td>\n",
       "      <td>4</td>\n",
       "      <td>5</td>\n",
       "      <td>6</td>\n",
       "      <td>...</td>\n",
       "      <td>1</td>\n",
       "      <td>55</td>\n",
       "      <td>0</td>\n",
       "      <td>False</td>\n",
       "      <td>False</td>\n",
       "      <td>True</td>\n",
       "      <td>defeated</td>\n",
       "      <td>2022-07-17 16:40:00</td>\n",
       "      <td>8588682552390603791</td>\n",
       "      <td>-6234315030764380155</td>\n",
       "    </tr>\n",
       "  </tbody>\n",
       "</table>\n",
       "<p>6170 rows × 38 columns</p>\n",
       "</div>"
      ],
      "text/plain": [
       "      season round                 datetime          venue        for_team  \\\n",
       "0       1990    R1  Sat 31-Mar-1990 2:10 PM         M.C.G.       Melbourne   \n",
       "1       1990    R1  Sat 31-Mar-1990 2:10 PM  Waverley Park         Geelong   \n",
       "2       1990    R1  Sat 31-Mar-1990 2:10 PM   Princes Park         Carlton   \n",
       "3       1990    R1  Sat 31-Mar-1990 2:10 PM     Windy Hill        Essendon   \n",
       "4       1990    R1  Sat 31-Mar-1990 7:40 PM        Carrara  Brisbane Bears   \n",
       "...      ...   ...                      ...            ...             ...   \n",
       "6165    2022   R18  Sat 16-Jul-2022 5:30 PM  Perth Stadium       Fremantle   \n",
       "6166    2022   R18  Sat 16-Jul-2022 7:25 PM         M.C.G.         Carlton   \n",
       "6167    2022   R18  Sun 17-Jul-2022 1:10 PM         M.C.G.        Hawthorn   \n",
       "6168    2022   R18  Sun 17-Jul-2022 2:50 PM   Traeger Park       Melbourne   \n",
       "6169    2022   R18  Sun 17-Jul-2022 4:40 PM      Docklands        Essendon   \n",
       "\n",
       "      for_is_home  for_goals1  for_behinds1  for_goals2  for_behinds2  ...  \\\n",
       "0           False           6             2           4             1  ...   \n",
       "1            True           5             3           2             3  ...   \n",
       "2            True           6             5           4             4  ...   \n",
       "3            True           7             4           6             7  ...   \n",
       "4            True           4             3           3             2  ...   \n",
       "...           ...         ...           ...         ...           ...  ...   \n",
       "6165         True           3             3           3             2  ...   \n",
       "6166         True           4             1           1             0  ...   \n",
       "6167         True           2             3           7             0  ...   \n",
       "6168         True           0             4           5             3  ...   \n",
       "6169         True           4             4           5             6  ...   \n",
       "\n",
       "      against_behinds4  against_total_score  against_match_points  \\\n",
       "0                    4                   89                     0   \n",
       "1                    6                  192                     4   \n",
       "2                    5                  104                     4   \n",
       "3                    4                   60                     0   \n",
       "4                    2                   74                     0   \n",
       "...                ...                  ...                   ...   \n",
       "6165                 4                   82                     4   \n",
       "6166                 5                   85                     4   \n",
       "6167                 0                   77                     0   \n",
       "6168                 3                   69                     0   \n",
       "6169                 1                   55                     0   \n",
       "\n",
       "      against_is_win  against_is_draw  against_is_loss  edge_type  \\\n",
       "0              False            False             True   defeated   \n",
       "1               True            False            False    lost-to   \n",
       "2               True            False            False    lost-to   \n",
       "3              False            False             True   defeated   \n",
       "4              False            False             True   defeated   \n",
       "...              ...              ...              ...        ...   \n",
       "6165            True            False            False    lost-to   \n",
       "6166            True            False            False    lost-to   \n",
       "6167           False            False             True   defeated   \n",
       "6168           False            False             True   defeated   \n",
       "6169           False            False             True   defeated   \n",
       "\n",
       "               timestamp             for_hash         against_hash  \n",
       "0    1990-03-31 14:10:00  6166655854671223202  2364253932249452778  \n",
       "1    1990-03-31 14:10:00  4921247972059228651 -7190954483137771083  \n",
       "2    1990-03-31 14:10:00 -7794399553268364453   936217637445128616  \n",
       "3    1990-03-31 14:10:00 -2426895182796421829  4343628243495463406  \n",
       "4    1990-03-31 19:40:00  2096700373463651389 -7308452610317080305  \n",
       "...                  ...                  ...                  ...  \n",
       "6165 2022-07-16 17:30:00   868817324642870054  7795331509424769913  \n",
       "6166 2022-07-16 19:25:00  5847729134653820224  6082157806707708142  \n",
       "6167 2022-07-17 13:10:00 -8374578582360586415  3460460708897523496  \n",
       "6168 2022-07-17 14:50:00  8340202876625989827 -2975851654109569516  \n",
       "6169 2022-07-17 16:40:00  8588682552390603791 -6234315030764380155  \n",
       "\n",
       "[6170 rows x 38 columns]"
      ]
     },
     "execution_count": 8,
     "metadata": {},
     "output_type": "execute_result"
    }
   ],
   "source": [
    "df_matches"
   ]
  },
  {
   "cell_type": "markdown",
   "id": "099916ba",
   "metadata": {},
   "source": [
    "### Load end-of-season statistics"
   ]
  },
  {
   "cell_type": "code",
   "execution_count": 9,
   "id": "bd0f1db4",
   "metadata": {},
   "outputs": [],
   "source": [
    "df_seasonal = pd.read_csv(os.path.join(\"..\", \"data\", \"end_season_features.csv\"))"
   ]
  },
  {
   "cell_type": "code",
   "execution_count": 10,
   "id": "92a9a381",
   "metadata": {},
   "outputs": [
    {
     "data": {
      "text/html": [
       "<div>\n",
       "<style scoped>\n",
       "    .dataframe tbody tr th:only-of-type {\n",
       "        vertical-align: middle;\n",
       "    }\n",
       "\n",
       "    .dataframe tbody tr th {\n",
       "        vertical-align: top;\n",
       "    }\n",
       "\n",
       "    .dataframe thead th {\n",
       "        text-align: right;\n",
       "    }\n",
       "</style>\n",
       "<table border=\"1\" class=\"dataframe\">\n",
       "  <thead>\n",
       "    <tr style=\"text-align: right;\">\n",
       "      <th></th>\n",
       "      <th>season</th>\n",
       "      <th>team</th>\n",
       "      <th>teams</th>\n",
       "      <th>games</th>\n",
       "      <th>wins</th>\n",
       "      <th>draws</th>\n",
       "      <th>losses</th>\n",
       "      <th>wins_ratio</th>\n",
       "      <th>points_for</th>\n",
       "      <th>points_against</th>\n",
       "      <th>...</th>\n",
       "      <th>behinds_against</th>\n",
       "      <th>accuracy_against</th>\n",
       "      <th>goals_ratio</th>\n",
       "      <th>behinds_ratio</th>\n",
       "      <th>rank</th>\n",
       "      <th>rank_score</th>\n",
       "      <th>wins_prestige</th>\n",
       "      <th>adj_wins_prestige</th>\n",
       "      <th>points_prestige</th>\n",
       "      <th>adj_points_prestige</th>\n",
       "    </tr>\n",
       "  </thead>\n",
       "  <tbody>\n",
       "    <tr>\n",
       "      <th>0</th>\n",
       "      <td>1990</td>\n",
       "      <td>Brisbane Bears</td>\n",
       "      <td>14</td>\n",
       "      <td>22</td>\n",
       "      <td>4</td>\n",
       "      <td>0</td>\n",
       "      <td>18</td>\n",
       "      <td>0.181818</td>\n",
       "      <td>1733</td>\n",
       "      <td>2426</td>\n",
       "      <td>...</td>\n",
       "      <td>338</td>\n",
       "      <td>0.507289</td>\n",
       "      <td>0.415126</td>\n",
       "      <td>0.426146</td>\n",
       "      <td>14</td>\n",
       "      <td>0.000000</td>\n",
       "      <td>0.003774</td>\n",
       "      <td>0.046936</td>\n",
       "      <td>0.049030</td>\n",
       "      <td>0.401289</td>\n",
       "    </tr>\n",
       "    <tr>\n",
       "      <th>1</th>\n",
       "      <td>1990</td>\n",
       "      <td>Carlton</td>\n",
       "      <td>14</td>\n",
       "      <td>22</td>\n",
       "      <td>11</td>\n",
       "      <td>0</td>\n",
       "      <td>11</td>\n",
       "      <td>0.500000</td>\n",
       "      <td>2277</td>\n",
       "      <td>2187</td>\n",
       "      <td>...</td>\n",
       "      <td>315</td>\n",
       "      <td>0.497608</td>\n",
       "      <td>0.517774</td>\n",
       "      <td>0.458763</td>\n",
       "      <td>8</td>\n",
       "      <td>0.461538</td>\n",
       "      <td>0.055508</td>\n",
       "      <td>0.433112</td>\n",
       "      <td>0.073333</td>\n",
       "      <td>0.507091</td>\n",
       "    </tr>\n",
       "    <tr>\n",
       "      <th>2</th>\n",
       "      <td>1990</td>\n",
       "      <td>Collingwood</td>\n",
       "      <td>14</td>\n",
       "      <td>26</td>\n",
       "      <td>19</td>\n",
       "      <td>1</td>\n",
       "      <td>6</td>\n",
       "      <td>0.750000</td>\n",
       "      <td>2798</td>\n",
       "      <td>2077</td>\n",
       "      <td>...</td>\n",
       "      <td>313</td>\n",
       "      <td>0.484349</td>\n",
       "      <td>0.578797</td>\n",
       "      <td>0.544396</td>\n",
       "      <td>1</td>\n",
       "      <td>1.000000</td>\n",
       "      <td>0.232418</td>\n",
       "      <td>0.797419</td>\n",
       "      <td>0.096696</td>\n",
       "      <td>0.581871</td>\n",
       "    </tr>\n",
       "    <tr>\n",
       "      <th>3</th>\n",
       "      <td>1990</td>\n",
       "      <td>Essendon</td>\n",
       "      <td>14</td>\n",
       "      <td>25</td>\n",
       "      <td>18</td>\n",
       "      <td>0</td>\n",
       "      <td>7</td>\n",
       "      <td>0.720000</td>\n",
       "      <td>2742</td>\n",
       "      <td>2079</td>\n",
       "      <td>...</td>\n",
       "      <td>297</td>\n",
       "      <td>0.500000</td>\n",
       "      <td>0.571429</td>\n",
       "      <td>0.552036</td>\n",
       "      <td>2</td>\n",
       "      <td>0.923077</td>\n",
       "      <td>0.172837</td>\n",
       "      <td>0.730920</td>\n",
       "      <td>0.096170</td>\n",
       "      <td>0.580403</td>\n",
       "    </tr>\n",
       "    <tr>\n",
       "      <th>4</th>\n",
       "      <td>1990</td>\n",
       "      <td>Fitzroy</td>\n",
       "      <td>14</td>\n",
       "      <td>22</td>\n",
       "      <td>7</td>\n",
       "      <td>0</td>\n",
       "      <td>15</td>\n",
       "      <td>0.318182</td>\n",
       "      <td>1874</td>\n",
       "      <td>2389</td>\n",
       "      <td>...</td>\n",
       "      <td>319</td>\n",
       "      <td>0.519578</td>\n",
       "      <td>0.433498</td>\n",
       "      <td>0.476190</td>\n",
       "      <td>12</td>\n",
       "      <td>0.153846</td>\n",
       "      <td>0.019412</td>\n",
       "      <td>0.204675</td>\n",
       "      <td>0.057674</td>\n",
       "      <td>0.443097</td>\n",
       "    </tr>\n",
       "    <tr>\n",
       "      <th>...</th>\n",
       "      <td>...</td>\n",
       "      <td>...</td>\n",
       "      <td>...</td>\n",
       "      <td>...</td>\n",
       "      <td>...</td>\n",
       "      <td>...</td>\n",
       "      <td>...</td>\n",
       "      <td>...</td>\n",
       "      <td>...</td>\n",
       "      <td>...</td>\n",
       "      <td>...</td>\n",
       "      <td>...</td>\n",
       "      <td>...</td>\n",
       "      <td>...</td>\n",
       "      <td>...</td>\n",
       "      <td>...</td>\n",
       "      <td>...</td>\n",
       "      <td>...</td>\n",
       "      <td>...</td>\n",
       "      <td>...</td>\n",
       "      <td>...</td>\n",
       "    </tr>\n",
       "    <tr>\n",
       "      <th>540</th>\n",
       "      <td>2022</td>\n",
       "      <td>Richmond</td>\n",
       "      <td>18</td>\n",
       "      <td>17</td>\n",
       "      <td>9</td>\n",
       "      <td>0</td>\n",
       "      <td>8</td>\n",
       "      <td>0.529412</td>\n",
       "      <td>1631</td>\n",
       "      <td>1418</td>\n",
       "      <td>...</td>\n",
       "      <td>200</td>\n",
       "      <td>0.503722</td>\n",
       "      <td>0.540724</td>\n",
       "      <td>0.496222</td>\n",
       "      <td>8</td>\n",
       "      <td>0.588235</td>\n",
       "      <td>0.035989</td>\n",
       "      <td>0.388251</td>\n",
       "      <td>0.058767</td>\n",
       "      <td>0.514896</td>\n",
       "    </tr>\n",
       "    <tr>\n",
       "      <th>541</th>\n",
       "      <td>2022</td>\n",
       "      <td>St Kilda</td>\n",
       "      <td>18</td>\n",
       "      <td>17</td>\n",
       "      <td>9</td>\n",
       "      <td>0</td>\n",
       "      <td>8</td>\n",
       "      <td>0.529412</td>\n",
       "      <td>1333</td>\n",
       "      <td>1311</td>\n",
       "      <td>...</td>\n",
       "      <td>195</td>\n",
       "      <td>0.488189</td>\n",
       "      <td>0.509235</td>\n",
       "      <td>0.472973</td>\n",
       "      <td>10</td>\n",
       "      <td>0.470588</td>\n",
       "      <td>0.052259</td>\n",
       "      <td>0.483842</td>\n",
       "      <td>0.057077</td>\n",
       "      <td>0.507158</td>\n",
       "    </tr>\n",
       "    <tr>\n",
       "      <th>542</th>\n",
       "      <td>2022</td>\n",
       "      <td>Sydney</td>\n",
       "      <td>18</td>\n",
       "      <td>17</td>\n",
       "      <td>11</td>\n",
       "      <td>0</td>\n",
       "      <td>6</td>\n",
       "      <td>0.647059</td>\n",
       "      <td>1546</td>\n",
       "      <td>1280</td>\n",
       "      <td>...</td>\n",
       "      <td>176</td>\n",
       "      <td>0.511111</td>\n",
       "      <td>0.549020</td>\n",
       "      <td>0.534392</td>\n",
       "      <td>6</td>\n",
       "      <td>0.705882</td>\n",
       "      <td>0.103283</td>\n",
       "      <td>0.661940</td>\n",
       "      <td>0.065234</td>\n",
       "      <td>0.542620</td>\n",
       "    </tr>\n",
       "    <tr>\n",
       "      <th>543</th>\n",
       "      <td>2022</td>\n",
       "      <td>West Coast</td>\n",
       "      <td>18</td>\n",
       "      <td>17</td>\n",
       "      <td>2</td>\n",
       "      <td>0</td>\n",
       "      <td>15</td>\n",
       "      <td>0.117647</td>\n",
       "      <td>1084</td>\n",
       "      <td>1888</td>\n",
       "      <td>...</td>\n",
       "      <td>202</td>\n",
       "      <td>0.581781</td>\n",
       "      <td>0.361364</td>\n",
       "      <td>0.391566</td>\n",
       "      <td>17</td>\n",
       "      <td>0.058824</td>\n",
       "      <td>0.008256</td>\n",
       "      <td>0.123970</td>\n",
       "      <td>0.032211</td>\n",
       "      <td>0.361357</td>\n",
       "    </tr>\n",
       "    <tr>\n",
       "      <th>544</th>\n",
       "      <td>2022</td>\n",
       "      <td>Western Bulldogs</td>\n",
       "      <td>18</td>\n",
       "      <td>17</td>\n",
       "      <td>9</td>\n",
       "      <td>0</td>\n",
       "      <td>8</td>\n",
       "      <td>0.529412</td>\n",
       "      <td>1570</td>\n",
       "      <td>1402</td>\n",
       "      <td>...</td>\n",
       "      <td>178</td>\n",
       "      <td>0.534031</td>\n",
       "      <td>0.528868</td>\n",
       "      <td>0.524064</td>\n",
       "      <td>9</td>\n",
       "      <td>0.529412</td>\n",
       "      <td>0.041679</td>\n",
       "      <td>0.425077</td>\n",
       "      <td>0.059404</td>\n",
       "      <td>0.517756</td>\n",
       "    </tr>\n",
       "  </tbody>\n",
       "</table>\n",
       "<p>545 rows × 25 columns</p>\n",
       "</div>"
      ],
      "text/plain": [
       "     season              team  teams  games  wins  draws  losses  wins_ratio  \\\n",
       "0      1990    Brisbane Bears     14     22     4      0      18    0.181818   \n",
       "1      1990           Carlton     14     22    11      0      11    0.500000   \n",
       "2      1990       Collingwood     14     26    19      1       6    0.750000   \n",
       "3      1990          Essendon     14     25    18      0       7    0.720000   \n",
       "4      1990           Fitzroy     14     22     7      0      15    0.318182   \n",
       "..      ...               ...    ...    ...   ...    ...     ...         ...   \n",
       "540    2022          Richmond     18     17     9      0       8    0.529412   \n",
       "541    2022          St Kilda     18     17     9      0       8    0.529412   \n",
       "542    2022            Sydney     18     17    11      0       6    0.647059   \n",
       "543    2022        West Coast     18     17     2      0      15    0.117647   \n",
       "544    2022  Western Bulldogs     18     17     9      0       8    0.529412   \n",
       "\n",
       "     points_for  points_against  ...  behinds_against  accuracy_against  \\\n",
       "0          1733            2426  ...              338          0.507289   \n",
       "1          2277            2187  ...              315          0.497608   \n",
       "2          2798            2077  ...              313          0.484349   \n",
       "3          2742            2079  ...              297          0.500000   \n",
       "4          1874            2389  ...              319          0.519578   \n",
       "..          ...             ...  ...              ...               ...   \n",
       "540        1631            1418  ...              200          0.503722   \n",
       "541        1333            1311  ...              195          0.488189   \n",
       "542        1546            1280  ...              176          0.511111   \n",
       "543        1084            1888  ...              202          0.581781   \n",
       "544        1570            1402  ...              178          0.534031   \n",
       "\n",
       "     goals_ratio  behinds_ratio  rank  rank_score  wins_prestige  \\\n",
       "0       0.415126       0.426146    14    0.000000       0.003774   \n",
       "1       0.517774       0.458763     8    0.461538       0.055508   \n",
       "2       0.578797       0.544396     1    1.000000       0.232418   \n",
       "3       0.571429       0.552036     2    0.923077       0.172837   \n",
       "4       0.433498       0.476190    12    0.153846       0.019412   \n",
       "..           ...            ...   ...         ...            ...   \n",
       "540     0.540724       0.496222     8    0.588235       0.035989   \n",
       "541     0.509235       0.472973    10    0.470588       0.052259   \n",
       "542     0.549020       0.534392     6    0.705882       0.103283   \n",
       "543     0.361364       0.391566    17    0.058824       0.008256   \n",
       "544     0.528868       0.524064     9    0.529412       0.041679   \n",
       "\n",
       "     adj_wins_prestige  points_prestige  adj_points_prestige  \n",
       "0             0.046936         0.049030             0.401289  \n",
       "1             0.433112         0.073333             0.507091  \n",
       "2             0.797419         0.096696             0.581871  \n",
       "3             0.730920         0.096170             0.580403  \n",
       "4             0.204675         0.057674             0.443097  \n",
       "..                 ...              ...                  ...  \n",
       "540           0.388251         0.058767             0.514896  \n",
       "541           0.483842         0.057077             0.507158  \n",
       "542           0.661940         0.065234             0.542620  \n",
       "543           0.123970         0.032211             0.361357  \n",
       "544           0.425077         0.059404             0.517756  \n",
       "\n",
       "[545 rows x 25 columns]"
      ]
     },
     "execution_count": 10,
     "metadata": {},
     "output_type": "execute_result"
    }
   ],
   "source": [
    "df_seasonal"
   ]
  },
  {
   "cell_type": "code",
   "execution_count": 11,
   "id": "d72937f5",
   "metadata": {},
   "outputs": [],
   "source": [
    "all_seasons = sorted(set(df_seasonal.season))\n",
    "\n",
    "# Exclude the last season, as it is currently incomplete\n",
    "removed_season = all_seasons[-1]\n",
    "all_seasons = all_seasons[:-1]\n",
    "df_seasonal = df_seasonal.loc[df_seasonal.season < removed_season].copy()"
   ]
  },
  {
   "cell_type": "markdown",
   "id": "e617c080",
   "metadata": {},
   "source": [
    "### Load within-season statistics"
   ]
  },
  {
   "cell_type": "code",
   "execution_count": 12,
   "id": "7b2e394e",
   "metadata": {},
   "outputs": [],
   "source": [
    "df_within = pd.read_csv(os.path.join(\"..\", \"data\", \"within_season_features.csv\"))"
   ]
  },
  {
   "cell_type": "code",
   "execution_count": 13,
   "id": "7ae2206e",
   "metadata": {},
   "outputs": [],
   "source": [
    "match_tools.add_timestamp(df_within)"
   ]
  },
  {
   "cell_type": "code",
   "execution_count": 14,
   "id": "c2731a4c",
   "metadata": {},
   "outputs": [],
   "source": [
    "match_tools.add_hash(df_within)"
   ]
  },
  {
   "cell_type": "code",
   "execution_count": 15,
   "id": "9027aeb1",
   "metadata": {},
   "outputs": [
    {
     "data": {
      "text/html": [
       "<div>\n",
       "<style scoped>\n",
       "    .dataframe tbody tr th:only-of-type {\n",
       "        vertical-align: middle;\n",
       "    }\n",
       "\n",
       "    .dataframe tbody tr th {\n",
       "        vertical-align: top;\n",
       "    }\n",
       "\n",
       "    .dataframe thead th {\n",
       "        text-align: right;\n",
       "    }\n",
       "</style>\n",
       "<table border=\"1\" class=\"dataframe\">\n",
       "  <thead>\n",
       "    <tr style=\"text-align: right;\">\n",
       "      <th></th>\n",
       "      <th>datetime</th>\n",
       "      <th>round</th>\n",
       "      <th>venue</th>\n",
       "      <th>season</th>\n",
       "      <th>team</th>\n",
       "      <th>teams</th>\n",
       "      <th>games</th>\n",
       "      <th>wins</th>\n",
       "      <th>draws</th>\n",
       "      <th>losses</th>\n",
       "      <th>...</th>\n",
       "      <th>goals_ratio</th>\n",
       "      <th>behinds_ratio</th>\n",
       "      <th>rank</th>\n",
       "      <th>rank_score</th>\n",
       "      <th>wins_prestige</th>\n",
       "      <th>adj_wins_prestige</th>\n",
       "      <th>points_prestige</th>\n",
       "      <th>adj_points_prestige</th>\n",
       "      <th>timestamp</th>\n",
       "      <th>hash</th>\n",
       "    </tr>\n",
       "  </thead>\n",
       "  <tbody>\n",
       "    <tr>\n",
       "      <th>0</th>\n",
       "      <td>Fri 06-Apr-1990 7:40 PM</td>\n",
       "      <td>R2</td>\n",
       "      <td>M.C.G.</td>\n",
       "      <td>1990</td>\n",
       "      <td>North Melbourne</td>\n",
       "      <td>14</td>\n",
       "      <td>1</td>\n",
       "      <td>0</td>\n",
       "      <td>0</td>\n",
       "      <td>1</td>\n",
       "      <td>...</td>\n",
       "      <td>0.352941</td>\n",
       "      <td>0.629630</td>\n",
       "      <td>9</td>\n",
       "      <td>0.384615</td>\n",
       "      <td>0.000000</td>\n",
       "      <td>0.000000</td>\n",
       "      <td>0.000000</td>\n",
       "      <td>0.000000</td>\n",
       "      <td>1990-04-06 19:40:00</td>\n",
       "      <td>4271120183175403010</td>\n",
       "    </tr>\n",
       "    <tr>\n",
       "      <th>1</th>\n",
       "      <td>Fri 06-Apr-1990 7:40 PM</td>\n",
       "      <td>R2</td>\n",
       "      <td>M.C.G.</td>\n",
       "      <td>1990</td>\n",
       "      <td>Richmond</td>\n",
       "      <td>14</td>\n",
       "      <td>1</td>\n",
       "      <td>0</td>\n",
       "      <td>0</td>\n",
       "      <td>1</td>\n",
       "      <td>...</td>\n",
       "      <td>0.344828</td>\n",
       "      <td>0.424242</td>\n",
       "      <td>11</td>\n",
       "      <td>0.230769</td>\n",
       "      <td>0.000000</td>\n",
       "      <td>0.000000</td>\n",
       "      <td>0.357488</td>\n",
       "      <td>0.878539</td>\n",
       "      <td>1990-04-06 19:40:00</td>\n",
       "      <td>-6921263803416812198</td>\n",
       "    </tr>\n",
       "    <tr>\n",
       "      <th>8</th>\n",
       "      <td>Sat 07-Apr-1990 2:10 PM</td>\n",
       "      <td>R2</td>\n",
       "      <td>Waverley Park</td>\n",
       "      <td>1990</td>\n",
       "      <td>Carlton</td>\n",
       "      <td>14</td>\n",
       "      <td>1</td>\n",
       "      <td>0</td>\n",
       "      <td>0</td>\n",
       "      <td>1</td>\n",
       "      <td>...</td>\n",
       "      <td>0.482759</td>\n",
       "      <td>0.517241</td>\n",
       "      <td>9</td>\n",
       "      <td>0.384615</td>\n",
       "      <td>0.000000</td>\n",
       "      <td>0.000000</td>\n",
       "      <td>0.000000</td>\n",
       "      <td>0.000000</td>\n",
       "      <td>1990-04-07 14:10:00</td>\n",
       "      <td>-5546559350137417324</td>\n",
       "    </tr>\n",
       "    <tr>\n",
       "      <th>7</th>\n",
       "      <td>Sat 07-Apr-1990 2:10 PM</td>\n",
       "      <td>R2</td>\n",
       "      <td>Princes Park</td>\n",
       "      <td>1990</td>\n",
       "      <td>Fitzroy</td>\n",
       "      <td>14</td>\n",
       "      <td>1</td>\n",
       "      <td>0</td>\n",
       "      <td>0</td>\n",
       "      <td>1</td>\n",
       "      <td>...</td>\n",
       "      <td>0.285714</td>\n",
       "      <td>0.363636</td>\n",
       "      <td>12</td>\n",
       "      <td>0.153846</td>\n",
       "      <td>0.000000</td>\n",
       "      <td>0.000000</td>\n",
       "      <td>0.000000</td>\n",
       "      <td>0.000000</td>\n",
       "      <td>1990-04-07 14:10:00</td>\n",
       "      <td>5100040700964602362</td>\n",
       "    </tr>\n",
       "    <tr>\n",
       "      <th>6</th>\n",
       "      <td>Sat 07-Apr-1990 2:10 PM</td>\n",
       "      <td>R2</td>\n",
       "      <td>Princes Park</td>\n",
       "      <td>1990</td>\n",
       "      <td>Brisbane Bears</td>\n",
       "      <td>14</td>\n",
       "      <td>1</td>\n",
       "      <td>1</td>\n",
       "      <td>0</td>\n",
       "      <td>0</td>\n",
       "      <td>...</td>\n",
       "      <td>0.655172</td>\n",
       "      <td>0.575758</td>\n",
       "      <td>4</td>\n",
       "      <td>0.769231</td>\n",
       "      <td>1.000000</td>\n",
       "      <td>1.000000</td>\n",
       "      <td>0.166808</td>\n",
       "      <td>0.722426</td>\n",
       "      <td>1990-04-07 14:10:00</td>\n",
       "      <td>-2906522433457045356</td>\n",
       "    </tr>\n",
       "    <tr>\n",
       "      <th>...</th>\n",
       "      <td>...</td>\n",
       "      <td>...</td>\n",
       "      <td>...</td>\n",
       "      <td>...</td>\n",
       "      <td>...</td>\n",
       "      <td>...</td>\n",
       "      <td>...</td>\n",
       "      <td>...</td>\n",
       "      <td>...</td>\n",
       "      <td>...</td>\n",
       "      <td>...</td>\n",
       "      <td>...</td>\n",
       "      <td>...</td>\n",
       "      <td>...</td>\n",
       "      <td>...</td>\n",
       "      <td>...</td>\n",
       "      <td>...</td>\n",
       "      <td>...</td>\n",
       "      <td>...</td>\n",
       "      <td>...</td>\n",
       "      <td>...</td>\n",
       "    </tr>\n",
       "    <tr>\n",
       "      <th>11790</th>\n",
       "      <td>Sun 17-Jul-2022 1:10 PM</td>\n",
       "      <td>R18</td>\n",
       "      <td>M.C.G.</td>\n",
       "      <td>2022</td>\n",
       "      <td>West Coast</td>\n",
       "      <td>18</td>\n",
       "      <td>16</td>\n",
       "      <td>2</td>\n",
       "      <td>0</td>\n",
       "      <td>14</td>\n",
       "      <td>...</td>\n",
       "      <td>0.355932</td>\n",
       "      <td>0.396825</td>\n",
       "      <td>17</td>\n",
       "      <td>0.058824</td>\n",
       "      <td>0.008529</td>\n",
       "      <td>0.127583</td>\n",
       "      <td>0.031821</td>\n",
       "      <td>0.358452</td>\n",
       "      <td>2022-07-17 13:10:00</td>\n",
       "      <td>3460460708897523496</td>\n",
       "    </tr>\n",
       "    <tr>\n",
       "      <th>11791</th>\n",
       "      <td>Sun 17-Jul-2022 2:50 PM</td>\n",
       "      <td>R18</td>\n",
       "      <td>Traeger Park</td>\n",
       "      <td>2022</td>\n",
       "      <td>Melbourne</td>\n",
       "      <td>18</td>\n",
       "      <td>16</td>\n",
       "      <td>12</td>\n",
       "      <td>0</td>\n",
       "      <td>4</td>\n",
       "      <td>...</td>\n",
       "      <td>0.573913</td>\n",
       "      <td>0.558074</td>\n",
       "      <td>2</td>\n",
       "      <td>0.941176</td>\n",
       "      <td>0.097317</td>\n",
       "      <td>0.646986</td>\n",
       "      <td>0.070612</td>\n",
       "      <td>0.563625</td>\n",
       "      <td>2022-07-17 14:50:00</td>\n",
       "      <td>8340202876625989827</td>\n",
       "    </tr>\n",
       "    <tr>\n",
       "      <th>11792</th>\n",
       "      <td>Sun 17-Jul-2022 2:50 PM</td>\n",
       "      <td>R18</td>\n",
       "      <td>Traeger Park</td>\n",
       "      <td>2022</td>\n",
       "      <td>Port Adelaide</td>\n",
       "      <td>18</td>\n",
       "      <td>16</td>\n",
       "      <td>8</td>\n",
       "      <td>0</td>\n",
       "      <td>8</td>\n",
       "      <td>...</td>\n",
       "      <td>0.523810</td>\n",
       "      <td>0.502841</td>\n",
       "      <td>12</td>\n",
       "      <td>0.352941</td>\n",
       "      <td>0.036242</td>\n",
       "      <td>0.389980</td>\n",
       "      <td>0.057722</td>\n",
       "      <td>0.510135</td>\n",
       "      <td>2022-07-17 14:50:00</td>\n",
       "      <td>-2975851654109569516</td>\n",
       "    </tr>\n",
       "    <tr>\n",
       "      <th>11793</th>\n",
       "      <td>Sun 17-Jul-2022 4:40 PM</td>\n",
       "      <td>R18</td>\n",
       "      <td>Docklands</td>\n",
       "      <td>2022</td>\n",
       "      <td>Essendon</td>\n",
       "      <td>18</td>\n",
       "      <td>16</td>\n",
       "      <td>5</td>\n",
       "      <td>0</td>\n",
       "      <td>11</td>\n",
       "      <td>...</td>\n",
       "      <td>0.445844</td>\n",
       "      <td>0.490251</td>\n",
       "      <td>16</td>\n",
       "      <td>0.117647</td>\n",
       "      <td>0.018756</td>\n",
       "      <td>0.245248</td>\n",
       "      <td>0.046731</td>\n",
       "      <td>0.454557</td>\n",
       "      <td>2022-07-17 16:40:00</td>\n",
       "      <td>8588682552390603791</td>\n",
       "    </tr>\n",
       "    <tr>\n",
       "      <th>11794</th>\n",
       "      <td>Sun 17-Jul-2022 4:40 PM</td>\n",
       "      <td>R18</td>\n",
       "      <td>Docklands</td>\n",
       "      <td>2022</td>\n",
       "      <td>Gold Coast</td>\n",
       "      <td>18</td>\n",
       "      <td>16</td>\n",
       "      <td>8</td>\n",
       "      <td>0</td>\n",
       "      <td>8</td>\n",
       "      <td>...</td>\n",
       "      <td>0.524934</td>\n",
       "      <td>0.498615</td>\n",
       "      <td>11</td>\n",
       "      <td>0.411765</td>\n",
       "      <td>0.053689</td>\n",
       "      <td>0.490962</td>\n",
       "      <td>0.059369</td>\n",
       "      <td>0.517603</td>\n",
       "      <td>2022-07-17 16:40:00</td>\n",
       "      <td>-6234315030764380155</td>\n",
       "    </tr>\n",
       "  </tbody>\n",
       "</table>\n",
       "<p>11795 rows × 30 columns</p>\n",
       "</div>"
      ],
      "text/plain": [
       "                      datetime round          venue  season             team  \\\n",
       "0      Fri 06-Apr-1990 7:40 PM    R2         M.C.G.    1990  North Melbourne   \n",
       "1      Fri 06-Apr-1990 7:40 PM    R2         M.C.G.    1990         Richmond   \n",
       "8      Sat 07-Apr-1990 2:10 PM    R2  Waverley Park    1990          Carlton   \n",
       "7      Sat 07-Apr-1990 2:10 PM    R2   Princes Park    1990          Fitzroy   \n",
       "6      Sat 07-Apr-1990 2:10 PM    R2   Princes Park    1990   Brisbane Bears   \n",
       "...                        ...   ...            ...     ...              ...   \n",
       "11790  Sun 17-Jul-2022 1:10 PM   R18         M.C.G.    2022       West Coast   \n",
       "11791  Sun 17-Jul-2022 2:50 PM   R18   Traeger Park    2022        Melbourne   \n",
       "11792  Sun 17-Jul-2022 2:50 PM   R18   Traeger Park    2022    Port Adelaide   \n",
       "11793  Sun 17-Jul-2022 4:40 PM   R18      Docklands    2022         Essendon   \n",
       "11794  Sun 17-Jul-2022 4:40 PM   R18      Docklands    2022       Gold Coast   \n",
       "\n",
       "       teams  games  wins  draws  losses  ...  goals_ratio  behinds_ratio  \\\n",
       "0         14      1     0      0       1  ...     0.352941       0.629630   \n",
       "1         14      1     0      0       1  ...     0.344828       0.424242   \n",
       "8         14      1     0      0       1  ...     0.482759       0.517241   \n",
       "7         14      1     0      0       1  ...     0.285714       0.363636   \n",
       "6         14      1     1      0       0  ...     0.655172       0.575758   \n",
       "...      ...    ...   ...    ...     ...  ...          ...            ...   \n",
       "11790     18     16     2      0      14  ...     0.355932       0.396825   \n",
       "11791     18     16    12      0       4  ...     0.573913       0.558074   \n",
       "11792     18     16     8      0       8  ...     0.523810       0.502841   \n",
       "11793     18     16     5      0      11  ...     0.445844       0.490251   \n",
       "11794     18     16     8      0       8  ...     0.524934       0.498615   \n",
       "\n",
       "       rank  rank_score  wins_prestige  adj_wins_prestige  points_prestige  \\\n",
       "0         9    0.384615       0.000000           0.000000         0.000000   \n",
       "1        11    0.230769       0.000000           0.000000         0.357488   \n",
       "8         9    0.384615       0.000000           0.000000         0.000000   \n",
       "7        12    0.153846       0.000000           0.000000         0.000000   \n",
       "6         4    0.769231       1.000000           1.000000         0.166808   \n",
       "...     ...         ...            ...                ...              ...   \n",
       "11790    17    0.058824       0.008529           0.127583         0.031821   \n",
       "11791     2    0.941176       0.097317           0.646986         0.070612   \n",
       "11792    12    0.352941       0.036242           0.389980         0.057722   \n",
       "11793    16    0.117647       0.018756           0.245248         0.046731   \n",
       "11794    11    0.411765       0.053689           0.490962         0.059369   \n",
       "\n",
       "       adj_points_prestige           timestamp                 hash  \n",
       "0                 0.000000 1990-04-06 19:40:00  4271120183175403010  \n",
       "1                 0.878539 1990-04-06 19:40:00 -6921263803416812198  \n",
       "8                 0.000000 1990-04-07 14:10:00 -5546559350137417324  \n",
       "7                 0.000000 1990-04-07 14:10:00  5100040700964602362  \n",
       "6                 0.722426 1990-04-07 14:10:00 -2906522433457045356  \n",
       "...                    ...                 ...                  ...  \n",
       "11790             0.358452 2022-07-17 13:10:00  3460460708897523496  \n",
       "11791             0.563625 2022-07-17 14:50:00  8340202876625989827  \n",
       "11792             0.510135 2022-07-17 14:50:00 -2975851654109569516  \n",
       "11793             0.454557 2022-07-17 16:40:00  8588682552390603791  \n",
       "11794             0.517603 2022-07-17 16:40:00 -6234315030764380155  \n",
       "\n",
       "[11795 rows x 30 columns]"
      ]
     },
     "execution_count": 15,
     "metadata": {},
     "output_type": "execute_result"
    }
   ],
   "source": [
    "df_within"
   ]
  },
  {
   "cell_type": "code",
   "execution_count": 16,
   "id": "6dc3a79e",
   "metadata": {},
   "outputs": [
    {
     "name": "stdout",
     "output_type": "stream",
     "text": [
      "['datetime', 'round', 'venue', 'season', 'team', 'teams', 'games', 'wins', 'draws', 'losses', 'wins_ratio', 'points_for', 'points_against', 'points_ratio', 'goals_for', 'behinds_for', 'accuracy_for', 'goals_against', 'behinds_against', 'accuracy_against', 'goals_ratio', 'behinds_ratio', 'rank', 'rank_score', 'wins_prestige', 'adj_wins_prestige', 'points_prestige', 'adj_points_prestige', 'timestamp', 'hash']\n"
     ]
    }
   ],
   "source": [
    "print(list(df_within.columns))"
   ]
  },
  {
   "cell_type": "markdown",
   "id": "e1f45c1b",
   "metadata": {},
   "source": [
    "### Load seasonal sequences"
   ]
  },
  {
   "cell_type": "code",
   "execution_count": 17,
   "id": "6a3904bd",
   "metadata": {},
   "outputs": [],
   "source": [
    "df_sequences = pd.read_csv(os.path.join(\"..\", \"data\", \"season_sequences.csv\"))"
   ]
  },
  {
   "cell_type": "code",
   "execution_count": 18,
   "id": "a72bf50d",
   "metadata": {},
   "outputs": [
    {
     "data": {
      "text/html": [
       "<div>\n",
       "<style scoped>\n",
       "    .dataframe tbody tr th:only-of-type {\n",
       "        vertical-align: middle;\n",
       "    }\n",
       "\n",
       "    .dataframe tbody tr th {\n",
       "        vertical-align: top;\n",
       "    }\n",
       "\n",
       "    .dataframe thead th {\n",
       "        text-align: right;\n",
       "    }\n",
       "</style>\n",
       "<table border=\"1\" class=\"dataframe\">\n",
       "  <thead>\n",
       "    <tr style=\"text-align: right;\">\n",
       "      <th></th>\n",
       "      <th>season</th>\n",
       "      <th>team</th>\n",
       "      <th>sequence_length</th>\n",
       "      <th>sequence</th>\n",
       "    </tr>\n",
       "  </thead>\n",
       "  <tbody>\n",
       "    <tr>\n",
       "      <th>0</th>\n",
       "      <td>1990</td>\n",
       "      <td>Brisbane Bears</td>\n",
       "      <td>22</td>\n",
       "      <td>WLLLLLWLLLLLLLWLLLWLLL</td>\n",
       "    </tr>\n",
       "    <tr>\n",
       "      <th>1</th>\n",
       "      <td>1990</td>\n",
       "      <td>Carlton</td>\n",
       "      <td>22</td>\n",
       "      <td>LLWLLWWWWLLWWWLWLWLWLL</td>\n",
       "    </tr>\n",
       "    <tr>\n",
       "      <th>2</th>\n",
       "      <td>1990</td>\n",
       "      <td>Collingwood</td>\n",
       "      <td>22</td>\n",
       "      <td>LWWWWLLWWWWWWWWWLWLLWW</td>\n",
       "    </tr>\n",
       "    <tr>\n",
       "      <th>3</th>\n",
       "      <td>1990</td>\n",
       "      <td>Essendon</td>\n",
       "      <td>22</td>\n",
       "      <td>WWLWLWLWWWWWWWWLWWWLWW</td>\n",
       "    </tr>\n",
       "    <tr>\n",
       "      <th>4</th>\n",
       "      <td>1990</td>\n",
       "      <td>Fitzroy</td>\n",
       "      <td>22</td>\n",
       "      <td>LWLLLLWLLWLWLLLWLWLLLW</td>\n",
       "    </tr>\n",
       "    <tr>\n",
       "      <th>...</th>\n",
       "      <td>...</td>\n",
       "      <td>...</td>\n",
       "      <td>...</td>\n",
       "      <td>...</td>\n",
       "    </tr>\n",
       "    <tr>\n",
       "      <th>540</th>\n",
       "      <td>2022</td>\n",
       "      <td>Richmond</td>\n",
       "      <td>18</td>\n",
       "      <td>LWLWLLWWWWLBWWLWLL</td>\n",
       "    </tr>\n",
       "    <tr>\n",
       "      <th>541</th>\n",
       "      <td>2022</td>\n",
       "      <td>St Kilda</td>\n",
       "      <td>18</td>\n",
       "      <td>LWWWWWLLWWWBLLLWLL</td>\n",
       "    </tr>\n",
       "    <tr>\n",
       "      <th>542</th>\n",
       "      <td>2022</td>\n",
       "      <td>Sydney</td>\n",
       "      <td>18</td>\n",
       "      <td>WWLWWWLLWLWWBLWLWW</td>\n",
       "    </tr>\n",
       "    <tr>\n",
       "      <th>543</th>\n",
       "      <td>2022</td>\n",
       "      <td>West Coast</td>\n",
       "      <td>18</td>\n",
       "      <td>LLLWLLLLLLLLBLWLLL</td>\n",
       "    </tr>\n",
       "    <tr>\n",
       "      <th>544</th>\n",
       "      <td>2022</td>\n",
       "      <td>Western Bulldogs</td>\n",
       "      <td>18</td>\n",
       "      <td>LLWLWLWLWWWLBWWLLW</td>\n",
       "    </tr>\n",
       "  </tbody>\n",
       "</table>\n",
       "<p>545 rows × 4 columns</p>\n",
       "</div>"
      ],
      "text/plain": [
       "     season              team  sequence_length                sequence\n",
       "0      1990    Brisbane Bears               22  WLLLLLWLLLLLLLWLLLWLLL\n",
       "1      1990           Carlton               22  LLWLLWWWWLLWWWLWLWLWLL\n",
       "2      1990       Collingwood               22  LWWWWLLWWWWWWWWWLWLLWW\n",
       "3      1990          Essendon               22  WWLWLWLWWWWWWWWLWWWLWW\n",
       "4      1990           Fitzroy               22  LWLLLLWLLWLWLLLWLWLLLW\n",
       "..      ...               ...              ...                     ...\n",
       "540    2022          Richmond               18      LWLWLLWWWWLBWWLWLL\n",
       "541    2022          St Kilda               18      LWWWWWLLWWWBLLLWLL\n",
       "542    2022            Sydney               18      WWLWWWLLWLWWBLWLWW\n",
       "543    2022        West Coast               18      LLLWLLLLLLLLBLWLLL\n",
       "544    2022  Western Bulldogs               18      LLWLWLWLWWWLBWWLLW\n",
       "\n",
       "[545 rows x 4 columns]"
      ]
     },
     "execution_count": 18,
     "metadata": {},
     "output_type": "execute_result"
    }
   ],
   "source": [
    "df_sequences"
   ]
  },
  {
   "cell_type": "markdown",
   "id": "3ed88375",
   "metadata": {},
   "source": [
    "## One-team vs two-team modelling"
   ]
  },
  {
   "cell_type": "markdown",
   "id": "92ba19b1",
   "metadata": {},
   "source": [
    "When testing proposed features for their predictive abilities, we may consider either a\n",
    "[one-team model](4_seasonal_effects.ipynb#One-team-versus-two-team-modelling \n",
    "\"Seasonal Effects: One-team versus two-team modelling\"), or a\n",
    "[two-team model](4_seasonal_effects.ipynb#One-team-versus-two-team-modelling \n",
    "\"Seasonal Effects: One-team versus two-team modelling\"). \n",
    "For scalar features, the one-team model might, for example, take the simple logistic form\n",
    "\\begin{eqnarray}\n",
    "p_A & = & \\sigma(\\alpha + \\beta\\,x_A)\\,,\n",
    "\\end{eqnarray}\n",
    "where $p_A=P(\\texttt{win}_A|A,B)$ is the probability that team A will win the match against team B.\n",
    "Similarly, the two-team model might take the form\n",
    "\\begin{eqnarray}\n",
    "p_A & = & \\sigma[\\beta\\,(x_A-x_B)]\\,.\n",
    "\\end{eqnarray}\n",
    "Note that under some circumstances, we may reduce the two-team model to a one-team model by defining\n",
    "a new, team-specific feature, e.g. $x'_A=x_A-x_B$. This might be motivated either by:\n",
    "\n",
    "1. Replacing the opposing team feature $x_B$ by either its expected value, $\\mathbb{E}[x_B]$, \n",
    "or its empirical mean, $\\langle x_B\\rangle$;\n",
    "2. Utilising some theoretical relationship between paired features, e.g. $x_B=f(x_A)$.\n",
    "\n",
    "Note that the first case corresponds to replacing the specific opponent (team B) by an\n",
    "'average' opponent, resulting in an intercept of \n",
    "$\\alpha=-\\beta\\,\\mathbb{E}[x_B]$ or\n",
    "$\\alpha=-\\beta\\,\\langle x_B\\rangle$. As a consequence, there will be no need to fit an intercept if either\n",
    "there are theoretical grounds for supposing that $\\mathbb{E}[x_B]=0$, or it is observed empirically that\n",
    "$\\langle x_B\\rangle\\approx 0$.\n",
    "\n",
    "We begin by looking at the reliability of the various factors, one at a time, at predicting the probability of \n",
    "the [outcome](3_feature_extraction.ipynb#Numbers-of-wins,-draws-and-losses\n",
    "\"Feature Extraction: Numbers of wins, draws and losses\") \n",
    "of each match. In particular, we utilise\n",
    "[Bernoulli regression](./C_regression_models.ipynb#Bernoulli-regression \"Regression Models: Bernoulli regression\")\n",
    "with response variate $Y=1$ for a win, $Y=0$ for a loss, and \n",
    "([non-standardly](./C_regression_models.ipynb#Bernoulli-distribution \"Regression Models: Bernoulli distribution\"))\n",
    "$Y=\\frac{1}{2}$ for a draw.\n",
    "\n",
    "Alternatively, instead of the outcome, we might want to predict the\n",
    "[*points ratio*](3_feature_extraction.ipynb#Points-for-and-against\n",
    "\"Feature Extraction: Points for and against\")\n",
    "obtained for each predicted match. In this case, the response variate is given by\n",
    "\\begin{eqnarray}\n",
    "Y & = & \\frac{f_A}{f_A+a_A}\\,,\n",
    "\\end{eqnarray}\n",
    "where $f_A$ denotes the total points scored by (i.e. 'for') team A, and $a_A$ denotes the total points scored\n",
    "against team A. Note that for a two-team model, we have $a_A=f_B$.\n",
    "For modelling proportions, we utilise \n",
    "[Beta regression](./C_regression_models.ipynb#Beta-regression \"Regression Models: Beta regression\")."
   ]
  },
  {
   "cell_type": "code",
   "execution_count": 19,
   "id": "dfa13bce",
   "metadata": {},
   "outputs": [],
   "source": [
    "_for = df_matches.for_total_score\n",
    "_against = df_matches.against_total_score\n",
    "df_matches['points_ratio'] = _for / (_for + _against)"
   ]
  },
  {
   "cell_type": "markdown",
   "id": "23106b47",
   "metadata": {},
   "source": [
    "## Home-ground advantage"
   ]
  },
  {
   "cell_type": "markdown",
   "id": "f89ded0f",
   "metadata": {},
   "source": [
    "As noted in the [introduction](1_introduction.ipynb#Environmental-features \"Introduction: Environmental features\"), for many sporting games there appears to be a statistical advantage for a team to play a match on its home ground, versus playing away on the opposing team's home ground. Let us examine this effect for AFL matches. Note that only the minor round matches have valid home/away flags - these flags are both set to False for major round matches."
   ]
  },
  {
   "cell_type": "markdown",
   "id": "67c7cc0e",
   "metadata": {},
   "source": [
    "### Evidence for an effect"
   ]
  },
  {
   "cell_type": "code",
   "execution_count": 20,
   "id": "8acecfd7",
   "metadata": {},
   "outputs": [],
   "source": [
    "HOME, AWAY = 'home', 'away'\n",
    "WIN, DRAW, LOSS = 'win', 'draw', 'loss'\n",
    "RATIO = 'wins_ratio'"
   ]
  },
  {
   "cell_type": "code",
   "execution_count": 21,
   "id": "ac36929c",
   "metadata": {},
   "outputs": [],
   "source": [
    "def compute_home_ratio(df_matches):\n",
    "    df = pd.DataFrame(columns=[WIN, DRAW, LOSS], index=[HOME, AWAY])\n",
    "    df.fillna(0, inplace=True)\n",
    "    # Analyse minor rounds\n",
    "    minor_rounds = df_matches['round'].str.startswith('R')\n",
    "    for match in df_matches[minor_rounds].itertuples():\n",
    "        f_flag = HOME if match.for_is_home else AWAY\n",
    "        a_flag = HOME if match.against_is_home else AWAY\n",
    "        if match.for_is_win:\n",
    "            df.loc[f_flag, WIN] += 1\n",
    "            df.loc[a_flag, LOSS] += 1\n",
    "        elif match.against_is_win:\n",
    "            df.loc[f_flag, LOSS] += 1\n",
    "            df.loc[a_flag, WIN] += 1\n",
    "        else:\n",
    "            df.loc[f_flag, DRAW] += 1\n",
    "            df.loc[a_flag, DRAW] += 1\n",
    "    # Count draws as half-a-win and half-a-loss.\n",
    "    wins = df[WIN] + 0.5 * df[DRAW]\n",
    "    losses = df[LOSS] + 0.5 * df[DRAW]\n",
    "    df[RATIO] = wins / (wins + losses)\n",
    "    return df"
   ]
  },
  {
   "cell_type": "code",
   "execution_count": 22,
   "id": "b6133398",
   "metadata": {},
   "outputs": [
    {
     "data": {
      "text/html": [
       "<div>\n",
       "<style scoped>\n",
       "    .dataframe tbody tr th:only-of-type {\n",
       "        vertical-align: middle;\n",
       "    }\n",
       "\n",
       "    .dataframe tbody tr th {\n",
       "        vertical-align: top;\n",
       "    }\n",
       "\n",
       "    .dataframe thead th {\n",
       "        text-align: right;\n",
       "    }\n",
       "</style>\n",
       "<table border=\"1\" class=\"dataframe\">\n",
       "  <thead>\n",
       "    <tr style=\"text-align: right;\">\n",
       "      <th></th>\n",
       "      <th>win</th>\n",
       "      <th>draw</th>\n",
       "      <th>loss</th>\n",
       "      <th>wins_ratio</th>\n",
       "    </tr>\n",
       "  </thead>\n",
       "  <tbody>\n",
       "    <tr>\n",
       "      <th>home</th>\n",
       "      <td>3382</td>\n",
       "      <td>51</td>\n",
       "      <td>2456</td>\n",
       "      <td>0.578621</td>\n",
       "    </tr>\n",
       "    <tr>\n",
       "      <th>away</th>\n",
       "      <td>2456</td>\n",
       "      <td>51</td>\n",
       "      <td>3382</td>\n",
       "      <td>0.421379</td>\n",
       "    </tr>\n",
       "  </tbody>\n",
       "</table>\n",
       "</div>"
      ],
      "text/plain": [
       "       win  draw  loss  wins_ratio\n",
       "home  3382    51  2456    0.578621\n",
       "away  2456    51  3382    0.421379"
      ]
     },
     "execution_count": 22,
     "metadata": {},
     "output_type": "execute_result"
    }
   ],
   "source": [
    "df = compute_home_ratio(df_matches)\n",
    "df"
   ]
  },
  {
   "cell_type": "code",
   "execution_count": 23,
   "id": "0145345b",
   "metadata": {},
   "outputs": [
    {
     "name": "stdout",
     "output_type": "stream",
     "text": [
      "Prob(loss|home) = 0.4213788419086433, Prob(win|home) = 0.5786211580913567\n",
      "mean +/- std.err. = (0.5721866886814582, 0.5850556275012553)\n"
     ]
    }
   ],
   "source": [
    "p = df.loc[HOME, RATIO]\n",
    "q = 1 - p\n",
    "n = df.loc[HOME, WIN] + df.loc[HOME, DRAW] + df.loc[HOME, LOSS]\n",
    "se = np.sqrt(p * q / n)\n",
    "print(f\"Prob(loss|home) = {q}, Prob(win|home) = {p}\")\n",
    "print(f\"mean +/- std.err. = ({p-se}, {p+se})\")"
   ]
  },
  {
   "cell_type": "markdown",
   "id": "11462e6a",
   "metadata": {},
   "source": [
    "It would seem that AFL matches also exhibit a home-ground advantage effect. Let us test this effect per season."
   ]
  },
  {
   "cell_type": "markdown",
   "id": "2a1bb151",
   "metadata": {},
   "source": [
    "### Seasonal comparison"
   ]
  },
  {
   "cell_type": "code",
   "execution_count": 24,
   "id": "c97628cc",
   "metadata": {},
   "outputs": [
    {
     "name": "stdout",
     "output_type": "stream",
     "text": [
      "mean = 0.5786892910140521, std. dev. = 0.035316519404683965\n"
     ]
    }
   ],
   "source": [
    "ratios = []\n",
    "for season in all_seasons:\n",
    "    in_season = df_matches.season == season\n",
    "    df = compute_home_ratio(df_matches[in_season])\n",
    "    ratio = df.loc[HOME, RATIO]\n",
    "    ratios.append(ratio)\n",
    "ratios = np.array(ratios)\n",
    "mu = np.mean(ratios)\n",
    "sigma = np.std(ratios)\n",
    "print(f\"mean = {mu}, std. dev. = {sigma}\")"
   ]
  },
  {
   "cell_type": "code",
   "execution_count": 25,
   "id": "3cf62e12",
   "metadata": {},
   "outputs": [
    {
     "data": {
      "image/png": "[encoded data removed]",
      "text/plain": [
       "<Figure size 640x480 with 1 Axes>"
      ]
     },
     "metadata": {},
     "output_type": "display_data"
    }
   ],
   "source": [
    "plt.plot(all_seasons, ratios, 'b')\n",
    "plt.plot(all_seasons, [mu] * len(ratios), 'k')\n",
    "plt.plot(all_seasons, [mu + sigma] * len(ratios), 'darkgrey')\n",
    "plt.plot(all_seasons, [mu - sigma] * len(ratios), 'darkgrey')\n",
    "plt.plot(all_seasons, [0.5] * len(ratios), 'r')\n",
    "plt.xlabel('season')\n",
    "plt.ylabel('home-wins ratio')\n",
    "plt.title('Advantage to home team')\n",
    "plt.legend(['ratio', 'mean', '+1 std. dev.', '-1 std. dev.', 'baseline'])\n",
    "plt.show()"
   ]
  },
  {
   "cell_type": "markdown",
   "id": "ef60aebe",
   "metadata": {},
   "source": [
    "Apart from one anomalous season where teams tended to lose their home matches, there does in general appear to be a distinct advantage for a team to play on its home ground. "
   ]
  },
  {
   "cell_type": "markdown",
   "id": "46d7de88",
   "metadata": {},
   "source": [
    "### Bernoulli regression"
   ]
  },
  {
   "cell_type": "markdown",
   "id": "7200bcbd",
   "metadata": {},
   "source": [
    "Given the binary indicator operator $\\texttt{is_home}(\\cdot)$,\n",
    "we may take the per-team features as $x_A=\\delta[\\texttt{is_home}(A)]$ and $x_B=\\delta[\\texttt{is_home}(B)]$.\n",
    "However, since a home match for one team implies an away match for the other team, \n",
    "then the simple logistic\n",
    "two-team model\n",
    "\\begin{eqnarray}\n",
    "p_A & ~=~ & \\sigma[\\beta\\,(x_A-x_B)]\\,,\n",
    "\\end{eqnarray}\n",
    "with weight $\\beta\\approx\\sigma^{-1}(0.578)~\\approx~0.315$,\n",
    "reduces to the\n",
    "one-team model\n",
    "\\begin{eqnarray}\n",
    "p_A & ~=~ & \\sigma[\\beta\\,(2x_A-1)]~=~\\sigma(\\beta\\,x_A')\\,,\n",
    "\\end{eqnarray}\n",
    "where $x_A'=+1$ for a home game for team A, and $x_A'=-1$ for an away game.\n",
    "This form implies that we do not need to fit an intercept. Indeed,\n",
    "if we do not know in advance (prior to receiving any match information) whether team A\n",
    "will be playing a home match or an away match, then the prior expectation is $\\mathbb{E}[x_A']=0$.\n",
    "In practice, there should be the same number of home games as away games, so\n",
    "we expect that $\\langle x_A'\\rangle\\approx 0$, meaning that\n",
    "a fitted intercept $\\alpha$ will have a value close to zero, and the slope $\\beta$ will be approximately the same whether or not an intercept is fitted."
   ]
  },
  {
   "cell_type": "markdown",
   "id": "9794a663",
   "metadata": {},
   "source": [
    "In the following analysis we shall only consider matches in the minor rounds of each season, for\n",
    "which each team plays each match either at its home ground or at an away ground. \n",
    "However, note that in the finals rounds, no teams (supposedly) play at their home ground. Consequently, we would set $x'_A=0$ for these matches, which corresponds to having no information about home-ground status."
   ]
  },
  {
   "cell_type": "code",
   "execution_count": 26,
   "id": "1f164730",
   "metadata": {},
   "outputs": [],
   "source": [
    "X = []\n",
    "Y = []\n",
    "\n",
    "df_minor = df_matches[df_matches['round'].str.startswith('R')]\n",
    "for match in df_minor.itertuples():\n",
    "    # 'For' team\n",
    "    x = 2 * float(match.for_is_home) - 1\n",
    "    y = 0.5 * (1 + match_tools.get_match_result(match, is_for=True))\n",
    "    X.append(x)\n",
    "    Y.append(y)\n",
    "    # 'Against' team\n",
    "    x = 2 * float(match.against_is_home) - 1\n",
    "    y = 0.5 * (1 + match_tools.get_match_result(match, is_for=False))\n",
    "    X.append(x)\n",
    "    Y.append(y)\n",
    "\n",
    "Y = np.array(Y)\n",
    "X = np.array(X)"
   ]
  },
  {
   "cell_type": "code",
   "execution_count": 27,
   "id": "32f5818e",
   "metadata": {},
   "outputs": [],
   "source": [
    "from bernoulli_dist import BernoulliRegression"
   ]
  },
  {
   "cell_type": "markdown",
   "id": "5f3b8f69",
   "metadata": {},
   "source": [
    "Firstly, for demonstration purposes, we fit a model with an intercept."
   ]
  },
  {
   "cell_type": "code",
   "execution_count": 28,
   "id": "0f0d18c7",
   "metadata": {},
   "outputs": [],
   "source": [
    "def add_intercept(column, *columns):\n",
    "    const = np.ones(len(column))\n",
    "    return np.stack((const, column) + columns, axis=1)"
   ]
  },
  {
   "cell_type": "code",
   "execution_count": 29,
   "id": "fb67fe58",
   "metadata": {},
   "outputs": [
    {
     "name": "stdout",
     "output_type": "stream",
     "text": [
      "Fit: (-0.6807331525356985, 3, 3.5627532146698115e-08)\n",
      "Params: [-3.12552887e-10  3.17115646e-01]\n"
     ]
    }
   ],
   "source": [
    "phi = np.array([1e-3, 1.0]) # Initial guess of regression parameters\n",
    "bd = BernoulliRegression(phi)\n",
    "Z = add_intercept(X)\n",
    "print('Fit:', bd.fit(Y, Z))\n",
    "print('Params:', bd.regression_parameters())"
   ]
  },
  {
   "cell_type": "markdown",
   "id": "3126425f",
   "metadata": {},
   "source": [
    "Next, we fit the model without an intercept."
   ]
  },
  {
   "cell_type": "code",
   "execution_count": 30,
   "id": "b3f3e024",
   "metadata": {},
   "outputs": [],
   "source": [
    "def no_intercept(column, *columns):\n",
    "    return np.stack((column,) + columns, axis=1)"
   ]
  },
  {
   "cell_type": "code",
   "execution_count": 31,
   "id": "71b84464",
   "metadata": {},
   "outputs": [
    {
     "name": "stdout",
     "output_type": "stream",
     "text": [
      "Fit: (-0.6807331525356985, 3, 3.562469330642415e-08)\n",
      "Params: [0.31711565]\n"
     ]
    }
   ],
   "source": [
    "phi = np.ones(1)  # Initial guess of regression parameter\n",
    "bd = BernoulliRegression(phi)\n",
    "Z = no_intercept(X)\n",
    "print('Fit:', bd.fit(Y, Z))\n",
    "print('Params:', bd.regression_parameters())"
   ]
  },
  {
   "cell_type": "markdown",
   "id": "f467f3b8",
   "metadata": {},
   "source": [
    "Observe that, as discussed above, the intercept $\\alpha$ is close to zero, and the slope $\\beta$ is approximately the same regardless of whether or not an intercept is fitted. Henceforth, if there is a good theoretical reason to suppose that $\\alpha=0$, then we shall not bother to fit an intercept.\n",
    "\n",
    "We also see that we obtain the coefficient 0.317 which is close to our guess of 0.315, and that the model reproduces\n",
    "the statistical effect of a home-ground advantage."
   ]
  },
  {
   "cell_type": "markdown",
   "id": "ae988c76",
   "metadata": {},
   "source": [
    "Finally, we demonstrate that the model correctly predicts the mean probability of winning the next match given\n",
    "winning or losing the previous match, respectively."
   ]
  },
  {
   "cell_type": "code",
   "execution_count": 32,
   "id": "f2b8a0e8",
   "metadata": {},
   "outputs": [
    {
     "data": {
      "text/plain": [
       "array([0.57862115, 0.42137885])"
      ]
     },
     "execution_count": 32,
     "metadata": {},
     "output_type": "execute_result"
    }
   ],
   "source": [
    "Z_test = np.array([[1], [-1]])\n",
    "bd.distribution(Z_test).mean()"
   ]
  },
  {
   "cell_type": "markdown",
   "id": "9cc8d6b3",
   "metadata": {},
   "source": [
    "## Previous match result"
   ]
  },
  {
   "cell_type": "markdown",
   "id": "f1f486dd",
   "metadata": {},
   "source": [
    "A simple rule of thumb for modelling is to assume *business as usual*. Thus, in the context of match prediction, we might assume that if a team won/lost its previous match, then it might be likely to win/lose its next match (all other factors being equal). This effectively assumes that the team has some underlying measure of ability which persists over the season."
   ]
  },
  {
   "cell_type": "markdown",
   "id": "730ddb22",
   "metadata": {},
   "source": [
    "### Evidence for an effect"
   ]
  },
  {
   "cell_type": "code",
   "execution_count": 33,
   "id": "939272f3",
   "metadata": {},
   "outputs": [],
   "source": [
    "df = pd.DataFrame(columns=[LOSS, DRAW, WIN], index=[LOSS, DRAW, WIN])\n",
    "df.fillna(0, inplace=True)"
   ]
  },
  {
   "cell_type": "code",
   "execution_count": 34,
   "id": "958542b7",
   "metadata": {},
   "outputs": [],
   "source": [
    "for match in df_matches.itertuples():\n",
    "    for is_for in [False, True]:\n",
    "        team = match_tools.get_match_team(match, is_for) \n",
    "        res = match_tools.get_match_result(match, is_for)\n",
    "        prev_match = match_tools.get_previous_match(df_matches, match, is_for)\n",
    "        if prev_match is None:\n",
    "            continue\n",
    "        prev_team = match_tools.get_match_team(prev_match, is_for=True)\n",
    "        prev_res = match_tools.get_match_result(prev_match, prev_team == team)\n",
    "        df.iloc[prev_res + 1, res + 1] += 1"
   ]
  },
  {
   "cell_type": "code",
   "execution_count": 35,
   "id": "11b8387e",
   "metadata": {},
   "outputs": [
    {
     "name": "stdout",
     "output_type": "stream",
     "text": [
      "predictor (row) vs predicted (column)\n"
     ]
    },
    {
     "data": {
      "text/html": [
       "<div>\n",
       "<style scoped>\n",
       "    .dataframe tbody tr th:only-of-type {\n",
       "        vertical-align: middle;\n",
       "    }\n",
       "\n",
       "    .dataframe tbody tr th {\n",
       "        vertical-align: top;\n",
       "    }\n",
       "\n",
       "    .dataframe thead th {\n",
       "        text-align: right;\n",
       "    }\n",
       "</style>\n",
       "<table border=\"1\" class=\"dataframe\">\n",
       "  <thead>\n",
       "    <tr style=\"text-align: right;\">\n",
       "      <th></th>\n",
       "      <th>loss</th>\n",
       "      <th>draw</th>\n",
       "      <th>win</th>\n",
       "    </tr>\n",
       "  </thead>\n",
       "  <tbody>\n",
       "    <tr>\n",
       "      <th>loss</th>\n",
       "      <td>3077</td>\n",
       "      <td>57</td>\n",
       "      <td>2576</td>\n",
       "    </tr>\n",
       "    <tr>\n",
       "      <th>draw</th>\n",
       "      <td>60</td>\n",
       "      <td>1</td>\n",
       "      <td>40</td>\n",
       "    </tr>\n",
       "    <tr>\n",
       "      <th>win</th>\n",
       "      <td>2710</td>\n",
       "      <td>46</td>\n",
       "      <td>3228</td>\n",
       "    </tr>\n",
       "  </tbody>\n",
       "</table>\n",
       "</div>"
      ],
      "text/plain": [
       "      loss  draw   win\n",
       "loss  3077    57  2576\n",
       "draw    60     1    40\n",
       "win   2710    46  3228"
      ]
     },
     "execution_count": 35,
     "metadata": {},
     "output_type": "execute_result"
    }
   ],
   "source": [
    "print(\"predictor (row) vs predicted (column)\")\n",
    "df"
   ]
  },
  {
   "cell_type": "markdown",
   "id": "966594f9",
   "metadata": {},
   "source": [
    "We see that the 'business as usual' rule appears to hold, such that a previous win/loss is indicative of a future win/loss.\n",
    "However, we also observe that draws are rare events, and as such are not reliable predictors. Thus, we treat each previous draw as both half-a-win and half-a-loss."
   ]
  },
  {
   "cell_type": "code",
   "execution_count": 36,
   "id": "48fe4182",
   "metadata": {},
   "outputs": [],
   "source": [
    "def compute_result_ratio(df_matches):\n",
    "    df = pd.DataFrame(columns=[LOSS, DRAW, WIN], index=[LOSS, DRAW, WIN])\n",
    "    df.fillna(0, inplace=True)\n",
    "    for match in df_matches.itertuples():\n",
    "        for is_for in [False, True]:\n",
    "            team = match_tools.get_match_team(match, is_for) \n",
    "            res = match_tools.get_match_result(match, is_for)\n",
    "            prev_match = match_tools.get_previous_match(df_matches, match, is_for)\n",
    "            if prev_match is None:\n",
    "                continue\n",
    "            prev_team = match_tools.get_match_team(prev_match, is_for=True)\n",
    "            prev_res = match_tools.get_match_result(prev_match, prev_team == team)\n",
    "            df.iloc[prev_res + 1, res + 1] += 1\n",
    "    # Treat each draw as half-loss, half-win\n",
    "    df = df.astype(float)\n",
    "    df.loc[LOSS,:] += 0.5 * df.loc[DRAW,:]\n",
    "    df.loc[WIN,:] += 0.5 * df.loc[DRAW,:]\n",
    "    df.drop(index=DRAW, inplace=True)\n",
    "    df[LOSS] += 0.5 * df[DRAW]\n",
    "    df[WIN] += 0.5 * df[DRAW]\n",
    "    df.drop(columns=DRAW, inplace=True)\n",
    "    wins = df[WIN]\n",
    "    losses = df[LOSS]\n",
    "    df[RATIO] = wins / (wins + losses)\n",
    "    return df"
   ]
  },
  {
   "cell_type": "code",
   "execution_count": 37,
   "id": "79333f50",
   "metadata": {},
   "outputs": [
    {
     "data": {
      "text/html": [
       "<div>\n",
       "<style scoped>\n",
       "    .dataframe tbody tr th:only-of-type {\n",
       "        vertical-align: middle;\n",
       "    }\n",
       "\n",
       "    .dataframe tbody tr th {\n",
       "        vertical-align: top;\n",
       "    }\n",
       "\n",
       "    .dataframe thead th {\n",
       "        text-align: right;\n",
       "    }\n",
       "</style>\n",
       "<table border=\"1\" class=\"dataframe\">\n",
       "  <thead>\n",
       "    <tr style=\"text-align: right;\">\n",
       "      <th></th>\n",
       "      <th>loss</th>\n",
       "      <th>win</th>\n",
       "      <th>wins_ratio</th>\n",
       "    </tr>\n",
       "  </thead>\n",
       "  <tbody>\n",
       "    <tr>\n",
       "      <th>loss</th>\n",
       "      <td>3135.75</td>\n",
       "      <td>2624.75</td>\n",
       "      <td>0.455646</td>\n",
       "    </tr>\n",
       "    <tr>\n",
       "      <th>win</th>\n",
       "      <td>2763.25</td>\n",
       "      <td>3271.25</td>\n",
       "      <td>0.542091</td>\n",
       "    </tr>\n",
       "  </tbody>\n",
       "</table>\n",
       "</div>"
      ],
      "text/plain": [
       "         loss      win  wins_ratio\n",
       "loss  3135.75  2624.75    0.455646\n",
       "win   2763.25  3271.25    0.542091"
      ]
     },
     "execution_count": 37,
     "metadata": {},
     "output_type": "execute_result"
    }
   ],
   "source": [
    "df = compute_result_ratio(df_matches)\n",
    "df"
   ]
  },
  {
   "cell_type": "code",
   "execution_count": 38,
   "id": "b7ff126f",
   "metadata": {},
   "outputs": [
    {
     "name": "stdout",
     "output_type": "stream",
     "text": [
      "Prob(loss|loss) = 0.544353788733617, Prob(win|loss) = 0.4556462112663831\n",
      "mean +/- std.err. = (0.44908438970523673, 0.4622080328275295)\n"
     ]
    }
   ],
   "source": [
    "p = df.loc[LOSS, RATIO]\n",
    "q = 1 - p\n",
    "n = df.loc[LOSS, WIN] + df.loc[LOSS, LOSS]\n",
    "se = np.sqrt(p * q / n)\n",
    "print(f\"Prob(loss|loss) = {q}, Prob(win|loss) = {p}\")\n",
    "print(f\"mean +/- std.err. = ({p-se}, {p+se})\")"
   ]
  },
  {
   "cell_type": "code",
   "execution_count": 39,
   "id": "b0d6666c",
   "metadata": {},
   "outputs": [
    {
     "name": "stdout",
     "output_type": "stream",
     "text": [
      "Prob(loss|win) = 0.45790869168945236, Prob(win|win) = 0.5420913083105476\n",
      "mean +/- std.err. = (0.5356776618042988, 0.5485049548167965)\n"
     ]
    }
   ],
   "source": [
    "p = df.loc[WIN, RATIO]\n",
    "q = 1 - p\n",
    "n = df.loc[WIN, WIN] + df.loc[WIN, LOSS]\n",
    "se = np.sqrt(p * q / n)\n",
    "print(f\"Prob(loss|win) = {q}, Prob(win|win) = {p}\")\n",
    "print(f\"mean +/- std.err. = ({p-se}, {p+se})\")"
   ]
  },
  {
   "cell_type": "markdown",
   "id": "5fbdee45",
   "metadata": {},
   "source": [
    "It would seem that there is evidence of an effect of the previous match result on the next match result."
   ]
  },
  {
   "cell_type": "markdown",
   "id": "780ceae8",
   "metadata": {},
   "source": [
    "### Seasonal comparison"
   ]
  },
  {
   "cell_type": "code",
   "execution_count": 40,
   "id": "4bc3593d",
   "metadata": {},
   "outputs": [
    {
     "name": "stdout",
     "output_type": "stream",
     "text": [
      "P(win|win): mean = 0.5422483911343658, std. dev. = 0.025016791662732314\n",
      "P(win|loss): mean = 0.45542166039153154, std. dev. = 0.02574375662287661\n"
     ]
    }
   ],
   "source": [
    "win_ratios = []\n",
    "loss_ratios = []\n",
    "\n",
    "for season in all_seasons:\n",
    "    in_season = df_matches.season == season\n",
    "    df = compute_result_ratio(df_matches[in_season])\n",
    "    win_ratios.append(df.loc[WIN, RATIO])\n",
    "    loss_ratios.append(df.loc[LOSS, RATIO])\n",
    "\n",
    "win_mu = np.mean(win_ratios)\n",
    "win_sigma = np.std(win_ratios)\n",
    "print(f\"P(win|win): mean = {win_mu}, std. dev. = {win_sigma}\")\n",
    "\n",
    "loss_mu = np.mean(loss_ratios)\n",
    "loss_sigma = np.std(loss_ratios)\n",
    "print(f\"P(win|loss): mean = {loss_mu}, std. dev. = {loss_sigma}\")"
   ]
  },
  {
   "cell_type": "code",
   "execution_count": 41,
   "id": "d686a917",
   "metadata": {},
   "outputs": [
    {
     "data": {
      "image/png": "[encoded data removed]",
      "text/plain": [
       "<Figure size 640x480 with 1 Axes>"
      ]
     },
     "metadata": {},
     "output_type": "display_data"
    }
   ],
   "source": [
    "plt.plot(all_seasons, win_ratios, 'green')\n",
    "plt.plot(all_seasons, [win_mu] * len(ratios), 'darkgrey')\n",
    "plt.plot(all_seasons, loss_ratios, 'red')\n",
    "plt.plot(all_seasons, [loss_mu] * len(ratios), 'darkgrey')\n",
    "plt.plot(all_seasons, [0.5] * len(ratios), 'black')\n",
    "plt.xlabel('season')\n",
    "plt.ylabel('wins ratio')\n",
    "plt.title('Effect of previous match result')\n",
    "plt.legend(['prev. win', 'win mean', 'prev. loss', 'loss mean', 'baseline'])\n",
    "plt.show()"
   ]
  },
  {
   "cell_type": "markdown",
   "id": "9bdffb42",
   "metadata": {},
   "source": [
    "Note that the prior probability of an arbitrary team winning an arbitrary match is 0.5. Hence, we have\n",
    "$P(\\texttt{win}_\\texttt{cur})=P(\\texttt{loss}_\\texttt{cur})=0.5$ and \n",
    "$P(\\texttt{win}_\\texttt{prev})=P(\\texttt{loss}_\\texttt{prev})=0.5$. However, the model also gives us\n",
    "\\begin{eqnarray}\n",
    "P(\\texttt{win}_\\texttt{cur}) & = & \n",
    "P(\\texttt{win}_\\texttt{cur}\\mid\\texttt{win}_\\texttt{prev})\\,P(\\texttt{win}_\\texttt{prev})\n",
    "+P(\\texttt{win}_\\texttt{cur}\\mid\\texttt{loss}_\\texttt{prev})\\,P(\\texttt{loss}_\\texttt{prev})\n",
    "\\,,\n",
    "\\end{eqnarray}\n",
    "which implies that\n",
    "\\begin{eqnarray}\n",
    "P(\\texttt{win}_\\texttt{cur}\\mid\\texttt{win}_\\texttt{prev})+P(\\texttt{win}_\\texttt{cur}\\mid\\texttt{loss}_\\texttt{prev})\n",
    "& = & 1\\,.\n",
    "\\end{eqnarray}\n",
    "This identity is demonstrated by the results shown in the graph above, where the red curve (for a previous loss)\n",
    "is the mirror image of the red curve (for a previous win)."
   ]
  },
  {
   "cell_type": "markdown",
   "id": "4f1c3a26",
   "metadata": {},
   "source": [
    "### Bernoulli regression"
   ]
  },
  {
   "cell_type": "markdown",
   "id": "6031bfd7",
   "metadata": {},
   "source": [
    "For a one-team logistic model, the previous identity becomes\n",
    "\\begin{eqnarray}\n",
    "\\sigma(\\alpha+\\beta\\,x_\\texttt{win})+\\sigma(\\alpha+\\beta\\,x_\\texttt{loss}) & ~=~ & 1\\,,\n",
    "\\end{eqnarray}\n",
    "which must hold in general for arbitrary $\\alpha$ and $\\beta$. The simplest solution is to choose\n",
    "$\\alpha=0$ (see below), with $x_\\texttt{loss}=-x_\\texttt{win}$.\n",
    "Consequently, the encoded result of the previous match, namely \n",
    "$x_A=+1$ for a win, and $x_A=-1$ for a loss, can be directly used as a feature in the one-team logistic model. We choose $x_A=0$ for a draw.\n",
    "\n",
    "Note that we have chosen not fit an intercept. This may be justified on theoretical grounds.\n",
    "If we do not yet know if a team won or lost its previous match, then we should give each possibility an equal prior weight, such that $\\mathbb{E}[x_A]=0$. \n",
    "Note that the prior probability of a draw has no effect, since we chose $x_A=0$ in this case for consistency. Hence, a draw is taken to mean that we have no evidence for or against the team in regards to winning the next match.\n",
    "\n",
    "In practice, there is no constraint that each team must have won and lost exactly half each of its previous matches. However, as we shall see below, empircally we do have $\\langle x_A\\rangle\\approx 0$, anyway.\n",
    "Thus, we do not need an intercept on practical grounds, as well as on theoretical grounds."
   ]
  },
  {
   "cell_type": "code",
   "execution_count": 42,
   "id": "adf3eb17",
   "metadata": {},
   "outputs": [],
   "source": [
    "Y = []\n",
    "X_home = []\n",
    "X_prev = []\n",
    "\n",
    "for season in all_seasons:\n",
    "    df_season = df_minor[df_minor.season == season]\n",
    "    for match in df_season.itertuples():\n",
    "        for is_for in [False, True]:\n",
    "            team = match_tools.get_match_team(match, is_for) \n",
    "            res = match_tools.get_match_result(match, is_for)\n",
    "            prev_match = match_tools.get_previous_match(df_season, match, is_for)\n",
    "            if prev_match is None:\n",
    "                continue\n",
    "            prev_team = match_tools.get_match_team(prev_match, is_for=True)\n",
    "            prev_res = match_tools.get_match_result(prev_match, prev_team == team)\n",
    "            y = 0.5 * (1 + res)\n",
    "            Y.append(y)\n",
    "            x_prev = 1.0 * prev_res\n",
    "            X_prev.append(x_prev)\n",
    "            cur_home = match_tools.get_match_home(match, is_for)\n",
    "            x_home = 2.0 * cur_home - 1\n",
    "            X_home.append(x_home)\n",
    "\n",
    "Y = np.array(Y)\n",
    "X_prev = np.array(X_prev)\n",
    "X_home = np.array(X_home)"
   ]
  },
  {
   "cell_type": "code",
   "execution_count": 43,
   "id": "343f1720",
   "metadata": {},
   "outputs": [
    {
     "name": "stdout",
     "output_type": "stream",
     "text": [
      "Fit: (-0.6884441239367258, 3, 2.234223672736846e-08)\n",
      "Params: [0.19529063]\n"
     ]
    }
   ],
   "source": [
    "phi = np.array([1.0])\n",
    "bd = BernoulliRegression(phi)\n",
    "Z = no_intercept(X_prev)\n",
    "print('Fit:', bd.fit(Y, Z))\n",
    "print('Params:', bd.regression_parameters())"
   ]
  },
  {
   "cell_type": "code",
   "execution_count": 44,
   "id": "d16c3cba",
   "metadata": {},
   "outputs": [
    {
     "name": "stdout",
     "output_type": "stream",
     "text": [
      "Means: [0.54866808 0.45133192]\n"
     ]
    }
   ],
   "source": [
    "Z_test = np.array([[1], [-1]])\n",
    "print('Means:', bd.distribution(Z_test).mean())"
   ]
  },
  {
   "cell_type": "code",
   "execution_count": 45,
   "id": "d48bf9c4",
   "metadata": {},
   "outputs": [
    {
     "data": {
      "text/plain": [
       "-9.136592051164915e-05"
      ]
     },
     "execution_count": 45,
     "metadata": {},
     "output_type": "execute_result"
    }
   ],
   "source": [
    "np.mean(X_prev)"
   ]
  },
  {
   "cell_type": "markdown",
   "id": "5ef5c02d",
   "metadata": {},
   "source": [
    "As discussed above, observe that the mean of the covariate is close to zero, indicating that we do not need an intercept term in the regression model."
   ]
  },
  {
   "cell_type": "markdown",
   "id": "d6c297ad",
   "metadata": {},
   "source": [
    "## Gaps between matches"
   ]
  },
  {
   "cell_type": "markdown",
   "id": "62db1a4d",
   "metadata": {},
   "source": [
    "When considering the minor rounds of AFL matches, sometimes a team will not play a match for a round, effectively having a week off. This is known as a '*bye*'. Note that it is possible (but unusual) for a team to have byes for two consecutive rounds.\n",
    "\n",
    "There are several competing hypotheses regarding byes. One hypothesis is that a bye has a positive effect, for example the team will have a rest and come back stronger the next week. Another hypothesis is that a bye has a negative effect, with the gap disrupting momentum, for example by breaking a winning streak. The *null* hypothesis is that a bye has no effect. "
   ]
  },
  {
   "cell_type": "markdown",
   "id": "326f3f45",
   "metadata": {},
   "source": [
    "### Evidence of an effect"
   ]
  },
  {
   "cell_type": "markdown",
   "id": "ada700e3",
   "metadata": {},
   "source": [
    "Firstly, we look at whether a bye in the previous round has an influence on the match result of the following round."
   ]
  },
  {
   "cell_type": "code",
   "execution_count": 46,
   "id": "1d348468",
   "metadata": {},
   "outputs": [],
   "source": [
    "index_map = {'L': 0, 'D': 1, 'W': 2}\n",
    "counts = [0] * len(index_map)\n",
    "for sequence in df_sequences.sequence:\n",
    "    _iter = iter(sequence)\n",
    "    prev = next(_iter)\n",
    "    for cur in _iter:\n",
    "        if prev == 'B' and cur != 'B':\n",
    "            counts[index_map[cur]] += 1\n",
    "        prev = cur"
   ]
  },
  {
   "cell_type": "code",
   "execution_count": 47,
   "id": "2edbee71",
   "metadata": {},
   "outputs": [
    {
     "name": "stdout",
     "output_type": "stream",
     "text": [
      "Previous round vs current round\n",
      "     loss  draw  win\n",
      "bye   177     3  168\n",
      "\n",
      "Prob(loss|bye) = 0.5129310344827587, Prob(win|bye) = 0.4870689655172414\n",
      "mean +/- std.err. = (0.46027511713104374, 0.513862813903439)\n"
     ]
    }
   ],
   "source": [
    "counts = np.array(counts).reshape((1, -1))\n",
    "df = pd.DataFrame(counts, columns=[LOSS, DRAW, WIN], index=['bye'])\n",
    "print(\"Previous round vs current round\")\n",
    "print(df)\n",
    "\n",
    "adj_losses = counts[0,0] + 0.5 * counts[0,1]\n",
    "adj_wins = counts[0,2] + 0.5 * counts[0,1]\n",
    "\n",
    "n = adj_wins + adj_losses\n",
    "p = adj_wins / n\n",
    "q = 1 - p\n",
    "se = np.sqrt(p * q / n)\n",
    "print()\n",
    "print(f\"Prob(loss|bye) = {q}, Prob(win|bye) = {p}\")\n",
    "print(f\"mean +/- std.err. = ({p-se}, {p+se})\")"
   ]
  },
  {
   "cell_type": "markdown",
   "id": "b0dd75c5",
   "metadata": {},
   "source": [
    "It would appear that a bye doesn't really have much of an effect on the next match result. So now we turn to examining the effect a bye has on breaking a streak. Rather than pursue a full sequence analysis here, we merely\n",
    "look at the relationship between the match before a bye and the match after the bye.\n",
    "For convenience, we neglect cases with consecutive byes."
   ]
  },
  {
   "cell_type": "code",
   "execution_count": 48,
   "id": "a0fd340d",
   "metadata": {},
   "outputs": [],
   "source": [
    "n = len(index_map)\n",
    "counts = np.zeros((n, n), dtype=int)\n",
    "for sequence in df_sequences.sequence:\n",
    "    _iter = iter(sequence)\n",
    "    first = next(_iter)\n",
    "    second = next(_iter)\n",
    "    for third in _iter:\n",
    "        if second == 'B' and first != 'B' and third != 'B':\n",
    "            i = index_map[first]\n",
    "            j = index_map[third]\n",
    "            counts[i,j] += 1\n",
    "        first, second = second, third"
   ]
  },
  {
   "cell_type": "code",
   "execution_count": 49,
   "id": "84b6970c",
   "metadata": {},
   "outputs": [
    {
     "name": "stdout",
     "output_type": "stream",
     "text": [
      "previous result vs following result\n",
      "      loss  draw  win\n",
      "loss    80     2   76\n",
      "draw     1     0    0\n",
      "win     88     1   82\n"
     ]
    }
   ],
   "source": [
    "df = pd.DataFrame(counts, columns=[LOSS, DRAW, WIN], index=[LOSS, DRAW, WIN])\n",
    "print(\"previous result vs following result\")\n",
    "print(df)"
   ]
  },
  {
   "cell_type": "markdown",
   "id": "6c382e1b",
   "metadata": {},
   "source": [
    "Once again, there does not seem to be much evidence of an effect, due partly to the fact that byes are relatively rare."
   ]
  },
  {
   "cell_type": "markdown",
   "id": "7ed95500",
   "metadata": {},
   "source": [
    "## Previous wins ratio"
   ]
  },
  {
   "cell_type": "markdown",
   "id": "772359df",
   "metadata": {},
   "source": [
    "In a [previous](#Previous-match-result \"Section: Previous match result\") section,\n",
    "we looked at the effect that winning or losing the previous match had on predicting the outcome of the current match.\n",
    "Here we instead consider all previous matches in the season (ignoring byes), and look at the adjusted proportion of wins as a possible predictive measure. \n",
    "\n",
    "There are several issues which arise when estimating averages from a sequence of observations.\n",
    "One issue involves temporal heterogeneity, i.e. are all observations drawn from the same distribution?\n",
    "We make the simplifying assumption that each team has some underlying but unknown level $\\theta$ of performance that remains constant within each season, but which may vary between seasons.\n",
    "Hence, we assume each match result is the outcome of a Bernoulli process with probability\n",
    "$\\theta$ of a win.\n",
    "\n",
    "Another issue arises when the sequence grows in length over time. What is the correct estimate\n",
    "when a sequence is initially empty? How do we prevent a large discontinuity when the first observation\n",
    "becomes known?\n",
    "To help ameliorate this problem, we *backoff* the initial estimate with a *prior* estimate, and \n",
    "*smooth* subsequent estimates with the same prior value. We could use a Laplacian prior, which essentially assumes two previous matches, namely a win and a loss. Alternatively, we could use the team's match proportions from the previous season, equivalent to a single prior match. However, for simplicty we here assume a single drawn match for each team at the start of each season.\n",
    "Thus, if a team has not yet played any previous matches in the current season, then a prior wins ratio of 0.5 (i.e. a draw) is assumed by default (*backoff*). This prior value is then added as a pseudo-observation to all actual observations before averaging (*smoothing*).\n",
    "Consequently, if team A has already won $w$ matches and lost $\\ell=n-w$ matches, then the smoothed\n",
    "proportion of wins\n",
    "is just the feature $x_A=\\frac{w+0.5}{n+1}$. Note that this is exactly the form of\n",
    "the [predictive distribution](D_distributions.ipynb#Bernoulli-predictive-distribution\n",
    "\"Appendix D: Bernoulli predictive distribution\") of a Bernoulli outcome assuming a \n",
    "[Jeffreys' prior](#Bernoulli-prior-distribution \"Appendix D: Bernoulli prior distribution\") on the\n",
    "parameter $\\theta$.\n",
    "\n",
    "The last issue of concern here is also due to the sequence of observations growing in length\n",
    "as the season progresses. As noted above, if we assume temporal homogeneity, then we anticipate\n",
    "that the sequence average will eventually tend towards the underlying team performance (assuming unbiased estimates). Thus, the reliability of each estimated proportion of wins improves over time.\n",
    "Conversely, early estimates are unreliable. How do we account for the reliability of each estimate?\n",
    "\n",
    "If we observe $w$ wins in $n$ consecutive matches, then the success proportion\n",
    "$\\frac{w}{n}$ will have mean $\\theta$ and variance $\\frac{\\theta\\,(1-\\theta)}{n}$. Since we do not know $\\theta$, we see that a maximum variance \n",
    "of $\\frac{1}{4n}$ occurs for $\\theta=0.5$. Consequently, we may follow the \n",
    "weighted least squares (WLS)\n",
    "approach by weighting each estimate in inverse proportion to its variance, namely the number $n$ of matches used to compute the estimate. Note that the prior pseudo-match is technically not drawn stochastically from the Bernoulli distribution.  However, if we do not include it then\n",
    "we cannot fit the results of the first match for each team in each season.\n",
    "Consequently, we take the weight of feature $x_A$, derived from $n$ observed matches, to be $n+1$."
   ]
  },
  {
   "cell_type": "markdown",
   "id": "4a6b20ef",
   "metadata": {},
   "source": [
    "### Evidence of an effect"
   ]
  },
  {
   "cell_type": "code",
   "execution_count": 50,
   "id": "7288a310",
   "metadata": {},
   "outputs": [],
   "source": [
    "def get_adjusted_wins(match, is_for):\n",
    "    # Obtain match result as a Bernoulli value\n",
    "    res = match_tools.get_match_result(match, is_for)\n",
    "    return 0.5 * (res + 1)"
   ]
  },
  {
   "cell_type": "code",
   "execution_count": 51,
   "id": "baea0cf4",
   "metadata": {},
   "outputs": [],
   "source": [
    "def get_prev_wins_ratio(match, is_for):\n",
    "    features = match_tools.get_match_features(df_within, match, is_for)\n",
    "    if features is None:\n",
    "        # Assume a prior 'draw' with a pseudo-count of 1 observation\n",
    "        return 0.5, 1\n",
    "    # Smooth actual observations with pseudo-count\n",
    "    wins = 0.5 + features.wins + 0.5 * features.draws\n",
    "    losses = 0.5 + features.losses + 0.5 * features.draws\n",
    "    n = wins + losses\n",
    "    return wins / n, n"
   ]
  },
  {
   "cell_type": "code",
   "execution_count": 52,
   "id": "e1f4b207",
   "metadata": {},
   "outputs": [],
   "source": [
    "cur_wins = []\n",
    "prev_wins_ratios = []\n",
    "num_samples = []\n",
    "for match in df_matches.itertuples():\n",
    "    for is_for in [False, True]:\n",
    "        cur_res = get_adjusted_wins(match, is_for)\n",
    "        cur_wins.append(cur_res)\n",
    "        wins_ratio, n = get_prev_wins_ratio(match, is_for)\n",
    "        prev_wins_ratios.append(wins_ratio)\n",
    "        num_samples.append(n)"
   ]
  },
  {
   "cell_type": "markdown",
   "id": "5b0a6022",
   "metadata": {},
   "source": [
    "In order to help our visual analysis of the data, we shall partition the covariate into bins and computed weighted means and standard errors in each bin for the response variate and the covariate. Since the standard error depends on the number of samples in each bin, we aggregate small bins until we have at least 10 samples per bin."
   ]
  },
  {
   "cell_type": "code",
   "execution_count": 53,
   "id": "6c7863d5",
   "metadata": {},
   "outputs": [],
   "source": [
    "def weighted_bin_stats(bins):\n",
    "    n_points = []\n",
    "    x_means = []\n",
    "    y_means = []\n",
    "    y_vars = []\n",
    "\n",
    "    for i in range(len(bins)):\n",
    "        bin_data = bins[i]\n",
    "        if len(bin_data) == 0:\n",
    "            continue\n",
    "        X = bin_data[:,0]\n",
    "        Y = bin_data[:,1]\n",
    "        weights = bin_data[:,2]\n",
    "        n_points.append(len(X))\n",
    "        x_means.append(stats_tools.weighted_mean(weights, X))\n",
    "        y_means.append(stats_tools.weighted_mean(weights, Y))\n",
    "        y_vars.append(stats_tools.weighted_var(weights, Y))\n",
    "\n",
    "    n_points = np.array(n_points)\n",
    "    x_means = np.array(x_means)\n",
    "    y_means = np.array(y_means)\n",
    "    y_vars = np.array(y_vars)\n",
    "    return n_points, x_means, y_means, y_vars"
   ]
  },
  {
   "cell_type": "code",
   "execution_count": 54,
   "id": "aa42058b",
   "metadata": {},
   "outputs": [],
   "source": [
    "def weighted_plot(X, Y, weights=None):\n",
    "    if weights is None:\n",
    "        weights = np.ones(len(X))\n",
    "    data = np.column_stack([X, Y, weights])\n",
    "    bins = stats_tools.partition_points(data)\n",
    "    bins = stats_tools.aggregate_bins(bins)\n",
    "    n_points, x_means, y_means, y_vars = weighted_bin_stats(bins)\n",
    "    y_se = np.sqrt(y_vars / n_points)\n",
    "\n",
    "    plt.plot(data[:,0], data[:,1], 'b.')\n",
    "    plt.plot(x_means, [np.mean(Y)] * len(x_means), 'r')\n",
    "    plt.plot(x_means, y_means, 'k')\n",
    "    plt.plot(x_means, 2 * y_se + y_means, 'darkgrey')\n",
    "    plt.plot(x_means, -2 * y_se + y_means, 'darkgrey')\n",
    "    plt.legend(['result', 'baseline', 'mean', '+/-2 std.err.'])\n",
    "\n",
    "    return data, (n_points, x_means, y_means, y_se)"
   ]
  },
  {
   "cell_type": "code",
   "execution_count": 55,
   "id": "c24ee8ce",
   "metadata": {},
   "outputs": [
    {
     "data": {
      "image/png": "[encoded data removed]",
      "text/plain": [
       "<Figure size 640x480 with 1 Axes>"
      ]
     },
     "metadata": {},
     "output_type": "display_data"
    }
   ],
   "source": [
    "data, stats = weighted_plot(prev_wins_ratios, cur_wins, num_samples)\n",
    "plt.xlabel('wins ratio (previous)')\n",
    "plt.ylabel('wins ratio (current)')\n",
    "plt.title('Effect of previous wins ratio')\n",
    "plt.show()"
   ]
  },
  {
   "cell_type": "markdown",
   "id": "baa77c04",
   "metadata": {},
   "source": [
    "We observe that there seems to be a positive correlation between the previous wins ratio and the probability of\n",
    "winning the current match. We also see that the previous wins ratio is less trustworthy at the extremes.\n",
    "Finally, note that the 'bumps' around 0.2 and 0.8 might be related to the prior smoothing. For example, consider the first match for a team in any season. If the team wins, then the wins ratio will be smoothed to \n",
    "$\\frac{0.5+1}{1+1}=0.75$. However, if the team loses then the smoothed estimate will be \n",
    "$\\frac{0.5+0}{1+1}=0.25$."
   ]
  },
  {
   "cell_type": "markdown",
   "id": "a61c3644",
   "metadata": {},
   "source": [
    "### Bernoulli regression"
   ]
  },
  {
   "cell_type": "markdown",
   "id": "e26e40e0",
   "metadata": {},
   "source": [
    "We now fit a Bernoulli regression model to the data. However, since we have computed weights for the covariate\n",
    "(i.e. the previous wins ratio) that indicate the reliability of each estimate, we will use these weights in the regression model.\n",
    "\n",
    "Let $x_A$ be the proportion of previous wins for team A. We note that if $x_A=0.5$, then team A must have won and lost equal numbers of previous matches. In this case, we have no evidence for or against team A winning its next match, which is why we also chose the prior value to be 0.5. Consequently, we suppose that $p_A=0.5$ in\n",
    "this case. Hence, the one-team model $p_A=\\sigma(\\alpha+\\beta\\,x_A)$ should produce parameter estimates for which $\\alpha\\approx-\\frac{1}{2}\\beta$."
   ]
  },
  {
   "cell_type": "code",
   "execution_count": 56,
   "id": "43f480bd",
   "metadata": {},
   "outputs": [],
   "source": [
    "X = data[:,0]  # covariate\n",
    "Y = data[:,1]  # variate\n",
    "W = data[:,2]  # weights"
   ]
  },
  {
   "cell_type": "code",
   "execution_count": 57,
   "id": "93f2565d",
   "metadata": {},
   "outputs": [
    {
     "name": "stdout",
     "output_type": "stream",
     "text": [
      "Fit: (-0.664623578553471, 3, 2.723036240936949e-10)\n",
      "Params: [-1.33981578  2.59326743]\n"
     ]
    }
   ],
   "source": [
    "phi = np.array([1e-3, 1.0])\n",
    "bd = BernoulliRegression(phi)\n",
    "Z = add_intercept(X)\n",
    "print('Fit:', bd.fit(Y, Z, W))\n",
    "print('Params:', bd.regression_parameters())"
   ]
  },
  {
   "cell_type": "markdown",
   "id": "b405f0fe",
   "metadata": {},
   "source": [
    "We see that, as expected, the intercept $\\alpha$ is about negative half of the slope $\\beta$.\n",
    "This implies that we may standardise the feature $x_A\\in[0,1]$ into $x_A'=2x_A-1\\in[-1,1]$, such that\n",
    "now $x'_A=0$ implies no evidence. The corresponding model is then $p_A=\\sigma(\\beta'\\,x_A')$ with slope \n",
    "$\\beta'=\\frac{1}{2}\\beta$ and no intercept, i.e. $\\alpha'=0$."
   ]
  },
  {
   "cell_type": "code",
   "execution_count": 58,
   "id": "2162fba1",
   "metadata": {},
   "outputs": [
    {
     "name": "stdout",
     "output_type": "stream",
     "text": [
      "Fit: (-0.664841635155823, 2, 8.262757501542595e-07)\n",
      "Params: [1.28540412]\n"
     ]
    }
   ],
   "source": [
    "phi = np.array([1.0])\n",
    "bd = BernoulliRegression(phi)\n",
    "Z = no_intercept(2 * X - 1)\n",
    "print('Fit:', bd.fit(Y, Z, W))\n",
    "print('Params:', bd.regression_parameters())"
   ]
  },
  {
   "cell_type": "markdown",
   "id": "261d57c1",
   "metadata": {},
   "source": [
    "As an alternative to directly using the proportion $x_A$, we might instead choose to take the logit transformation, giving rise to the new feature \n",
    "$y_A=\\sigma^{-1}(x_A)$. In this case, the one-team model should be $p_A=\\sigma(\\beta\\,y_A)$\n",
    "with intercept $\\alpha=0$, in order to preserve $p_A=0.5$ for $x_A=0.5$ and thus $y_A=0$."
   ]
  },
  {
   "cell_type": "code",
   "execution_count": 59,
   "id": "d35780e7",
   "metadata": {},
   "outputs": [
    {
     "name": "stdout",
     "output_type": "stream",
     "text": [
      "Fit: (-0.665457081725901, 3, 6.670245517037543e-07)\n",
      "Params: [0.53638388]\n"
     ]
    }
   ],
   "source": [
    "phi = np.array([1.0])\n",
    "bd2 = BernoulliRegression(phi)\n",
    "Z = no_intercept(logit(X))\n",
    "print('Fit:', bd2.fit(Y, Z, W))\n",
    "print('Params:', bd2.regression_parameters())"
   ]
  },
  {
   "cell_type": "markdown",
   "id": "e46065f9",
   "metadata": {},
   "source": [
    "Observe that since $\\beta\\approx 0.54<1$, there appears to be a mean-reversion effect, indicating that the previous logit wins ratio tends to over- or under-estimate the result of the following match."
   ]
  },
  {
   "cell_type": "markdown",
   "id": "ddbfd708",
   "metadata": {},
   "source": [
    "Let us now see what these models look like graphically."
   ]
  },
  {
   "cell_type": "code",
   "execution_count": 60,
   "id": "4e370f84",
   "metadata": {},
   "outputs": [],
   "source": [
    "x_means = stats[1]\n",
    "x_values = np.linspace(min(x_means), max(x_means), 100)\n",
    "z_values = no_intercept(2 * x_values - 1)\n",
    "y_preds = bd.distribution(z_values).mean()"
   ]
  },
  {
   "cell_type": "code",
   "execution_count": 61,
   "id": "8ce65350",
   "metadata": {},
   "outputs": [],
   "source": [
    "z_values = no_intercept(logit(x_values))\n",
    "y_preds2 = bd2.distribution(z_values).mean()"
   ]
  },
  {
   "cell_type": "code",
   "execution_count": 62,
   "id": "37138934",
   "metadata": {},
   "outputs": [
    {
     "data": {
      "image/png": "[encoded data removed]",
      "text/plain": [
       "<Figure size 640x480 with 1 Axes>"
      ]
     },
     "metadata": {},
     "output_type": "display_data"
    }
   ],
   "source": [
    "y_means = stats[2]\n",
    "y_se = stats[3]\n",
    "\n",
    "plt.plot(x_values, y_preds, 'g')\n",
    "plt.plot(x_values, y_preds2, 'r')\n",
    "plt.plot(x_means, y_means, 'k')\n",
    "plt.plot(x_means, 2 * y_se + y_means, 'darkgrey')\n",
    "plt.plot(x_means, -2 * y_se + y_means, 'darkgrey')\n",
    "plt.xlabel('wins ratio (previous)')\n",
    "plt.ylabel('wins ratio (current)')\n",
    "plt.title('Regression models of wins ratio')\n",
    "plt.legend(['proportion', 'logit', 'mean', '+/-2 std.err.'])\n",
    "plt.show()"
   ]
  },
  {
   "cell_type": "markdown",
   "id": "43ee8286",
   "metadata": {},
   "source": [
    "It is unclear which model is preferable. Visually, the proportional model looks like it fits the emprical means better than the logit model, but both models are within the standard error bounds, apart from at the 'bumps'.\n",
    "The main difference appears to be that the logit model gives more extreme predictions at the ends of the covariate interval. However, it is precisely at these limits that there are the fewest observations and the greatest uncertainty. Consequently, either model might be acceptable in practice."
   ]
  },
  {
   "cell_type": "markdown",
   "id": "c6f91c01",
   "metadata": {},
   "source": [
    "## Previous points ratio"
   ]
  },
  {
   "cell_type": "markdown",
   "id": "f627df3a",
   "metadata": {},
   "source": [
    "As noted \n",
    "[earlier](#One-team-vs-two-team-modelling \"Section: One-team vs two-team modelling\"),\n",
    "the points ratio for team A in a single match against team B is given by\n",
    "\\begin{eqnarray}\n",
    "p_A & = & \\frac{f_A}{f_A+f_B}~=~\\frac{f_A}{f_A+a_A}\\,,\n",
    "\\end{eqnarray}\n",
    "where $f_A=a_B$ is the number of points scored by team A against team B, and $f_B=a_A$ is the number of points scored \n",
    "by team B against team A.\n",
    "Now, taking the logit transform, we observe that\n",
    "\\begin{eqnarray}\n",
    "\\sigma^{-1}(p_A) &~=~& \\ln\\left[\\frac{p_A}{1-p_A}\\right]~=~\\ln f_A-\\ln f_B~=~\\ln f_A-\\ln a_A\\,.\n",
    "\\end{eqnarray}\n",
    "To interpret this relation, we note that if team A has a strong offense then we would expect them to score a relatively high number $f_A$ of points against their opponent (team B) Hence, $\\ln f_A$ is an indirect measure of team A's offensive strength,\n",
    "since it increases as $f_A$ increases. Similarly, if team A has a strong defense, then we would expect them to have a relatively low number $a_A$ of points scored against them.\n",
    "Hence, $-\\ln a_A$ is an indirect measure of team A's defensive strength, since it increases as $a_A$ decreases.\n",
    "The sum of the offensive strength and the defensive strength gives a total, *effective* strength. Note that this effective strength is just $\\ln f_A-\\ln f_B$, and so it is relative to team B's effective strength of $\\ln f_B-\\ln a_B$."
   ]
  },
  {
   "cell_type": "markdown",
   "id": "0fdbaacd",
   "metadata": {},
   "source": [
    "Next we turn to the points ratio from previous matches as a pontential predictor for $p_A$.\n",
    "Supoose that team A has played $n_A$ previous matches in the current season, and has so far scored a total of $F_A$ points,\n",
    "and had a total for $A_A$ points scored against them. Firstly, we need to allow for the case of $n_A=0$ previous matches.\n",
    "To do so, we assume a single, prior pseudo-match in which both opposing teams scored some fictional number $f_0$ of points,\n",
    "and we smooth the observed points scored.\n",
    "We shall derive a value for $f_0$ is the [following](#Prior-points-scored \"Section: Prior points scored\") section. \n",
    "Secondly, to provide scores comparable to $f_A$ and\n",
    "$a_A$, we compute the per-match averaged scores as\n",
    "\\begin{eqnarray}\n",
    "\\bar{f}_A~\\doteq~\\frac{f_0+F_A}{1+n_A}\\,, &\\;\\;\\;\\; & \\bar{a}_A~\\doteq~\\frac{f_0+A_A}{1+n_A}\\,,\n",
    "\\end{eqnarray}\n",
    "respectively. The previous points ratio is then defined as\n",
    "\\begin{eqnarray}\n",
    "x_A &~\\doteq~& \\frac{\\bar{f}_A}{\\bar{f}_A+\\bar{a}_A}\\,.\n",
    "\\end{eqnarray}\n",
    "We may interpret this as saying that in a match between team A and some arbitrary opponent, if some total number \n",
    "$S=f_A+a_A$ of \n",
    "points is scored in the match, then we expect $S\\,x_A$ of those points to be\n",
    "scored by team A. Thus, if $x_A>0.5$, we expect team A to be more likely to win the match than lose it. The actual value of $x_A$ indicates our confidence in this prediction.\n",
    "\n",
    "Finally, note that the logit transform of this points ratio gives\n",
    "\\begin{eqnarray}\n",
    "y_A &~\\doteq~& \\sigma^{-1}(x_A)~=~\\ln\\bar{f}_A-\\ln\\bar{a}_A~=~(\\ln\\bar{f}_A-\\ln f_0)+(\\ln f_0-\\ln\\bar{a}_A)\\,,\n",
    "\\end{eqnarray}\n",
    "such that the last two terms measure the offensive and defensive strengths of team A, respectively, relative to the\n",
    "prior score $f_0$, and their sum estimates the total effective strength of team A.\n",
    "\n",
    "Returning to the current match between teams A and B, we may suppose that the stronger team B's defense, the fewer points team A will manage to score against them. Hence, we deduce that the expected strength of team A is related to\n",
    "the difference between team A's offsensive strength and team B's defensive strength, namely\n",
    "\\begin{eqnarray}\n",
    "\\ln\\hat{f}_A & ~\\doteq~ &\n",
    "%\\mathbb{E}[\\ln f_A] ~=~ \n",
    "\\ln f_0+(\\ln\\bar{f}_A-\\ln f_0)-(\\ln f_0-\\ln\\bar{a}_B)~=~\\ln\\bar{f}_A+\\ln\\bar{a}_B-\\ln f_0\\,.\n",
    "\\end{eqnarray}\n",
    "Similarly, we have\n",
    "\\begin{eqnarray}\n",
    "\\ln\\hat{f}_B & ~\\doteq~ &\n",
    "%\\mathbb{E}[\\ln f_B] ~=~ \n",
    "\\ln f_0+(\\ln\\bar{f}_B-\\ln f_0)-(\\ln f_0-\\ln\\bar{a}_A)~=~\\ln\\bar{f}_B+\\ln\\bar{a}_A-\\ln f_0\\,,\n",
    "\\end{eqnarray}\n",
    "for team B's estimated effective strength.\n",
    "Consequently, we find (via rearrangement of terms) that\n",
    "\\begin{eqnarray}\n",
    "\\ln\\hat{f}_A-\\ln\\hat{f}_B & ~\\equiv~ &\n",
    "(\\ln\\bar{f}_A-\\ln\\bar{a}_A)-(\\ln\\bar{f}_B-\\ln\\bar{a}_B)~=y_A-y_B\\,.\n",
    "\\end{eqnarray}\n",
    "Now, defining the expected points ratio as\n",
    "\\begin{eqnarray}\n",
    "\\hat{x}_A & ~\\doteq~ & \\frac{\\hat{f}_A}{\\hat{f}_A+\\hat{f}_B}\\,,\n",
    "\\end{eqnarray}\n",
    "we observe (via the logit transform) that the above relation reduces to\n",
    "\\begin{eqnarray}\n",
    "\\sigma^{-1}(\\hat{x}_A) & = & \\sigma^{-1}(x_A)-\\sigma^{-1}(x_B)\\,.\n",
    "\\end{eqnarray}\n",
    "Observe that this is just a two-team logistic model that contrasts the total effective strengths of teams A and B."
   ]
  },
  {
   "cell_type": "markdown",
   "id": "d5477735",
   "metadata": {},
   "source": [
    "### Prior points scored"
   ]
  },
  {
   "cell_type": "markdown",
   "id": "c59accad",
   "metadata": {},
   "source": [
    "As discussed [above](#Previous-points-ratio \"Section: Previous points ratio\"), \n",
    "we smooth the observed number of points scored per match to allow for a prior value when no previous matches\n",
    "have yet been played. What is a suitable prior number $f_0$ of points?\n",
    "In order to decide this, we examine the distribution of the number of points per team per match.\n",
    "\n",
    "Note that we usually assume, for convenience, that the length of every match is approximately the same, i.e.\n",
    "about 20 minutes each for the four quarters of a match.\n",
    "However, it must be noted that prior to 1994, the time was actually 25 minutes per quarter.\n",
    "Also, due to the outbreak of Covid in 2020, the time was reduced for that season to only 16 minutes per quarter.\n",
    "Consequently, we need to adjust the pre-1994 and the 2020 season results to standardise the unit of time."
   ]
  },
  {
   "cell_type": "code",
   "execution_count": 63,
   "id": "02c79873",
   "metadata": {},
   "outputs": [],
   "source": [
    "from scipy import stats as sci_stats"
   ]
  },
  {
   "cell_type": "code",
   "execution_count": 64,
   "id": "4ef096ff",
   "metadata": {
    "scrolled": false
   },
   "outputs": [],
   "source": [
    "Y = []\n",
    "for match in df_matches.itertuples():\n",
    "    for y in [match.for_total_score, match.against_total_score]:\n",
    "        if match.season == 2020:\n",
    "            y *= 20 / 16\n",
    "        elif match.season < 1994:\n",
    "            y *= 20 / 25\n",
    "        Y.append(y)\n",
    "df = pd.DataFrame({'points': Y})"
   ]
  },
  {
   "cell_type": "code",
   "execution_count": 65,
   "id": "2cc872bd",
   "metadata": {},
   "outputs": [],
   "source": [
    "alpha, loc, beta = sci_stats.gamma.fit(Y)\n",
    "x_values = np.linspace(min(Y), max(Y), 100)\n",
    "y_values = sci_stats.gamma.pdf(x_values, alpha, loc=loc, scale=beta)"
   ]
  },
  {
   "cell_type": "code",
   "execution_count": 66,
   "id": "5969893e",
   "metadata": {},
   "outputs": [
    {
     "data": {
      "image/png": "[encoded data removed]",
      "text/plain": [
       "<Figure size 640x480 with 1 Axes>"
      ]
     },
     "metadata": {},
     "output_type": "display_data"
    }
   ],
   "source": [
    "res = df.hist(bins=20, density=True)\n",
    "ax = res[0][0]\n",
    "res = ax.plot(x_values, y_values, 'r')"
   ]
  },
  {
   "cell_type": "markdown",
   "id": "91652622",
   "metadata": {},
   "source": [
    "It would seem that the total number of points per team per match appears to follow a Gamma distribution. "
   ]
  },
  {
   "cell_type": "code",
   "execution_count": 67,
   "id": "39b9201a",
   "metadata": {},
   "outputs": [
    {
     "name": "stdout",
     "output_type": "stream",
     "text": [
      "points score: mean=89.89792139384117, mode=100.0, min=12.8, max=233.0\n"
     ]
    }
   ],
   "source": [
    "print(f\"points score: mean={np.mean(Y)}, mode={sci_stats.mode(Y)[0]}\", end=\", \")\n",
    "print(f\"min={np.min(Y)}, max={np.max(Y)}\")"
   ]
  },
  {
   "cell_type": "markdown",
   "id": "5ad7f6bb",
   "metadata": {},
   "source": [
    "Observe that the expected number of points per team per match is around 90.\n",
    "We could therefore take this as the prior score of the pseudo-match for each team at the start of each season."
   ]
  },
  {
   "cell_type": "markdown",
   "id": "5950c813",
   "metadata": {},
   "source": [
    "For interest, we also examine the (adjusted) average points per match over time."
   ]
  },
  {
   "cell_type": "code",
   "execution_count": 68,
   "id": "d5563b54",
   "metadata": {},
   "outputs": [],
   "source": [
    "points_per_season = {}\n",
    "for match in df_matches.itertuples():\n",
    "    season = match.season\n",
    "    num_matches, num_points, num_adj_points = points_per_season.get(season, (0, 0, 0))\n",
    "    for y in [match.for_total_score, match.against_total_score]:\n",
    "        num_matches += 1\n",
    "        num_points += y\n",
    "        if season == 2020:\n",
    "            y *= 20 / 16\n",
    "        elif season < 1994:\n",
    "            y *= 20 / 25\n",
    "        num_adj_points += y\n",
    "    points_per_season[season] = (num_matches, num_points, num_adj_points)\n",
    "seasons = sorted(points_per_season.keys())\n",
    "values = [points_per_season[s] for s in seasons]\n",
    "avg_points = np.array([v[1] / v[0] for v in values])\n",
    "avg_adj_points = np.array([v[2] / v[0] for v in values])"
   ]
  },
  {
   "cell_type": "code",
   "execution_count": 69,
   "id": "16013566",
   "metadata": {},
   "outputs": [],
   "source": [
    "mu = np.mean(avg_adj_points)\n",
    "sd = np.sqrt(np.var(avg_adj_points))"
   ]
  },
  {
   "cell_type": "code",
   "execution_count": 70,
   "id": "73fb6ea9",
   "metadata": {},
   "outputs": [
    {
     "data": {
      "image/png": "[encoded data removed]",
      "text/plain": [
       "<Figure size 640x480 with 1 Axes>"
      ]
     },
     "metadata": {},
     "output_type": "display_data"
    }
   ],
   "source": [
    "plt.plot(seasons, avg_points, 'r')\n",
    "plt.plot(seasons, avg_adj_points, 'g')\n",
    "plt.plot(seasons, [mu] * len(seasons), 'k')\n",
    "plt.plot(seasons, [mu + 2 * sd] * len(seasons), 'darkgrey')\n",
    "plt.plot(seasons, [mu - 2 * sd] * len(seasons), 'darkgrey')\n",
    "plt.xlabel(\"season\")\n",
    "plt.ylabel(\"avg. points per team per match\")\n",
    "plt.legend(['unadjusted', 'adjusted', 'mean', '+/- 2 std.dev.'])\n",
    "plt.show()"
   ]
  },
  {
   "cell_type": "markdown",
   "id": "6f7b5286",
   "metadata": {},
   "source": [
    "We clearly observe the anomalous effect of Covid on the 2020 season, even after adjustment for the different lengths of quarters. We also see that the 2000 season had an unuasually high average number of points per match.\n",
    "Overall, apart from the pre-1994 effect, it seems that the average number of points scored per match for any team is possibly declining over time.\n",
    "This might be explained by ongoing changes to the AFL rules designed to reduce physical injury to players, such as more severely penalising body tackles, et cetera. Having more penalties awarded acts to slow down play, which might be expected to result in lower scores. However, most of the seasonal averages are within expected bounds, so these apparent differences could just be random fluctuations"
   ]
  },
  {
   "cell_type": "markdown",
   "id": "6f9f5f37",
   "metadata": {},
   "source": [
    "### Evidence of an effect"
   ]
  },
  {
   "cell_type": "markdown",
   "id": "a0665535",
   "metadata": {},
   "source": [
    "We see from above that there are two ways of computing the points ratio. In method 1, we predict $\\hat{f}_A$ and $\\hat{f}_B$\n",
    "using the combined offensive and defensive measures from team A versus team B (i.e. offense for team A minus defense for team B, and vice versa), and then form the predicted points ratio\n",
    "\\begin{eqnarray}\n",
    "\\hat{x}_A & \\doteq & \\frac{\\hat{f}_A}{\\hat{f}_A+\\hat{f}_B}\\,,\n",
    "\\end{eqnarray}\n",
    "and its complement $\\hat{x}_B$.\n",
    "In method 2, we separately use the previous points ratios from each team, i.e.\n",
    "\\begin{eqnarray}\n",
    "x_A & \\doteq & \\frac{\\bar{f}_A}{\\bar{f}_A+\\bar{a}_A}\\,,\n",
    "\\end{eqnarray}\n",
    "and its complement $x_B$.\n",
    "We briefly examine the relationship between the actual wins ratio $p_A$ for team A and both the predicted points ratio,\n",
    "$\\hat{x}_A$, and the previous points ratio, $x_A$.\n",
    "Recall that the two approaches are related by the fact that\n",
    "\\begin{eqnarray}\n",
    "\\sigma^{-1}(\\hat{x}_A)\n",
    "&~=~&\\ln\\hat{f}_A-\\ln\\hat{f}_B~=~(\\ln\\bar{f}_A-\\ln\\bar{a}_A)-(\\ln\\bar{f}_B-\\ln\\bar{a}_B)\n",
    "~=~\\sigma^{-1}(x_A)-\\sigma^{-1}(x_B)\\,.\n",
    "\\end{eqnarray}\n",
    "Thus, method 1 corresponds to a two-team model, and method 2 corresponds to a one-team model.\n",
    "\n",
    "Finally, recall from the previous section that $f_A$ appears to have a Gamma distribution, say\n",
    "$f_A\\sim\\texttt{Gamma}(\\alpha,\\gamma)$, with some variance $\\sigma^2$. We therefore take the variance of\n",
    "the mean score per match as $\\texttt{Var}[\\bar{f}_A]=\\frac{\\sigma^2}{n_A}$, such that we once again use a weighting proportional to $n_A$ (or $n_A+1$ including the\n",
    "prior match). However, note that when considering a two-team model, we must allow for the fact that each team may have played a different number of previous matches (due to byes).\n",
    "In this case, we use the pooled variance\n",
    "\\begin{eqnarray}\n",
    "\\texttt{Var}[\\bar{f}_{A,B}] & ~\\doteq~ & \n",
    "\\frac{n_A\\,\\texttt{Var}[\\bar{f}_A]+n_B\\,\\texttt{Var}[\\bar{f}_B]}{n_A+n_B}\n",
    "~=~\\frac{2\\sigma^2}{n_A+n_B}\\,,\n",
    "\\end{eqnarray}\n",
    "such that the combined weight of the two teams' previous matches is just $n_A+n_B$ (plus an extra prior match for each team)."
   ]
  },
  {
   "cell_type": "markdown",
   "id": "0b3b1d4a",
   "metadata": {},
   "source": [
    "We first set the prior number $f_0$ of points per match to be the mean value. Then we compute the smoothed values of offensive strength and defensive strength for each team, obtained from previous matches, and use these values to predict the points ratios\n",
    "for each team."
   ]
  },
  {
   "cell_type": "code",
   "execution_count": 71,
   "id": "9efc7056",
   "metadata": {},
   "outputs": [],
   "source": [
    "f_0 = 90    # mean and prior score\n",
    "ln_f0 = np.log(f_0)"
   ]
  },
  {
   "cell_type": "code",
   "execution_count": 72,
   "id": "84d8703a",
   "metadata": {},
   "outputs": [],
   "source": [
    "def get_prev_points_features(match, is_for):\n",
    "    features = match_tools.get_match_features(df_within, match, is_for)\n",
    "    if features is None:\n",
    "        # Assume a prior 'draw' with a pseudo-count of 1 match\n",
    "        n_A = 1\n",
    "        off_A = 0.0\n",
    "        def_A = 0.0\n",
    "        x_A = 0.5\n",
    "    else:\n",
    "        # Smooth actual observations with pseudo-points\n",
    "        n_A = 1 + features.games\n",
    "        f_A = f_0 + features.points_for\n",
    "        a_A = f_0 + features.points_against\n",
    "        off_A = np.log(f_A / n_A) - ln_f0\n",
    "        def_A = ln_f0 - np.log(a_A / n_A)\n",
    "        x_A = f_A / (f_A + a_A)\n",
    "    return off_A, def_A, x_A, n_A"
   ]
  },
  {
   "cell_type": "code",
   "execution_count": 74,
   "id": "42579748",
   "metadata": {},
   "outputs": [],
   "source": [
    "Y = []   # wins ratio\n",
    "X2 = []  # predicted points ratio from both teams\n",
    "X1 = []   # previous points ratio\n",
    "num_samples1 = []   # single team matches\n",
    "num_samples2 = []  # both team matches\n",
    "_offenses = np.zeros(2, dtype=float)\n",
    "_defenses = np.zeros(2, dtype=float)\n",
    "for match in df_matches.itertuples():\n",
    "    both_teams = 2\n",
    "    for is_for in [False, True]:\n",
    "        cur_res = get_adjusted_wins(match, is_for)\n",
    "        Y.append(cur_res)\n",
    "        offense, defense, points_ratio, n = get_prev_points_features(match, is_for)\n",
    "        num_samples1.append(n)\n",
    "        both_teams += n\n",
    "        X1.append(points_ratio)\n",
    "        i = int(is_for)\n",
    "        _offenses[i] = offense\n",
    "        _defenses[i] = defense\n",
    "    x = np.exp(ln_f0 + _offenses - _defenses[::-1])\n",
    "    x /= x.sum()\n",
    "    X2.extend(x)\n",
    "    num_samples2.extend([both_teams] * 2)"
   ]
  },
  {
   "cell_type": "code",
   "execution_count": 75,
   "id": "a4ed44d7",
   "metadata": {},
   "outputs": [
    {
     "data": {
      "image/png": "[encoded data removed]",
      "text/plain": [
       "<Figure size 640x480 with 1 Axes>"
      ]
     },
     "metadata": {},
     "output_type": "display_data"
    }
   ],
   "source": [
    "data, stats = weighted_plot(X2, Y, num_samples2)\n",
    "plt.xlabel(\"predicted points ratio, $\\hat{x}_A$\")\n",
    "plt.ylabel(\"wins ratio, $p_A$\")\n",
    "plt.title(\"Two-team: offense A - defense B\")\n",
    "plt.show()"
   ]
  },
  {
   "cell_type": "code",
   "execution_count": 76,
   "id": "e3ddee2e",
   "metadata": {},
   "outputs": [
    {
     "data": {
      "image/png": "[encoded data removed]",
      "text/plain": [
       "<Figure size 640x480 with 1 Axes>"
      ]
     },
     "metadata": {},
     "output_type": "display_data"
    }
   ],
   "source": [
    "data, stats = weighted_plot(X1, Y, num_samples1)\n",
    "plt.xlabel(\"previous points ratio, $x_A$\")\n",
    "plt.ylabel(\"wins ratio, $p_A$\")\n",
    "plt.title(\"One-team: offense A + defense A\")\n",
    "plt.show()"
   ]
  },
  {
   "cell_type": "markdown",
   "id": "bbd9efe1",
   "metadata": {},
   "source": [
    "### Bernoulli regression"
   ]
  },
  {
   "cell_type": "markdown",
   "id": "78270181",
   "metadata": {},
   "source": [
    "Note that a multi-match score ratio of $x_A=0.5$ indicates that team A has won and lost an equal number of matches against its opponents. In such a case, we have no evidence for or against team A for its next match, and hence\n",
    "the one-team model $p_A=\\sigma(\\alpha+\\beta\\,x_A)$ should result in a prediction of $p_A=0.5$. This implies that\n",
    "$\\alpha=-\\frac{1}{2}\\beta$, such that $p_A=\\sigma(\\frac{1}{2}\\beta\\,(2x_A-1))$. In turn, this implies an equivalent model of the form $p_A=\\sigma(\\beta'\\,x_A')$, with adjusted feature $x_A'=2x_A-1\\in [-1,1]$, slope\n",
    "$\\beta'=\\frac{1}{2}\\beta$, and intercept $\\alpha'=0$ (i.e. no intercept is needed)."
   ]
  },
  {
   "cell_type": "code",
   "execution_count": 77,
   "id": "2f92c439",
   "metadata": {},
   "outputs": [],
   "source": [
    "X = np.array(X1)\n",
    "W = num_samples1"
   ]
  },
  {
   "cell_type": "code",
   "execution_count": 78,
   "id": "e41367b9",
   "metadata": {},
   "outputs": [
    {
     "name": "stdout",
     "output_type": "stream",
     "text": [
      "Fit: (-0.6588470321866596, 3, 1.2517455627580887e-08)\n",
      "Params: [5.28559798]\n"
     ]
    }
   ],
   "source": [
    "phi = np.array([1.0])\n",
    "bd = BernoulliRegression(phi)\n",
    "Z = no_intercept(2 * X - 1)\n",
    "print('Fit:', bd.fit(Y, Z, W))\n",
    "print('Params:', bd.regression_parameters())"
   ]
  },
  {
   "cell_type": "markdown",
   "id": "b507a884",
   "metadata": {},
   "source": [
    "Alternatively, for the logit-transformed feature of $y_A=\\sigma^{-1}(x_A)$, we see that $x_A=0.5\\Rightarrow y_A=0$, such that the corresponding one-team model is $p_A=\\sigma(\\beta\\,y_A)$, which also requires no intercept. "
   ]
  },
  {
   "cell_type": "code",
   "execution_count": 79,
   "id": "bb268299",
   "metadata": {},
   "outputs": [
    {
     "name": "stdout",
     "output_type": "stream",
     "text": [
      "Fit: (-0.6588490182697117, 3, 4.200073733251486e-09)\n",
      "Params: [2.61683594]\n"
     ]
    }
   ],
   "source": [
    "phi = np.array([1.0])\n",
    "bd2 = BernoulliRegression(phi)\n",
    "Z = no_intercept(logit(X))\n",
    "print('Fit:', bd2.fit(Y, Z, W))\n",
    "print('Params:', bd2.regression_parameters())"
   ]
  },
  {
   "cell_type": "code",
   "execution_count": 80,
   "id": "c2408334",
   "metadata": {},
   "outputs": [],
   "source": [
    "n_points, x_means, y_means, y_se = stats\n",
    "x_values = np.linspace(min(x_means), max(x_means), 100)\n",
    "z_values = no_intercept(2 * x_values - 1)\n",
    "y_preds = bd.distribution(z_values).mean()"
   ]
  },
  {
   "cell_type": "code",
   "execution_count": 81,
   "id": "1936a6b7",
   "metadata": {},
   "outputs": [],
   "source": [
    "z_values = no_intercept(logit(x_values))\n",
    "y_preds2 = bd2.distribution(z_values).mean()"
   ]
  },
  {
   "cell_type": "code",
   "execution_count": 82,
   "id": "43796b57",
   "metadata": {},
   "outputs": [
    {
     "data": {
      "image/png": "[encoded data removed]",
      "text/plain": [
       "<Figure size 640x480 with 1 Axes>"
      ]
     },
     "metadata": {},
     "output_type": "display_data"
    }
   ],
   "source": [
    "plt.plot(x_values, y_preds, 'g')\n",
    "plt.plot(x_values, y_preds2, 'r')\n",
    "plt.plot(x_means, y_means, 'k')\n",
    "plt.plot(x_means, 2 * y_se + y_means, 'darkgrey')\n",
    "plt.plot(x_means, -2 * y_se + y_means, 'darkgrey')\n",
    "plt.xlabel('previous points ratio')\n",
    "plt.ylabel('current wins ratio')\n",
    "plt.title('Regression models of wins ratio')\n",
    "plt.legend(['proportion', 'logit', 'mean', '+/-2 std.err.'])\n",
    "plt.show()"
   ]
  },
  {
   "cell_type": "markdown",
   "id": "fe43bf1c",
   "metadata": {},
   "source": [
    "Observe that there is not much difference between the two models.\n",
    "It is not clear what to make of the apparent lack of fit around the 'anomalies' at $x_A=0.45$ and $x_A=0.6$.\n",
    "Note that, in contrast, the empirical two-team model (i.e. offsense A - defense B) above is much smoother and does not show these anomalies."
   ]
  },
  {
   "cell_type": "markdown",
   "id": "7bd9cc72",
   "metadata": {},
   "source": [
    "## Team ranking"
   ]
  },
  {
   "cell_type": "markdown",
   "id": "ba33d32a",
   "metadata": {},
   "source": [
    "It seems reasonable to expect that a stronger team should be likely to defeat a weaker team. In previous sections, we have\n",
    "used various features as proxies for the subjective measure of team strength. Here we shall use the ranking of each team on the league ladder prior to any given match. Technically these rankings are only computed during the m from season to season, and henceinor rounds, with the final rankings being used to allot team matches in the finals rounds, e.g. qualification and elimination rounds, et cetera.\n",
    "\n",
    "We recall that the number of teams in the league may vary from season to season, and hence we use the adjusted rank scores,\n",
    "which were computed to be 1.0 for the top-ranked team, and 0.0 for the bottom-ranked team."
   ]
  },
  {
   "cell_type": "markdown",
   "id": "8a2ec6bd",
   "metadata": {},
   "source": [
    "### Evidence of an effect"
   ]
  },
  {
   "cell_type": "markdown",
   "id": "fc5207cd",
   "metadata": {},
   "source": [
    "First we examine a one-team model with features $x_A=+1$ if team A is ranked higher than the opposing team, and\n",
    "$x_A=-1$ if team A is ranked lower. A tided rank, if such were possible, would be given the value $x_A=0$.\n",
    "For convenience, since the rankings of each team depend on the number of previous matches played, we again take the combined\n",
    "weight to be $n_A+n_B$ (this time with no prior matches). In other words, after more matches have been played, we trust the ranks of each team to be a better reflection of their relative strengths."
   ]
  },
  {
   "cell_type": "code",
   "execution_count": 83,
   "id": "a6dc4126",
   "metadata": {},
   "outputs": [],
   "source": [
    "X = []\n",
    "Y = []\n",
    "num_samples = []\n",
    "\n",
    "df_minor = df_matches[df_matches['round'].str.startswith('R')]\n",
    "for match in df_minor.itertuples():\n",
    "    for_features = match_tools.get_match_features(df_within, match, is_for=True)\n",
    "    against_features = match_tools.get_match_features(df_within, match, is_for=False)\n",
    "    if for_features is None or against_features is None:\n",
    "        continue\n",
    "    # Count previous matches for both teams\n",
    "    n = for_features.games + against_features.games\n",
    "    for_rank = for_features.rank_score\n",
    "    for_wins = 0.5 * (1 + match_tools.get_match_result(match, is_for=True))\n",
    "    against_rank = against_features.rank_score\n",
    "    num_samples.append(n)\n",
    "    X.append(for_rank - against_rank)\n",
    "    Y.append(for_wins)\n",
    "    X.append(against_rank - for_rank)\n",
    "    Y.append(1 - for_wins)\n",
    "    num_samples.append(n)\n",
    "\n",
    "Y = np.array(Y)\n",
    "X = np.array(X)"
   ]
  },
  {
   "cell_type": "code",
   "execution_count": 84,
   "id": "026dc106",
   "metadata": {},
   "outputs": [
    {
     "data": {
      "text/html": [
       "<div>\n",
       "<style scoped>\n",
       "    .dataframe tbody tr th:only-of-type {\n",
       "        vertical-align: middle;\n",
       "    }\n",
       "\n",
       "    .dataframe tbody tr th {\n",
       "        vertical-align: top;\n",
       "    }\n",
       "\n",
       "    .dataframe thead th {\n",
       "        text-align: right;\n",
       "    }\n",
       "</style>\n",
       "<table border=\"1\" class=\"dataframe\">\n",
       "  <thead>\n",
       "    <tr style=\"text-align: right;\">\n",
       "      <th></th>\n",
       "      <th>win</th>\n",
       "      <th>draw</th>\n",
       "      <th>loss</th>\n",
       "      <th>wins_ratio</th>\n",
       "    </tr>\n",
       "    <tr>\n",
       "      <th>rank_sign</th>\n",
       "      <th></th>\n",
       "      <th></th>\n",
       "      <th></th>\n",
       "      <th></th>\n",
       "    </tr>\n",
       "  </thead>\n",
       "  <tbody>\n",
       "    <tr>\n",
       "      <th>-1.0</th>\n",
       "      <td>1971</td>\n",
       "      <td>50</td>\n",
       "      <td>3590</td>\n",
       "      <td>0.35573</td>\n",
       "    </tr>\n",
       "    <tr>\n",
       "      <th>1.0</th>\n",
       "      <td>3590</td>\n",
       "      <td>50</td>\n",
       "      <td>1971</td>\n",
       "      <td>0.64427</td>\n",
       "    </tr>\n",
       "  </tbody>\n",
       "</table>\n",
       "</div>"
      ],
      "text/plain": [
       "            win  draw  loss  wins_ratio\n",
       "rank_sign                              \n",
       "-1.0       1971    50  3590     0.35573\n",
       " 1.0       3590    50  1971     0.64427"
      ]
     },
     "execution_count": 84,
     "metadata": {},
     "output_type": "execute_result"
    }
   ],
   "source": [
    "df = pd.DataFrame(np.sign(X), columns=[\"rank_sign\"])\n",
    "df[WIN] = Y == 1.0\n",
    "df[DRAW] = Y == 0.5\n",
    "df[LOSS] = Y == 0.0\n",
    "df = df.groupby('rank_sign').sum()\n",
    "wins = df[WIN] + 0.5 * df[DRAW]\n",
    "losses = df[LOSS] + 0.5 * df[DRAW]\n",
    "df[RATIO] = wins / (wins + losses)\n",
    "df"
   ]
  },
  {
   "cell_type": "markdown",
   "id": "08773514",
   "metadata": {},
   "source": [
    "We clearly observe a strong effect whereby the higher ranked team is much more likely to win than to lose.\n",
    "We now turn to a two-team model, and look at the difference between the (adjusted) rank scores of team A and its opponent."
   ]
  },
  {
   "cell_type": "code",
   "execution_count": 85,
   "id": "c36f6953",
   "metadata": {},
   "outputs": [
    {
     "data": {
      "image/png": "[encoded data removed]",
      "text/plain": [
       "<Figure size 640x480 with 1 Axes>"
      ]
     },
     "metadata": {},
     "output_type": "display_data"
    }
   ],
   "source": [
    "data, stats = weighted_plot(X, Y, num_samples)\n",
    "plt.xlabel('difference in rank score')\n",
    "plt.ylabel('wins ratio')\n",
    "plt.title('Effect of difference in rank')\n",
    "plt.show()"
   ]
  },
  {
   "cell_type": "markdown",
   "id": "93d40329",
   "metadata": {},
   "source": [
    "Observe that the higher the difference in ranks between the two opposing teams, the more likely the higher ranked team is to win."
   ]
  },
  {
   "cell_type": "markdown",
   "id": "55c59a64",
   "metadata": {},
   "source": [
    "### Regression models"
   ]
  },
  {
   "cell_type": "markdown",
   "id": "24873a54",
   "metadata": {},
   "source": [
    "Our standard model is Bernoulli regression in the standard form $p_A=\\sigma(\\beta\\,x_A)$, where $x_A$ is the difference\n",
    "in rank scores from team A's perspective.\n",
    "However, we shall take the opportunity here to examine a few alternative models.\n",
    "For instance, we note that $x_A\\in[-1,1]$. Hence, we may suppose that $x_A=\\tanh\\kappa y_A$, for new feature \n",
    "$y_A\\in(-\\infty,+\\infty)$, where $0<\\kappa<1$ is some fixed constant chosen to retain finite values at the extremes of $x_A$.\n",
    "The corresponding model is then defined as $p'_A\\doteq\\sigma(\\beta\\,y_A)$.\n",
    "\n",
    "Alternatively, we note that $p_A\\in[0,1]$, and hence we may define $p''_A\\doteq 2p_A-1\\in[-1,1]$. This motivates us to \n",
    "directly fit a polynomial model such as the cubic\n",
    "$p''_A=\\beta_1\\,x_A+\\beta_3\\,x_A^3$. Note that the regression function must be odd, since if $x_A$ predicts $p_A$\n",
    "then $-x_A$ must predict $1-p_A$. This follows from the constraint that swapping team A for team B in a two-team model should predict the probability of a win for team B and a loss for team A.\n",
    "\n",
    "Finally, the fact that $x_A\\in[-1,1]$ also motivates other models with odd regression functions, such as\n",
    "$p'''_A\\doteq\\sin\\beta\\,x_A$.\n",
    "We shall fit all of these above models for comparison."
   ]
  },
  {
   "cell_type": "code",
   "execution_count": 86,
   "id": "f734532e",
   "metadata": {},
   "outputs": [],
   "source": [
    "n_points, x_means, y_means, y_se = stats\n",
    "x_values = np.linspace(min(x_means), max(x_means), 100)"
   ]
  },
  {
   "cell_type": "code",
   "execution_count": 87,
   "id": "5c709588",
   "metadata": {},
   "outputs": [
    {
     "name": "stdout",
     "output_type": "stream",
     "text": [
      "Fit: (-0.624930335437228, 3, 1.901688140293345e-08)\n",
      "Params: [1.87474355]\n"
     ]
    }
   ],
   "source": [
    "# Bernoulli regression\n",
    "phi = np.array([1.0])\n",
    "bd = BernoulliRegression(phi)\n",
    "Z = no_intercept(X)\n",
    "W = num_samples\n",
    "print('Fit:', bd.fit(Y, Z, W))\n",
    "print('Params:', bd.regression_parameters())\n",
    "z_values = no_intercept(x_values)\n",
    "y_preds = bd.distribution(z_values).mean()"
   ]
  },
  {
   "cell_type": "code",
   "execution_count": 88,
   "id": "dce9ad11",
   "metadata": {},
   "outputs": [
    {
     "name": "stdout",
     "output_type": "stream",
     "text": [
      "Fit: (-0.6258352861149801, 4, 6.507905325747743e-12)\n",
      "Params: [1.80227024]\n"
     ]
    }
   ],
   "source": [
    "# logistic atanh regression\n",
    "kappa = 0.9\n",
    "phi = np.array([0.1])\n",
    "bd2 = BernoulliRegression(phi)\n",
    "Z = no_intercept(np.arctanh(kappa * X))\n",
    "print('Fit:', bd2.fit(Y, Z, W))\n",
    "print('Params:', bd2.regression_parameters())\n",
    "z_values = no_intercept(np.arctanh(kappa * x_values))\n",
    "y_preds2 = bd2.distribution(z_values).mean()"
   ]
  },
  {
   "cell_type": "code",
   "execution_count": 89,
   "id": "d9ecf2b2",
   "metadata": {},
   "outputs": [],
   "source": [
    "from sklearn.linear_model import LinearRegression"
   ]
  },
  {
   "cell_type": "code",
   "execution_count": 90,
   "id": "3fe53885",
   "metadata": {},
   "outputs": [
    {
     "name": "stdout",
     "output_type": "stream",
     "text": [
      "0.5000000000000001 [ 4.78918293e-01 -2.77555756e-17 -1.41774460e-01]\n"
     ]
    }
   ],
   "source": [
    "# cubic polynomial regression\n",
    "Z = no_intercept(x_means, x_means**2, x_means**3)\n",
    "lm = LinearRegression().fit(Z, y_means, n_points)\n",
    "print(lm.intercept_, lm.coef_)\n",
    "z_values = no_intercept(x_values, x_values**2, x_values**3)\n",
    "y_preds3 = lm.predict(z_values)"
   ]
  },
  {
   "cell_type": "code",
   "execution_count": 91,
   "id": "a977e283",
   "metadata": {},
   "outputs": [
    {
     "name": "stdout",
     "output_type": "stream",
     "text": [
      "[0.88338252]\n"
     ]
    }
   ],
   "source": [
    "# sine regression\n",
    "alt_Y = np.arcsin(2 * y_means - 1)\n",
    "lm2 = LinearRegression(fit_intercept=False).fit(x_means.reshape(-1, 1), alt_Y, n_points)\n",
    "print(lm2.coef_)\n",
    "y_preds4 = 0.5 * np.sin(lm2.predict(x_values.reshape(-1, 1))) + 0.5"
   ]
  },
  {
   "cell_type": "code",
   "execution_count": 92,
   "id": "07c7462f",
   "metadata": {},
   "outputs": [
    {
     "data": {
      "image/png": "[encoded data removed]",
      "text/plain": [
       "<Figure size 640x480 with 1 Axes>"
      ]
     },
     "metadata": {},
     "output_type": "display_data"
    }
   ],
   "source": [
    "plt.plot(x_values, y_preds, 'b')\n",
    "plt.plot(x_values, y_preds2, 'r')\n",
    "plt.plot(x_values, y_preds3, 'g')\n",
    "plt.plot(x_values, y_preds4, 'orange')\n",
    "plt.plot(x_means, y_means, 'k')\n",
    "plt.plot(x_means, 2 * y_se + y_means, 'darkgrey')\n",
    "plt.plot(x_means, -2 * y_se + y_means, 'darkgrey')\n",
    "plt.xlabel('difference in rank score')\n",
    "plt.ylabel('wins ratio')\n",
    "plt.title('Regression models of wins ratio')\n",
    "plt.legend(['logistic', 'atanh', 'cubic', 'sin', 'mean', '+/-2 std.err.'])\n",
    "plt.show()"
   ]
  },
  {
   "cell_type": "markdown",
   "id": "903ce1b4",
   "metadata": {},
   "source": [
    "Observe that all of the alternative models effectively perform the same, except for variations at the extremes.\n",
    "Also note that none of the models correctly fit the empirically observed slope at $x_A=0$."
   ]
  },
  {
   "cell_type": "markdown",
   "id": "74ca1f45",
   "metadata": {},
   "source": [
    "## Seasonal priors"
   ]
  },
  {
   "cell_type": "markdown",
   "id": "1f27f8eb",
   "metadata": {},
   "source": [
    "Our current paradigm is to model matches within each season, and to adjust the team features from season to season.\n",
    "In particular, we have assumed for convenience that no prior information is available for the first match for each team in any given season. However, if the team played in the previous season then we do in fact have the end-of-season results from that past season.\n",
    "\n",
    "Therefore, we now examine whether a team's performance in the previous season is useful in helping to predict the outcome of their first match in the current season."
   ]
  },
  {
   "cell_type": "markdown",
   "id": "2fe0c0af",
   "metadata": {},
   "source": [
    "### Evidence of an effect"
   ]
  },
  {
   "cell_type": "markdown",
   "id": "747346b7",
   "metadata": {},
   "source": [
    "We shall use the end-of-season points ratio as the measure of past effectiveness of each team."
   ]
  },
  {
   "cell_type": "code",
   "execution_count": 93,
   "id": "676ad0db",
   "metadata": {},
   "outputs": [],
   "source": [
    "def get_seasonal_features(match, is_for):\n",
    "    team = match_tools.get_match_team(match, is_for)\n",
    "    ind = (df_seasonal.team == team) & (df_seasonal.season == match.season - 1)\n",
    "    res = df_seasonal[ind]\n",
    "    if len(res) == 0:\n",
    "        return None\n",
    "    return next(res.itertuples())"
   ]
  },
  {
   "cell_type": "code",
   "execution_count": 100,
   "id": "09d31252",
   "metadata": {},
   "outputs": [],
   "source": [
    "X = []\n",
    "Y = []\n",
    "\n",
    "df_minor = df_matches[df_matches['round'].str.startswith('R')]\n",
    "for match in df_minor.itertuples():\n",
    "    for is_for in [False, True]:\n",
    "        features = match_tools.get_match_features(df_within, match, is_for)\n",
    "        if features is not None:\n",
    "            # Not the first match\n",
    "            continue\n",
    "        features = get_seasonal_features(match, is_for)\n",
    "        if features is None:\n",
    "            # No team data for previous season\n",
    "            x = 0.5\n",
    "        else:\n",
    "            x = features.wins_ratio\n",
    "        y = 0.5 * (1 + match_tools.get_match_result(match, is_for))\n",
    "        X.append(x)\n",
    "        Y.append(y)\n",
    "\n",
    "Y = np.array(Y)\n",
    "X = np.array(X)"
   ]
  },
  {
   "cell_type": "code",
   "execution_count": 103,
   "id": "545a1df8",
   "metadata": {},
   "outputs": [
    {
     "data": {
      "image/png": "[encoded data removed]",
      "text/plain": [
       "<Figure size 640x480 with 1 Axes>"
      ]
     },
     "metadata": {},
     "output_type": "display_data"
    }
   ],
   "source": [
    "data, stats = weighted_plot(X, Y)\n",
    "plt.xlabel('previous wins ratio')\n",
    "plt.ylabel('current wins ratio')\n",
    "plt.title('Relevance of previous season to first match')\n",
    "plt.show()"
   ]
  },
  {
   "cell_type": "code",
   "execution_count": 123,
   "id": "dcb38f40",
   "metadata": {},
   "outputs": [],
   "source": [
    "df = pd.DataFrame(data=0, index=['positive', 'neutral', 'negative'], columns=[WIN, DRAW, LOSS])\n",
    "df.loc['positive', 'win'] = sum((X > 0.5) & (Y > 0.5))\n",
    "df.loc['positive', 'draw'] = sum((X > 0.5) & (Y == 0.5))\n",
    "df.loc['positive', 'loss'] = sum((X > 0.5) & (Y < 0.5))\n",
    "df.loc['neutral', 'win'] = sum((X == 0.5) & (Y > 0.5))\n",
    "df.loc['neutral', 'draw'] = sum((X == 0.5) & (Y == 0.5))\n",
    "df.loc['neutral', 'loss'] = sum((X == 0.5) & (Y < 0.5))\n",
    "df.loc['negative', 'win'] = sum((X < 0.5) & (Y > 0.5))\n",
    "df.loc['negative', 'draw'] = sum((X < 0.5) & (Y == 0.5))\n",
    "df.loc['negative', 'loss'] = sum((X < 0.5) & (Y < 0.5))"
   ]
  },
  {
   "cell_type": "code",
   "execution_count": 124,
   "id": "26293f78",
   "metadata": {},
   "outputs": [
    {
     "data": {
      "text/html": [
       "<div>\n",
       "<style scoped>\n",
       "    .dataframe tbody tr th:only-of-type {\n",
       "        vertical-align: middle;\n",
       "    }\n",
       "\n",
       "    .dataframe tbody tr th {\n",
       "        vertical-align: top;\n",
       "    }\n",
       "\n",
       "    .dataframe thead th {\n",
       "        text-align: right;\n",
       "    }\n",
       "</style>\n",
       "<table border=\"1\" class=\"dataframe\">\n",
       "  <thead>\n",
       "    <tr style=\"text-align: right;\">\n",
       "      <th></th>\n",
       "      <th>win</th>\n",
       "      <th>draw</th>\n",
       "      <th>loss</th>\n",
       "    </tr>\n",
       "  </thead>\n",
       "  <tbody>\n",
       "    <tr>\n",
       "      <th>positive</th>\n",
       "      <td>149</td>\n",
       "      <td>1</td>\n",
       "      <td>109</td>\n",
       "    </tr>\n",
       "    <tr>\n",
       "      <th>neutral</th>\n",
       "      <td>25</td>\n",
       "      <td>0</td>\n",
       "      <td>29</td>\n",
       "    </tr>\n",
       "    <tr>\n",
       "      <th>negative</th>\n",
       "      <td>99</td>\n",
       "      <td>1</td>\n",
       "      <td>132</td>\n",
       "    </tr>\n",
       "  </tbody>\n",
       "</table>\n",
       "</div>"
      ],
      "text/plain": [
       "          win  draw  loss\n",
       "positive  149     1   109\n",
       "neutral    25     0    29\n",
       "negative   99     1   132"
      ]
     },
     "execution_count": 124,
     "metadata": {},
     "output_type": "execute_result"
    }
   ],
   "source": [
    "df"
   ]
  },
  {
   "cell_type": "code",
   "execution_count": 125,
   "id": "86a372b6",
   "metadata": {},
   "outputs": [],
   "source": [
    "df.loc['positive'] += 0.5 * df.loc['neutral']\n",
    "df.loc['negative'] += 0.5 * df.loc['neutral']\n",
    "df.drop(index='neutral', inplace=True)\n",
    "df['win'] += 0.5 * df['draw']\n",
    "df['loss'] += 0.5 * df['draw']\n",
    "df.drop(columns='draw', inplace=True)\n",
    "df[RATIO] = df['win'] / (df['win'] + df['loss'])"
   ]
  },
  {
   "cell_type": "code",
   "execution_count": 126,
   "id": "317d7875",
   "metadata": {},
   "outputs": [
    {
     "data": {
      "text/html": [
       "<div>\n",
       "<style scoped>\n",
       "    .dataframe tbody tr th:only-of-type {\n",
       "        vertical-align: middle;\n",
       "    }\n",
       "\n",
       "    .dataframe tbody tr th {\n",
       "        vertical-align: top;\n",
       "    }\n",
       "\n",
       "    .dataframe thead th {\n",
       "        text-align: right;\n",
       "    }\n",
       "</style>\n",
       "<table border=\"1\" class=\"dataframe\">\n",
       "  <thead>\n",
       "    <tr style=\"text-align: right;\">\n",
       "      <th></th>\n",
       "      <th>win</th>\n",
       "      <th>loss</th>\n",
       "      <th>wins_ratio</th>\n",
       "    </tr>\n",
       "  </thead>\n",
       "  <tbody>\n",
       "    <tr>\n",
       "      <th>positive</th>\n",
       "      <td>162.0</td>\n",
       "      <td>124.0</td>\n",
       "      <td>0.566434</td>\n",
       "    </tr>\n",
       "    <tr>\n",
       "      <th>negative</th>\n",
       "      <td>112.0</td>\n",
       "      <td>147.0</td>\n",
       "      <td>0.432432</td>\n",
       "    </tr>\n",
       "  </tbody>\n",
       "</table>\n",
       "</div>"
      ],
      "text/plain": [
       "            win   loss  wins_ratio\n",
       "positive  162.0  124.0    0.566434\n",
       "negative  112.0  147.0    0.432432"
      ]
     },
     "execution_count": 126,
     "metadata": {},
     "output_type": "execute_result"
    }
   ],
   "source": [
    "df"
   ]
  },
  {
   "cell_type": "code",
   "execution_count": 128,
   "id": "6c21f09b",
   "metadata": {},
   "outputs": [
    {
     "name": "stdout",
     "output_type": "stream",
     "text": [
      "Prob(loss|+ve) = 0.43356643356643354, Prob(win|+ve) = 0.5664335664335665\n",
      "mean +/- 2 std.err. = (0.507826592785777, 0.6250405400813559)\n"
     ]
    }
   ],
   "source": [
    "p = df.loc['positive', RATIO]\n",
    "q = 1 - p\n",
    "n = df.loc['positive', WIN] + df.loc['positive', LOSS]\n",
    "se = np.sqrt(p * q / n)\n",
    "print(f\"Prob(loss|+ve) = {q}, Prob(win|+ve) = {p}\")\n",
    "print(f\"mean +/- 2 std.err. = ({p - 2 * se}, {p + 2 * se})\")"
   ]
  },
  {
   "cell_type": "code",
   "execution_count": null,
   "id": "81be5f7a",
   "metadata": {},
   "outputs": [],
   "source": []
  }
 ],
 "metadata": {
  "kernelspec": {
   "display_name": "Python 3 (ipykernel)",
   "language": "python",
   "name": "python3"
  },
  "language_info": {
   "codemirror_mode": {
    "name": "ipython",
    "version": 3
   },
   "file_extension": ".py",
   "mimetype": "text/x-python",
   "name": "python",
   "nbconvert_exporter": "python",
   "pygments_lexer": "ipython3",
   "version": "3.11.5"
  }
 },
 "nbformat": 4,
 "nbformat_minor": 5
}
